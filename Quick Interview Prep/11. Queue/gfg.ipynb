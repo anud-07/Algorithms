{
 "cells": [
  {
   "cell_type": "code",
   "execution_count": 1,
   "id": "9a0338df",
   "metadata": {},
   "outputs": [
    {
     "data": {
      "text/html": [
       "<style>.container { width:100% !important; }</style>"
      ],
      "text/plain": [
       "<IPython.core.display.HTML object>"
      ]
     },
     "metadata": {},
     "output_type": "display_data"
    }
   ],
   "source": [
    "from IPython.display import display, HTML\n",
    "display(HTML(\"<style>.container { width:100% !important; }</style>\"))"
   ]
  },
  {
   "cell_type": "markdown",
   "id": "02576511",
   "metadata": {},
   "source": [
    "### 1. Queue Data Structure"
   ]
  },
  {
   "cell_type": "markdown",
   "id": "88977c07",
   "metadata": {},
   "source": [
    "### 2. Application of Queue Data Structure"
   ]
  },
  {
   "cell_type": "markdown",
   "id": "0d88b244",
   "metadata": {},
   "source": [
    "### 3. Implementation of Queue using Array\n",
    "\n",
    "#### Naive\n",
    "\n",
    "#### Optimal"
   ]
  },
  {
   "cell_type": "markdown",
   "id": "310d182a",
   "metadata": {},
   "source": [
    "### 4. Implementation of Queue using Linked List"
   ]
  },
  {
   "cell_type": "markdown",
   "id": "ba9046c6",
   "metadata": {},
   "source": [
    "### 5. Implementation of Stack using Queue\n",
    "\n",
    "- Multiple variations of the above problem:\n",
    "    - Making push operations costly\n",
    "    - Making pop operations costly\n",
    "    - Implement Stack using only one Queue (We use recursion call stack here)\n",
    "    - Implement Queue using Stack"
   ]
  },
  {
   "cell_type": "markdown",
   "id": "7bb39df2",
   "metadata": {},
   "source": [
    "### 6. Reversing a Queue\n",
    "\n",
    "- Using only Queue\n",
    "- Using an explicit stack\n",
    "- Using a recursion call stack"
   ]
  },
  {
   "cell_type": "markdown",
   "id": "02243981",
   "metadata": {},
   "source": [
    "### 7. Generate numbers with given digits"
   ]
  },
  {
   "cell_type": "code",
   "execution_count": null,
   "id": "c15b2b17",
   "metadata": {},
   "outputs": [],
   "source": []
  }
 ],
 "metadata": {
  "kernelspec": {
   "display_name": "Python 3 (ipykernel)",
   "language": "python",
   "name": "python3"
  },
  "language_info": {
   "codemirror_mode": {
    "name": "ipython",
    "version": 3
   },
   "file_extension": ".py",
   "mimetype": "text/x-python",
   "name": "python",
   "nbconvert_exporter": "python",
   "pygments_lexer": "ipython3",
   "version": "3.10.13"
  }
 },
 "nbformat": 4,
 "nbformat_minor": 5
}
