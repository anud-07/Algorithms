{
 "cells": [
  {
   "cell_type": "markdown",
   "id": "d6f4a5de",
   "metadata": {},
   "source": [
    "### Problem 1: Queue Interleaving\n",
    "- Consider a **queue** of integers. Our task is to reorganize the elements by interleaving the **first** half of the queue with the **second** half. Essentially, if our queue initially is [1, 2, 3, 4, 5, 6], after interleaving it becomes [1, 4, 2, 5, 3, 6]. \n",
    "- The problem tests how we can shrewdly manipulate a queue data structure to reorder its elements in a specific manner."
   ]
  },
  {
   "cell_type": "code",
   "execution_count": null,
   "id": "f8ac5d21",
   "metadata": {},
   "outputs": [],
   "source": [
    "from collections import deque\n",
    "\n",
    "def interleave_queue(queue):\n",
    "    half_size = len(queue) // 2\n",
    "    first_half = deque()\n",
    "\n",
    "    for _ in range(half_size):\n",
    "        first_half.append(queue.popleft())\n",
    "\n",
    "    while first_half:\n",
    "        queue.append(first_half.popleft())\n",
    "        if queue: \n",
    "            queue.append(queue.popleft())\n",
    "\n",
    "    return queue"
   ]
  },
  {
   "cell_type": "markdown",
   "id": "0d032d58",
   "metadata": {},
   "source": [
    "### Problem 2: Moving Average from Data Stream\n",
    "\n",
    "- We encounter a continuous stream of data rather than isolated pieces of data. Here, you are given a stream of integers and are required to calculate a moving average of a specific window size **m** for each number in the stream. This is a classic problem in financial programming and data science, and understanding this problem will enable you to build more advanced data analysis models. \n",
    "- While the problem is not directly related to queues, it requires manipulating a queue in a complex scenario and can be faced during a technical interview."
   ]
  },
  {
   "cell_type": "code",
   "execution_count": null,
   "id": "23f8e959",
   "metadata": {},
   "outputs": [],
   "source": [
    "from collections import deque\n",
    "\n",
    "class MovingAverage:\n",
    "    def __init__(self, size):\n",
    "        self.queue = deque\n",
    "        self.size = size\n",
    "        self.total = 0\n",
    "\n",
    "    def calculate_moving_average(self, val):\n",
    "        if len(self.queue) == self.size:\n",
    "            self.total -= self.queue.popleft()\n",
    "        self.queue.append(val)\n",
    "        self.total += val\n",
    "        return round(self.total / len(self.queue), 2)"
   ]
  }
 ],
 "metadata": {
  "kernelspec": {
   "display_name": "Python 3 (ipykernel)",
   "language": "python",
   "name": "python3"
  },
  "language_info": {
   "codemirror_mode": {
    "name": "ipython",
    "version": 3
   },
   "file_extension": ".py",
   "mimetype": "text/x-python",
   "name": "python",
   "nbconvert_exporter": "python",
   "pygments_lexer": "ipython3",
   "version": "3.10.13"
  }
 },
 "nbformat": 4,
 "nbformat_minor": 5
}
