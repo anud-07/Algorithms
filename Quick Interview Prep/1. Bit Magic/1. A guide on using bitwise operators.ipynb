{
 "cells": [
  {
   "cell_type": "code",
   "execution_count": 1,
   "id": "7486691f",
   "metadata": {},
   "outputs": [
    {
     "data": {
      "text/html": [
       "<style>.container { width:100% !important; }</style>"
      ],
      "text/plain": [
       "<IPython.core.display.HTML object>"
      ]
     },
     "metadata": {},
     "output_type": "display_data"
    }
   ],
   "source": [
    "from IPython.display import display, HTML\n",
    "display(HTML(\"<style>.container { width:100% !important; }</style>\"))"
   ]
  },
  {
   "cell_type": "markdown",
   "id": "adff6bfd",
   "metadata": {},
   "source": [
    "## Bitwise Logical Operators\n",
    "\n",
    "- Bitwise AND\n",
    "- Bitwise OR\n",
    "- Bitwise XOR\n",
    "- Bitwise NOT (unary bitwise operator responsible for flipping the bits also can be related to the one's complement)"
   ]
  },
  {
   "cell_type": "code",
   "execution_count": 2,
   "id": "e5ca0f4e",
   "metadata": {},
   "outputs": [
    {
     "name": "stdout",
     "output_type": "stream",
     "text": [
      "Results for Bitwise AND:  2\n",
      "Results for Bitwise OR:   7\n",
      "Results for Bitwise XOR:  5\n",
      "Results for Bitwise NOT:  -4 -7\n",
      "0b11 -0b100\n",
      "0b110 -0b111\n"
     ]
    }
   ],
   "source": [
    "# internally x is represented by 011, \n",
    "# internally the NOT of x should ideally be represented by 100 = 4 \n",
    "x = 3\n",
    "\n",
    "# internally y is represented by 110, \n",
    "# internally the NOT of y should ideally be represented by 001 = 1\n",
    "y = 6\n",
    "\n",
    "print(\"Results for Bitwise AND: \", x & y)\n",
    "\n",
    "print(\"Results for Bitwise OR:  \", x | y)\n",
    "\n",
    "print(\"Results for Bitwise XOR: \", x ^ y)\n",
    "\n",
    "print(\"Results for Bitwise NOT: \", ~x, ~y)\n",
    "print(bin(x), bin(~x))\n",
    "print(bin(y), bin(~y))"
   ]
  },
  {
   "cell_type": "markdown",
   "id": "531b295d",
   "metadata": {},
   "source": [
    "## Are you surprised to see why the results for Bitwise NOT is not as expected (i.e., negative)?\n",
    "\n",
    "- While the bitwise NOT operator seems to be the most straightforward of them all, you need to exercise extreme caution when using it in **Python**. \n",
    "\n",
    "- Everything you’ve read so far is based on the assumption that numbers are represented with **unsigned integers**.\n",
    "\n",
    "- Unsigned data types **don’t let you store negative numbers** such as -273 because there’s no space for a sign in a regular bit pattern. Trying to do so would result in a compilation error, a runtime exception, or an integer overflow depending on the language used.\n",
    "\n",
    "### How does one represent negative numbers in Python?\n",
    "\n",
    "- Well, although there are ways to simulate unsigned integers, **Python doesn’t support them natively**. That means all numbers have an implicit sign attached to them whether you specify one or not. This shows when you do a bitwise NOT of any number.\n",
    "- A quick fix to address the above issue is that take advanatge of **bit masks** that will help restrict the number of bits the user wants. \n",
    "- This is how other languages also compute **negative numbers**. It's just that these numbers are always stored using a fixed number of bits of precision and hence, they do not need to worry about the 1 overflowing to the left."
   ]
  },
  {
   "cell_type": "code",
   "execution_count": 3,
   "id": "c8364516",
   "metadata": {},
   "outputs": [
    {
     "name": "stdout",
     "output_type": "stream",
     "text": [
      "The expected results for Bitwise NOT should be:  4 1\n"
     ]
    }
   ],
   "source": [
    "bitMaskforThreeBitNumber = 2**3-1\n",
    "print(\"The expected results for Bitwise NOT should be: \", ~x & bitMaskforThreeBitNumber, ~y & bitMaskforThreeBitNumber )"
   ]
  },
  {
   "cell_type": "markdown",
   "id": "a5a06f3a",
   "metadata": {},
   "source": [
    "### Okay, this solves of issue of finding the NOT ~ of a number but this doesn't really answer the question that: How are negative numbers represented in Python?\n",
    "\n",
    "- The handling of negative numbers in Python is slightly different from the traditional approach of bitwise shifting. \n",
    "- To obtain a negative number for a given integer we can (flip all the bits + 1) to that number\n",
    "- For instance, if we want to find the negative binary representation of 3, we get (in the two complement representation):"
   ]
  },
  {
   "cell_type": "code",
   "execution_count": 4,
   "id": "cd7234f2",
   "metadata": {},
   "outputs": [
    {
     "name": "stdout",
     "output_type": "stream",
     "text": [
      "negative three is given by  -3\n"
     ]
    }
   ],
   "source": [
    "x = 3\n",
    "print(\"negative three is given by \", ~3 + 1)"
   ]
  },
  {
   "cell_type": "markdown",
   "id": "ed43f77d",
   "metadata": {},
   "source": [
    "## Bitwise Shift Operators\n",
    "\n",
    "- Left Shift  (multuplication by 2)\n",
    "- Right Shift (the floor of the division by 2)\n",
    "    \n",
    "- The above inferences making sure that leading bits of the number are zero."
   ]
  },
  {
   "cell_type": "code",
   "execution_count": 5,
   "id": "ef09eab9",
   "metadata": {},
   "outputs": [
    {
     "name": "stdout",
     "output_type": "stream",
     "text": [
      "Binary representation of 3 is 0b11 in <class 'str'> format\n",
      "Results for 1 left shift on  3 gives 6  whose binary version is 0b110\n",
      "Results for 2 left shifts on  3 gives 12  whose binary version is 0b1100\n",
      " \n",
      "Binary representation of 4 is 0b100 in <class 'str'> format\n",
      "Results for 1 left shift on  4 gives 8  whose binary version is 0b1000\n",
      "Results for 2 left shifts on  4 gives 16  whose binary version is 0b10000\n"
     ]
    }
   ],
   "source": [
    "# Left Shift Results:\n",
    "\n",
    "x = 3 # internally represented by 00000011\n",
    "\n",
    "print( f\"Binary representation of {x} is {bin(x)} in {type(bin(x))} format\" )\n",
    "print(\"Results for 1 left shift on \", x , \"gives\" , x << 1, \" whose binary version is\", bin(x<<1) )  # internally represented by 00000110 = 6\n",
    "print(\"Results for 2 left shifts on \", x , \"gives\" , x << 2, \" whose binary version is\", bin(x<<2) )  # internally represented by 00001100 = 12\n",
    "\n",
    "print(\" \")\n",
    "\n",
    "y = 4  # internally represented by 00000100\n",
    "\n",
    "print( f\"Binary representation of {y} is {bin(y)} in {type(bin(y))} format\" )\n",
    "print(\"Results for 1 left shift on \", y , \"gives\" , y << 1, \" whose binary version is\", bin(y<<1) )  # internally represented by 00000100 = 8\n",
    "print(\"Results for 2 left shifts on \", y , \"gives\" , y << 2, \" whose binary version is\", bin(y<<2) )  # internally represented by 00001000 = 16"
   ]
  },
  {
   "cell_type": "code",
   "execution_count": 6,
   "id": "d31bc7ea",
   "metadata": {},
   "outputs": [
    {
     "name": "stdout",
     "output_type": "stream",
     "text": [
      "Results for 1 left shift on  3 gives 1\n",
      "Results for 2 left shifts:  0\n",
      " \n",
      "Results for 1 left shift on  4 gives 2\n",
      "Results for 2 left shifts on  4 gives 1\n",
      " \n",
      "Results for 1 left shift on  33 gives 16\n",
      "Results for 2 left shifts on  33 gives 8\n"
     ]
    }
   ],
   "source": [
    "# Right Shift Results:\n",
    "\n",
    "x = 3 # internally represented by 00000011\n",
    "\n",
    "print(\"Results for 1 left shift on \", x , \"gives\" , x >> 1)  # internally represented by 00000001 = 1\n",
    "print(\"Results for 2 left shifts: \", x >> 2)  # internally represented by 00000000 = 0\n",
    "\n",
    "print(\" \")\n",
    "\n",
    "y = 4  # internally represented by 00000100\n",
    "\n",
    "print(\"Results for 1 left shift on \", y , \"gives\" , y >> 1)  # internally represented by 00000010 = 2\n",
    "print(\"Results for 2 left shifts on \", y , \"gives\" , y >> 2)  # internally represented by 00000001 = 1\n",
    "\n",
    "print(\" \")\n",
    "\n",
    "z = 33  # internally represented by 00100001\n",
    "\n",
    "print(\"Results for 1 left shift on \", z , \"gives\" , z >> 1)  # internally represented by 00010000 = 16\n",
    "print(\"Results for 2 left shifts on \", z , \"gives\" , z >> 2)  # internally represented by 00001000 = 8"
   ]
  },
  {
   "cell_type": "markdown",
   "id": "db7ace21",
   "metadata": {},
   "source": [
    "## Question - 1:\n",
    "\n",
    "- Check if the Kth bit of a number is set or not? (Where 1<=k<...)"
   ]
  },
  {
   "cell_type": "code",
   "execution_count": 7,
   "id": "a823cee8",
   "metadata": {},
   "outputs": [
    {
     "name": "stdout",
     "output_type": "stream",
     "text": [
      "Function Output:  True  Expected answer: True\n",
      "Function Output:  False  Expected answer: False\n",
      "Function Output:  True  Expected answer: True\n",
      "Function Output:  True  Expected answer: True\n",
      "Function Output:  False  Expected answer: False\n",
      "Function Output:  False  Expected answer: False\n",
      "\n",
      "Function Output:  True  Expected answer: True\n",
      "Function Output:  False  Expected answer: False\n",
      "Function Output:  False  Expected answer: False\n"
     ]
    }
   ],
   "source": [
    "# using left shift opearations;\n",
    "def check_kth_bit_using_left_shift_operartors(x, k):\n",
    "\n",
    "    if x & (1<<(k-1)):\n",
    "        return True\n",
    "    else:\n",
    "        return False\n",
    "\n",
    "# using right shift opearations; \n",
    "def check_kth_bit_using_right_shift_operartors(x, k):\n",
    "\n",
    "    if (x>>(k-1)) & 1:\n",
    "        return True\n",
    "    else:\n",
    "        return False       \n",
    "    \n",
    "print(\"Function Output: \", check_kth_bit_using_left_shift_operartors(5, 1), \" Expected answer: True\")\n",
    "print(\"Function Output: \", check_kth_bit_using_left_shift_operartors(5, 2), \" Expected answer: False\")\n",
    "print(\"Function Output: \", check_kth_bit_using_left_shift_operartors(5, 3), \" Expected answer: True\")\n",
    "print(\"Function Output: \", check_kth_bit_using_left_shift_operartors(5, 1), \" Expected answer: True\")\n",
    "print(\"Function Output: \", check_kth_bit_using_left_shift_operartors(8, 2), \" Expected answer: False\")\n",
    "print(\"Function Output: \", check_kth_bit_using_left_shift_operartors(0, 3), \" Expected answer: False\")\n",
    "\n",
    "print(\"\")\n",
    "\n",
    "print(\"Function Output: \", check_kth_bit_using_right_shift_operartors(5, 1), \" Expected answer: True\")\n",
    "print(\"Function Output: \", check_kth_bit_using_right_shift_operartors(8, 2), \" Expected answer: False\")\n",
    "print(\"Function Output: \", check_kth_bit_using_right_shift_operartors(0, 3), \" Expected answer: False\")"
   ]
  },
  {
   "cell_type": "markdown",
   "id": "f2683aad",
   "metadata": {},
   "source": [
    "## Question - 2:\n",
    "\n",
    "- Count the number of set bits in a given integer.   "
   ]
  },
  {
   "cell_type": "code",
   "execution_count": 8,
   "id": "7e04e7ee",
   "metadata": {},
   "outputs": [
    {
     "name": "stdout",
     "output_type": "stream",
     "text": [
      "Function Output:  2  Expected Output: 2\n",
      "Function Output:  2  Expected Output: 3\n",
      "Function Output:  2  Expected Output: 3\n",
      " \n",
      "Function Output:  2  Expected Output: 2\n",
      "Function Output:  3  Expected Output: 3\n",
      "Function Output:  3  Expected Output: 3\n"
     ]
    }
   ],
   "source": [
    "# Naive solution will be to go through all the bits of the number and count the number of set bits.\n",
    "# Assuming that the number of bits is 32, the naive solution is a theta(32) solution;\n",
    "def count_set_bits_naive(x):\n",
    "    count = 0\n",
    "    while x!=0:\n",
    "        count += x & 1\n",
    "        x = x >> 2\n",
    "        \n",
    "    return count \n",
    "\n",
    "# time complexity is the theta(d) where d are the number of digits in the bianry reprsentation of the number n\n",
    "def test_cases_naive():\n",
    "    print(\"Function Output: \", count_set_bits_naive(5),  \" Expected Output: 2\") \n",
    "    print(\"Function Output: \", count_set_bits_naive(7),  \" Expected Output: 3\") \n",
    "    print(\"Function Output: \", count_set_bits_naive(13), \" Expected Output: 3\") \n",
    "\n",
    "test_cases_naive() \n",
    "\n",
    "print(\" \")\n",
    "\n",
    "# Brian and Kerningham Algorithm\n",
    "# The better solution is a theta(no. of set bit count) solution;\n",
    "def count_set_bits_better(x):\n",
    "    count = 0\n",
    "    while x!=0:\n",
    "        x = x & (x-1)\n",
    "        count+= 1\n",
    "    return count\n",
    "    \n",
    "def test_cases_better():\n",
    "    print(\"Function Output: \", count_set_bits_better(5),  \" Expected Output: 2\") \n",
    "    print(\"Function Output: \", count_set_bits_better(7),  \" Expected Output: 3\") \n",
    "    print(\"Function Output: \", count_set_bits_better(13), \" Expected Output: 3\") \n",
    "    \n",
    "test_cases_better()  "
   ]
  },
  {
   "cell_type": "markdown",
   "id": "67c42ba2",
   "metadata": {},
   "source": [
    "## Question - 3:\n",
    "\n",
    "- Check if a given number is a power of 2: (leaving the case of 0)"
   ]
  },
  {
   "cell_type": "code",
   "execution_count": 9,
   "id": "4a4a7cee",
   "metadata": {},
   "outputs": [
    {
     "name": "stdout",
     "output_type": "stream",
     "text": [
      "Function Output  True Expected Output: True\n",
      "Function Output  True Expected Output: True\n",
      "Function Output  False Expected Output: False\n",
      " \n",
      "Function Output  True Expected Output: True\n",
      "Function Output  True Expected Output: True\n",
      "Function Output  False Expected Output: False\n"
     ]
    }
   ],
   "source": [
    "# if it becomes a odd number retunr False;\n",
    "def naive_solution(x):\n",
    "    while x!=1:\n",
    "        if x%2 != 0:\n",
    "            return False\n",
    "        x = x//2\n",
    "        \n",
    "    return True     \n",
    "\n",
    "# count the number of set bits;\n",
    "def power_of_two(x):    \n",
    "    if x & (x-1) == 0:\n",
    "        return True\n",
    "    else:\n",
    "        return False\n",
    "    \n",
    "    return condition\n",
    "\n",
    "def test_cases():    \n",
    "    print(\"Function Output \", power_of_two(2), \"Expected Output: True\")\n",
    "    print(\"Function Output \", power_of_two(4), \"Expected Output: True\")\n",
    "    print(\"Function Output \", power_of_two(23), \"Expected Output: False\")\n",
    "    print(\" \")\n",
    "    print(\"Function Output \", naive_solution(2), \"Expected Output: True\")\n",
    "    print(\"Function Output \", naive_solution(4), \"Expected Output: True\")\n",
    "    print(\"Function Output \", naive_solution(23), \"Expected Output: False\")\n",
    "\n",
    "test_cases()   "
   ]
  },
  {
   "cell_type": "markdown",
   "id": "3e9792d5",
   "metadata": {},
   "source": [
    "## Question - 4:\n",
    "\n",
    "- Given an array of integers, each number occurs **even** number of times except for **one** number that appears odd number of times. Can you find the number that occurs odd number of times?"
   ]
  },
  {
   "cell_type": "code",
   "execution_count": 10,
   "id": "c38a3d95",
   "metadata": {},
   "outputs": [
    {
     "name": "stdout",
     "output_type": "stream",
     "text": [
      "Function Output  3  Expected Output: 3\n",
      "Function Output  8  Expected Output: 8\n",
      " \n",
      "Function Output  3 Expected Output: 3\n",
      "Function Output  8 Expected Output: 8\n",
      " \n",
      "Function Output  3 Expected Output: 3\n",
      "Function Output  8 Expected Output: 8\n"
     ]
    }
   ],
   "source": [
    "# Storing all the elements of the array in a HashMap and going through the hashMap;\n",
    "\n",
    "def naive_solution(array):    \n",
    "    hashmap = {}\n",
    "    for number in array:\n",
    "        if number not in hashmap:\n",
    "            hashmap[number] = 0\n",
    "        hashmap[number] += 1\n",
    "        \n",
    "    for key in hashmap:\n",
    "        if hashmap[key]%2!=0:\n",
    "            return key \n",
    "        \n",
    "print(\"Function Output \", naive_solution([4, 3, 4, 4, 4, 5, 5]), \" Expected Output: 3\") \n",
    "print(\"Function Output \", naive_solution([8, 7, 7, 8, 8]), \" Expected Output: 8\") \n",
    "\n",
    "print(\" \")\n",
    "\n",
    "def another_naive_solution(array):\n",
    "    \n",
    "    for outerIndex in range(len(array)):\n",
    "        if array[outerIndex]==True:\n",
    "            continue\n",
    "\n",
    "        count = 1\n",
    "        for innerIndex in range(outerIndex+1, len(array)):\n",
    "            if array[outerIndex] == array[innerIndex]:\n",
    "                count += 1\n",
    "                array[innerIndex] = True\n",
    "                \n",
    "        if count%2!=0:\n",
    "            return array[outerIndex]\n",
    "\n",
    "print(\"Function Output \", another_naive_solution([4, 5, 4, 4, 4, 5, 3]), \"Expected Output: 3\") \n",
    "print(\"Function Output \", another_naive_solution([8, 7, 7, 8, 8]), \"Expected Output: 8\")     \n",
    "    \n",
    "print(\" \")    \n",
    "\n",
    "def xor_solution(array):\n",
    "    answer = 0\n",
    "    for number in array:\n",
    "           answer = answer ^ number\n",
    "    return answer\n",
    "\n",
    "print(\"Function Output \", xor_solution([4, 5, 4, 4, 4, 5, 3]), \"Expected Output: 3\") \n",
    "print(\"Function Output \", xor_solution([8, 7, 7, 8, 8]), \"Expected Output: 8\") "
   ]
  },
  {
   "cell_type": "markdown",
   "id": "888fb21e",
   "metadata": {},
   "source": [
    "## Question - 5 (Let's take it to next level):\n",
    "\n",
    "- Given an array of integers, each number occurs **even** number of times except for **specfically two** numbers that appears odd number of times. \n",
    "- Can you find those **two odd** numbers that occurs odd number of times in theta(n) time and O(1) space?"
   ]
  },
  {
   "cell_type": "code",
   "execution_count": 11,
   "id": "0cbe1279",
   "metadata": {},
   "outputs": [
    {
     "name": "stdout",
     "output_type": "stream",
     "text": [
      "(16, 15)\n",
      "(6, 5)\n"
     ]
    }
   ],
   "source": [
    "# Naively, we can use the previous method of hashmaps and also employ the other solution of theta(n**2)!\n",
    "\n",
    "def two_xor_solution(array):\n",
    "    mixedAnswer = 0\n",
    "    for number in array:\n",
    "        mixedAnswer = mixedAnswer ^ number\n",
    "    rightMostSetBit = mixedAnswer & ~(mixedAnswer-1)\n",
    "    answer1, answer2 = 0, 0  \n",
    "    for number in array:\n",
    "        if number&rightMostSetBit==0:\n",
    "            answer1 = answer1 ^ number\n",
    "        else:\n",
    "            answer2 = answer2 ^ number\n",
    "    return (answer1, answer2)\n",
    "\n",
    "print(two_xor_solution([20, 15, 20, 16]))\n",
    "print(two_xor_solution([3, 4, 3, 4, 5, 4, 4, 6, 7, 7]))"
   ]
  }
 ],
 "metadata": {
  "kernelspec": {
   "display_name": "Python 3 (ipykernel)",
   "language": "python",
   "name": "python3"
  },
  "language_info": {
   "codemirror_mode": {
    "name": "ipython",
    "version": 3
   },
   "file_extension": ".py",
   "mimetype": "text/x-python",
   "name": "python",
   "nbconvert_exporter": "python",
   "pygments_lexer": "ipython3",
   "version": "3.10.13"
  }
 },
 "nbformat": 4,
 "nbformat_minor": 5
}
