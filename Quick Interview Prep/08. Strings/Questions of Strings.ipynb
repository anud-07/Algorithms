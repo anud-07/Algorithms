{
 "cells": [
  {
   "cell_type": "markdown",
   "id": "88a03302",
   "metadata": {},
   "source": [
    "### Popular String Methods or functions related to strings:\n",
    "\n",
    "- `join()` Converts the elements of an iterable into a string\n",
    "- `isalnum()`\tReturns True if all characters in the string are alphanumeric\n",
    "- `isalpha()`\tReturns True if all characters in the string are in the alphabet\n",
    "- `ord()` function returns an integer representing the Unicode character\n",
    "- `chr()` method returns a character (a string) from an integer (represents a unicode POV of a character)\n",
    "- `capitalize()`  method convert all chars in the string to sentence case\n",
    "- `upper()` method converts all lowercase characters in a string into uppercase characters and returns it\n",
    "- `lower()` method converts all uppercase characters in a string into lowercase characters and returns it\n",
    "- `string[::-1]` method will reverse the string\n",
    "- `split(\"x\")` method splits the string into \n",
    "- `zfill(width)` ensures a string has at least width characters, filling with 0 if needed."
   ]
  },
  {
   "cell_type": "code",
   "execution_count": 1,
   "id": "e2e84359",
   "metadata": {},
   "outputs": [
    {
     "name": "stdout",
     "output_type": "stream",
     "text": [
      "Check me Again\n"
     ]
    }
   ],
   "source": [
    "string = \"Check me Again\"\n",
    "print(string)"
   ]
  },
  {
   "cell_type": "code",
   "execution_count": 2,
   "id": "7d3309b0",
   "metadata": {},
   "outputs": [
    {
     "name": "stdout",
     "output_type": "stream",
     "text": [
      "[' ', ' ', 'a', 'a', 'c', 'c', 'e', 'e', 'g', 'h', 'i', 'k', 'm', 'n']\n"
     ]
    }
   ],
   "source": [
    "listOfChar = sorted(string.lower())\n",
    "print(listOfChar)"
   ]
  },
  {
   "cell_type": "code",
   "execution_count": 3,
   "id": "574dd6e8",
   "metadata": {},
   "outputs": [
    {
     "name": "stdout",
     "output_type": "stream",
     "text": [
      "  aacceeghikmn\n"
     ]
    }
   ],
   "source": [
    "sortedString = ''.join(listOfChar)\n",
    "print(sortedString)"
   ]
  },
  {
   "cell_type": "code",
   "execution_count": 4,
   "id": "82c7a2a1",
   "metadata": {},
   "outputs": [
    {
     "data": {
      "text/plain": [
       "['Check', 'me', 'Again']"
      ]
     },
     "execution_count": 4,
     "metadata": {},
     "output_type": "execute_result"
    }
   ],
   "source": [
    "string.split(\" \")"
   ]
  },
  {
   "cell_type": "markdown",
   "id": "cbc5b86c",
   "metadata": {},
   "source": [
    "### Properties:\n",
    "\n",
    "- Small set of characters (bringing structure to the problem making it amenable to space complexity solutions)\n",
    "- Contiguous integer values for 'a' to 'z' and 'A' to 'Z' in both ASCII (C++) and UTF-16 (Java)\n",
    "- ASCII only english, so UTF-16 was created to include other characters\n",
    "- Since we can convert characters to integers, we can apply traditional array algorithms to many string problems!"
   ]
  },
  {
   "cell_type": "code",
   "execution_count": 5,
   "id": "caf5eef6",
   "metadata": {},
   "outputs": [
    {
     "name": "stdout",
     "output_type": "stream",
     "text": [
      "97 98 99 100\n"
     ]
    }
   ],
   "source": [
    "print(ord(\"a\"), ord(\"b\"), ord(\"c\"), ord(\"d\"))"
   ]
  },
  {
   "cell_type": "code",
   "execution_count": 6,
   "id": "1d3932cc",
   "metadata": {},
   "outputs": [
    {
     "name": "stdout",
     "output_type": "stream",
     "text": [
      "a b c d\n"
     ]
    }
   ],
   "source": [
    "print(chr(97), chr(98), chr(99), chr(100))"
   ]
  },
  {
   "cell_type": "markdown",
   "id": "f75a240b",
   "metadata": {},
   "source": [
    "### Question-1 (Frequencies of Characters):\n",
    "\n",
    "- All characters in sorted order and their frequencies in $\\mathcal{O}(1)$ time\n",
    "- A simple frequency counter for each character in string that respects the **order** of each occurred character."
   ]
  },
  {
   "cell_type": "code",
   "execution_count": 7,
   "id": "aab879b2",
   "metadata": {},
   "outputs": [
    {
     "name": "stdout",
     "output_type": "stream",
     "text": [
      "[3, 0, 1, 0, 3, 0, 0, 1, 2, 0, 1, 1, 0, 2, 2, 0, 0, 2, 0, 2, 2, 1, 0, 0, 1, 0]\n",
      "a 3\n",
      "c 1\n",
      "e 3\n",
      "h 1\n",
      "i 2\n",
      "k 1\n",
      "l 1\n",
      "n 2\n",
      "o 2\n",
      "r 2\n",
      "t 2\n",
      "u 2\n",
      "v 1\n",
      "y 1\n"
     ]
    }
   ],
   "source": [
    "string = \"aailovethecountryukraine\"\n",
    "count = [0]*26\n",
    "for index in range(len(string)):\n",
    "    count[ord(string[index]) - ord(\"a\")] += 1\n",
    "    \n",
    "print(count)    \n",
    "\n",
    "for index in range(len(count)):\n",
    "    if count[index]>0:\n",
    "        print(chr(index + ord(\"a\")), count[index])"
   ]
  },
  {
   "cell_type": "markdown",
   "id": "88eddb75",
   "metadata": {},
   "source": [
    "### Question-2 (Palindrome Check):\n",
    "\n",
    "- I/P : \"ABCDCBA\"\n",
    "- O/P : True\n",
    "\n",
    "    \n",
    "- I/P : \"ABBA\"\n",
    "- O/P : True\n",
    "    \n",
    "    \n",
    "- I/P : \"russia\"\n",
    "- O/P : False\n",
    "\n",
    "\n",
    "- I/P : \"ukraine\"\n",
    "- O/P : False"
   ]
  },
  {
   "cell_type": "code",
   "execution_count": 8,
   "id": "2f45d33a",
   "metadata": {},
   "outputs": [
    {
     "name": "stdout",
     "output_type": "stream",
     "text": [
      "True\n",
      "True\n",
      "False\n",
      "False\n"
     ]
    }
   ],
   "source": [
    "# O(n) time, O(1) space!\n",
    "def palindrome(string):\n",
    "    left, right = 0, len(string)-1\n",
    "    while left<right:\n",
    "        if string[left]!=string[right]:\n",
    "            return False \n",
    "        left  += 1\n",
    "        right -= 1\n",
    "    return True\n",
    "        \n",
    "string = \"ABCDCBA\"       \n",
    "print(palindrome(string))   \n",
    "\n",
    "string = \"ABBA\"\n",
    "print(palindrome(string))   \n",
    "\n",
    "string = \"ukraine\"\n",
    "print(palindrome(string))  \n",
    "\n",
    "string = \"russia\"\n",
    "print(palindrome(string))  "
   ]
  },
  {
   "cell_type": "markdown",
   "id": "918bdadf",
   "metadata": {},
   "source": [
    "### Question-3 (Check if a string is a Subsequence of the other):\n",
    "\n",
    "- I/P : s1 = \"ABCD\", s2 = \"AD\"\n",
    "- O/P : True\n",
    "\n",
    "    \n",
    "- I/P : s1 = \"ABCDE\", s2 = \"AED\"\n",
    "- O/P : False"
   ]
  },
  {
   "cell_type": "code",
   "execution_count": 9,
   "id": "fcb3c098",
   "metadata": {},
   "outputs": [
    {
     "name": "stdout",
     "output_type": "stream",
     "text": [
      "True\n",
      "False\n",
      "True\n",
      "False\n"
     ]
    }
   ],
   "source": [
    "# O(n + m) time solution;\n",
    "def is_subsequence(s1, s2):\n",
    "    pointer1 = 0\n",
    "    for pointer2 in range(len(s2)):\n",
    "        while pointer1 <=len(s1)-1 and s1[pointer1]!=s2[pointer2]:\n",
    "            pointer1 += 1\n",
    "        \n",
    "        if pointer1>=len(s1):\n",
    "            return False \n",
    "        \n",
    "    return True    \n",
    "\n",
    "s1, s2 = \"ABCD\", \"AD\"\n",
    "print(is_subsequence(s1, s2))  \n",
    "\n",
    "s1, s2 = \"ABCDE\", \"AED\"\n",
    "print(is_subsequence(s1, s2))  \n",
    "\n",
    "s1, s2 = \"GEEKSFORGEEKS\", \"GRGES\"\n",
    "print(is_subsequence(s1, s2))  \n",
    "\n",
    "s1, s2 = \"AD\", \"ABCDEF\"\n",
    "print(is_subsequence(s1, s2))  "
   ]
  },
  {
   "cell_type": "markdown",
   "id": "3a46adf7",
   "metadata": {},
   "source": [
    "### Question-4 (Check for Anagram):\n",
    "\n",
    "- I/P : s1 = \"listen\", s2 = \"silent\"\n",
    "- O/P : True\n",
    "\n",
    "    \n",
    "- I/P : s1 = \"aaacb\", s2 = \"cabaa\"\n",
    "- O/P : True\n",
    "\n",
    "\n",
    "- I/P : s1 = \"aab\", s2 = \"bab\"\n",
    "- O/P : True"
   ]
  },
  {
   "cell_type": "code",
   "execution_count": 10,
   "id": "e5668084",
   "metadata": {},
   "outputs": [
    {
     "name": "stdout",
     "output_type": "stream",
     "text": [
      "True\n",
      "True\n",
      "False\n",
      " \n",
      "True\n",
      "True\n",
      "False\n"
     ]
    }
   ],
   "source": [
    "# O(n log(n)) solution;\n",
    "def quick_anagram(s1, s2):\n",
    "    s1 = ''.join(sorted(s1))\n",
    "    s2 = ''.join(sorted(s2))\n",
    "    return s1==s2\n",
    "\n",
    "s1, s2 = \"listen\", \"silent\"\n",
    "print(quick_anagram(s1, s2))  \n",
    "\n",
    "s1, s2 = \"aaacb\", \"cabaa\"\n",
    "print(quick_anagram(s1, s2))  \n",
    "\n",
    "s1, s2 = \"aab\", \"bab\"\n",
    "print(quick_anagram(s1, s2))  \n",
    "\n",
    "\n",
    "print(\" \")\n",
    "\n",
    "\n",
    "# O(n + m) time solution;\n",
    "def check_anagrams(s1, s2):\n",
    "    \n",
    "    if len(s1)!=len(s2): return False \n",
    "    \n",
    "    cache = {}\n",
    "    for char in s1:\n",
    "        if char not in cache:\n",
    "            cache[char] = 0\n",
    "        cache[char] += 1    \n",
    "    \n",
    "    for char in s2:\n",
    "        if char not in cache:\n",
    "            return False\n",
    "        \n",
    "        cache[char] -= 1\n",
    "        if cache[char]==0:\n",
    "            del cache[char]\n",
    "    \n",
    "    return len(cache)==0\n",
    "\n",
    "s1, s2 = \"listen\", \"silent\"\n",
    "print(check_anagrams(s1, s2))  \n",
    "\n",
    "s1, s2 = \"aaacb\", \"cabaa\"\n",
    "print(check_anagrams(s1, s2))  \n",
    "\n",
    "s1, s2 = \"aab\", \"bab\"\n",
    "print(check_anagrams(s1, s2))  "
   ]
  },
  {
   "cell_type": "markdown",
   "id": "212756c7",
   "metadata": {},
   "source": [
    "### Question-5 (Leftmost Repeating Character):\n",
    "\n",
    "- I/P : s1 = \"geeksforgeeks\"\n",
    "- O/P : 0\n",
    "\n",
    "    \n",
    "- I/P : s1 = \"abbcc\"\n",
    "- O/P : 1\n",
    "\n",
    "\n",
    "- I/P : s1 = \"abcd\"\n",
    "- O/P : -1"
   ]
  },
  {
   "cell_type": "code",
   "execution_count": 11,
   "id": "07335279",
   "metadata": {},
   "outputs": [
    {
     "name": "stdout",
     "output_type": "stream",
     "text": [
      "0\n",
      "1\n",
      "2\n",
      "-1\n",
      " \n",
      "0\n",
      "1\n",
      "2\n",
      "-1\n",
      " \n",
      "0\n",
      "1\n",
      "2\n",
      "inf\n"
     ]
    }
   ],
   "source": [
    "# O(n^2) solution!\n",
    "def naive_solution(string):\n",
    "    for outerIndex in range(len(string)):\n",
    "        for innerIndex in range(outerIndex+1, len(string)):\n",
    "            if string[outerIndex]==string[innerIndex]:\n",
    "                return outerIndex\n",
    "            \n",
    "    return -1\n",
    "\n",
    "s1 = \"geeksforgeeks\"\n",
    "print(naive_solution(s1))  \n",
    "\n",
    "s1 = \"abbcc\"\n",
    "print(naive_solution(s1)) \n",
    "\n",
    "s1 = \"abcddc\"\n",
    "print(naive_solution(s1)) \n",
    "\n",
    "s1 = \"abcd\"\n",
    "print(naive_solution(s1)) \n",
    "\n",
    "\n",
    "print(\" \")\n",
    "\n",
    "\n",
    "# O(n) solution- requires 2 loops of the input string!\n",
    "def better_solution(string):\n",
    "    cache = {}\n",
    "    for char in string:\n",
    "        if char not in cache:\n",
    "            cache[char] = 0\n",
    "        cache[char] += 1\n",
    "        \n",
    "    # here you are passign through the string again (since the hashmap ddoes not have an order)! Not a good sign!    \n",
    "    for index in range(len(string)):\n",
    "        if cache[string[index]]>1:\n",
    "            return index \n",
    "    return -1\n",
    "\n",
    "s1 = \"geeksforgeeks\"\n",
    "print(better_solution(s1))  \n",
    "\n",
    "s1 = \"abbcc\"\n",
    "print(better_solution(s1)) \n",
    "\n",
    "s1 = \"abcddc\"\n",
    "print(better_solution(s1)) \n",
    "\n",
    "s1 = \"abcd\"\n",
    "print(better_solution(s1)) \n",
    "\n",
    "\n",
    "print(\" \")\n",
    "\n",
    "\n",
    "# requires only one pass of the array!\n",
    "def even_better_repeating(string):\n",
    "    cache, answer = [-1]*256, float(\"inf\")\n",
    "    for index in range(len(string)):\n",
    "        if cache[ord(string[index]) - ord('a')] == -1:\n",
    "            cache[ord(string[index]) - ord('a')] = index\n",
    "        else:\n",
    "            answer = min(answer, cache[ord(string[index]) - ord('a')])\n",
    "    \n",
    "    return answer\n",
    "\n",
    "s1 = \"geeksforgeeks\"\n",
    "print(even_better_repeating(s1))  \n",
    "\n",
    "s1 = \"abbcc\"\n",
    "print(even_better_repeating(s1)) \n",
    "\n",
    "s1 = \"abcddc\"\n",
    "print(even_better_repeating(s1)) \n",
    "\n",
    "s1 = \"abcd\"\n",
    "print(even_better_repeating(s1)) "
   ]
  },
  {
   "cell_type": "markdown",
   "id": "2c80818e",
   "metadata": {},
   "source": [
    "### Question-6 (Leftmost Non-Repeating Element):\n",
    "\n",
    "- I/P : s1 = \"geeksforgeeks\"\n",
    "- O/P : 5\n",
    "\n",
    "    \n",
    "- I/P : s1 = \"abbcc\"\n",
    "- O/P : 0\n",
    "\n",
    "\n",
    "- I/P : s1 = \"abcd\"\n",
    "- O/P : 0"
   ]
  },
  {
   "cell_type": "code",
   "execution_count": 12,
   "id": "118d4b26",
   "metadata": {},
   "outputs": [
    {
     "name": "stdout",
     "output_type": "stream",
     "text": [
      "5\n",
      "-1\n",
      "0\n",
      "0\n",
      "0\n",
      " \n",
      "5\n",
      "inf\n",
      "0\n",
      "0\n",
      "0\n"
     ]
    }
   ],
   "source": [
    "# O(n) solution!\n",
    "def naive_non_repeating(string):\n",
    "    cache = {}\n",
    "    for char in string:\n",
    "        if char not in cache:\n",
    "            cache[char] = 0\n",
    "        cache[char] += 1    \n",
    "    \n",
    "    for index in range(len(string)):\n",
    "        if cache[string[index]]==1:\n",
    "            return index \n",
    "    \n",
    "    return -1    \n",
    "        \n",
    "s1 = \"geeksforgeeks\"\n",
    "print(naive_non_repeating(s1))  \n",
    "\n",
    "s1 = \"abcabc\"\n",
    "print(naive_non_repeating(s1)) \n",
    "\n",
    "s1 = \"abbcc\"\n",
    "print(naive_non_repeating(s1)) \n",
    "\n",
    "s1 = \"abcddc\"\n",
    "print(naive_non_repeating(s1)) \n",
    "\n",
    "s1 = \"abcd\"\n",
    "print(naive_non_repeating(s1)) \n",
    "\n",
    "\n",
    "print(\" \")\n",
    "\n",
    "\n",
    "# using a state machine!\n",
    "# theta(n) solution, theta(CHAR) space \n",
    "def even_better_non_repeating(string):\n",
    "    cache, answer = [-1]*256, float(\"inf\")\n",
    "    for index in range(len(string)):\n",
    "        if cache[ord(string[index]) - ord('a')] == -1:\n",
    "            cache[ord(string[index]) - ord('a')] = index\n",
    "        else:\n",
    "            cache[ord(string[index]) - ord('a')] = -2\n",
    "            \n",
    "    for number in cache:\n",
    "        if number>=0:\n",
    "            answer = min(answer, number)\n",
    "        \n",
    "    return answer\n",
    "\n",
    "s1 = \"geeksforgeeks\"\n",
    "print(even_better_non_repeating(s1))  \n",
    "\n",
    "s1 = \"abcabc\"\n",
    "print(even_better_non_repeating(s1)) \n",
    "\n",
    "s1 = \"abbcc\"\n",
    "print(even_better_non_repeating(s1)) \n",
    "\n",
    "s1 = \"abcddc\"\n",
    "print(even_better_non_repeating(s1)) \n",
    "\n",
    "s1 = \"abcd\"\n",
    "print(even_better_non_repeating(s1)) "
   ]
  },
  {
   "cell_type": "markdown",
   "id": "18fb0eb1",
   "metadata": {},
   "source": [
    "### Question-7 (Reverse words in string):\n",
    "\n",
    "- I/P : s1 = \"welcome to gfg\"\n",
    "- O/P : \"gfg to welcome\"\n",
    "\n",
    "    \n",
    "- I/P : s1 = \"i love coding\"\n",
    "- O/P : \"coding love i\"\n",
    "\n",
    "\n",
    "- I/P : s1 = \"abc\"\n",
    "- O/P : \"abc\""
   ]
  },
  {
   "cell_type": "code",
   "execution_count": 13,
   "id": "271e416a",
   "metadata": {},
   "outputs": [
    {
     "name": "stdout",
     "output_type": "stream",
     "text": [
      "gfg to welcome\n",
      "coding love i\n",
      "abc\n"
     ]
    }
   ],
   "source": [
    "def python_hack(string):\n",
    "    answer = ' '.join(string.split(\" \")[::-1])\n",
    "    return answer\n",
    "\n",
    "string = \"welcome to gfg\"\n",
    "print(python_hack(string))\n",
    "\n",
    "string = \"i love coding\"\n",
    "print(python_hack(string))\n",
    "\n",
    "string = \"abc\"\n",
    "print(python_hack(string))"
   ]
  },
  {
   "cell_type": "markdown",
   "id": "daff1a4a",
   "metadata": {},
   "source": [
    "### Question-8 (Pattern match with given string):\n",
    "\n",
    "- I/P : text = \"AAAAA\", pattern = \"AAA\" \n",
    "- O/P : 0, 1, 2\n",
    "    \n",
    "        \n",
    "- I/P : text = \"ABCABCD\", pattern = \"ABD\" \n",
    "- O/P : NOT PRESENT\n",
    "    \n",
    "    \n",
    "- I/P : text = \"GEEKSFORGEEKS\", pattern = \"EKS\" \n",
    "- O/P : 2, 10"
   ]
  },
  {
   "cell_type": "code",
   "execution_count": 17,
   "id": "a27942cf",
   "metadata": {},
   "outputs": [
    {
     "name": "stdout",
     "output_type": "stream",
     "text": [
      "[0, 1, 2]\n",
      "[]\n",
      "[2, 10]\n",
      "[0, 2]\n",
      "[3]\n"
     ]
    }
   ],
   "source": [
    "def naive_pattern_searching(string, pattern):\n",
    "    left, right = 0, 0 \n",
    "    currString, answer = \"\", []\n",
    "    while right<len(string):\n",
    "        currString += string[right]\n",
    "        \n",
    "        if right-left+1<len(pattern):\n",
    "            right += 1\n",
    "        elif right-left+1==len(pattern):  \n",
    "            if currString==pattern:\n",
    "                answer.append(left)\n",
    "            \n",
    "            currString = currString[1:]\n",
    "            left  += 1\n",
    "            right += 1\n",
    "    return answer\n",
    "\n",
    "string, pattern = \"AAAAA\", \"AAA\" \n",
    "print(naive_pattern_searching(string, pattern)) \n",
    "\n",
    "string, pattern = \"ABCABCD\", \"ABD\" \n",
    "print(naive_pattern_searching(string, pattern)) \n",
    "\n",
    "string, pattern = \"GEEKSFORGEEKS\", \"EKS\" \n",
    "print(naive_pattern_searching(string, pattern)) \n",
    "\n",
    "string, pattern = \"ABABABCD\", \"ABAB\" \n",
    "print(naive_pattern_searching(string, pattern)) \n",
    "\n",
    "string, pattern = \"ABCABCD\", \"ABCD\" \n",
    "print(naive_pattern_searching(string, pattern)) "
   ]
  },
  {
   "cell_type": "markdown",
   "id": "c8786fb3",
   "metadata": {},
   "source": [
    "### Introduction to Pattern matching:\n",
    "\n",
    "Assuming that $m$ is the pattern length and $n$ is the text length\n",
    "\n",
    "- Naive algorithm: $\\mathcal{O}((n-m+1) \\cdot m)$\n",
    "\n",
    "\n",
    "- Improved Naive for Distinct characters: $\\mathcal{O}(n)$\n",
    "\n",
    "\n",
    "- Rabin Karp: $\\mathcal{O}((n-m+1) \\cdot m)$ but better than naive algorithm on average\n",
    "\n",
    "\n",
    "- KMP: $\\mathcal{O}(n)$ (here we pre-process the pattern)\n",
    "\n",
    "\n",
    "- Suffix Tree Data Structure: $\\mathcal{O}(m)$ (here we pre-process the entire text)"
   ]
  },
  {
   "cell_type": "code",
   "execution_count": null,
   "id": "856da7b5",
   "metadata": {},
   "outputs": [],
   "source": [
    "def distinct_naive_pattern_searching(string, pattern):\n",
    "    left, right = 0, 0 \n",
    "    currString, answer = \"\", []\n",
    "    while right<len(string):\n",
    "        currString += string[right]\n",
    "        \n",
    "        if right-left+1<len(pattern):\n",
    "            right += 1\n",
    "        elif right-left+1==len(pattern):  \n",
    "            if currString==pattern:\n",
    "                answer.append(left)\n",
    "            \n",
    "            currString = currString[1:]\n",
    "            left  += 1\n",
    "            right += 1\n",
    "    return answer\n",
    "\n",
    "string, pattern = \"AAAAA\", \"AAA\" \n",
    "print(distinct_naive_pattern_searching(string, pattern)) \n",
    "\n",
    "string, pattern = \"ABCABCD\", \"ABD\" \n",
    "print(distinct_naive_pattern_searching(string, pattern)) \n",
    "\n",
    "string, pattern = \"GEEKSFORGEEKS\", \"EKS\" \n",
    "print(distinct_naive_pattern_searching(string, pattern)) \n",
    "\n",
    "string, pattern = \"ABABABCD\", \"ABAB\" \n",
    "print(distinct_naive_pattern_searching(string, pattern)) \n",
    "\n",
    "string, pattern = \"ABCABCD\", \"ABCD\" \n",
    "print(distinct_naive_pattern_searching(string, pattern)) "
   ]
  }
 ],
 "metadata": {
  "kernelspec": {
   "display_name": "Python 3 (ipykernel)",
   "language": "python",
   "name": "python3"
  },
  "language_info": {
   "codemirror_mode": {
    "name": "ipython",
    "version": 3
   },
   "file_extension": ".py",
   "mimetype": "text/x-python",
   "name": "python",
   "nbconvert_exporter": "python",
   "pygments_lexer": "ipython3",
   "version": "3.10.13"
  }
 },
 "nbformat": 4,
 "nbformat_minor": 5
}
