{
 "cells": [
  {
   "cell_type": "markdown",
   "id": "3f90e7ae",
   "metadata": {},
   "source": [
    "### Question-1: Write a function, uncompress, that takes in a string as an argument. The input string will be formatted into multiple groups according to the following pattern: for example, '2c' or '3a'. The function should return an uncompressed version of the string where each 'char' of a group is repeated 'number' times consecutively. You may assume that the input string is well-formed according to the previously mentioned pattern."
   ]
  },
  {
   "cell_type": "code",
   "execution_count": null,
   "id": "0231044c",
   "metadata": {},
   "outputs": [],
   "source": [
    "def uncompress(string):\n",
    "    numbers = {str(index) for index in range(10)}\n",
    "    answer = \"\"\n",
    "    p1, p2 = 0, 0\n",
    "    while p1<len(string):\n",
    "        if p2>=len(string):\n",
    "            break\n",
    "        while string[p2] in numbers:\n",
    "            p2 += 1\n",
    "        answer += string[p2]*int(string[p1:p2])\n",
    "        \n",
    "        p2 += 1\n",
    "        p1 = p2\n",
    "        \n",
    "    return answer"
   ]
  },
  {
   "cell_type": "code",
   "execution_count": null,
   "id": "914a07d5",
   "metadata": {},
   "outputs": [],
   "source": [
    "uncompress(\"2c3a1t\") # -> 'ccaaat'"
   ]
  },
  {
   "cell_type": "code",
   "execution_count": null,
   "id": "ab5dcca7",
   "metadata": {},
   "outputs": [],
   "source": [
    "uncompress(\"2c3a1t\") # -> 'ccaaat'"
   ]
  },
  {
   "cell_type": "code",
   "execution_count": null,
   "id": "cfb6b85b",
   "metadata": {},
   "outputs": [],
   "source": [
    "uncompress(\"2p1o5p\") # -> 'ppoppppp'"
   ]
  },
  {
   "cell_type": "code",
   "execution_count": null,
   "id": "e52f5be2",
   "metadata": {},
   "outputs": [],
   "source": [
    "uncompress(\"3n12e2z\") # -> 'nnneeeeeeeeeeeezz'"
   ]
  },
  {
   "cell_type": "code",
   "execution_count": null,
   "id": "30cf2143",
   "metadata": {},
   "outputs": [],
   "source": [
    "uncompress(\"127y\") # -> 'yyyyyyyyyyyyyyyyyyyyyyyyyyyyyyyyyyyyyyyyyyyyyyyyyyyyyyyyyyyyyyyyyyyyyyyyyyyyyyyyyyyyyyyyyyyyyyyyyyyyyyyyyyyyyyyyyyyyyyyyyyyyyyy'"
   ]
  },
  {
   "cell_type": "markdown",
   "id": "9c408b68",
   "metadata": {},
   "source": [
    "### Question-2: Write a function, compress, that takes in a string as an argument. The function should return a compressed version of the string where consecutive occurrences of the same characters are compressed into the number of occurrences followed by the character. Single character occurrences should not be changed."
   ]
  },
  {
   "cell_type": "code",
   "execution_count": 5,
   "id": "03627b37",
   "metadata": {},
   "outputs": [],
   "source": [
    "def compress(string):\n",
    "    p1, p2 = 0, 0\n",
    "    answer = \"\"\n",
    "    while p1<len(string):\n",
    "        \n",
    "        while p2<len(string) and string[p2]==string[p1]:\n",
    "            p2 += 1\n",
    "                \n",
    "        currString = string[p1:p2]    \n",
    "        if len(currString)!=1:\n",
    "            answer += str(len(currString))\n",
    "        answer += string[p1]\n",
    "        \n",
    "        p1 = p2\n",
    "        \n",
    "        if p2==len(string):\n",
    "            break\n",
    "    return answer     "
   ]
  },
  {
   "cell_type": "code",
   "execution_count": 6,
   "id": "7d39fc28",
   "metadata": {},
   "outputs": [
    {
     "data": {
      "text/plain": [
       "'2c3at3s'"
      ]
     },
     "execution_count": 6,
     "metadata": {},
     "output_type": "execute_result"
    }
   ],
   "source": [
    "compress('ccaaatsss') # -> '2c3at3s'"
   ]
  },
  {
   "cell_type": "code",
   "execution_count": 7,
   "id": "250f1b50",
   "metadata": {},
   "outputs": [
    {
     "data": {
      "text/plain": [
       "'4s2bz'"
      ]
     },
     "execution_count": 7,
     "metadata": {},
     "output_type": "execute_result"
    }
   ],
   "source": [
    "compress('ssssbbz') # -> '4s2bz'"
   ]
  },
  {
   "cell_type": "code",
   "execution_count": 8,
   "id": "f0c928d7",
   "metadata": {},
   "outputs": [
    {
     "data": {
      "text/plain": [
       "'2po5p'"
      ]
     },
     "execution_count": 8,
     "metadata": {},
     "output_type": "execute_result"
    }
   ],
   "source": [
    "compress('ppoppppp') # -> '2po5p'"
   ]
  },
  {
   "cell_type": "code",
   "execution_count": 9,
   "id": "c7a9f198",
   "metadata": {},
   "outputs": [
    {
     "data": {
      "text/plain": [
       "'3n12e2z'"
      ]
     },
     "execution_count": 9,
     "metadata": {},
     "output_type": "execute_result"
    }
   ],
   "source": [
    "compress('nnneeeeeeeeeeeezz') # -> '3n12e2z'"
   ]
  },
  {
   "cell_type": "code",
   "execution_count": 10,
   "id": "fe107867",
   "metadata": {},
   "outputs": [],
   "source": [
    "compress('yyyyyyyyyyyyyyyyyyyyyyyyyyyyyyyyyyyyyyyyyyyyyyyyyyyyyyyyyyyyyyyyyyyyyyyyyyyyyyyyyyyyyyyyyyyyyyyyyyyyyyyyyyyyyyyyyyyyyyyyyyyyyyy'); \n",
    "# -> '127y'"
   ]
  },
  {
   "cell_type": "markdown",
   "id": "8cb6ff13",
   "metadata": {},
   "source": [
    "### Question-3: Write a function, anagrams, that takes in two strings as arguments. The function should return a boolean indicating whether or not the strings are anagrams. Anagrams are strings that contain the same characters, but in any order."
   ]
  },
  {
   "cell_type": "code",
   "execution_count": 20,
   "id": "042a348a",
   "metadata": {},
   "outputs": [],
   "source": [
    "def anagrams(string1, string2):\n",
    "    items = [0]*26\n",
    "    \n",
    "    for char in string1:\n",
    "        items[ord(char) - ord('a')] += 1\n",
    "        \n",
    "    for char in string2:   \n",
    "        items[ord(char) - ord('a')] -= 1\n",
    "        \n",
    "    for item in items:    \n",
    "        if item!=0:\n",
    "            return False \n",
    "    return True"
   ]
  },
  {
   "cell_type": "code",
   "execution_count": 21,
   "id": "34f51f81",
   "metadata": {},
   "outputs": [
    {
     "data": {
      "text/plain": [
       "True"
      ]
     },
     "execution_count": 21,
     "metadata": {},
     "output_type": "execute_result"
    }
   ],
   "source": [
    "anagrams('restful', 'fluster') # -> True"
   ]
  },
  {
   "cell_type": "code",
   "execution_count": 22,
   "id": "5b725f5b",
   "metadata": {},
   "outputs": [
    {
     "data": {
      "text/plain": [
       "False"
      ]
     },
     "execution_count": 22,
     "metadata": {},
     "output_type": "execute_result"
    }
   ],
   "source": [
    "anagrams('cats', 'tocs') # -> False"
   ]
  },
  {
   "cell_type": "code",
   "execution_count": 23,
   "id": "c0bf4c00",
   "metadata": {},
   "outputs": [
    {
     "data": {
      "text/plain": [
       "True"
      ]
     },
     "execution_count": 23,
     "metadata": {},
     "output_type": "execute_result"
    }
   ],
   "source": [
    "anagrams('monkeyswrite', 'newyorktimes') # -> True"
   ]
  },
  {
   "cell_type": "code",
   "execution_count": 24,
   "id": "c4f0235f",
   "metadata": {},
   "outputs": [
    {
     "data": {
      "text/plain": [
       "False"
      ]
     },
     "execution_count": 24,
     "metadata": {},
     "output_type": "execute_result"
    }
   ],
   "source": [
    "anagrams('paper', 'reapa') # -> False"
   ]
  },
  {
   "cell_type": "code",
   "execution_count": 25,
   "id": "29f703b6",
   "metadata": {},
   "outputs": [
    {
     "data": {
      "text/plain": [
       "True"
      ]
     },
     "execution_count": 25,
     "metadata": {},
     "output_type": "execute_result"
    }
   ],
   "source": [
    "anagrams('elbow', 'below') # -> True"
   ]
  },
  {
   "cell_type": "code",
   "execution_count": 26,
   "id": "86b56420",
   "metadata": {},
   "outputs": [
    {
     "data": {
      "text/plain": [
       "False"
      ]
     },
     "execution_count": 26,
     "metadata": {},
     "output_type": "execute_result"
    }
   ],
   "source": [
    "anagrams('tax', 'taxi') # -> False"
   ]
  },
  {
   "cell_type": "code",
   "execution_count": 27,
   "id": "29c73c50",
   "metadata": {},
   "outputs": [
    {
     "data": {
      "text/plain": [
       "False"
      ]
     },
     "execution_count": 27,
     "metadata": {},
     "output_type": "execute_result"
    }
   ],
   "source": [
    "anagrams('taxi', 'tax') # -> False"
   ]
  },
  {
   "cell_type": "code",
   "execution_count": 28,
   "id": "129b8e74",
   "metadata": {},
   "outputs": [
    {
     "data": {
      "text/plain": [
       "True"
      ]
     },
     "execution_count": 28,
     "metadata": {},
     "output_type": "execute_result"
    }
   ],
   "source": [
    "anagrams('night', 'thing') # -> True"
   ]
  },
  {
   "cell_type": "code",
   "execution_count": 29,
   "id": "941bc61a",
   "metadata": {},
   "outputs": [
    {
     "data": {
      "text/plain": [
       "False"
      ]
     },
     "execution_count": 29,
     "metadata": {},
     "output_type": "execute_result"
    }
   ],
   "source": [
    "anagrams('abbc', 'aabc') # -> False"
   ]
  },
  {
   "cell_type": "markdown",
   "id": "c45878c7",
   "metadata": {},
   "source": [
    "### Question-4: "
   ]
  }
 ],
 "metadata": {
  "kernelspec": {
   "display_name": "Python 3 (ipykernel)",
   "language": "python",
   "name": "python3"
  },
  "language_info": {
   "codemirror_mode": {
    "name": "ipython",
    "version": 3
   },
   "file_extension": ".py",
   "mimetype": "text/x-python",
   "name": "python",
   "nbconvert_exporter": "python",
   "pygments_lexer": "ipython3",
   "version": "3.10.13"
  }
 },
 "nbformat": 4,
 "nbformat_minor": 5
}
