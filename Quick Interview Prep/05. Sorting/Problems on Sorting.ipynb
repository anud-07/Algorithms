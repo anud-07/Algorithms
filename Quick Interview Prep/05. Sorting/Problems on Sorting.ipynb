{
 "cells": [
  {
   "cell_type": "markdown",
   "id": "1ebfaaff",
   "metadata": {},
   "source": [
    "- Stability of the Sorting algorithms:\n",
    "    - It is useful with objects with many data fields;\n",
    "\n",
    "- Some **stable** sorting algorithms:\n",
    "    - Bubble Sort, Insertion Sort, Merge Sort;\n",
    "    \n",
    "- Some **unstable** sorting algorithms: \n",
    "    - Selection Sort, Quick Sort, Heap Sort;"
   ]
  },
  {
   "cell_type": "markdown",
   "id": "4694feb8",
   "metadata": {},
   "source": [
    "---\n",
    "### Question-1 (Bubble Sort);\n",
    "\n",
    "- Remember as **Bubbling up** the maximum iteration in each iteration\n",
    "- Comparison Sort Algorithm that takes $\\Theta(n^2)$ naively, but can take $\\mathcal{O}(n^2)$ if optimized;\n",
    "- Has multiple passes of the array;\n",
    "- For instance, in the first pass, we move the largest number to the last position;\n",
    "- Next, we move the second largest to the 2nd last position and so on....\n",
    "- The algorithm can be optimized since we can keep track whether or not the array is sorted in every pass;\n",
    "- This algorithm is also **stable**;\n",
    "- This algorithm is also **in-place**, i.e., it does not require extra memory for sorting;"
   ]
  },
  {
   "cell_type": "code",
   "execution_count": 1,
   "id": "ade95daf",
   "metadata": {},
   "outputs": [
    {
     "name": "stdout",
     "output_type": "stream",
     "text": [
      "[3, 5, 10, 20, 40]\n",
      "[3, 5, 10, 20, 40]\n"
     ]
    }
   ],
   "source": [
    "# Bubble Sort;\n",
    "array = [3, 5, 10, 20, 40][::-1]\n",
    "n = len(array)\n",
    "for numPass in range(n-1):\n",
    "    for i in range(n-1-numPass):\n",
    "        if array[i]>array[i+1]:\n",
    "            array[i], array[i+1] = array[i+1], array[i]\n",
    "            \n",
    "print(array)\n",
    "\n",
    "# Optimized Bubble Sort;\n",
    "# the motivation is that if the array is already sorted, then you should exit early!\n",
    "for numPass in range(n-1):\n",
    "    swapping = False \n",
    "    for i in range(n-1-numPass):\n",
    "        if array[i]>array[i+1]:\n",
    "            array[i], array[i+1] = array[i+1], array[i]\n",
    "            swapping = True\n",
    "    if swapping==False:\n",
    "        break\n",
    "        \n",
    "print(array)"
   ]
  },
  {
   "cell_type": "markdown",
   "id": "a4a26673",
   "metadata": {},
   "source": [
    "#### Visualization of the sorting algorithm:\n",
    "\n",
    "[40, &emsp;&emsp;&emsp;  20, &emsp;&emsp;&emsp;     10,  &emsp;&emsp;&emsp;    5, &emsp;&emsp;&emsp;     3]\n",
    "\n",
    "      numPass\n",
    "                inn"
   ]
  },
  {
   "cell_type": "markdown",
   "id": "21e459dc",
   "metadata": {},
   "source": [
    "---\n",
    "### Question-2 (Selection Sort);\n",
    "\n",
    "- Remember as **SELECTING THE MINIMUM ELEMENT** and bringing it to the extreme positions (left in the case of increasing sorted array);\n",
    "- Comparison sort algorithm that takes $\\Theta(n^2)$ always;\n",
    "- The good thing about this algorithm is that it requires **less** memory writes compare to QuickSort, MergeSort, InsertionSort;\n",
    "- However, this is **not the optimal algorithm** for memory writes (Cycle sort is optimal for that);\n",
    "- Forms the **basic idea for heap sort**;\n",
    "- Has **multiple passes** of the array;\n",
    "- For instance, in the first pass, we move the smallest number to the $1^{\\rm st}$ position;\n",
    "- Next, we move the second smallest to the $2^{\\rm nd}$ position and so on....\n",
    "- This algorithm is **un-stable** [90, 80, 90, 25];\n",
    "- This algorithm is also **inplace**, i.e., it does not require extra memory for sorting; "
   ]
  },
  {
   "cell_type": "code",
   "execution_count": 2,
   "id": "92a80cdb",
   "metadata": {},
   "outputs": [
    {
     "name": "stdout",
     "output_type": "stream",
     "text": [
      "[3, 5, 10, 20, 40]\n"
     ]
    }
   ],
   "source": [
    "array = [3, 5, 10, 20, 40][::-1]\n",
    "n = len(array)\n",
    "\n",
    "for i in range(n-1):\n",
    "    min_index = i\n",
    "    for j in range(i+1, n):\n",
    "        if array[j] < array[min_index]:\n",
    "            min_index = j\n",
    "    array[i], array[min_index] = array[min_index], array[i]\n",
    "    \n",
    "print(array)"
   ]
  },
  {
   "cell_type": "markdown",
   "id": "3cfcad68",
   "metadata": {},
   "source": [
    "#### visualization\n",
    "\n",
    "[40,&emsp;&emsp;&emsp;20,&emsp;&emsp;&emsp;10,&emsp;&emsp;&emsp;5,&emsp;&emsp;&emsp;3]\n",
    "\n",
    "      outer\n",
    "             inner"
   ]
  },
  {
   "cell_type": "markdown",
   "id": "dc2f609d",
   "metadata": {},
   "source": [
    "---\n",
    "### Question-3 (Insertion Sort);\n",
    "\n",
    "- We maintain a part of the array that is already sorted ans when we are at current element, we insert this current element in to the already sorted part and make the sorted part bigger\n",
    "- Comparison sort algorithm takes $O(n^2)$;\n",
    "- $O(n)$ in the best case;\n",
    "- Used in practice (most popular and preferred) for small array internally by many programming languages;\n",
    "- This algorithm is **stable**;\n",
    "- This algorithm is also **inplace**, i.e., it does not require extra memory for sorting; "
   ]
  },
  {
   "cell_type": "code",
   "execution_count": 3,
   "id": "60d9f8a0",
   "metadata": {},
   "outputs": [
    {
     "name": "stdout",
     "output_type": "stream",
     "text": [
      "[5, 10, 20, 30, 40, 60]\n"
     ]
    }
   ],
   "source": [
    "array = [3, 5, 10, 20, 40][::-1]\n",
    "array = [20, 5, 40, 60, 10, 30]\n",
    "n = len(array)\n",
    "\n",
    "for i in range(1, n):\n",
    "    minIndex = i\n",
    "    for j in range(i-1, -1, -1):\n",
    "        if array[j] > array[minIndex]:\n",
    "            array[j], array[minIndex] = array[minIndex], array[j]\n",
    "            minIndex = j\n",
    "        else:\n",
    "            break\n",
    "print(array)"
   ]
  },
  {
   "cell_type": "markdown",
   "id": "dd38c391",
   "metadata": {},
   "source": [
    "#### visualization\n",
    "\n",
    "[40,&emsp;&emsp;&emsp;20,&emsp;&emsp;&emsp;10,&emsp;&emsp;&emsp;5,&emsp;&emsp;&emsp;3]\n",
    "\n",
    "             outer\n",
    "inner"
   ]
  },
  {
   "cell_type": "markdown",
   "id": "c6e78bc8",
   "metadata": {},
   "source": [
    "---\n",
    "### Question-4 (Merge Sort);\n",
    "\n",
    "- Divide and Conquer based algorithm, i.e., the idea is to Divide, Conquer and Merge!\n",
    "- $\\Theta(n\\cdot log(n))$ time and $O(n)$ aux space in it's **typical** form;\n",
    "- This algorithm is **stable** (it is the responsibility of the **sort** function to ensure stability of the algo!);\n",
    "- Well suited for **linked-lists** and works in $O(1)$ aux space!\n",
    "- Well suited for external sorting, i.e., we can bring in parts of input to be sorted in RAM and sort them\n",
    "- For arrays, Merge Sort is outperformed by quick sort!\n",
    "- But still Merge Sort used in many standard library implementations."
   ]
  },
  {
   "cell_type": "markdown",
   "id": "ad5f8a31",
   "metadata": {},
   "source": [
    "#### Question-4.1 Given two *sorted* arrays, return the elements of both the arrays in sorted order;\n",
    "\n",
    "- I/P: [10, 15, 20], [5, 6, 6, 15]\n",
    "- O/P: [5, 6, 6, 10, 15, 15, 20]"
   ]
  },
  {
   "cell_type": "code",
   "execution_count": 4,
   "id": "1ffeb531",
   "metadata": {},
   "outputs": [
    {
     "name": "stdout",
     "output_type": "stream",
     "text": [
      "[5, 6, 6, 10, 15, 15, 20]\n"
     ]
    }
   ],
   "source": [
    "def merge(array1, array2):\n",
    "        \n",
    "    answer, pointer1, pointer2 = [], 0, 0\n",
    "    while (pointer1<=len(array1)-1) and (pointer2<=len(array2)-1):\n",
    "        \n",
    "        if array1[pointer1]<array2[pointer2]: # mind you this condition ensures the stibility of the sorting algo!\n",
    "            answer.append(array1[pointer1])\n",
    "            pointer1 += 1\n",
    "        else:\n",
    "            answer.append(array2[pointer2]) \n",
    "            pointer2 += 1\n",
    "\n",
    "    while pointer1<=len(array1)-1:\n",
    "        answer.append(array1[pointer1])\n",
    "        pointer1 += 1\n",
    "    \n",
    "    while pointer2<=len(array2)-1:\n",
    "        answer.append(array2[pointer2])\n",
    "        pointer2 += 1\n",
    "        \n",
    "    return answer    \n",
    "        \n",
    "print(merge([10, 15, 20], [5, 6, 6, 15]))"
   ]
  },
  {
   "cell_type": "markdown",
   "id": "c283c256",
   "metadata": {},
   "source": [
    "#### Question-4.2 Now, perform *merge-sort* on *any* input array (unsorted in this case)!"
   ]
  },
  {
   "cell_type": "code",
   "execution_count": 5,
   "id": "c14ccbd8",
   "metadata": {},
   "outputs": [
    {
     "name": "stdout",
     "output_type": "stream",
     "text": [
      "[10, 20, 20, 30, 40, 100, 200]\n"
     ]
    }
   ],
   "source": [
    "def merge_sort(array):\n",
    "    \n",
    "    if len(array)==1:\n",
    "        return array\n",
    "    \n",
    "    mid = len(array)//2\n",
    "    left = merge_sort(array[:mid])\n",
    "    right = merge_sort(array[mid:])     \n",
    "\n",
    "    return merge(left, right)\n",
    "        \n",
    "array = [100, 200, 10, 20, 40, 20, 30]\n",
    "#array = [2, 1]\n",
    "print(merge_sort(array))"
   ]
  },
  {
   "cell_type": "markdown",
   "id": "79e9cc0a",
   "metadata": {},
   "source": [
    "### Analysis (Time & Space complexity of Merge Sort): \n",
    "- Trace the recursion tree\n",
    "- Find the work done at each level of the recursion tree\n",
    "- and add the work done at each level of the recursion tree!\n",
    "\n",
    "- Each level takes $\\Theta(n)$ time, but then there are a total of $\\log(n)$\n",
    "- Overall time complexity is $\\Theta(n \\cdot log(n))$\n",
    "- The space complexity is $\\Theta(n)$ (extra list for merging lists) + $\\mathcal{O}(log(n))$ recursion call stack\n",
    "----"
   ]
  },
  {
   "cell_type": "markdown",
   "id": "2b0770c2",
   "metadata": {},
   "source": [
    "- ### Some questions where merge sort can be potentially used!"
   ]
  },
  {
   "cell_type": "markdown",
   "id": "4e164621",
   "metadata": {},
   "source": [
    "### Question-5: (Intersection of two sorted arrays such that **no** duplicates occur in result);\n",
    "\n",
    "- I/P: [3, 5, 10, 10, 10, 15, 15, 20], [5, 10, 10, 15, 30]\n",
    "- O/P: [5, 10, 15]\n",
    "\n",
    "\n",
    "- I/P: [1, 1, 3, 3, 3], [1, 1, 1, 1, 3, 5, 7]\n",
    "- O/P: [1, 3]"
   ]
  },
  {
   "cell_type": "code",
   "execution_count": 6,
   "id": "9fa0b8e0",
   "metadata": {},
   "outputs": [
    {
     "name": "stdout",
     "output_type": "stream",
     "text": [
      "[5, 10, 15]\n",
      "[1, 3]\n"
     ]
    }
   ],
   "source": [
    "def intersection(array1, array2):\n",
    "\n",
    "    answer, p1, p2 = [], 0, 0\n",
    "    while (p1<=len(array1)-1) and (p2<=len(array2)-1):\n",
    "        if p1>0 and array1[p1]==array1[p1-1]:\n",
    "            p1 += 1\n",
    "            continue    \n",
    "        if array1[p1]<array2[p2]:\n",
    "            p1+=1\n",
    "        elif array1[p1]>array2[p2]:\n",
    "            p2+=1\n",
    "        else:\n",
    "            answer.append(array1[p1])\n",
    "            p1+=1\n",
    "            p2+=1\n",
    "      \n",
    "    return answer\n",
    "\n",
    "print(intersection([3, 5, 10, 10, 10, 15, 15, 20], [5, 10, 10, 15, 30]))\n",
    "print(intersection([1, 1, 3, 3, 3], [1, 1, 1, 1, 3, 5, 7]))"
   ]
  },
  {
   "cell_type": "markdown",
   "id": "8d5b90c7",
   "metadata": {},
   "source": [
    "- Time complexity: $\\Theta(n + m)$ \n",
    "- Space complexity: $O(1)$ "
   ]
  },
  {
   "cell_type": "markdown",
   "id": "993dc0bf",
   "metadata": {},
   "source": [
    "### Question-6: (Union of two sorted arrays such that no duplicates occur in the result);\n",
    "\n",
    "- I/P: [3, 5, 8], [2, 8, 9, 10, 15]\n",
    "- O/P: [2, 3, 5, 8, 9, 10, 15]\n",
    "\n",
    "\n",
    "- I/P: [2, 3, 3, 3, 4, 4], [4, 4]\n",
    "- O/P: [2, 3, 4]"
   ]
  },
  {
   "cell_type": "code",
   "execution_count": 7,
   "id": "0369b382",
   "metadata": {},
   "outputs": [
    {
     "name": "stdout",
     "output_type": "stream",
     "text": [
      "[2, 3, 5, 8, 9, 10, 15]\n",
      "[2, 3, 4]\n"
     ]
    }
   ],
   "source": [
    "def union(array1, array2):\n",
    "    \n",
    "    p1, p2, answer = 0, 0, []\n",
    "    \n",
    "    while (p1<=len(array1)-1) and (p2<=len(array2)-1):\n",
    "        \n",
    "        if p1>0 and array1[p1]==array1[p1-1]:\n",
    "            p1+=1\n",
    "            continue\n",
    "        if p2>0 and array2[p2]==array2[p2-1]:\n",
    "            p2+=1\n",
    "            continue\n",
    "            \n",
    "        if array1[p1]<array2[p2]:\n",
    "            answer.append(array1[p1])\n",
    "            p1+=1\n",
    "        elif array1[p1]>array2[p2]:\n",
    "            answer.append(array2[p2])\n",
    "            p2+=1\n",
    "        else:\n",
    "            answer.append(array1[p1])\n",
    "            p1+=1\n",
    "            p2+=1\n",
    "            \n",
    "    while p1<=len(array1)-1:\n",
    "        if p1>0 and array1[p1]!=array1[p1-1]: \n",
    "            answer.append(array1[p1])\n",
    "        p1+=1\n",
    "        \n",
    "    while p2<=len(array2)-1:\n",
    "        if p2>0 and array2[p2]!=array2[p2-1]: \n",
    "            answer.append(array2[p2])\n",
    "        p2+=1\n",
    "\n",
    "    return answer   \n",
    "    \n",
    "print(union([3, 5, 8], [2, 8, 9, 10, 15])) \n",
    "print(union([2, 3, 3, 3, 4, 4], [4, 4])) "
   ]
  },
  {
   "cell_type": "markdown",
   "id": "a4a786e1",
   "metadata": {},
   "source": [
    "- Time complexity: $\\Theta(n + m)$ \n",
    "- Space complexity: $O(1)$ "
   ]
  },
  {
   "cell_type": "markdown",
   "id": "116b775f",
   "metadata": {},
   "source": [
    "### Question-7: (Count inversion in Array); \n",
    "\n",
    "An inversion for two elements arr[i], arr[j] is defined as:\n",
    "-     i  <      j\n",
    "- arr[i] > arra[j]\n",
    "---\n",
    "\n",
    "- I/P: [2, 4, 1, 3, 5]\n",
    "- O/P: 3\n",
    "\n",
    "\n",
    "- I/P: [10, 20, 30, 40]\n",
    "- O/P: 0\n",
    "    \n",
    "    \n",
    "- I/P: [40, 30, 20, 10]\n",
    "- O/P: 6"
   ]
  },
  {
   "cell_type": "code",
   "execution_count": 8,
   "id": "5223511e",
   "metadata": {},
   "outputs": [
    {
     "name": "stdout",
     "output_type": "stream",
     "text": [
      "3\n",
      "0\n",
      "6\n",
      " \n",
      "3\n",
      "0\n",
      "6\n",
      " \n",
      "([1, 2, 3, 4, 5], 3)\n",
      "([10, 20, 30, 40], 0)\n",
      "([10, 20, 30, 40], 6)\n"
     ]
    }
   ],
   "source": [
    "# theta(n^2) time, O(1) space;\n",
    "def naive_solution(array):\n",
    "    count = 0\n",
    "    n = len(array)\n",
    "    for i in range(n-1):\n",
    "        for j in range(i+1, n):\n",
    "            if array[i] > array[j]:\n",
    "                count += 1\n",
    "                \n",
    "    return count\n",
    "\n",
    "print(naive_solution([2, 4, 1, 3, 5]))\n",
    "print(naive_solution([10, 20, 30, 40]))\n",
    "print(naive_solution([40, 30, 20, 10]))\n",
    "\n",
    "\n",
    "print(\" \")\n",
    "\n",
    "\n",
    "# Order(n^2) time, O(1) space; \n",
    "# Recognizing that the inversion refers to the number of swapss needed in bubble sort!\n",
    "def better_solution(array):\n",
    "    count = 0\n",
    "    for numPasses in range(len(array)-1):\n",
    "        swaps = False \n",
    "        for innerIndex in range(len(array)-(1+numPasses)):\n",
    "            if array[innerIndex] > array[innerIndex+1]:\n",
    "                array[innerIndex], array[innerIndex+1] = array[innerIndex+1], array[innerIndex]\n",
    "                swaps = True\n",
    "                count += 1\n",
    "        if swaps == False:\n",
    "            break\n",
    "    return count  \n",
    "\n",
    "print(better_solution([2,   4,  1,  3,  5]))\n",
    "print(better_solution([10, 20, 30, 40]))\n",
    "print(better_solution([40, 30, 20, 10]))\n",
    "\n",
    "\n",
    "print(\" \")\n",
    "\n",
    "\n",
    "# Theta(n*logn) time, O(n) space; \n",
    "# The idea is to use ideas from merge sort in order to come up with an answer!\n",
    "\n",
    "def merge_for_inversion(array1, array2):\n",
    "    p1, p2 = 0, 0\n",
    "    answer, count = [], 0\n",
    "    \n",
    "    while p1<=len(array1)-1 and p2<=len(array2)-1:\n",
    "        if array1[p1]>array2[p2]:\n",
    "            answer.append(array2[p2])\n",
    "            p2 += 1\n",
    "            count += len(array1)-p1\n",
    "        elif array1[p1]<array2[p2]:\n",
    "            answer.append(array1[p1])\n",
    "            p1 += 1\n",
    "        else:\n",
    "            answer.append(array1[p1])\n",
    "            p1 += 1\n",
    "            p2 += 1\n",
    "                                \n",
    "    while p1<=len(array1)-1:\n",
    "        answer.append(array1[p1])\n",
    "        p1 += 1\n",
    "        \n",
    "    while p2<=len(array2)-1:\n",
    "        answer.append(array2[p2])\n",
    "        p2 += 1\n",
    "            \n",
    "    return (answer, count)   \n",
    "\n",
    "def even_better_solution(array):\n",
    "    if len(array) <= 1:\n",
    "        return (array, 0)\n",
    "    \n",
    "    mid = len(array)//2\n",
    "    leftBundle = even_better_solution(array[:mid])\n",
    "    rightBundle = even_better_solution(array[mid:])\n",
    "    \n",
    "    overallBundle = merge_for_inversion(leftBundle[0], rightBundle[0])\n",
    "    return (overallBundle[0], overallBundle[1] + leftBundle[1] + rightBundle[1])\n",
    "\n",
    "\n",
    "print(even_better_solution([2,   4,  1,  3,  5]))\n",
    "print(even_better_solution([10, 20, 30, 40]))\n",
    "print(even_better_solution([40, 30, 20, 10]))"
   ]
  },
  {
   "cell_type": "markdown",
   "id": "03625656",
   "metadata": {},
   "source": [
    "---\n",
    "### Next, setting up the ground requirements for Quick Sort through a series of questions!"
   ]
  },
  {
   "cell_type": "markdown",
   "id": "d7b39353",
   "metadata": {},
   "source": [
    "### Question-8.1; (Partitions: Given an array and an index in this array, bring all the elements less than arr[index] to the left and send all the elements greater than arr[index] to the right and also return the last occurrance of the pivot element. The left and right elements can be in any order). \n",
    "\n",
    "- I/P: [3, 8, 6, 12, 10, 7], 5\n",
    "- O/P: [3, 6, 7, 8, 12, 10] or [6, 3, 7, 8, 12, 10]\n",
    "\n",
    "\n",
    "### Partition Function can be of two types:\n",
    "- Stability\n",
    "    - Naive method (inefficient but has an advantage of stability)\n",
    "- Un-stable\n",
    "    - Lomuto partition\n",
    "    - Hoare partition"
   ]
  },
  {
   "cell_type": "code",
   "execution_count": 9,
   "id": "bbbabe43",
   "metadata": {
    "scrolled": true
   },
   "outputs": [
    {
     "name": "stdout",
     "output_type": "stream",
     "text": [
      "deque([6, 3, 7, 8, 12, 10])\n",
      " \n",
      "3\n",
      "[3, 7, 7, 7, 8]\n"
     ]
    }
   ],
   "source": [
    "# this is theta(n) but un-stable!\n",
    "from collections import deque\n",
    "\n",
    "def deque_partition(array, index):\n",
    "    item = array[index]\n",
    "    answer = deque([item])\n",
    "    for i in range(len(array)):\n",
    "        if i!=index:\n",
    "            if array[i] <= item:\n",
    "                answer.appendleft(array[i])\n",
    "            else:\n",
    "                answer.append(array[i])       \n",
    "    return answer\n",
    "array, index = [3, 8, 6, 12, 10, 7], 5\n",
    "print(deque_partition(array, index))\n",
    "\n",
    "print(\" \")\n",
    "\n",
    "# theta(n) : time complexity\n",
    "# theta(n) : space complexity\n",
    "# inefficient but stable, requires multiple passes throught the array!\n",
    "def naive_partition(array, low, high):\n",
    "    answer, lastIndex = [], 0\n",
    "    pivot = low\n",
    "    # find the smaller elements!\n",
    "    for index in range(low, high+1):\n",
    "        if array[index] < array[pivot]:\n",
    "            answer.append(array[index])\n",
    "            \n",
    "    # find the equal elements to ensure stability!  \n",
    "    for index in range(low, high+1):\n",
    "         if array[index] == array[pivot]:\n",
    "            answer.append(array[index])\n",
    "            \n",
    "    lastIndex = len(answer)-1        \n",
    "    \n",
    "    # find the larger elements!\n",
    "    for index in range(low, high+1):\n",
    "         if array[index] > array[pivot]:   \n",
    "            answer.append(array[index])\n",
    "    \n",
    "    for index in range(len(array)):\n",
    "        array[low+index] = answer[index]\n",
    "        \n",
    "    return lastIndex        \n",
    "    \n",
    "# array, pivot = [9, 7, 8, 3, 7], 1\n",
    "# array = [3, 8, 6, 12, 10, 7][::-1] \n",
    "array = [7, 7, 8, 3, 7]\n",
    "print(naive_partition(array, 0, len(array)-1))\n",
    "print(array)"
   ]
  },
  {
   "cell_type": "markdown",
   "id": "e03eadde",
   "metadata": {},
   "source": [
    "### Lomuto partition: \n",
    "- $\\Theta(n)$ time, $\\mathcal{O}(1)$ space\n",
    "- Choose the pivot to be the **last** element\n",
    "- The most intuitive thing to do!\n",
    "\n",
    "There are two ways to implement this approach:\n",
    "- First:\n",
    "    - Using the while loop\n",
    "- Second:\n",
    "    - Using the for loop"
   ]
  },
  {
   "cell_type": "code",
   "execution_count": 10,
   "id": "637a5b3c",
   "metadata": {},
   "outputs": [
    {
     "name": "stdout",
     "output_type": "stream",
     "text": [
      "partition: 7, input: [7, 3, 8, 6, 12, 10, 7], index: 3, output: [7, 3, 6, 7, 10, 8, 12]\n",
      "partition: 6, input: [7, 6], index: 0, output: [6, 7]\n",
      "partition: 14, input: [5, 6, 7, 8, 9, 10, 11, 12, 13, 14], index: 9, output: [5, 6, 7, 8, 9, 10, 11, 12, 13, 14]\n",
      "partition: 12, input: [5, 10, 9, 12], index: 3, output: [5, 10, 9, 12]\n",
      "partition: 9, input: [12, 10, 5, 9], index: 1, output: [5, 9, 12, 10]\n",
      "partition: 5, input: [5, 5, 5, 5, 5], index: 4, output: [5, 5, 5, 5, 5]\n",
      "\n",
      "partition: 7, input: [7, 3, 8, 6, 12, 10, 7], index: 2, output: [3, 6, 7, 7, 12, 10, 8]\n",
      "partition: 6, input: [7, 6], index: 0, output: [6, 7]\n",
      "partition: 14, input: [5, 6, 7, 8, 9, 10, 11, 12, 13, 14], index: 9, output: [5, 6, 7, 8, 9, 10, 11, 12, 13, 14]\n",
      "partition: 12, input: [5, 10, 9, 12], index: 3, output: [5, 10, 9, 12]\n",
      "partition: 9, input: [12, 10, 5, 9], index: 1, output: [5, 9, 12, 10]\n",
      "partition: 5, input: [5, 5, 5, 5, 5], index: 0, output: [5, 5, 5, 5, 5]\n"
     ]
    }
   ],
   "source": [
    "def output_lomuto_while(array):\n",
    "    print(f\"partition: {array[-1]}, input: {array}, index: {lomuto_parition_while_loop(array)}, output: {array}\")\n",
    "    \n",
    "def output_lomuto_for(array):\n",
    "    print(f\"partition: {array[-1]}, input: {array}, index: {lomuto_parition_for_loop(array)}, output: {array}\")\n",
    "\n",
    "def lomuto_parition_while_loop(array, low=None, high=None):\n",
    "    if low is not None and high is not None:\n",
    "        i, j, pivot = low, high-1, high\n",
    "    else:\n",
    "        n = len(array)\n",
    "        i, j, pivot = 0, n-2, n-1\n",
    "\n",
    "    while i <= j:\n",
    "        if array[i] <= array[pivot]:\n",
    "            i += 1\n",
    "        else:\n",
    "            array[i], array[j] = array[j], array[i]\n",
    "            j -= 1 \n",
    "    \n",
    "    array[i], array[pivot] =  array[pivot], array[i]\n",
    "    return i\n",
    "\n",
    "array = [7, 3, 8, 6, 12, 10, 7]\n",
    "output_lomuto_while(array)\n",
    "\n",
    "array = [7, 6]  \n",
    "output_lomuto_while(array)\n",
    "\n",
    "array = [5, 6, 7, 8, 9, 10, 11, 12, 13, 14]  \n",
    "output_lomuto_while(array)\n",
    "\n",
    "# corner cases-2\n",
    "array = [5, 10, 9, 12]  \n",
    "output_lomuto_while(array)\n",
    "\n",
    "# corner cases-1\n",
    "array = [12, 10, 5, 9]  \n",
    "output_lomuto_while(array)\n",
    "\n",
    "# proving that it is not stable!\n",
    "array = [5, 5, 5, 5, 5]  \n",
    "output_lomuto_while(array)\n",
    "\n",
    "print(\"\")\n",
    "\n",
    "# another way to implement which is also applicable to other problems\n",
    "def lomuto_parition_for_loop(array):\n",
    "    i, j = -1, 0\n",
    "    n = len(array)\n",
    "    pivot = n-1\n",
    "    \n",
    "    for j in range(n-1):\n",
    "        if array[j] < array[pivot]:\n",
    "            i += 1\n",
    "            array[j], array[i] = array[i], array[j]\n",
    "    array[i+1], array[pivot] = array[pivot], array[i+1]\n",
    "    return i+1\n",
    "        \n",
    "array = [7, 3, 8, 6, 12, 10, 7]\n",
    "output_lomuto_for(array)\n",
    "\n",
    "array = [7, 6]  \n",
    "output_lomuto_for(array)\n",
    "\n",
    "array = [5, 6, 7, 8, 9, 10, 11, 12, 13, 14]  \n",
    "output_lomuto_for(array)\n",
    "\n",
    "# corner cases-2\n",
    "array = [5, 10, 9, 12]  \n",
    "output_lomuto_for(array)\n",
    "\n",
    "# corner cases-1\n",
    "array = [12, 10, 5, 9]  \n",
    "output_lomuto_for(array)\n",
    "\n",
    "# proving that it is not stable!\n",
    "array = [5, 5, 5, 5, 5]  \n",
    "output_lomuto_for(array)"
   ]
  },
  {
   "cell_type": "markdown",
   "id": "5b670a52",
   "metadata": {},
   "source": [
    "### Hoare partition: \n",
    "- $\\Theta(n)$ time, $\\mathcal{O}(1)$ space\n",
    "- Choose the pivot to be the first element\n",
    "- Start two counters $i$ (just after the pivot) and $j$ (the last element)\n",
    "- increment $i$ until you find the element that is **greater than to the pivot**\n",
    "- decrement $j$ until you find something that is **lesser than equal to the pivot**"
   ]
  },
  {
   "cell_type": "code",
   "execution_count": 11,
   "id": "793404a7",
   "metadata": {},
   "outputs": [
    {
     "name": "stdout",
     "output_type": "stream",
     "text": [
      "3\n",
      "[6, 3, 7, 7, 12, 10, 8]\n",
      "1\n",
      "[6, 7]\n",
      "0\n",
      "[5, 6, 7, 8, 9, 10, 11, 12, 13, 14]\n",
      "0\n",
      "[5, 10, 9, 12]\n",
      "3\n",
      "[9, 10, 5, 12]\n",
      "4\n",
      "[5, 5, 5, 5, 5]\n"
     ]
    }
   ],
   "source": [
    "def hoare_partition(arr, low, high):\n",
    "    pivot = arr[low]\n",
    "    i = low + 1\n",
    "    j = high\n",
    "    done = False\n",
    "    while not done:\n",
    "        while i <= j and arr[i] <= pivot:\n",
    "            i += 1\n",
    "        while arr[j] > pivot and j >= i:\n",
    "            j -= 1\n",
    "        if j < i:\n",
    "            done= True\n",
    "        else:\n",
    "            arr[i], arr[j] = arr[j], arr[i]\n",
    "            \n",
    "    arr[low], arr[j] = arr[j], arr[low]\n",
    "    return j\n",
    "        \n",
    "array = [7, 3, 8, 6, 12, 10, 7]  \n",
    "print(hoare_partition(array, 0, len(array)-1))\n",
    "print(array)\n",
    "\n",
    "array = [7, 6]  \n",
    "print(hoare_partition(array, 0, len(array)-1))\n",
    "print(array)\n",
    "\n",
    "array = [5, 6, 7, 8, 9, 10, 11, 12, 13, 14]  \n",
    "print(hoare_partition(array, 0, len(array)-1))\n",
    "print(array)\n",
    "\n",
    "# corner cases-2\n",
    "array = [5, 10, 9, 12]  \n",
    "print(hoare_partition(array, 0, len(array)-1))\n",
    "print(array)\n",
    "\n",
    "# corner cases-1\n",
    "array = [12, 10, 5, 9]  \n",
    "print(hoare_partition(array, 0, len(array)-1))\n",
    "print(array)\n",
    "\n",
    "# proving that it is not stable!\n",
    "array = [5, 5, 5, 5, 5]  \n",
    "print(hoare_partition(array, 0, len(array)-1))\n",
    "print(array)"
   ]
  },
  {
   "cell_type": "markdown",
   "id": "3f54963c",
   "metadata": {},
   "source": [
    "### Question-8.2 (Quick Sort);\n",
    "\n",
    "- Divide and Conquer based algorithm, i.e., the idea is to Divide, Conquer and Merge!\n",
    "    - In Merge sort, the two lists are of half sizes but in quick sort, they may not be of half sizes since it depends on which index is the paritition on!\n",
    "- Worst case we have $\\mathcal{O}(n^2)$ but on average it is $\\mathcal{O}(n\\cdot log(n))$\n",
    "- Despite the $\\mathcal{O}(n^2)$ in the worst case, it is considered faster:\n",
    "    - In-place (Well, depends on the partition algorithm frankly speaking but for Lomuto & Hoare it is indeed inplace!)\n",
    "    - Cache Friendly\n",
    "    - Average case is $\\mathcal{O}(n\\cdot log(n))$\n",
    "    - Tail Recursive algorithm (recursive call as the last thing then tail recursive) and so, can be optimized!"
   ]
  },
  {
   "cell_type": "code",
   "execution_count": 12,
   "id": "389ec93b",
   "metadata": {},
   "outputs": [
    {
     "name": "stdout",
     "output_type": "stream",
     "text": [
      "[10, 20, 20, 30, 40, 100, 100, 101, 102, 103, 104, 105, 106, 107, 108, 109, 200]\n",
      "\n",
      "[0, 10, 10, 20, 20, 20, 30, 40, 100, 100, 101, 102, 103, 104, 105, 106, 107, 108, 109, 200]\n",
      " \n"
     ]
    }
   ],
   "source": [
    "def quick_sort_hoare_partition(array, low, high):\n",
    "    if low>=high:\n",
    "        return \n",
    "    \n",
    "    pivot = hoare_partition(array, low, high)\n",
    "    quick_sort_hoare_partition(array, low, pivot-1)\n",
    "    quick_sort_hoare_partition(array, pivot+1, high)\n",
    "    \n",
    "array = [100, 200, 10, 20, 40, 20, 30] + [index for index in range(100, 110)]\n",
    "#array = [2, 1]\n",
    "quick_sort_hoare_partition(array, 0, len(array)-1)\n",
    "print(array)\n",
    "\n",
    "print(\"\")\n",
    "\n",
    "def quick_sort_lomuto_while_partition(array, low, high):\n",
    "    if low>=high:\n",
    "        return \n",
    "    \n",
    "    pivot = lomuto_parition_while_loop(array, low, high)\n",
    "    quick_sort_lomuto_while_partition(array, low, pivot-1)\n",
    "    quick_sort_lomuto_while_partition(array, pivot+1, high)\n",
    "\n",
    "array = [100, 200, 10, 20, 40, 20, 30, 10, 20, 0] + [index for index in range(100, 110)]\n",
    "#array = [2, 1]\n",
    "quick_sort_lomuto_while_partition(array, 0, len(array)-1)\n",
    "print(array)\n",
    "\n",
    "print(\" \")\n",
    "\n",
    "def quick_sort_naive_partition(array, low, high):\n",
    "    if low>=high:\n",
    "        return \n",
    "    \n",
    "    pivot = naive_partition(array, low, high)\n",
    "    quick_sort_naive_partition(array, low, pivot-1)\n",
    "    quick_sort_naive_partition(array, pivot+1, high)\n",
    "    \n",
    "array = [100, 200, 10, 20, 40, 20, 30]\n",
    "# array = [2, 1]\n",
    "#quick_sort_naive_partition(array, 0, len(array)-1)\n",
    "#print(array)"
   ]
  },
  {
   "cell_type": "markdown",
   "id": "8a8d66a3",
   "metadata": {},
   "source": [
    "### Analysis (Time and Space complexity of Quick Sort): \n",
    "- Trace the recursion tree\n",
    "\n",
    "- Find the work done at each level of the recursion tree\n",
    "\n",
    "- Add the work done at each level of the recursion tree!\n",
    "\n",
    "- The time that each level takes depends on how the parititons are generated (which depends if the array is sorted or not)\n",
    "\n",
    "- If array is not sorted (best case), then all the pivots are expected to be in middle and so each partition results in a half ($\\log(n)$ tree depth).\n",
    "\n",
    "- If array is sorted (mono-decreasing or mono-increasing), then extreme direction pivots will lead to  $\\mathcal{O}(n)$ partitions (tree depth). Coz, both the Hoare's partition picks first element as the pivot.\n",
    "\n",
    "- Can you make HOARE'S PARTITION EFFICIENT WITHOUT 2 LINES OF CODE?\n",
    "\n",
    "- Overall time complexity is $\\mathcal{O}(n \\cdot log(n))$\n",
    "- The space complexity is number of levels in the recursion tree $\\mathcal{O}(log(n))$ in the best case and $\\mathcal{O}(n)$ in the worst case.\n",
    "----"
   ]
  },
  {
   "cell_type": "markdown",
   "id": "1737b7f5",
   "metadata": {},
   "source": [
    "- ### Some questions where ideas from quick-sort can be potentially used!\n",
    "\n",
    "    - First idea is that, in the first pass of partitioning, one of the elements is always at it correct position. \n",
    "    - As a result, we can compare and take action accordingly (similar to boinary search)!"
   ]
  },
  {
   "cell_type": "markdown",
   "id": "4cea3519",
   "metadata": {},
   "source": [
    "### Question-9: $K^{\\rm th}$ smallest element in an array of distinct element: (are modification to the input array allowed?)\n",
    "\n",
    "I/P : [10, 5, 30, 12], K=2\n",
    "O/P : 10\n",
    "\n",
    "I/P : [30, 20, 5, 10, 8], K=4\n",
    "O/P : 20 "
   ]
  },
  {
   "cell_type": "code",
   "execution_count": 13,
   "id": "cb45782b",
   "metadata": {},
   "outputs": [
    {
     "name": "stdout",
     "output_type": "stream",
     "text": [
      "10\n",
      "20\n",
      "11\n"
     ]
    }
   ],
   "source": [
    "# theta(n*k) time with \n",
    "# theta(1) space\n",
    "def kth_smallest(array, K):\n",
    "    \n",
    "    for numPasses in range(K):\n",
    "        for innerIndex in range(len(array)-(1+numPasses)):\n",
    "            if array[innerIndex] < array[innerIndex+1]:\n",
    "                array[innerIndex], array[innerIndex+1] = array[innerIndex+1], array[innerIndex]\n",
    "                \n",
    "    return array[-K]\n",
    "\n",
    "array, K = [10, 5, 30, 12], 2\n",
    "print(kth_smallest(array, K))\n",
    "\n",
    "array, K = [30, 20, 5, 10, 8], 4\n",
    "print(kth_smallest(array, K))\n",
    "\n",
    "array, K = [12, 4, 5, 8, 11, 6, 26], 5\n",
    "print(kth_smallest(array, K))"
   ]
  },
  {
   "cell_type": "markdown",
   "id": "2475c782",
   "metadata": {},
   "source": [
    "### Let's have a look at the quick select algorithm for the same problem (assuming distinct elements)!"
   ]
  },
  {
   "cell_type": "code",
   "execution_count": 14,
   "id": "1466d5f7",
   "metadata": {},
   "outputs": [
    {
     "name": "stdout",
     "output_type": "stream",
     "text": [
      "1 6\n",
      "3 20\n",
      "6 26\n"
     ]
    }
   ],
   "source": [
    "# theta(n) average case, O(n^2) worst case\n",
    "# theta(1) space\n",
    "def quick_select(array, K):\n",
    "    left, right = 0, len(array)-1\n",
    "    \n",
    "    while left<=right:\n",
    "        pivotIndex = hoare_partition(array, left, right)\n",
    "        \n",
    "        if pivotIndex==K-1:\n",
    "            return pivotIndex\n",
    "        elif pivotIndex>K-1:\n",
    "            right = pivotIndex-1\n",
    "        else:\n",
    "            left = pivotIndex + 1\n",
    "    \n",
    "    return -1\n",
    "\n",
    "array, K = [10, 5, 6, 30, 12], 2\n",
    "index = quick_select(array, K)\n",
    "print(index, array[index])\n",
    "\n",
    "array, K = [30, 20, 5, 10, 8], 4\n",
    "index = quick_select(array, K)\n",
    "print(index, array[index])\n",
    "\n",
    "array, K = [12, 4, 5, 8, 11, 6, 26], 7\n",
    "index = quick_select(array, K)\n",
    "print(index, array[index])"
   ]
  },
  {
   "cell_type": "markdown",
   "id": "c46ce4a3",
   "metadata": {},
   "source": [
    "### Question-11: Chocolate Distribution Problem\n",
    "\n",
    "- I/P : arr = [7, 3, 2, 4, 9, 12, 56], m=3\n",
    "- O/P : 2\n",
    "\n",
    "\n",
    "- I/P : arr = [3, 4, 1, 9, 56, 7, 9, 12], m=5\n",
    "- O/P : 6"
   ]
  },
  {
   "cell_type": "code",
   "execution_count": 15,
   "id": "2fea6664",
   "metadata": {},
   "outputs": [
    {
     "name": "stdout",
     "output_type": "stream",
     "text": [
      "2\n",
      "6\n"
     ]
    }
   ],
   "source": [
    "# sliding window technique!\n",
    "def chocolate_distribution(array, k):\n",
    "    array = sorted(array)\n",
    "    left, right, answer = 0, 0, float(\"inf\")\n",
    "    currMin, currMax = float(\"inf\"), float(\"-inf\") \n",
    "    \n",
    "    while right<len(array):\n",
    "        currMin = min(currMin, array[right])\n",
    "        currMax = max(currMax, array[right])\n",
    "        \n",
    "        if right-left+1<k:\n",
    "            right += 1\n",
    "        elif right-left+1==k:\n",
    "            answer = min(answer, currMax-currMin)\n",
    "            \n",
    "            currMin = array[left+1]\n",
    "            \n",
    "            left += 1\n",
    "            right += 1\n",
    "            \n",
    "    return answer\n",
    "\n",
    "array, K = [7, 3, 2, 4, 9, 12, 56], 3\n",
    "print(chocolate_distribution(array, K))\n",
    "\n",
    "array, K = [3, 4, 1, 9, 56, 7, 9, 12], 5\n",
    "print(chocolate_distribution(array, K))"
   ]
  },
  {
   "cell_type": "markdown",
   "id": "b5fff5ed",
   "metadata": {},
   "source": [
    "### Question-12: Sort array with two types of elements!\n",
    "\n",
    "This question is asked in different forms such as the following:\n",
    "\n",
    "    1. Segregate positive and negative elemnts in the array!\n",
    "    - I/P : [15, -3, -2, 18]\n",
    "    - O/P : [-3, -2, 15, 18]\n",
    "\n",
    "\n",
    "    2. Segregate even and odd elements in the array!\n",
    "    - I/P : [15, 14, 13, 12]\n",
    "    - O/P : [14, 12, 15, 13]\n",
    "\n",
    "\n",
    "    3. Sort a binary array!\n",
    "    - I/P : [0, 1, 1, 1, 0]\n",
    "    - O/P : [0, 0, 1, 1, 1]\n",
    "    \n",
    "### This question is mainly a variation of the partition function of quick sort!!!!"
   ]
  },
  {
   "cell_type": "code",
   "execution_count": 16,
   "id": "199f76e4",
   "metadata": {},
   "outputs": [
    {
     "name": "stdout",
     "output_type": "stream",
     "text": [
      "[-4, -3, -2, -18]\n",
      " \n",
      "[12, 14, 13, 15]\n",
      " \n",
      "[0, 0, 1, 1, 1]\n"
     ]
    }
   ],
   "source": [
    "def hoare_partition_for_two_types_parity(nums):\n",
    "    left, right = 0, len(nums)-1\n",
    "    while True:\n",
    "        while left+1<=len(nums)-1 and nums[left]<0:\n",
    "            left += 1\n",
    "        while right-1>=0 and nums[right]>0:\n",
    "            right -= 1\n",
    "            \n",
    "        if left>=right: return \n",
    "        nums[left], nums[right] = nums[right], nums[left]\n",
    "\n",
    "nums = [15, -3, -2, 18]\n",
    "nums = [-4, -3, -2, -18]\n",
    "hoare_partition_for_two_types_parity(nums)\n",
    "print(nums)\n",
    "\n",
    "print(\" \")\n",
    "\n",
    "def hoare_partition_for_two_types_eve_odd(nums):\n",
    "    left, right = 0, len(nums)-1\n",
    "    while True:\n",
    "        while left+1<=len(nums)-1 and nums[left]%2==0:\n",
    "            left += 1\n",
    "        while right-1>=0 and nums[right]%2!=0:\n",
    "            right -= 1\n",
    "            \n",
    "        if left>=right: return \n",
    "        nums[left], nums[right] = nums[right], nums[left]\n",
    "\n",
    "nums = [15, 14, 13, 12]\n",
    "hoare_partition_for_two_types_eve_odd(nums)\n",
    "print(nums)\n",
    "\n",
    "print(\" \")\n",
    "\n",
    "def hoare_partition_for_two_types_binary_array(nums):\n",
    "    left, right = 0, len(nums)-1\n",
    "    while True:\n",
    "        while left+1<=len(nums)-1 and nums[left]==0:\n",
    "            left += 1\n",
    "        while right-1>=0 and nums[right]!=0:\n",
    "            right -= 1\n",
    "            \n",
    "        if left>=right: return \n",
    "        nums[left], nums[right] = nums[right], nums[left]\n",
    "\n",
    "nums = [0, 1, 1, 1, 0]\n",
    "hoare_partition_for_two_types_eve_odd(nums)\n",
    "print(nums)"
   ]
  },
  {
   "cell_type": "code",
   "execution_count": 17,
   "id": "cacb3cc8",
   "metadata": {},
   "outputs": [
    {
     "name": "stdout",
     "output_type": "stream",
     "text": [
      "[-2, -3, 18, 15]\n",
      " \n",
      "[10, 12, 30, 55, 67, 57, 99, 5]\n",
      " \n",
      "[0, 0, 1, 1, 1]\n"
     ]
    }
   ],
   "source": [
    "# Alternate algorithm but similar complexity!\n",
    "\n",
    "def sort_by_negative(nums):\n",
    "    beg, end = 0, len(nums) - 1\n",
    "    while beg <= end:\n",
    "        if nums[beg] < 0:\n",
    "            beg += 1\n",
    "        else:\n",
    "            nums[beg], nums[end] = nums[end], nums[beg]\n",
    "            end -= 1   \n",
    "\n",
    "nums = [15, -3, -2, 18]\n",
    "sort_by_negative(nums)\n",
    "print(nums)\n",
    "\n",
    "\n",
    "print(\" \")\n",
    "\n",
    "\n",
    "def sort_by_parity(nums):\n",
    "    beg, end = 0, len(nums) - 1\n",
    "    while beg <= end:\n",
    "        if nums[beg] % 2 == 0:\n",
    "            beg += 1\n",
    "        else:\n",
    "            nums[beg], nums[end] = nums[end], nums[beg]\n",
    "            end -= 1   \n",
    "\n",
    "nums = [10, 5, 30, 12, 55, 67, 57, 99]\n",
    "sort_by_parity(nums)\n",
    "print(nums)\n",
    "\n",
    "\n",
    "print(\" \")\n",
    "\n",
    "\n",
    "def sort_binary(nums):\n",
    "    beg, end = 0, len(nums) - 1\n",
    "    while beg <= end:\n",
    "        if nums[beg] == 0:\n",
    "            beg += 1\n",
    "        else:\n",
    "            nums[beg], nums[end] = nums[end], nums[beg]\n",
    "            end -= 1   \n",
    "\n",
    "nums = [0, 1, 1, 1, 0]\n",
    "sort_by_parity(nums)\n",
    "print(nums)"
   ]
  },
  {
   "cell_type": "markdown",
   "id": "577c4c02",
   "metadata": {},
   "source": [
    "### Question-13: Sort array with three types of elements!\n",
    "\n",
    "This question is asked in different forms such as the following:\n",
    "\n",
    "    1. Sort arrays of 0's, 1's, 2's;\n",
    "    - I/P : [0, 1, 0, 2, 1, 2]\n",
    "    - O/P : [0, 0, 1, 1, 2, 2]\n",
    "\n",
    "\n",
    "    2. Three way partitioning (all pivots should come togther and then we can make a decision!)\n",
    "    - I/P : [2, 1, 2, 20, 10, 20, 1], pivot = 2\n",
    "    - O/P : [1, 1, 2, 2, 20, 10, 20]\n",
    "\n",
    "\n",
    "    3. Parition around a range, range = [5, 10]\n",
    "    - I/P : [10, 5, 6, 3, 20, 9, 40]\n",
    "    - O/P : [3, 5, 6, 9, 10, 20, 40]\n",
    "    \n",
    "### This question is mainly a variation of the partition function of quick sort!!!!"
   ]
  },
  {
   "cell_type": "code",
   "execution_count": 18,
   "id": "3713a490",
   "metadata": {},
   "outputs": [
    {
     "name": "stdout",
     "output_type": "stream",
     "text": [
      "[0, 0, 1, 1, 2, 2]\n"
     ]
    }
   ],
   "source": [
    "def three_types_trinary(array, pivot):\n",
    "    low, mid, high = 0, 0, len(array)-1\n",
    "    while mid<=high:\n",
    "        if array[mid]==0:\n",
    "            array[low], array[mid] = array[mid], array[low]\n",
    "            mid += 1\n",
    "            low += 1\n",
    "        elif array[mid]==pivot:\n",
    "            mid += 1\n",
    "        elif array[mid]==2:\n",
    "            array[mid], array[high] = array[high], array[mid]\n",
    "            high -= 1\n",
    "        \n",
    "array, pivot = [0, 1, 0, 2, 1, 2], 1      \n",
    "three_types_trinary(array, pivot)\n",
    "print(array)"
   ]
  },
  {
   "cell_type": "code",
   "execution_count": 19,
   "id": "b35eb36b",
   "metadata": {},
   "outputs": [
    {
     "name": "stdout",
     "output_type": "stream",
     "text": [
      "[1, 1, 2, 2, 20, 10, 20]\n"
     ]
    }
   ],
   "source": [
    "def three_types_three_way(array, pivot):\n",
    "    low, mid, high = 0, 0, len(array)-1\n",
    "    while mid<=high:\n",
    "        if array[mid]<pivot:\n",
    "            array[low], array[mid] = array[mid], array[low]\n",
    "            mid += 1\n",
    "            low += 1\n",
    "        elif array[mid]==pivot:\n",
    "            mid += 1\n",
    "        elif array[mid]>pivot:\n",
    "            array[mid], array[high] = array[high], array[mid]\n",
    "            high -= 1\n",
    "        \n",
    "array, pivot = [2, 1, 2, 20, 10, 20, 1], 2       \n",
    "three_types_three_way(array, pivot)\n",
    "print(array)"
   ]
  },
  {
   "cell_type": "code",
   "execution_count": 20,
   "id": "6f1020cc",
   "metadata": {},
   "outputs": [
    {
     "name": "stdout",
     "output_type": "stream",
     "text": [
      "[3, 5, 6, 10, 9, 40, 20]\n"
     ]
    }
   ],
   "source": [
    "def three_types_in_range(array, rangee):\n",
    "    minVal, maxVal = rangee[0], rangee[1]\n",
    "    low, mid, high = 0, 0, len(array)-1\n",
    "    while mid<=high:\n",
    "        if array[mid]<minVal:\n",
    "            array[low], array[mid] = array[mid], array[low]\n",
    "            mid += 1\n",
    "            low += 1\n",
    "        elif array[mid]<=maxVal and array[mid]>=minVal:\n",
    "            mid += 1\n",
    "        elif array[mid]>maxVal:\n",
    "            array[mid], array[high] = array[high], array[mid]\n",
    "            high -= 1\n",
    "        \n",
    "array, rangee = [10, 5, 6, 3, 20, 9, 40], [5, 10]      \n",
    "three_types_in_range(array, rangee)\n",
    "print(array)"
   ]
  },
  {
   "cell_type": "markdown",
   "id": "bbb63263",
   "metadata": {},
   "source": [
    "### Question-14: Merge Overlapping Intervals"
   ]
  },
  {
   "cell_type": "code",
   "execution_count": 21,
   "id": "e8ca5910",
   "metadata": {},
   "outputs": [],
   "source": [
    "def merge_intervals(arr):\n",
    "    arr.sort(key=lambda x: x[0])  # Sort by start time (first element of inner list)\n",
    "\n",
    "    res = []\n",
    "    res.append(arr[0])\n",
    "\n",
    "    for i in range(1, len(arr)):\n",
    "        if arr[i][0] <= res[-1][1]:  # Overlapping\n",
    "            res[-1][1] = max(res[-1][1], arr[i][1])  # Merge the end times\n",
    "            res[-1][0] = min(res[-1][0], arr[i][0])  # Merge the start times if needed\n",
    "        else:  # No overlap\n",
    "            res.append(arr[i])\n",
    "\n",
    "    return res"
   ]
  },
  {
   "cell_type": "code",
   "execution_count": 22,
   "id": "09e223da",
   "metadata": {},
   "outputs": [
    {
     "name": "stdout",
     "output_type": "stream",
     "text": [
      "[2, 15] [18, 30] \n",
      "[1, 6] [8, 10] [15, 18] \n",
      "[1, 5] \n",
      "[1, 4] \n",
      "[1, 6] [8, 10] [15, 18] \n",
      "[1, 9] \n",
      "[1, 6] [8, 10] [15, 18] \n"
     ]
    }
   ],
   "source": [
    "# Example usage:\n",
    "intervals = [[5, 10], [3, 15], [18, 30], [2, 7]]\n",
    "merged_intervals = merge_intervals(intervals)\n",
    "\n",
    "for interval in merged_intervals:\n",
    "    print(f\"[{interval[0]}, {interval[1]}]\", end=\" \")  # Output: [2, 15] [18, 30]\n",
    "\n",
    "print()\n",
    "\n",
    "intervals = [[1,3],[2,6],[8,10],[15,18]]\n",
    "merged_intervals = merge_intervals(intervals)\n",
    "\n",
    "for interval in merged_intervals:\n",
    "    print(f\"[{interval[0]}, {interval[1]}]\", end=\" \")  # Output: [1, 6] [8, 10] [15, 18]\n",
    "\n",
    "print()\n",
    "\n",
    "intervals = [[1,4],[4,5]]\n",
    "merged_intervals = merge_intervals(intervals)\n",
    "\n",
    "for interval in merged_intervals:\n",
    "    print(f\"[{interval[0]}, {interval[1]}]\", end=\" \") # Output: [1, 5]\n",
    "\n",
    "print()\n",
    "\n",
    "intervals = [[1,4],[2,3]]\n",
    "merged_intervals = merge_intervals(intervals)\n",
    "\n",
    "for interval in merged_intervals:\n",
    "    print(f\"[{interval[0]}, {interval[1]}]\", end=\" \") # Output: [1, 4]\n",
    "\n",
    "print()\n",
    "\n",
    "intervals = [[1,3],[2,6],[8,10],[15,18]]\n",
    "merged_intervals = merge_intervals(intervals)\n",
    "\n",
    "for interval in merged_intervals:\n",
    "    print(f\"[{interval[0]}, {interval[1]}]\", end=\" \") # Output: [1, 6] [8, 10] [15, 18]\n",
    "\n",
    "print()\n",
    "\n",
    "intervals = [[6,8],[1,9],[2,4],[4,7]]\n",
    "merged_intervals = merge_intervals(intervals)\n",
    "\n",
    "for interval in merged_intervals:\n",
    "    print(f\"[{interval[0]}, {interval[1]}]\", end=\" \") # Output: [1, 9]\n",
    "\n",
    "print()\n",
    "\n",
    "intervals = [[1,3],[2,6],[8,10],[15,18]]\n",
    "merged_intervals = merge_intervals(intervals)\n",
    "\n",
    "for interval in merged_intervals:\n",
    "    print(f\"[{interval[0]}, {interval[1]}]\", end=\" \") # Output: [1, 6] [8, 10] [15, 18]\n",
    "\n",
    "print()"
   ]
  },
  {
   "cell_type": "markdown",
   "id": "e5cc0637",
   "metadata": {},
   "source": [
    "### Question-14 (a) Follow Up: Insert Intervals"
   ]
  },
  {
   "cell_type": "code",
   "execution_count": 23,
   "id": "67dc7b37",
   "metadata": {},
   "outputs": [],
   "source": [
    "def insert_and_merge(intervals, newInterval):\n",
    "\n",
    "    merged_intervals = []\n",
    "\n",
    "    # Insert newInterval at the correct position while maintaining sorted order\n",
    "    inserted = False\n",
    "    for i in range(len(intervals)):\n",
    "        if newInterval[0] <= intervals[i][0] and not inserted:  # Correct insertion point\n",
    "            merged_intervals.append(newInterval)\n",
    "            inserted = True\n",
    "        merged_intervals.append(intervals[i])  # Add the original interval\n",
    "\n",
    "    if not inserted:  # newInterval goes at the end\n",
    "        merged_intervals.append(newInterval)\n",
    "\n",
    "    res = []\n",
    "    res.append(merged_intervals[0])\n",
    "\n",
    "    for i in range(1, len(merged_intervals)):\n",
    "        if merged_intervals[i][0] <= res[-1][1]:  # Overlapping\n",
    "            res[-1][1] = max(res[-1][1], merged_intervals[i][1])  # Merge the end times\n",
    "            res[-1][0] = min(res[-1][0], merged_intervals[i][0])  # Merge the start times if needed\n",
    "        else:  # No overlap\n",
    "            res.append(merged_intervals[i])\n",
    "\n",
    "    return res\n",
    "\n",
    "# ... (Example usage remains the same)"
   ]
  },
  {
   "cell_type": "markdown",
   "id": "6fadd1cb",
   "metadata": {},
   "source": [
    "### Question-15: Meeting the maximum guests"
   ]
  },
  {
   "cell_type": "code",
   "execution_count": 24,
   "id": "76ffeea0",
   "metadata": {},
   "outputs": [],
   "source": [
    "def max_guests_with_intervals(arrivals, departures):\n",
    "    arrivals.sort()\n",
    "    departures.sort()\n",
    "\n",
    "    i = 0\n",
    "    j = 0\n",
    "    max_guests_count = 0  # Initialize with 1\n",
    "    current_guests = 0\n",
    "    max_intervals = []  # Initialize with the first interval\n",
    "\n",
    "    while i < len(arrivals) and j < len(departures):\n",
    "        \n",
    "        if arrivals[i] < departures[j]:\n",
    "            \n",
    "            current_guests += 1\n",
    "            \n",
    "            if current_guests > max_guests_count:\n",
    "                max_guests_count = current_guests\n",
    "                max_intervals    = [(arrivals[i], departures[j] if i<len(arrivals)-1 else departures[j])]  # Corrected end time logic\n",
    "\n",
    "            elif current_guests == max_guests_count:\n",
    "                max_intervals.append((arrivals[i], departures[j] if i<len(arrivals)-1 else departures[j]))  # Corrected end time logic\n",
    "\n",
    "            i += 1\n",
    "        else:\n",
    "            current_guests -= 1\n",
    "            j += 1\n",
    "\n",
    "    return max_guests_count, max_intervals"
   ]
  },
  {
   "cell_type": "code",
   "execution_count": 25,
   "id": "6843f92d",
   "metadata": {},
   "outputs": [
    {
     "name": "stdout",
     "output_type": "stream",
     "text": [
      "Maximum guests: 2\n",
      "Intervals: [(700, 730)]\n",
      "\n",
      "Maximum guests: 3\n",
      "Intervals: [(800, 820)]\n",
      "\n",
      "Maximum guests: 3\n",
      "Intervals: [(1100, 1120)]\n",
      "\n",
      "Maximum guests: 3\n",
      "Intervals: [(3, 4)]\n",
      "\n",
      "Maximum guests: 0\n",
      "Intervals: [(1, 2), (2, 3), (3, 4), (4, 5)]\n",
      "\n",
      "Maximum guests: 1\n",
      "Intervals: [(1, 2), (3, 4), (5, 6), (7, 8)]\n"
     ]
    }
   ],
   "source": [
    "# Example usage (same as before, just calling the new function):\n",
    "arrivals = [900, 600, 700]\n",
    "departures = [1000, 800, 730]\n",
    "max_guests_count, intervals = max_guests_with_intervals(arrivals, departures)\n",
    "print(f\"Maximum guests: {max_guests_count}\")\n",
    "print(f\"Intervals: {intervals}\")\n",
    "\n",
    "print()\n",
    "\n",
    "arrivals = [800, 700, 600, 500]\n",
    "departures = [840, 820, 830, 530]\n",
    "max_guests_count, intervals = max_guests_with_intervals(arrivals, departures)\n",
    "print(f\"Maximum guests: {max_guests_count}\")\n",
    "print(f\"Intervals: {intervals}\")\n",
    "\n",
    "print()\n",
    "\n",
    "arrivals = [900, 940, 950, 1100, 1500, 1800]\n",
    "departures = [910, 1200, 1120, 1130, 1190, 2000]\n",
    "max_guests_count, intervals = max_guests_with_intervals(arrivals, departures)\n",
    "print(f\"Maximum guests: {max_guests_count}\")\n",
    "print(f\"Intervals: {intervals}\")\n",
    "\n",
    "print()\n",
    "\n",
    "arrivals = [1, 2, 3]\n",
    "departures = [4, 5, 6]\n",
    "max_guests_count, intervals = max_guests_with_intervals(arrivals, departures)\n",
    "print(f\"Maximum guests: {max_guests_count}\")\n",
    "print(f\"Intervals: {intervals}\")\n",
    "\n",
    "print()\n",
    "\n",
    "arrivals = [1, 2, 3, 4, 5]\n",
    "departures = [5, 4, 3, 2, 1]\n",
    "max_guests_count, intervals = max_guests_with_intervals(arrivals, departures)\n",
    "print(f\"Maximum guests: {max_guests_count}\")\n",
    "print(f\"Intervals: {intervals}\")\n",
    "\n",
    "print()\n",
    "\n",
    "arrivals = [1, 3, 5, 7]\n",
    "departures = [2, 4, 6, 8]\n",
    "max_guests_count, intervals = max_guests_with_intervals(arrivals, departures)\n",
    "print(f\"Maximum guests: {max_guests_count}\")\n",
    "print(f\"Intervals: {intervals}\")"
   ]
  },
  {
   "cell_type": "code",
   "execution_count": null,
   "id": "4580eca6",
   "metadata": {},
   "outputs": [],
   "source": []
  }
 ],
 "metadata": {
  "kernelspec": {
   "display_name": "Python 3 (ipykernel)",
   "language": "python",
   "name": "python3"
  },
  "language_info": {
   "codemirror_mode": {
    "name": "ipython",
    "version": 3
   },
   "file_extension": ".py",
   "mimetype": "text/x-python",
   "name": "python",
   "nbconvert_exporter": "python",
   "pygments_lexer": "ipython3",
   "version": "3.10.13"
  }
 },
 "nbformat": 4,
 "nbformat_minor": 5
}
