{
 "cells": [
  {
   "cell_type": "code",
   "execution_count": 1,
   "id": "11944647",
   "metadata": {},
   "outputs": [
    {
     "data": {
      "text/html": [
       "<style>.container { width:100% !important; }</style>"
      ],
      "text/plain": [
       "<IPython.core.display.HTML object>"
      ]
     },
     "metadata": {},
     "output_type": "display_data"
    }
   ],
   "source": [
    "from IPython.display import display, HTML\n",
    "display(HTML(\"<style>.container { width:100% !important; }</style>\"))"
   ]
  },
  {
   "cell_type": "markdown",
   "id": "1d9b351f",
   "metadata": {},
   "source": [
    "## 1. 0/1 Knapsack Problem: \n",
    "\n",
    "Given N items where each item has some weight and profit associated with it and also given a bag with capacity W, [i.e., the bag can hold at most W weight in it]. The task is to put the items into the bag such that the sum of profits associated with them is the maximum possible. \n",
    "\n",
    "Note: The constraint here is we can either put an item completely into the bag or cannot put it at all [It is not possible to put a part of an item into the bag]."
   ]
  },
  {
   "cell_type": "markdown",
   "id": "35793630",
   "metadata": {},
   "source": [
    "### Recursion Approach – O(2**n) Time and O(n) Space"
   ]
  },
  {
   "cell_type": "code",
   "execution_count": 2,
   "id": "3a8f7b5f",
   "metadata": {},
   "outputs": [
    {
     "name": "stdout",
     "output_type": "stream",
     "text": [
      "220\n"
     ]
    }
   ],
   "source": [
    "def kSackRec(W, wt, val, n):\n",
    "    # Base condition: No items left or knapsack capacity is 0\n",
    "    if n == 0 or W == 0:\n",
    "        return 0\n",
    "\n",
    "    # If weight of the current item (n-1) is more than capacity, skip it\n",
    "    if wt[n-1] > W:\n",
    "        return kSackRec(W, wt, val, n - 1)\n",
    "    else:\n",
    "        # Max of taking the item or skipping it\n",
    "        return max(\n",
    "            val[n-1] + kSackRec(W - wt[n-1], wt, val, n - 1),\n",
    "            kSackRec(W, wt, val, n - 1)\n",
    "        )\n",
    "\n",
    "def kSack(W, wt, val):\n",
    "    n = len(wt)  # Number of items\n",
    "    return kSackRec(W, wt, val, n)\n",
    "\n",
    "# Driver Code\n",
    "profit = [60, 100, 120]\n",
    "weight = [10, 20, 30]\n",
    "W = 50\n",
    "print(kSack(W, weight, profit))  # Output: 220\n"
   ]
  },
  {
   "cell_type": "markdown",
   "id": "3941d528",
   "metadata": {},
   "source": [
    "### Memoization Approach – O(n x W) Time and Space"
   ]
  },
  {
   "cell_type": "code",
   "execution_count": 3,
   "id": "419df732",
   "metadata": {},
   "outputs": [
    {
     "name": "stdout",
     "output_type": "stream",
     "text": [
      "220\n"
     ]
    }
   ],
   "source": [
    "def kSackRec(W, wt, val, n, memo):\n",
    "    # Base condition: No items left or knapsack capacity is 0\n",
    "    if n == 0 or W == 0:\n",
    "        return 0\n",
    "\n",
    "    if (n, W) in memo:\n",
    "        return memo[(n, W)]\n",
    "\n",
    "    # If weight of current item (n-1) is more than capacity, we can't include it\n",
    "    if wt[n-1] > W:\n",
    "        memo[(n, W)] = kSackRec(W, wt, val, n - 1, memo)\n",
    "    else:\n",
    "        # Max of taking the item or skipping it\n",
    "        memo[(n, W)] = max(\n",
    "                            val[n-1] + kSackRec(W - wt[n-1], wt, val, n - 1, memo),\n",
    "                            kSackRec(W, wt, val, n - 1, memo)\n",
    "                           )\n",
    "\n",
    "    return memo[(n, W)]\n",
    "\n",
    "def kSack(W, wt, val):\n",
    "    n = len(wt)  # Number of items\n",
    "    memo = {}  # Dictionary for memoization\n",
    "    return kSackRec(W, wt, val, n, memo)\n",
    "\n",
    "# Driver Code\n",
    "profit = [60, 100, 120]\n",
    "weight = [10, 20, 30]\n",
    "W = 50\n",
    "print(kSack(W, weight, profit))  # Output: 220"
   ]
  },
  {
   "cell_type": "markdown",
   "id": "74815eeb",
   "metadata": {},
   "source": [
    "## 2. Subset Sum Problem\n",
    "\n",
    "Given an array arr[] of **non-negative integers** and a value **sum**, the task is to check if there is a subset of the given array whose sum is equal to the given sum. "
   ]
  },
  {
   "cell_type": "markdown",
   "id": "2ee037fb",
   "metadata": {},
   "source": [
    "### Recursion Approach – O(2**n) Time and O(n) Space"
   ]
  },
  {
   "cell_type": "code",
   "execution_count": 4,
   "id": "146bf462",
   "metadata": {},
   "outputs": [
    {
     "name": "stdout",
     "output_type": "stream",
     "text": [
      "True\n"
     ]
    }
   ],
   "source": [
    "def isSubsetSumRec(arr, n, sum):\n",
    "  \n",
    "    # Base Cases\n",
    "    if sum == 0:\n",
    "        return True \n",
    "    if n == 0:\n",
    "        return False\n",
    "\n",
    "    # If the last element is greater\n",
    "    # than the sum, ignore it\n",
    "    if arr[n - 1] > sum:\n",
    "        return isSubsetSumRec(arr, n - 1, sum)\n",
    "\n",
    "    # Check if sum can be obtained by including\n",
    "    # or excluding the last element\n",
    "    return isSubsetSumRec(arr, n - 1, sum) or isSubsetSumRec(arr, n - 1, sum - arr[n - 1])\n",
    "\n",
    "def isSubsetSum(arr, sum):\n",
    "    return isSubsetSumRec(arr, len(arr), sum)\n",
    "\n",
    "if __name__ == \"__main__\":\n",
    "  \n",
    "    arr = [3, 34, 4, 12, 5, 2]\n",
    "    sum = 9\n",
    "\n",
    "    if isSubsetSum(arr, sum):\n",
    "        print(\"True\")\n",
    "    else:\n",
    "        print(\"False\")"
   ]
  },
  {
   "cell_type": "markdown",
   "id": "60eda701",
   "metadata": {},
   "source": [
    "### Memoization Approach – O(n x W) Time and Space"
   ]
  },
  {
   "cell_type": "code",
   "execution_count": 5,
   "id": "681fb302",
   "metadata": {},
   "outputs": [
    {
     "name": "stdout",
     "output_type": "stream",
     "text": [
      "True\n"
     ]
    }
   ],
   "source": [
    "def isSubsetSumRec(arr, n, sum, memo):\n",
    "    # Base Cases\n",
    "    if sum == 0:\n",
    "        return True\n",
    "    if n == 0:\n",
    "        return False\n",
    "\n",
    "    # If the result is already computed, return it\n",
    "    if (n, sum) in memo:\n",
    "        return memo[(n, sum)]\n",
    "\n",
    "    # If the last element is greater than the sum, ignore it\n",
    "    if arr[n - 1] > sum:\n",
    "        memo[(n, sum)] = isSubsetSumRec(arr, n - 1, sum, memo)\n",
    "    else:\n",
    "        # Check if sum can be obtained by including or excluding the last element\n",
    "        memo[(n, sum)] = isSubsetSumRec(arr, n - 1, sum, memo) or isSubsetSumRec(arr, n - 1, sum - arr[n - 1], memo)\n",
    "\n",
    "    return memo[(n, sum)]\n",
    "\n",
    "def isSubsetSum(arr, sum):\n",
    "    memo = {}  # Dictionary for memoization\n",
    "    return isSubsetSumRec(arr, len(arr), sum, memo)\n",
    "\n",
    "# Driver Code\n",
    "if __name__ == \"__main__\":\n",
    "    arr = [3, 34, 4, 12, 5, 2]\n",
    "    sum = 9\n",
    "\n",
    "    if isSubsetSum(arr, sum):\n",
    "        print(\"True\")\n",
    "    else:\n",
    "        print(\"False\")\n"
   ]
  },
  {
   "cell_type": "markdown",
   "id": "abc9cb10",
   "metadata": {},
   "source": [
    "## 3. Equal Sum Partition Problem\n",
    "\n",
    "Given an array arr[], the task is to check if it can be partitioned into two parts such that the sum of elements in both parts is the same."
   ]
  },
  {
   "cell_type": "code",
   "execution_count": null,
   "id": "93683aca",
   "metadata": {},
   "outputs": [],
   "source": []
  },
  {
   "cell_type": "markdown",
   "id": "4743fbd5",
   "metadata": {},
   "source": [
    "## 4. Count of subsets with sum equal to target\n",
    "\n",
    "Given an array arr[] of length n and an integer target, the task is to find the **number of subsets** with a sum equal to target."
   ]
  },
  {
   "cell_type": "markdown",
   "id": "9695a99a",
   "metadata": {},
   "source": [
    "### Memoization Approach – O(n x W) Time and Space"
   ]
  },
  {
   "cell_type": "code",
   "execution_count": 6,
   "id": "f69e8bc5",
   "metadata": {},
   "outputs": [
    {
     "name": "stdout",
     "output_type": "stream",
     "text": [
      "Number of subsets with sum 9: 2\n",
      "Number of subsets with sum 6: 3\n",
      "Number of subsets with sum 1: 4\n"
     ]
    }
   ],
   "source": [
    "def countSubsetsRec(arr, n, target, memo):\n",
    "    # Base Case\n",
    "    if target == 0:\n",
    "        return 1  # There's one way to get sum 0: the empty subset\n",
    "    if n == 0:\n",
    "        return 0  # No way to get a positive target with no elements\n",
    "\n",
    "    # If the result is already computed, return it\n",
    "    if (n, target) in memo:\n",
    "        return memo[(n, target)]\n",
    "\n",
    "    # If the last element is greater than the target, ignore it\n",
    "    if arr[n - 1] > target:\n",
    "        memo[(n, target)] = countSubsetsRec(arr, n - 1, target, memo)\n",
    "    else:\n",
    "        # Include the last element or exclude it\n",
    "        memo[(n, target)] = countSubsetsRec(arr, n - 1, target, memo) + countSubsetsRec(arr, n - 1, target - arr[n - 1], memo)\n",
    "\n",
    "    return memo[(n, target)]\n",
    "\n",
    "def countSubsets(arr, target):\n",
    "    memo = {}  # Dictionary for memoization\n",
    "    return countSubsetsRec(arr, len(arr), target, memo)\n",
    "\n",
    "# Driver Code\n",
    "if __name__ == \"__main__\":\n",
    "    arr = [3, 34, 4, 12, 5, 2]\n",
    "    target = 9\n",
    "    print(f\"Number of subsets with sum {target}: {countSubsets(arr, target)}\")\n",
    "    \n",
    "    \n",
    "    arr = [1, 2, 3, 3]\n",
    "    target = 6\n",
    "    print(f\"Number of subsets with sum {target}: {countSubsets(arr, target)}\")\n",
    "    \n",
    "    \n",
    "    arr = [1, 1, 1, 1]\n",
    "    target = 1\n",
    "    print(f\"Number of subsets with sum {target}: {countSubsets(arr, target)}\")"
   ]
  },
  {
   "cell_type": "markdown",
   "id": "b6849667",
   "metadata": {},
   "source": [
    "## 5. Partition a set into two subsets such that the difference of subset sums is minimum\n",
    "\n",
    "Given an array arr[] of size n, the task is to divide it into two sets S1 and S2 such that the absolute difference between their sums is minimum. \n",
    "If there is a set S with n elements, then if we assume Subset1 has m elements, Subset2 must have n-m elements and the value of abs(sum(Subset1) – sum(Subset2)) should be minimum."
   ]
  },
  {
   "cell_type": "code",
   "execution_count": null,
   "id": "469231fd",
   "metadata": {},
   "outputs": [],
   "source": [
    "def find_min_difference(arr, n, sum_calculated, sum_total):\n",
    "    \n",
    "    # Base case: if we've considered all elements\n",
    "    if n == 0:\n",
    "        return abs((sum_total - sum_calculated) \n",
    "                            - sum_calculated)\n",
    "\n",
    "    # Include the current element in the subset\n",
    "    include = find_min_difference(arr, n - 1, \n",
    "                    sum_calculated + arr[n - 1], sum_total)\n",
    "\n",
    "    # Exclude the current element from the subset\n",
    "    exclude = find_min_difference(arr,\n",
    "                       n - 1, sum_calculated, sum_total)\n",
    "\n",
    "    # Return the minimum of both choices\n",
    "    return min(include, exclude)\n",
    "\n",
    "# Function to get the minimum difference\n",
    "def min_difference(arr):\n",
    "    sum_total = 0\n",
    "    \n",
    "    # Calculate total sum of the array\n",
    "    for num in arr:\n",
    "        sum_total += num\n",
    "\n",
    "    # Call recursive function to find \n",
    "    # the minimum difference\n",
    "    return find_min_difference(arr, \n",
    "                           len(arr), 0, sum_total)\n",
    "\n",
    "if __name__ == \"__main__\":\n",
    "\n",
    "    arr = [1, 6, 11, 5]\n",
    "\n",
    "    print(min_difference(arr))\n"
   ]
  },
  {
   "cell_type": "markdown",
   "id": "dd540c58",
   "metadata": {},
   "source": [
    "## 6. Longest Common Subseqeunce\n"
   ]
  },
  {
   "cell_type": "markdown",
   "id": "1a492aa2",
   "metadata": {},
   "source": [
    "## 7. Printing Longest Common Subseqeunce\n"
   ]
  },
  {
   "cell_type": "markdown",
   "id": "47853110",
   "metadata": {},
   "source": [
    "## 8. Longest Common Substring\n"
   ]
  },
  {
   "cell_type": "markdown",
   "id": "fcc90b0f",
   "metadata": {},
   "source": [
    "## 9. Shortest Common SuperSequence \n"
   ]
  },
  {
   "cell_type": "markdown",
   "id": "ea1e5d4e",
   "metadata": {},
   "source": [
    "## 10. Print shortest common Supersequence\n"
   ]
  },
  {
   "cell_type": "markdown",
   "id": "0809b295",
   "metadata": {},
   "source": [
    "## 11. Minimum Number of Insertion and Deletion to convert String a to String b\n"
   ]
  },
  {
   "cell_type": "markdown",
   "id": "405673a0",
   "metadata": {},
   "source": [
    "## 12. Longest Palindromic Subsequence\n"
   ]
  },
  {
   "cell_type": "markdown",
   "id": "80090c89",
   "metadata": {},
   "source": [
    "## 13. Minimum number of deletion in a string to make it a palindrome\n"
   ]
  },
  {
   "cell_type": "markdown",
   "id": "8290b76c",
   "metadata": {},
   "source": [
    "## 14. Longest repeating subsequence\n"
   ]
  },
  {
   "cell_type": "markdown",
   "id": "3a00e289",
   "metadata": {},
   "source": [
    "## 15. Sequence Pattern Matching\n"
   ]
  },
  {
   "cell_type": "markdown",
   "id": "c537e793",
   "metadata": {},
   "source": [
    "## 16. Minimum number of insertion in a string to make it a palindrome"
   ]
  },
  {
   "cell_type": "code",
   "execution_count": null,
   "id": "2d20054d",
   "metadata": {},
   "outputs": [],
   "source": []
  }
 ],
 "metadata": {
  "kernelspec": {
   "display_name": "Python 3 (ipykernel)",
   "language": "python",
   "name": "python3"
  },
  "language_info": {
   "codemirror_mode": {
    "name": "ipython",
    "version": 3
   },
   "file_extension": ".py",
   "mimetype": "text/x-python",
   "name": "python",
   "nbconvert_exporter": "python",
   "pygments_lexer": "ipython3",
   "version": "3.10.13"
  }
 },
 "nbformat": 4,
 "nbformat_minor": 5
}
