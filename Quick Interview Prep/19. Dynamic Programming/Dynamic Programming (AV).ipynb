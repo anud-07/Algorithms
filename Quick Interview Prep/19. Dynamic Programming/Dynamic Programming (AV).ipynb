{
 "cells": [
  {
   "cell_type": "code",
   "execution_count": 1,
   "id": "2681e421",
   "metadata": {},
   "outputs": [
    {
     "data": {
      "text/html": [
       "<style>.container { width:100% !important; }</style>"
      ],
      "text/plain": [
       "<IPython.core.display.HTML object>"
      ]
     },
     "metadata": {},
     "output_type": "display_data"
    }
   ],
   "source": [
    "from IPython.display import display, HTML\n",
    "display(HTML(\"<style>.container { width:100% !important; }</style>\"))"
   ]
  },
  {
   "cell_type": "code",
   "execution_count": 2,
   "id": "fcbfa81a",
   "metadata": {},
   "outputs": [],
   "source": [
    "import unittest"
   ]
  },
  {
   "cell_type": "markdown",
   "id": "d66b268d",
   "metadata": {},
   "source": [
    "----\n",
    "----\n",
    "### 1. Identification\n",
    "\n",
    "- Choices: \n",
    "    - Enhanced recursion (identification of recursive problems are indicators)\n",
    "    - Recursion: always be given a **choice** (e.g., to include element or not)\n",
    "    - Overlap: if **overlapping** sub-problems (multiple recursive calls), then DP!\n",
    "    \n",
    "- Optimality:\n",
    "    - Minimum\n",
    "    - Maximum\n",
    "    - Largest\n",
    "    \n",
    "    \n",
    "### 2. Writing the Solution\n",
    "\n",
    "- First, write **recursive** solution\n",
    "- Next, **memoize** the solution\n",
    "- Finally, if required, construct the **bottom-up** solution\n",
    "    - For many tricky problems, we might require a **bottom-up** solution nevertheless!\n",
    "    \n",
    "\n",
    "### 3. Parent DP problems\n",
    "\n",
    "- **0-1 knapsack**\n",
    "- **Unbounded knapsack**\n",
    "- Fibonacci\n",
    "- **LCS**\n",
    "- LIS\n",
    "- Kadane's Algorithm\n",
    "- Matrix Chain Multiplication\n",
    "- DP on Trees\n",
    "- DP on Grid \n",
    "- Others\n",
    "----\n",
    "----"
   ]
  },
  {
   "cell_type": "markdown",
   "id": "1947a8d9",
   "metadata": {},
   "source": [
    "### [Parent Problem-1] 0-1 knapsack:\n",
    "\n",
    "- Given **N** items where each item has some **weight** and **profit** associated with it and also given a bag with capacity **W**, [i.e., the bag can hold at most W weight in it]. The task is to put the items into the bag such that the **sum of profits** associated with them is the **maximum** possible. \n",
    "\n",
    "- Note: The constraint here is we can either put an item completely into the bag or cannot put it at all [It is not possible to put a part of an item into the bag]."
   ]
  },
  {
   "cell_type": "code",
   "execution_count": 3,
   "id": "76b24908",
   "metadata": {},
   "outputs": [],
   "source": [
    "# recursive \n",
    "def zero_one_knapsack_recursive(weight, value, tw, n, memo=None): \n",
    "    \n",
    "    if memo is None: \n",
    "        memo = {}\n",
    "    \n",
    "    # 1. first thing to think out loud: WHAT DOES THIS FUNCTION EVEN RETURN?\n",
    "        # **maximum** sum of profits!\n",
    "        \n",
    "    # BASE CONDITION: think of the smallest valid input \n",
    "    if n==0 or tw==0:\n",
    "        return 0\n",
    "\n",
    "    if (n, tw) in memo:\n",
    "        return memo[(n, tw)]\n",
    "                     \n",
    "    # 2. Reason about the CHOICE DIAGRAM!\n",
    "    if weight[n-1] > tw:\n",
    "        # we CANNOT choose this item\n",
    "        memo[(n, tw)] = zero_one_knapsack_recursive(weight, value, tw, n-1, memo)\n",
    "    else:\n",
    "        # we MAY or MAY not choose\n",
    "        include = value[n-1] + zero_one_knapsack_recursive(weight, value, tw - weight[n-1], n-1, memo)\n",
    "        exclude = zero_one_knapsack_recursive(weight, value, tw, n-1, memo)\n",
    "        \n",
    "        memo[(n, tw)] = max(include, exclude)\n",
    "        \n",
    "    return memo[(n, tw)]\n",
    "\n",
    "\n",
    "# bottom-up solution\n",
    "    # step-1: initilization\n",
    "    # step-2: change recursive calls to iterative code!\n",
    "    \n",
    "def zero_one_knapsack_table(weight, value, tw, n, matrix=None):\n",
    "    \n",
    "    if matrix is None:\n",
    "        matrix = [[None for _ in range(tw+1)] for _ in range(n+1)]\n",
    "        \n",
    "    # BASE CONDITION changes to INITILIZATION\n",
    "    for j in range(tw + 1):\n",
    "        matrix[0][j] = 0   # profit\n",
    "        \n",
    "    for i in range(n + 1):\n",
    "        matrix[i][0] = 0   # profit\n",
    "    \n",
    "    # CHOICE DIAGARM changes to Matrix filling\n",
    "    for i in range(1, n+1):\n",
    "        for j in range(1, tw+1):\n",
    "            if weight[i-1] > j: \n",
    "                # cannot take item!\n",
    "                matrix[i][j] = matrix[i-1][j]\n",
    "            else:\n",
    "                # choice \n",
    "                matrix[i][j] = max( value[i-1] + matrix[i-1][j - weight[i-1]], matrix[i-1][j] )\n",
    "            \n",
    "    return matrix[n][tw]"
   ]
  },
  {
   "cell_type": "code",
   "execution_count": 4,
   "id": "1ce20fc4",
   "metadata": {},
   "outputs": [
    {
     "name": "stderr",
     "output_type": "stream",
     "text": [
      ".....\n",
      "----------------------------------------------------------------------\n",
      "Ran 5 tests in 0.002s\n",
      "\n",
      "OK\n",
      ".....\n",
      "----------------------------------------------------------------------\n",
      "Ran 5 tests in 0.002s\n",
      "\n",
      "OK\n"
     ]
    },
    {
     "data": {
      "text/plain": [
       "<unittest.runner.TextTestResult run=5 errors=0 failures=0>"
      ]
     },
     "execution_count": 4,
     "metadata": {},
     "output_type": "execute_result"
    }
   ],
   "source": [
    "class TestKnapsack_Recursive(unittest.TestCase):\n",
    "    def test_case_1(self):\n",
    "        self.assertEqual(zero_one_knapsack_recursive([4, 5, 1], [1, 2, 3], 4, 3), 3)\n",
    "\n",
    "    def test_case_2(self):\n",
    "        self.assertEqual(zero_one_knapsack_recursive([2, 3, 4], [3, 4, 5], 5, 3), 7)\n",
    "\n",
    "    def test_case_3(self):\n",
    "        self.assertEqual(zero_one_knapsack_recursive([1, 2, 3], [10, 20, 30], 5, 3), 50)\n",
    "\n",
    "    def test_case_4(self):\n",
    "        self.assertEqual(zero_one_knapsack_recursive([1, 2, 3], [10, 20, 30], 0, 3), 0)\n",
    "\n",
    "    def test_case_5(self):\n",
    "        self.assertEqual(zero_one_knapsack_recursive([5, 10, 15], [10, 20, 30], 20, 3), 40)\n",
    "\n",
    "# Run only the new test cases\n",
    "suite = unittest.TestLoader().loadTestsFromTestCase(TestKnapsack_Recursive)\n",
    "unittest.TextTestRunner().run(suite)\n",
    "\n",
    "class TestKnapsack_table(unittest.TestCase):\n",
    "    def test_case_1(self):\n",
    "        self.assertEqual(zero_one_knapsack_table([4, 5, 1], [1, 2, 3], 4, 3), 3)\n",
    "\n",
    "    def test_case_2(self):\n",
    "        self.assertEqual(zero_one_knapsack_table([2, 3, 4], [3, 4, 5], 5, 3), 7)\n",
    "\n",
    "    def test_case_3(self):\n",
    "        self.assertEqual(zero_one_knapsack_table([1, 2, 3], [10, 20, 30], 5, 3), 50)\n",
    "\n",
    "    def test_case_4(self):\n",
    "        self.assertEqual(zero_one_knapsack_table([1, 2, 3], [10, 20, 30], 0, 3), 0)\n",
    "\n",
    "    def test_case_5(self):\n",
    "        self.assertEqual(zero_one_knapsack_table([5, 10, 15], [10, 20, 30], 20, 3), 40)\n",
    "        \n",
    "suite = unittest.TestLoader().loadTestsFromTestCase(TestKnapsack_table)\n",
    "unittest.TextTestRunner().run(suite)"
   ]
  },
  {
   "cell_type": "markdown",
   "id": "6b967f22",
   "metadata": {},
   "source": [
    "**PS**: \n",
    "We are maximizing a **function** associated with that each quanity in the array!"
   ]
  },
  {
   "cell_type": "markdown",
   "id": "7be75459",
   "metadata": {},
   "source": [
    "#### Btw, a common problem while memoization in Python that you need to worry about is that:\n",
    "\n",
    "- In Python, default argument values are evaluated only once when the function is **defined**, not each time the function is **called**\n",
    "- The dictionary {} is created once when the function is **defined**\n",
    "- This same dictionary is reused across all subsequent calls unless explicitly modified."
   ]
  },
  {
   "cell_type": "code",
   "execution_count": 5,
   "id": "d6c11d09",
   "metadata": {},
   "outputs": [
    {
     "name": "stdout",
     "output_type": "stream",
     "text": [
      "{1: 2}\n",
      "{1: 2, 2: 4}\n",
      "{1: 2, 2: 4, 3: 6}\n"
     ]
    }
   ],
   "source": [
    "def buggy_function(x, demo_memo={}):\n",
    "    demo_memo[x] = x * 2\n",
    "    print(demo_memo)\n",
    "\n",
    "buggy_function(1)  # Output: {1: 2}\n",
    "buggy_function(2)  # Output: {1: 2, 2: 4} (Unexpected behavior!)\n",
    "buggy_function(3)  # Output: {1: 2, 2: 4, 3: 6} (Still carrying previous values)"
   ]
  },
  {
   "cell_type": "markdown",
   "id": "3692be7f",
   "metadata": {},
   "source": [
    "#### [SubProblem-1] Subset Sum:\n",
    "\n",
    "Given an **array arr[]** of integers and a **value sum**, the task is to check **if** there is a subset of the given array whose sum is equal to the given sum."
   ]
  },
  {
   "cell_type": "code",
   "execution_count": 6,
   "id": "97daba01",
   "metadata": {},
   "outputs": [],
   "source": [
    "def subsetsum_recursive(array, target, n):\n",
    "    \n",
    "    if target==0:\n",
    "        return True\n",
    "    \n",
    "    if n==0:\n",
    "        return False\n",
    "        \n",
    "    include = subsetsum_recursive(array, target-array[n-1], n-1)\n",
    "    exclude = subsetsum_recursive(array, target, n-1)\n",
    "    return include or exclude"
   ]
  },
  {
   "cell_type": "code",
   "execution_count": 7,
   "id": "1c0d2a87",
   "metadata": {},
   "outputs": [
    {
     "name": "stderr",
     "output_type": "stream",
     "text": [
      "....\n",
      "----------------------------------------------------------------------\n",
      "Ran 4 tests in 0.002s\n",
      "\n",
      "OK\n"
     ]
    },
    {
     "data": {
      "text/plain": [
       "<unittest.runner.TextTestResult run=4 errors=0 failures=0>"
      ]
     },
     "execution_count": 7,
     "metadata": {},
     "output_type": "execute_result"
    }
   ],
   "source": [
    "class SubsetSum_Recursive(unittest.TestCase):\n",
    "    def test_case_1(self):\n",
    "        self.assertEqual(subsetsum_recursive([3, 34, 4, 12, 5, 2], 9, 6), True)\n",
    "\n",
    "    def test_case_2(self):\n",
    "        self.assertEqual(subsetsum_recursive([3, 34, 4, 12, 5, 2], 30, 6), False)\n",
    "        \n",
    "    def test_case_3(self):\n",
    "        self.assertEqual(subsetsum_recursive([-2, 2, 4, -4, 30, 6], 0, 6), True)\n",
    "        \n",
    "    def test_case_4(self):\n",
    "        self.assertEqual(subsetsum_recursive([-3, 1, 2], -2, 3), True)\n",
    "\n",
    "# Run only the new test cases\n",
    "suite = unittest.TestLoader().loadTestsFromTestCase(SubsetSum_Recursive)\n",
    "unittest.TextTestRunner().run(suite)"
   ]
  },
  {
   "cell_type": "markdown",
   "id": "7114120e",
   "metadata": {},
   "source": [
    "**PS**: \n",
    "We are NOT maximizing/minimizing a **function** associated with each quantity but instead checking if choosing or not choosing the quantity satistifies some property."
   ]
  },
  {
   "cell_type": "markdown",
   "id": "15417261",
   "metadata": {},
   "source": [
    "#### [SubProblem-2] Equal Sum Partition:\n",
    "\n",
    "Given an array **arr[]**, the task is to check **if** it can be partitioned into two parts such that the sum of elements in both parts is the same."
   ]
  },
  {
   "cell_type": "markdown",
   "id": "64e8dd47",
   "metadata": {},
   "source": [
    "**PS**: \n",
    "We are NOT maximizing/minimizing a **function** associated with each quantity but instead checking if choosing or not choosing the quantity satistifies some property."
   ]
  },
  {
   "cell_type": "markdown",
   "id": "cf379ddd",
   "metadata": {},
   "source": [
    "#### [SubProblem-3] Count of Subsets Sum with a Given Sum:\n",
    "\n",
    "Given an array **arr[]** of length **n** and an integer **target**, the task is to find the **number of subsets** with a sum equal to target."
   ]
  },
  {
   "cell_type": "code",
   "execution_count": 8,
   "id": "7c333d8a",
   "metadata": {},
   "outputs": [],
   "source": [
    "def countSubsetSum_recursive(array, target, n):\n",
    "\n",
    "    if target==0:\n",
    "        return 1\n",
    "\n",
    "    if n==0:\n",
    "        return 0\n",
    "\n",
    "    include = countSubsetSum_recursive(array, target - array[n-1], n-1)\n",
    "    exclude = countSubsetSum_recursive(array, target, n-1)\n",
    "    \n",
    "    return include + exclude"
   ]
  },
  {
   "cell_type": "code",
   "execution_count": 9,
   "id": "5e06601d",
   "metadata": {
    "scrolled": true
   },
   "outputs": [
    {
     "name": "stderr",
     "output_type": "stream",
     "text": [
      "...\n",
      "----------------------------------------------------------------------\n",
      "Ran 3 tests in 0.001s\n",
      "\n",
      "OK\n"
     ]
    },
    {
     "data": {
      "text/plain": [
       "<unittest.runner.TextTestResult run=3 errors=0 failures=0>"
      ]
     },
     "execution_count": 9,
     "metadata": {},
     "output_type": "execute_result"
    }
   ],
   "source": [
    "class countSubsetSum_Recursive(unittest.TestCase):\n",
    "    def test_case_1(self):\n",
    "        self.assertEqual(countSubsetSum_recursive([1, 2, 3, 3], 6, 4), 3)\n",
    "\n",
    "    def test_case_2(self):\n",
    "        self.assertEqual(countSubsetSum_recursive([1, 1, 1, 1], 1, 4), 4)\n",
    "        \n",
    "    def test_case_3(self):\n",
    "        self.assertEqual(countSubsetSum_recursive([2, 3, 5, 6, 8, 10], 10, 6), 3)\n",
    "        \n",
    "# Run only the new test cases\n",
    "suite = unittest.TestLoader().loadTestsFromTestCase(countSubsetSum_Recursive)\n",
    "unittest.TextTestRunner().run(suite)"
   ]
  },
  {
   "cell_type": "markdown",
   "id": "fbb3e965",
   "metadata": {},
   "source": [
    "**PS**: We are **NOT** maximizing/minimizing a **function** associated with each quantity but instead checking if choosing or not choosing the quantity satistifies some property AND as a consequence of that, we end up reporting the number of subsets that statisfy that property!"
   ]
  },
  {
   "cell_type": "markdown",
   "id": "97129813",
   "metadata": {},
   "source": [
    "### [SubProblem-4] Print All Subsets with a Given Sum (Very Important to get a feel of this!!):\n",
    "\n",
    "Given an array **arr[]** of length n and an integer **target**, the task is to print all those subsets with a sum equal to target."
   ]
  },
  {
   "cell_type": "code",
   "execution_count": 10,
   "id": "99f614c9",
   "metadata": {},
   "outputs": [
    {
     "name": "stdout",
     "output_type": "stream",
     "text": [
      "[[3, 3], [1, 2, 3], [1, 2, 3]]\n",
      "[[1], [1], [1], [1]]\n",
      "[[10], [2, 8], [2, 3, 5]]\n"
     ]
    }
   ],
   "source": [
    "def howSubsetSum_recursive(array, target, n):\n",
    "\n",
    "    if target==0:\n",
    "        return [[]] # empty subset\n",
    "\n",
    "    if n==0:\n",
    "        return []   # no subset possible\n",
    "    \n",
    "    include = howSubsetSum_recursive(array, target - array[n-1], n-1)\n",
    "    \n",
    "    for each_list in include:\n",
    "        each_list.append(array[n-1])\n",
    "        \n",
    "    exclude = howSubsetSum_recursive(array, target, n-1)\n",
    "    \n",
    "    return include + exclude\n",
    "\n",
    "print( howSubsetSum_recursive([1, 2, 3, 3], 6, 4) )\n",
    "print( howSubsetSum_recursive([1, 1, 1, 1], 1, 4) )\n",
    "print( howSubsetSum_recursive([2, 3, 5, 6, 8, 10], 10, 6) )"
   ]
  },
  {
   "cell_type": "markdown",
   "id": "8fb2f13d",
   "metadata": {},
   "source": [
    "**PS**: We are **NOT** maximizing/minimizing a **function** associated with each quantity but instead checking if choosing or not choosing the quantity satistifies some property AND as a consequence of that, we end up returninig the list of subsets that statisfy the property!"
   ]
  },
  {
   "cell_type": "markdown",
   "id": "836cf77e",
   "metadata": {},
   "source": [
    "#### [SubProblem-5] Minimum Subset Sum Difference:\n",
    "\n",
    "- Given an array **arr[]** of size n, the task is to divide it into **two sets S1** and **S2** such that the absolute difference between their sums is **minimum**. \n",
    "- If there is a set S with n elements, then if we assume Subset1 has m elements, Subset2 must have n-m elements and the value of abs(sum(Subset1) – sum(Subset2)) should be minimum."
   ]
  },
  {
   "cell_type": "markdown",
   "id": "165672ea",
   "metadata": {},
   "source": [
    "#### [SubProblem-6] Count of subsets given difference:\n",
    "\n",
    "- check"
   ]
  },
  {
   "cell_type": "markdown",
   "id": "9b89b6b3",
   "metadata": {},
   "source": [
    "#### [SubProblem-7] You are given an integer array nums and an integer target.\n",
    "\n",
    "- You want to build an **expression** out of nums by adding one of the symbols '+' and '-' before each integer in nums and then concatenate all the integers.\n",
    "\n",
    "- For example, if nums = [2, 1], you can add a '+' before 2 and a '-' before 1 and concatenate them to build the expression \"+2-1\".\n",
    "\n",
    "- Return the number of different expressions that you can build, which evaluates to target. "
   ]
  },
  {
   "cell_type": "markdown",
   "id": "15c211d4",
   "metadata": {},
   "source": [
    "----\n",
    "----\n",
    "### [Parent Problem-2] Unbounded Knapsack:\n",
    "\n",
    "- Given a knapsack **weight**, say capacity and a set of **n** items with certain value **vali** and weight **wti**, The task is to fill the knapsack in such a way that we can get the **maximum** profit. \n",
    "- This is **different** from the classical Knapsack problem, here we are allowed to use an **unlimited** number of instances of an item."
   ]
  },
  {
   "cell_type": "code",
   "execution_count": 11,
   "id": "01ce9876",
   "metadata": {},
   "outputs": [],
   "source": [
    "def zero_one_unbounded_knapsack_recursive(weight, value, tw, n):\n",
    "    \n",
    "    if tw==0: # no space\n",
    "        return 0\n",
    "    if n==0:\n",
    "        return 0\n",
    "        \n",
    "    # base case\n",
    "    if weight[n-1] > tw:\n",
    "        return zero_one_unbounded_knapsack_recursive(weight, value, tw, n-1)\n",
    "    else:\n",
    "        # choice\n",
    "        maxValueInclude = value[n-1] + zero_one_unbounded_knapsack_recursive(weight, value, tw-weight[n-1], n)\n",
    "        maxValueExclude = zero_one_unbounded_knapsack_recursive(weight, value, tw, n-1)\n",
    "        \n",
    "        return max(maxValueInclude, maxValueExclude)"
   ]
  },
  {
   "cell_type": "code",
   "execution_count": 12,
   "id": "80f86dc1",
   "metadata": {},
   "outputs": [
    {
     "name": "stderr",
     "output_type": "stream",
     "text": [
      "...\n",
      "----------------------------------------------------------------------\n",
      "Ran 3 tests in 0.001s\n",
      "\n",
      "OK\n"
     ]
    },
    {
     "data": {
      "text/plain": [
       "<unittest.runner.TextTestResult run=3 errors=0 failures=0>"
      ]
     },
     "execution_count": 12,
     "metadata": {},
     "output_type": "execute_result"
    }
   ],
   "source": [
    "class TestUnboundedKnapsack_Recursive(unittest.TestCase):\n",
    "    def test_case_1(self):\n",
    "        weight = [1, 50]\n",
    "        value  = [1, 30]\n",
    "        tw     = 100\n",
    "        self.assertEqual( zero_one_unbounded_knapsack_recursive( weight, value, tw, len(value) ), 100)\n",
    "\n",
    "    def test_case_2(self):\n",
    "        weight = [1, 3, 4, 5]\n",
    "        value  = [10, 40, 50, 70]\n",
    "        tw     = 8\n",
    "        self.assertEqual( zero_one_unbounded_knapsack_recursive( weight, value, tw, len(value) ), 110)\n",
    "        \n",
    "    def test_case_3(self):\n",
    "        weight = [1, 1]\n",
    "        value  = [2, 1]\n",
    "        tw     = 3\n",
    "        self.assertEqual( zero_one_unbounded_knapsack_recursive( weight, value, tw, len(value) ), 6)\n",
    "            \n",
    "# Run only the new test cases\n",
    "suite = unittest.TestLoader().loadTestsFromTestCase( TestUnboundedKnapsack_Recursive )\n",
    "unittest.TextTestRunner().run(suite)"
   ]
  },
  {
   "cell_type": "markdown",
   "id": "1d5663fe",
   "metadata": {},
   "source": [
    "#### [SubProblem-1] Rod Cutting:\n",
    "\n",
    "- Given a rod of length **n** inches and an array **price[]**. \n",
    "- price[i] denotes the value of a piece of length i. The task is to determine the **maximum** value obtainable by cutting up the rod and selling the pieces.\n",
    "\n",
    "- Note: price[] is 1-indexed array."
   ]
  },
  {
   "cell_type": "code",
   "execution_count": 13,
   "id": "fea6cf56",
   "metadata": {},
   "outputs": [
    {
     "data": {
      "text/plain": [
       "[8, 7, 6, 5, 4, 3, 2, 1]"
      ]
     },
     "execution_count": 13,
     "metadata": {},
     "output_type": "execute_result"
    }
   ],
   "source": [
    "[ i for i in range(1, 8 + 1) ][::-1]   "
   ]
  },
  {
   "cell_type": "markdown",
   "id": "03365985",
   "metadata": {},
   "source": [
    "#### [SubProblem-2] Coin Change I\n",
    "\n",
    "- Given an integer array of **coins[]** of size **n** representing different types of denominations and an **integer sum**, the task is to **count all combinations** of coins to **make a given value sum**.\n",
    "\n",
    "- Note: Assume that you have an infinite supply of each type of coin."
   ]
  },
  {
   "cell_type": "markdown",
   "id": "a9d16ae4",
   "metadata": {},
   "source": [
    "#### [SubProblem-3] Coin Change II\n",
    "\n",
    "- Given an array of **coins[]** of size **n** and a target value **sum**, where coins[i] represent the coins of different denominations. You have an infinite supply of each of the coins. \n",
    "- The task is to find the **minimum** number of coins required to make the given value sum. If it’s not possible to make a change, return -1."
   ]
  },
  {
   "cell_type": "markdown",
   "id": "48dd4393",
   "metadata": {},
   "source": [
    "----\n",
    "----\n",
    "### [Parent Problem-3] Longest Common Subsequence (LCS):\n",
    "\n",
    "- Given two strings, **s1** and **s2**, the task is to find the length of the Longest Common Subsequence. If there is no common subsequence, return 0.\n",
    "\n",
    "- A subsequence is a string generated from the original string by deleting 0 or more characters and without changing the relative order of the remaining characters. \n",
    "\n",
    "- For example , subsequences of “ABC” are **“”, “A”, “B”, “C”, “AB”, “AC”, “BC” and “ABC”**.\n",
    "- In general a string of length n has 2n subsequences."
   ]
  },
  {
   "cell_type": "code",
   "execution_count": 14,
   "id": "3ab14097",
   "metadata": {},
   "outputs": [],
   "source": [
    "def longest_common_subsequence(string1, string2, n, m):\n",
    "            \n",
    "    if n==0 or m==0:\n",
    "        return 0    # length of the empty subsequence\n",
    "    \n",
    "    if string1[n-1] == string2[m-1]:\n",
    "        return 1 + longest_common_subsequence(string1, string2, n-1, m-1)\n",
    "    else:\n",
    "        longestLeft  = longest_common_subsequence(string1, string2, n-1,   m)\n",
    "        longestRight = longest_common_subsequence(string1, string2,   n, m-1)\n",
    "        return max(longestLeft, longestRight)\n",
    "\n",
    "# memoized version\n",
    "def longest_common_subsequence_memo(string1, string2, n, m, memo=None):\n",
    "    \n",
    "    if memo is None:\n",
    "        memo = {}\n",
    "        \n",
    "    if (n, m) in memo:\n",
    "        return memo[(n, m)]\n",
    "        \n",
    "    if n==0 or m==0:\n",
    "        return 0    # length of the empty subsequence\n",
    "    \n",
    "    if string1[n-1] == string2[m-1]:\n",
    "        memo[(n, m)] = 1 + longest_common_subsequence_memo(string1, string2, n-1, m-1, memo)\n",
    "    else:\n",
    "        longestLeft  = longest_common_subsequence_memo(string1, string2, n-1,   m, memo)\n",
    "        longestRight = longest_common_subsequence_memo(string1, string2,   n, m-1, memo)\n",
    "        memo[(n, m)] = max(longestLeft, longestRight)\n",
    "    \n",
    "    return memo[(n, m)]"
   ]
  },
  {
   "cell_type": "code",
   "execution_count": 15,
   "id": "4a5eb32c",
   "metadata": {},
   "outputs": [
    {
     "name": "stderr",
     "output_type": "stream",
     "text": [
      "....\n",
      "----------------------------------------------------------------------\n",
      "Ran 4 tests in 0.003s\n",
      "\n",
      "OK\n"
     ]
    },
    {
     "data": {
      "text/plain": [
       "<unittest.runner.TextTestResult run=4 errors=0 failures=0>"
      ]
     },
     "execution_count": 15,
     "metadata": {},
     "output_type": "execute_result"
    }
   ],
   "source": [
    "class TestLCS_Recursive_memo(unittest.TestCase):\n",
    "    def test_case_1(self):\n",
    "        string1 = \"ABC\"\n",
    "        string2 = \"ACD\"\n",
    "        n, m = len(string1), len(string2)\n",
    "        self.assertEqual( longest_common_subsequence_memo(string1, string2, n, m), 2)\n",
    "\n",
    "    def test_case_2(self):\n",
    "        string1 = \"AGGTAB\"\n",
    "        string2 = \"GXTXAYB\"\n",
    "        n, m = len(string1), len(string2)\n",
    "        self.assertEqual( longest_common_subsequence_memo(string1, string2, n, m), 4)\n",
    "        \n",
    "    def test_case_3(self):\n",
    "        string1 = \"ABC\"\n",
    "        string2 = \"CBA\"\n",
    "        n, m = len(string1), len(string2)\n",
    "        self.assertEqual( longest_common_subsequence_memo(string1, string2, n, m), 1)\n",
    "        \n",
    "    def test_case_4(self):\n",
    "        string1 = \"abacada\"\n",
    "        string2 = \"a\"*500\n",
    "        n, m = len(string1), len(string2)\n",
    "        self.assertEqual( longest_common_subsequence_memo(string1, string2, n, m), 4)\n",
    "        \n",
    "# Run only the new test cases\n",
    "suite = unittest.TestLoader().loadTestsFromTestCase( TestLCS_Recursive_memo )\n",
    "unittest.TextTestRunner().run(suite)"
   ]
  },
  {
   "cell_type": "code",
   "execution_count": 16,
   "id": "1030bbbf",
   "metadata": {},
   "outputs": [
    {
     "name": "stderr",
     "output_type": "stream",
     "text": [
      "....\n",
      "----------------------------------------------------------------------\n",
      "Ran 4 tests in 8.751s\n",
      "\n",
      "OK\n"
     ]
    },
    {
     "data": {
      "text/plain": [
       "<unittest.runner.TextTestResult run=4 errors=0 failures=0>"
      ]
     },
     "execution_count": 16,
     "metadata": {},
     "output_type": "execute_result"
    }
   ],
   "source": [
    "class TestLCS_Recursive(unittest.TestCase):\n",
    "    def test_case_1(self):\n",
    "        string1 = \"ABC\"\n",
    "        string2 = \"ACD\"\n",
    "        n, m = len(string1), len(string2)\n",
    "        self.assertEqual( longest_common_subsequence(string1, string2, n, m), 2)\n",
    "\n",
    "    def test_case_2(self):\n",
    "        string1 = \"AGGTAB\"\n",
    "        string2 = \"GXTXAYB\"\n",
    "        n, m = len(string1), len(string2)\n",
    "        self.assertEqual( longest_common_subsequence(string1, string2, n, m), 4)\n",
    "        \n",
    "    def test_case_3(self):\n",
    "        string1 = \"ABC\"\n",
    "        string2 = \"CBA\"\n",
    "        n, m = len(string1), len(string2)\n",
    "        self.assertEqual( longest_common_subsequence(string1, string2, n, m), 1)\n",
    "        \n",
    "    def test_case_4(self):\n",
    "        string1 = \"abacada\"\n",
    "        string2 = \"a\"*500\n",
    "        n, m = len(string1), len(string2)\n",
    "        self.assertEqual( longest_common_subsequence(string1, string2, n, m), 4)\n",
    "        \n",
    "# Run only the new test cases\n",
    "suite = unittest.TestLoader().loadTestsFromTestCase( TestLCS_Recursive )\n",
    "unittest.TextTestRunner().run(suite)"
   ]
  },
  {
   "cell_type": "markdown",
   "id": "b2db33f4",
   "metadata": {},
   "source": [
    "#### [SubProblem-1]: Print Longest Common Subseqeunce (LCS)\n",
    "\n",
    "- Given two strings ‘s1‘ and ‘s2‘, print the longest common sub-sequence."
   ]
  },
  {
   "cell_type": "code",
   "execution_count": 17,
   "id": "6ba252b4",
   "metadata": {},
   "outputs": [],
   "source": [
    "def print_lcs(string1, string2, n, m):\n",
    "    \n",
    "    if n==0 or m==0:\n",
    "        return 0, \"\" # length of LCS, and the LCS itself\n",
    "    \n",
    "    if string1[n-1]==string2[m-1]:\n",
    "        curr_len, curr_seq = print_lcs(string1, string2, n-1, m-1)\n",
    "        return 1 + curr_len, curr_seq + string1[n-1]\n",
    "    \n",
    "    else:\n",
    "        left_len, left_seq = print_lcs(string1, string2, n-1, m)\n",
    "        right_len, right_seq = print_lcs(string1, string2, n, m-1)\n",
    "        \n",
    "        if left_len > right_len:\n",
    "            return left_len, left_seq\n",
    "        else:\n",
    "            return right_len, right_seq"
   ]
  },
  {
   "cell_type": "code",
   "execution_count": 18,
   "id": "569508e2",
   "metadata": {},
   "outputs": [
    {
     "name": "stdout",
     "output_type": "stream",
     "text": [
      "(2, 'AC')\n",
      "(4, 'GTAB')\n",
      "(1, 'C')\n"
     ]
    }
   ],
   "source": [
    "string1 = \"ABC\"\n",
    "string2 = \"ACD\"\n",
    "n, m = len(string1), len(string2)\n",
    "print( print_lcs(string1, string2, n, m) )\n",
    "\n",
    "string1 = \"AGGTAB\"\n",
    "string2 = \"GXTXAYB\"\n",
    "n, m = len(string1), len(string2)\n",
    "print( print_lcs(string1, string2, n, m) )\n",
    "\n",
    "string1 = \"ABC\"\n",
    "string2 = \"CBA\"\n",
    "n, m = len(string1), len(string2)\n",
    "print( print_lcs(string1, string2, n, m) )"
   ]
  },
  {
   "cell_type": "markdown",
   "id": "917b3d0a",
   "metadata": {},
   "source": [
    "#### [SubProblem-2] Print All Common Subseqeunces:\n",
    "\n",
    "- Print all common subsequences between two strings: string1, string2\n",
    "\n",
    "- If you can **reason** through this problem and **visulize** all the recrusive calls, then you can solve pretty much any variation (there are **SO MANY** variations of this problem btw) of this problem."
   ]
  },
  {
   "cell_type": "code",
   "execution_count": 19,
   "id": "520e28e5",
   "metadata": {},
   "outputs": [],
   "source": [
    "def print_common_subsequences(string1, string2, n, m):\n",
    "    \n",
    "    if n==0 or m==0:\n",
    "        return [\"\"]    # length of the empty subsequence\n",
    "    \n",
    "    if string1[n-1] == string2[m-1]:\n",
    "        common_subs = print_common_subsequences(string1, string2, n-1, m-1)       \n",
    "        new_common_subs = [sub + string1[n-1] for sub in common_subs] # make sure to create a new list       \n",
    "        return new_common_subs\n",
    "\n",
    "    else:\n",
    "        common_subs_left  = print_common_subsequences(string1, string2, n-1,   m)\n",
    "        common_subs_right = print_common_subsequences(string1, string2,   n, m-1)\n",
    "        return list( set(common_subs_left + common_subs_right) )\n",
    "    \n",
    "    \n",
    "def print_common_subsequences_memo(string1, string2, n, m, memo=None):\n",
    "    \n",
    "    if memo is None:\n",
    "        memo={}\n",
    "    \n",
    "    if n==0 or m==0:\n",
    "        return [\"\"]    # length of the empty subsequence\n",
    "    \n",
    "    if (n, m) in memo:\n",
    "        return memo[(n, m)]\n",
    "    \n",
    "    if string1[n-1] == string2[m-1]:\n",
    "        common_subs = print_common_subsequences_memo(string1, string2, n-1, m-1, memo)       \n",
    "        new_common_subs = [sub + string1[n-1] for sub in common_subs] # make sure to create a new list\n",
    "        memo[(n, m)] = new_common_subs\n",
    "\n",
    "    else:\n",
    "        common_subs_left  = print_common_subsequences_memo(string1, string2, n-1,   m, memo)\n",
    "        common_subs_right = print_common_subsequences_memo(string1, string2,   n, m-1, memo)\n",
    "        memo[(n, m)] = list( set(common_subs_left + common_subs_right) )    \n",
    "    \n",
    "    return memo[(n, m)]"
   ]
  },
  {
   "cell_type": "code",
   "execution_count": 20,
   "id": "42dfd6a7",
   "metadata": {},
   "outputs": [
    {
     "name": "stdout",
     "output_type": "stream",
     "text": [
      "['a', 'aaa', 'aaaa', 'aa']\n",
      "Total time taken is: 8.20619010925293\n"
     ]
    }
   ],
   "source": [
    "import time\n",
    "\n",
    "string1 = \"abacada\" \n",
    "string2 = \"a\"*400\n",
    "n, m = len(string1), len(string2)\n",
    "\n",
    "start_time = time.time()\n",
    "print( print_common_subsequences(string1, string2, n, m) )\n",
    "end_time = time.time()\n",
    "\n",
    "print(f\"Total time taken is: {end_time - start_time}\")"
   ]
  },
  {
   "cell_type": "code",
   "execution_count": 21,
   "id": "a545083c",
   "metadata": {},
   "outputs": [
    {
     "name": "stdout",
     "output_type": "stream",
     "text": [
      "['a', 'aaa', 'aaaa', 'aa']\n",
      "Total time taken is: 0.0015990734100341797\n"
     ]
    }
   ],
   "source": [
    "string1 = \"abacada\"\n",
    "string2 = \"a\"*400\n",
    "n, m = len(string1), len(string2)\n",
    "\n",
    "start_time = time.time()\n",
    "print( print_common_subsequences_memo(string1, string2, n, m) )\n",
    "end_time = time.time()\n",
    "\n",
    "print(f\"Total time taken is: {end_time - start_time}\")"
   ]
  },
  {
   "cell_type": "markdown",
   "id": "92d61f25",
   "metadata": {},
   "source": [
    "#### [SubProblem-3]: Longest Common Substring\n",
    "\n",
    "- Given two strings ‘s1‘ and ‘s2‘, find the **length** of the longest common **substring**."
   ]
  },
  {
   "cell_type": "markdown",
   "id": "3bf98ff6",
   "metadata": {},
   "source": [
    "#### [SubProblem-4]: Print Longest Common Substring\n",
    "\n",
    "- Given two strings ‘s1‘ and ‘s2‘, print the longest common **substring**."
   ]
  },
  {
   "cell_type": "markdown",
   "id": "d5e7f99f",
   "metadata": {},
   "source": [
    "#### [SubProblem-5]: Shortest Common Super Sequence\n",
    "\n",
    "- Given two strings ‘s1‘ and ‘s2‘, find the **length** of the shortest string that has both s1 and s2 as subsequences."
   ]
  },
  {
   "cell_type": "markdown",
   "id": "502f5ebd",
   "metadata": {},
   "source": [
    "#### [SubProblem-6]: Print Shortest Common Super Sequence\n",
    "\n",
    "- Given two strings s1 and s2, print the **shortest string** which has both s1 and s2 as its sub-sequences. If multiple shortest super-sequence exists, print any one of them."
   ]
  },
  {
   "cell_type": "code",
   "execution_count": 22,
   "id": "e09eec68",
   "metadata": {},
   "outputs": [],
   "source": [
    "def print_scs(string1, string2, n, m):\n",
    "    \n",
    "    # base condition\n",
    "    if n==0:\n",
    "        return m, string2[:m] # key!\n",
    "    if m==0:\n",
    "        return n, string1[:n]\n",
    "    \n",
    "    # choice diagram!\n",
    "    if string1[n-1]==string2[m-1]:\n",
    "        curr_len, curr_seq = print_scs(string1, string2, n-1, m-1)\n",
    "        return 1 + curr_len, curr_seq + string1[n-1]\n",
    "    \n",
    "    else:\n",
    "        left_len, left_seq = print_scs(string1, string2, n-1, m)\n",
    "        right_len, right_seq = print_scs(string1, string2, n, m-1)\n",
    "        \n",
    "        if left_len < right_len:\n",
    "            return 1 + left_len, left_seq + string1[n-1]\n",
    "        else:\n",
    "            return 1 + right_len, right_seq + string2[m-1]"
   ]
  },
  {
   "cell_type": "code",
   "execution_count": 23,
   "id": "c1fe2167",
   "metadata": {},
   "outputs": [
    {
     "name": "stdout",
     "output_type": "stream",
     "text": [
      "(4, 'ABCD')\n",
      "(9, 'AGGXTXAYB')\n",
      "(5, 'ABCBA')\n"
     ]
    }
   ],
   "source": [
    "string1 = \"ABC\"\n",
    "string2 = \"ACD\"\n",
    "n, m = len(string1), len(string2)\n",
    "print( print_scs(string1, string2, n, m) )\n",
    "\n",
    "string1 = \"AGGTAB\"\n",
    "string2 = \"GXTXAYB\"\n",
    "n, m = len(string1), len(string2)\n",
    "print( print_scs(string1, string2, n, m) )\n",
    "\n",
    "string1 = \"ABC\"\n",
    "string2 = \"CBA\"\n",
    "n, m = len(string1), len(string2)\n",
    "print( print_scs(string1, string2, n, m) )"
   ]
  },
  {
   "cell_type": "markdown",
   "id": "81252a5f",
   "metadata": {},
   "source": [
    "#### [SubProblem-7]: Minimum Number of Insertion and Deletion to convert String A to String B\n",
    "\n",
    "- Given two strings s1 and s2. The task is to remove/delete and insert the minimum number of characters from s1 to transform it into s2. \n",
    "\n",
    "- It could be possible that the same character needs to be removed/deleted from one point of s1 and inserted at another point."
   ]
  },
  {
   "cell_type": "markdown",
   "id": "5840f315",
   "metadata": {},
   "source": [
    "#### [SubProblem-8]: Longest Palindromic Subsequence (LPS)\n",
    "\n",
    "- Given a string **s**, find the length of the Longest Palindromic Subsequence in it.\n",
    "\n",
    "- Note: The Longest Palindromic Subsequence (LPS) is the maximum-length subsequence of a given string that is also a Palindrome."
   ]
  },
  {
   "cell_type": "markdown",
   "id": "b17949be",
   "metadata": {},
   "source": [
    "#### [SubProblem-9]:  Minimum number of deletion in a string to make it a palindrome\n",
    "\n",
    "- Given a string of size ‘n’. The task is to remove or delete the minimum number of characters from the string so that the resultant string is a palindrome. \n",
    "\n",
    "- Note: The order of characters should be maintained."
   ]
  },
  {
   "cell_type": "markdown",
   "id": "67b3856a",
   "metadata": {},
   "source": [
    "#### [SubProblem-10]: Longest repeating subsequence\n",
    "\n",
    "- Given a string s, the task is to find the longest repeating subsequence, such that the two subsequences don’t have the same string character at the same position, i.e. any $i^{th}$ character in the two subsequences shouldn’t have the same index in the original string."
   ]
  },
  {
   "cell_type": "markdown",
   "id": "3e2caf36",
   "metadata": {},
   "source": [
    "#### [SubProblem-11]: Sequence Pattern Matching\n",
    "\n",
    "- Given two strings s and t, return true if s is a subsequence of t, or false otherwise.\n",
    "\n",
    "- A subsequence of a string is a new string that is formed from the original string by deleting some (can be none) of the characters without disturbing the relative positions of the remaining characters.\n",
    "\n",
    "- (i.e., \"ace\" is a subsequence of \"abcde\" while \"aec\" is not)."
   ]
  },
  {
   "cell_type": "markdown",
   "id": "7ad4a671",
   "metadata": {},
   "source": [
    "#### [SubProblem-12]: Minimum insertions to form a palindrome\n",
    "\n",
    "- Given string str, the task is to find the minimum number of characters to be inserted to convert it to a palindrome."
   ]
  },
  {
   "cell_type": "markdown",
   "id": "e31d7972",
   "metadata": {},
   "source": [
    "----\n",
    "----\n",
    "### [Parent Problem-4]: Find number of times string A occurs as a subsequence string B\n",
    "\n",
    "- Given two strings, find the number of times the second string occurs in the first string, whether continuous or discontinuous."
   ]
  },
  {
   "cell_type": "markdown",
   "id": "612fb5dc",
   "metadata": {},
   "source": [
    "#### [SubProblem-1]: Distinct Subsequences (With Repetition)\n",
    "\n",
    "- Problem: Count the number of distinct subsequences of A."
   ]
  },
  {
   "cell_type": "code",
   "execution_count": 28,
   "id": "9a26cff8",
   "metadata": {},
   "outputs": [
    {
     "name": "stdout",
     "output_type": "stream",
     "text": [
      "4 ['', 'm', 'm', 'mm']\n"
     ]
    }
   ],
   "source": [
    "def subseqeunces(string, n):\n",
    "    \n",
    "    if n==0:\n",
    "        return [\"\"]\n",
    "    \n",
    "    current_sub_seq = subseqeunces(string, n-1)\n",
    "    \n",
    "    new_include = [sub_seq + string[n-1] for sub_seq in current_sub_seq]\n",
    "    \n",
    "    return current_sub_seq + new_include\n",
    "\n",
    "string = \"mm\"\n",
    "n = len(string)\n",
    "values = subseqeunces(string, n)\n",
    "print(len(values), values)"
   ]
  },
  {
   "cell_type": "markdown",
   "id": "ae84865a",
   "metadata": {},
   "source": [
    "#### [SubProblem-2]: Count Subsequences That Follow a Pattern\n",
    "\n",
    "- Given a pattern (like \"abc\"), count how many times it appears in B as a subsequence."
   ]
  },
  {
   "cell_type": "markdown",
   "id": "726e3665",
   "metadata": {},
   "source": [
    "#### [SubProblem-3]: Lexicographically Smallest Subsequence\n",
    "\n",
    "- Find the smallest lexicographic subsequence of B that contains all characters of A."
   ]
  },
  {
   "cell_type": "code",
   "execution_count": null,
   "id": "8e246178",
   "metadata": {},
   "outputs": [],
   "source": []
  },
  {
   "cell_type": "markdown",
   "id": "9945918e",
   "metadata": {},
   "source": [
    "----\n",
    "----\n",
    "### [Parent Problem-5]: Matrix Chain Multiplication\n",
    "\n",
    "- "
   ]
  },
  {
   "cell_type": "code",
   "execution_count": null,
   "id": "3bf3fa08",
   "metadata": {},
   "outputs": [],
   "source": []
  }
 ],
 "metadata": {
  "kernelspec": {
   "display_name": "Python 3 (ipykernel)",
   "language": "python",
   "name": "python3"
  },
  "language_info": {
   "codemirror_mode": {
    "name": "ipython",
    "version": 3
   },
   "file_extension": ".py",
   "mimetype": "text/x-python",
   "name": "python",
   "nbconvert_exporter": "python",
   "pygments_lexer": "ipython3",
   "version": "3.10.12"
  }
 },
 "nbformat": 4,
 "nbformat_minor": 5
}
