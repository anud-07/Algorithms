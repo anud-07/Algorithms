{
 "cells": [
  {
   "cell_type": "code",
   "execution_count": 1,
   "id": "c42431f0",
   "metadata": {},
   "outputs": [
    {
     "data": {
      "text/html": [
       "<style>.container { width:100% !important; }</style>"
      ],
      "text/plain": [
       "<IPython.core.display.HTML object>"
      ]
     },
     "metadata": {},
     "output_type": "display_data"
    }
   ],
   "source": [
    "from IPython.display import display, HTML\n",
    "display(HTML(\"<style>.container { width:100% !important; }</style>\"))"
   ]
  },
  {
   "cell_type": "markdown",
   "id": "17d2f41b",
   "metadata": {},
   "source": [
    "### 1. Deque (Double-Ended Queue) Data Structure\n",
    "\n",
    "from collections import deque\n",
    "\n",
    "dq = deque()\n",
    "\n",
    "The usual methods responsible for Queue\n",
    "```\n",
    "- dq.append()\n",
    "- dq.popleft()\n",
    "```\n",
    "\n",
    "Two additional methods that make it a dequeue:\n",
    "```\n",
    "- dq.appendleft()\n",
    "- dq.pop()\n",
    "```\n",
    "\n",
    "How can you implement your own version?\n",
    "- Linked List implementation (which one would you use?)\n",
    "- Array implementation (which one would you use?)\n",
    "\n",
    "Applications\n",
    "- A deque can be used as both a stack and queue\n",
    "- Maintaining history of web pages visited given a **fixed** size buffer\n",
    "- A steal process scheduling algorithm\n",
    "    - Multiple processors and these processors have their own different queues\n",
    "    - If threads are executed from each own's respective queue, then their own respective queue is sufficient for analysis\n",
    "    - However, if the processors have the ability to execute threads of another processor, then say P2 can pick a thread from the rear of P1's queue\n",
    "- Can help in implementing a **priority queue** with two types of priorities\n",
    "- Maximum/Minimum of all subarrays of size **K** in an array"
   ]
  },
  {
   "cell_type": "markdown",
   "id": "00103437",
   "metadata": {},
   "source": [
    "### 2. Array Implementation of Deque"
   ]
  },
  {
   "cell_type": "markdown",
   "id": "5f8f2c49",
   "metadata": {},
   "source": [
    "### 3. Design a Data Structure with Min and Max operations"
   ]
  },
  {
   "cell_type": "markdown",
   "id": "6284f4d8",
   "metadata": {},
   "source": [
    "### 4. Maximums/Minimums of all subarrays of size $K$"
   ]
  },
  {
   "cell_type": "markdown",
   "id": "b7675426",
   "metadata": {},
   "source": [
    "### 5. First Circular Tour of the Truck"
   ]
  },
  {
   "cell_type": "code",
   "execution_count": null,
   "id": "8f04eb34",
   "metadata": {},
   "outputs": [],
   "source": []
  }
 ],
 "metadata": {
  "kernelspec": {
   "display_name": "Python 3 (ipykernel)",
   "language": "python",
   "name": "python3"
  },
  "language_info": {
   "codemirror_mode": {
    "name": "ipython",
    "version": 3
   },
   "file_extension": ".py",
   "mimetype": "text/x-python",
   "name": "python",
   "nbconvert_exporter": "python",
   "pygments_lexer": "ipython3",
   "version": "3.10.13"
  }
 },
 "nbformat": 4,
 "nbformat_minor": 5
}
