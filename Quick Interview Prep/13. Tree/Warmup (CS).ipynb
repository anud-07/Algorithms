{
 "cells": [
  {
   "cell_type": "markdown",
   "id": "d309aa7b",
   "metadata": {},
   "source": [
    "- For a non-binary tree, we can use a list to hold the links to the child nodes since their number isn't fixed."
   ]
  },
  {
   "cell_type": "code",
   "execution_count": 1,
   "id": "0974a559",
   "metadata": {},
   "outputs": [],
   "source": [
    "class Node:\n",
    "    def __init__(self, value):\n",
    "        self.value = value\n",
    "        self.children = []"
   ]
  },
  {
   "cell_type": "code",
   "execution_count": 2,
   "id": "69e9e242",
   "metadata": {},
   "outputs": [],
   "source": [
    "# Creating nodes for the tree.\n",
    "root = Node(1)\n",
    "root.children = [Node(2), Node(3), Node(4)]\n",
    "root.children[0].children = [Node(5), Node(6)]\n",
    "root.children[2].children = [Node(7)]"
   ]
  },
  {
   "cell_type": "markdown",
   "id": "0b2bb190",
   "metadata": {},
   "source": [
    "- Consider the binary tree. Below is the Node class, representing a single node in a binary tree. Each Node object can hold a value and has two pointers, left and right, initially set to None."
   ]
  },
  {
   "cell_type": "code",
   "execution_count": 3,
   "id": "780d18ff",
   "metadata": {},
   "outputs": [],
   "source": [
    "class Node:\n",
    "    def __init__(self, value):\n",
    "        self.value = value\n",
    "        self.left = None\n",
    "        self.right = None"
   ]
  },
  {
   "cell_type": "code",
   "execution_count": 4,
   "id": "a0817b78",
   "metadata": {},
   "outputs": [],
   "source": [
    "# Creating nodes for the tree.\n",
    "root = Node(1)\n",
    "root.left = Node(2)\n",
    "root.right = Node(3)\n",
    "root.left.left = Node(4)\n",
    "root.left.right = Node(5)\n",
    "root.right.right = Node(6)"
   ]
  },
  {
   "cell_type": "markdown",
   "id": "60381ed1",
   "metadata": {},
   "source": [
    "## Binary Tree Traversal\n",
    "\n",
    "- Trees are dynamic data structures permitting several operations, such as **insertion** (adding a new node), **deletion** (removing an existing node), and **traversal** (accessing or visiting all nodes in a specific order).\n",
    "\n",
    "- **Traversal** of the binary tree is a process of visiting all nodes of a tree and possibly printing their values. Since all nodes are connected via edges (links), we always start from the **root** (head) node. We cannot randomly access a node in a tree. \n",
    "- There are three ways to traverse a tree:\n",
    "\n",
    "    - **In-order Traversal**: In this method, the left subtree is visited first, then the root, and later the right subtree. We should always remember that every node may represent a subtree itself.\n",
    "\n",
    "    - **Pre-order Traversal**: In this method, the root node is visited first, then the left subtree, and finally the right subtree.\n",
    "\n",
    "    - **Post-order Traversal**: In this method, the root node is visited last, hence the name. We first traverse the left subtree, then the right subtree, and finally, the root node."
   ]
  },
  {
   "cell_type": "code",
   "execution_count": 5,
   "id": "24135781",
   "metadata": {},
   "outputs": [
    {
     "name": "stdout",
     "output_type": "stream",
     "text": [
      "4 -> 2 -> 5 -> 1 -> 3 -> 6 -> "
     ]
    }
   ],
   "source": [
    "def in_order_traversal(node):\n",
    "    if node is None:\n",
    "        return\n",
    "    in_order_traversal(node.left)\n",
    "    print(str(node.value) + ' -> ', end='')\n",
    "    in_order_traversal(node.right)\n",
    "\n",
    "in_order_traversal(root)\n",
    "# Output: 4 -> 2 -> 5 -> 1 -> 3 -> 6 ->"
   ]
  },
  {
   "cell_type": "markdown",
   "id": "1f702016",
   "metadata": {},
   "source": [
    "## Tree Operations: Insertion and Deletion\n",
    "\n",
    "- Usually, information is inserted into a tree as a node. In a binary tree, a new node is inserted as the left or the right child of an existing node. An **algorithm** for inserting a node can be established by **identifying** an **appropriate location** for the new node. \n",
    "- Deleting a node from a tree structure requires **identifying** the node, studying its properties, and subsequently transforming the tree structure.\n",
    "\n",
    "- Here's how our tree definitions look with these operations implemented:"
   ]
  },
  {
   "cell_type": "code",
   "execution_count": 6,
   "id": "bd3a21cb",
   "metadata": {},
   "outputs": [],
   "source": [
    "class TreeNode:\n",
    "    def __init__(self, value):\n",
    "        self.value = value\n",
    "        self.children = []\n",
    "\n",
    "    def add_child(self, child_node):\n",
    "        self.children.append(child_node)\n",
    "    \n",
    "    def remove_child(self, child_node):\n",
    "        self.children = [child for child in self.children if child is not child_node]"
   ]
  },
  {
   "cell_type": "markdown",
   "id": "7a890c85",
   "metadata": {},
   "source": [
    "## Complexity Analysis: Binary and Non-Binary Trees\n",
    "\n",
    "- For **binary trees**, the worst-case time complexity for **searching**, **insertion**, or **deletion** is **O(n)**, where n is the number of nodes. This complexity arises because, in the worst case, you might have to traverse all nodes. However, in ideal circumstances (where the tree is perfectly balanced), operations on binary trees run in **O(logn)** time.\n",
    "\n",
    "- Comparatively, for non-binary trees, **searching** for or **deleting** a node can still be **O(n)**, but **insertion** may be more efficient — **O(1)** — if we keep track of where the next insertion should happen; if we don't, the complexity is the same as in binary tree."
   ]
  },
  {
   "cell_type": "markdown",
   "id": "33c98c61",
   "metadata": {},
   "source": [
    "## DFS in Action: Python Implementation\n",
    "Now that we understand the DFS algorithm let's translate it into Python code. For simplicity, we have prepared an example of the tree:"
   ]
  },
  {
   "cell_type": "code",
   "execution_count": 7,
   "id": "2d519639",
   "metadata": {},
   "outputs": [
    {
     "name": "stdout",
     "output_type": "stream",
     "text": [
      "A -> B -> E -> F -> I -> J -> C -> D -> G -> H\n"
     ]
    }
   ],
   "source": [
    "def dfs(tree, root, visited, traversal):\n",
    "    traversal.append(root)\n",
    "    visited.add(root)\n",
    "\n",
    "    for child in tree[root]:\n",
    "        if child not in visited:\n",
    "            dfs(tree, child, visited, traversal)\n",
    "\n",
    "tree = {\n",
    "    'A': ['B', 'C', 'D'],\n",
    "    'B': ['A', 'E', 'F'],\n",
    "    'C': ['A'],\n",
    "    'D': ['A', 'G', 'H'],\n",
    "    'E': ['B'],\n",
    "    'F': ['B', 'I', 'J'],\n",
    "    'G': ['D'],\n",
    "    'H': ['D'],\n",
    "    'I': ['F'],\n",
    "    'J': ['F'],\n",
    "}\n",
    "visited = set()\n",
    "traversal = []\n",
    "dfs(tree, 'A', visited, traversal)\n",
    "\n",
    "print(' -> '.join(traversal))"
   ]
  },
  {
   "cell_type": "markdown",
   "id": "5dfe134b",
   "metadata": {},
   "source": [
    "## DFS Time and Space Complexity\n",
    "\n",
    "- Understanding an algorithm's efficiency is a crucial aspect of comprehending any algorithm. Efficiency includes time and space complexity, both of which consider how running time or memory space used by an algorithm increases with the input size.\n",
    "\n",
    "- For DFS, the time complexity is **O(V+E)**, where **V** represents the number of vertices (or nodes), and **E** represents the number of edges. DFS needs to visit every edge and vertex at least once, which dictates its time complexity. For trees specifically, as **E=V−1**, the dfs time complexity is **O(V)**.\n",
    "\n",
    "- The space complexity of DFS is **O(V)**."
   ]
  },
  {
   "cell_type": "markdown",
   "id": "77257dda",
   "metadata": {},
   "source": [
    "## DFS Application: Solving Complex Problems\n",
    "\n",
    "- Practical application solidifies theoretical understanding. DFS is used extensively to solve complex problems related to:\n",
    "    - **connected components** \n",
    "    - **topological sorting**\n",
    "    - **detecting cycles**\n",
    "    \n",
    "among other issues. For example, if we need to find a **path** from node **'A'** to **'J'** in our tree above, DFS can identify such a path."
   ]
  },
  {
   "cell_type": "code",
   "execution_count": 8,
   "id": "c5e7a53a",
   "metadata": {},
   "outputs": [
    {
     "name": "stdout",
     "output_type": "stream",
     "text": [
      "['A', 'B', 'F', 'J']\n"
     ]
    }
   ],
   "source": [
    "def find_path(tree, start, end, visited, path=[]):\n",
    "    path = path + [start]\n",
    "    visited.add(start)\n",
    "    if start == end:\n",
    "        return path\n",
    "    for node in tree[start]:\n",
    "        if node not in visited:\n",
    "            new_path = find_path(tree, node, end, visited, path)\n",
    "            if new_path:\n",
    "                return new_path\n",
    "    return None\n",
    "\n",
    "visited = set()\n",
    "print(find_path(tree, 'A', 'J', visited))\n",
    "# Output: ['A', 'B', 'F', 'J']"
   ]
  },
  {
   "cell_type": "markdown",
   "id": "1cc4ba55",
   "metadata": {},
   "source": [
    "---- \n",
    "## Trees and BFS in Python\n",
    "\n",
    "- To implement BFS in Python, we'll take advantage of Python's inbuilt `collection deque` to create a FIFO queue.\n",
    "\n",
    "- The main advantage of using deque from the collections module as a queue instead of a list is that deque provides an `O(1)` complexity for append and pop operations compared to a list that provides `O(n)` complexity.\n",
    "\n",
    "- BFS finds high application in **computer networks to broadcast packets**, **check live hosts**, etc., assuming the network graph to be a tree.\n",
    "\n",
    "- Here's a chunk of BFS code on a tree created using a dictionary where each key-value pair denotes a node and its children."
   ]
  },
  {
   "cell_type": "code",
   "execution_count": 9,
   "id": "adee6393",
   "metadata": {},
   "outputs": [],
   "source": [
    "from collections import deque\n",
    "\n",
    "def BFS(tree, root):\n",
    "    visited = set() # Set to keep track of visited nodes\n",
    "    visit_order = [] # List to keep visited nodes in order they are visited\n",
    "    queue = deque() # A queue to add nodes for visiting\n",
    "\n",
    "    queue.append(root) # We'll start at the root\n",
    "\n",
    "    while queue: # While there are nodes to visit.\n",
    "        node = queue.popleft() # Visit the first node in the queue\n",
    "        visit_order.append(node) # Add it to the list of visited nodes\n",
    "        visited.add(node) # And mark the node as visited\n",
    "\n",
    "        # Now add all unvisited children to the queue\n",
    "        for child in tree[node]:\n",
    "            if child not in visited:\n",
    "                queue.append(child)\n",
    "\n",
    "    return visit_order # Return the order of visited nodes"
   ]
  },
  {
   "cell_type": "code",
   "execution_count": 10,
   "id": "e289978a",
   "metadata": {},
   "outputs": [
    {
     "name": "stdout",
     "output_type": "stream",
     "text": [
      "['A', 'B', 'C', 'D', 'E', 'F', 'G', 'H', 'I', 'J']\n"
     ]
    }
   ],
   "source": [
    "# Tree definition\n",
    "tree = {\n",
    "  'A' : ['B', 'C', 'D'],\n",
    "  'B' : ['A', 'E'],\n",
    "  'C' : ['A', 'F','G'],\n",
    "  'D' : ['A', 'H'],\n",
    "  'E' : ['B', 'I'],\n",
    "  'F' : ['C'],\n",
    "  'G' : ['C', 'J'],\n",
    "  'H' : ['D'],\n",
    "  'I' : ['E'],\n",
    "  'J' : ['G']\n",
    "}\n",
    "\n",
    "print(BFS(tree, 'A'))\n",
    "# Output: ['A', 'B', 'C', 'D', 'E', 'F', 'G', 'H', 'I', 'J']"
   ]
  },
  {
   "cell_type": "markdown",
   "id": "ca373589",
   "metadata": {},
   "source": [
    "## Finding the number of Levels"
   ]
  },
  {
   "cell_type": "code",
   "execution_count": 11,
   "id": "94054ad0",
   "metadata": {},
   "outputs": [
    {
     "name": "stdout",
     "output_type": "stream",
     "text": [
      "\n",
      "Traversing completed!\n",
      "{'1': 0, '2': 1, '3': 1, '4': 1, '5': 2, '6': 2, '7': 2, '8': 2, '9': 2, '10': 3, '11': 3, '12': 3}\n"
     ]
    }
   ],
   "source": [
    "from collections import deque\n",
    "\n",
    "def BFS(graph, root):\n",
    "    visited = []\n",
    "    queue = deque()\n",
    "    queue.append(root)\n",
    "\n",
    "    level = {root: 0} # TODO: initialize levels dictionary\n",
    "\n",
    "    while queue:\n",
    "        vertex = queue.popleft()\n",
    "        visited.append(vertex)\n",
    "\n",
    "        level_of_vertex = level[vertex] # TODO: set the current level of vertex\n",
    "\n",
    "        for child in graph[vertex]:\n",
    "            if child not in visited:\n",
    "                queue.append(child)\n",
    "                level[child] = level[vertex] + 1 # TODO: set the level of the child\n",
    "\n",
    "    print(\"\\nTraversing completed!\")\n",
    "    return level\n",
    "\n",
    "graph = {\n",
    "  '1' : ['2', '3', '4'],\n",
    "  '2' : ['5', '6'],\n",
    "  '3' : ['7'],\n",
    "  '4' : ['8', '9'],\n",
    "  '5' : [],\n",
    "  '6' : ['10'],\n",
    "  '7' : ['11', '12'],\n",
    "  '8' : [],\n",
    "  '9' : [],\n",
    "  '10' : [],\n",
    "  '11' : [],\n",
    "  '12' : []\n",
    "}\n",
    "\n",
    "print(BFS(graph, '1')) "
   ]
  },
  {
   "cell_type": "markdown",
   "id": "88b3aeda",
   "metadata": {},
   "source": [
    "----\n",
    "## Heaps?\n",
    "\n",
    "- So far, we have navigated the depths of tree structures, and today, we continue our expedition by climbing one of its fascinating branches - **the Heap**.\n",
    "\n",
    "- Heaps are versatile data structures with applications across various domains, simplifying tasks, such as \n",
    "    - forming efficient priority queues\n",
    "    - sorting arrays, \n",
    "\n",
    "and further demonstrating their relevance in solving complex mathematical and computer science problems. This lesson will delve into heaps, exploring their types, the operations we can perform on them, and their applications in Python.\n",
    "\n",
    "- A heap is a **complete binary** tree that satisfies a special property known as the heap property. Essentially, the heap property stipulates that if P is a parent node of C, the value of node P is either:\n",
    "    - **greater than or equal to (in the case of a Max Heap)**\n",
    "    - **lesser than or equal to (in a Min Heap)** \n",
    "\n",
    "the value of node C. In simpler terms, in a Max Heap, each parent node is greater than or equal to its child node(s), and in a Min Heap, each parent node is less than or equal to its child node(s)."
   ]
  },
  {
   "cell_type": "markdown",
   "id": "3f81d8ce",
   "metadata": {},
   "source": [
    "## Heapify Operation\n",
    "\n",
    "- The \"Heapify\" method is an intriguing function used to rearrange elements in heap data structures. It assists in preserving the heap property within the heap. In Python, this operation can be executed using the `heapify()` function. Here's how we can implement a min heap using a list:"
   ]
  },
  {
   "cell_type": "code",
   "execution_count": 12,
   "id": "94923d98",
   "metadata": {},
   "outputs": [
    {
     "name": "stdout",
     "output_type": "stream",
     "text": [
      "Heapify method:  [1, 4, 2, 8, 7, 3]\n"
     ]
    }
   ],
   "source": [
    "import heapq\n",
    "\n",
    "minHeap = [4, 7, 2, 8, 1, 3] \n",
    "heapq.heapify(minHeap)\n",
    "\n",
    "# Display the heap\n",
    "print(\"Heapify method: \", minHeap)\n",
    "# Output: Heapify method:  [1, 4, 2, 8, 7, 3]"
   ]
  },
  {
   "cell_type": "markdown",
   "id": "26b4c88f",
   "metadata": {},
   "source": [
    "This `heapify()` function converts a regular list into a heap. It rearranges the list in place to satisfy the heap property. In the resulting heap, the smallest element is positioned at index `0`. But how do we program other heap operations such as `extract`, `insert`, or `delete`?"
   ]
  },
  {
   "cell_type": "markdown",
   "id": "7527bc95",
   "metadata": {},
   "source": [
    "## Heaps in Python - The heapq Module\n",
    "\n",
    "- Python offers a vast range of libraries, including a built-in module, heapq, which allows for the creation and manipulation of heaps with ease."
   ]
  },
  {
   "cell_type": "code",
   "execution_count": 13,
   "id": "187a12ef",
   "metadata": {},
   "outputs": [
    {
     "name": "stdout",
     "output_type": "stream",
     "text": [
      "Heap after insertion:  [4, 9, 6]\n",
      "Heap after deletion:  [6, 9]\n",
      "Smallest element in the heap:  6\n"
     ]
    }
   ],
   "source": [
    "import heapq\n",
    "\n",
    "heap = []\n",
    "\n",
    "# Insert in heap\n",
    "heapq.heappush(heap, 4)\n",
    "heapq.heappush(heap, 9)\n",
    "heapq.heappush(heap, 6)\n",
    "\n",
    "print(\"Heap after insertion: \", heap)\n",
    "# Output: Heap after insertion:  [4, 9, 6]\n",
    "\n",
    "# Delete the smallest element from the heap\n",
    "heapq.heappop(heap)\n",
    "print(\"Heap after deletion: \", heap)\n",
    "# Output: Heap after deletion:  [6, 9]\n",
    "\n",
    "# Extract the smallest element\n",
    "smallest = heapq.nsmallest(1, heap)[0]\n",
    "print(\"Smallest element in the heap: \", smallest)\n",
    "# Output: Smallest element in the heap:  6"
   ]
  },
  {
   "cell_type": "markdown",
   "id": "c06ee190",
   "metadata": {},
   "source": [
    "- In the given snippet:\n",
    "    - the `heappush(heap, ele)` function is used to insert elements while maintaining the heap invariant\n",
    "\n",
    "    - `heappop(heap)` function deletes the smallest element \n",
    "\n",
    "    - the `nsmallest(n, iterable[, key])` function returns **n** smallest elements from the iterable or heap."
   ]
  },
  {
   "cell_type": "markdown",
   "id": "57101abb",
   "metadata": {},
   "source": [
    "## Heap Sort (Similar to the principle of insertion sort)\n",
    "\n",
    "- Heaps can also be useful for efficiently sorting elements in the array. This sorting is called **heap sort** algorithm. This algorithm essentially splits into two basic parts:\n",
    "\n",
    "    - Build a MinHeap out of the array\n",
    "    - Repeatedly remove the minimum element from the heap and insert it into the sorted array while ensuring the heap retains the MinHeap property.\n",
    "\n",
    "- Heap sort is a comparison-based sorting algorithm and is particularly efficient when dealing with large datasets due to its `O(nlogn)` time complexity - the algorithm removes the minimal element in `O(logn)` time and repeats this operation `n` times.\n",
    "\n",
    "- The heapify function transforms our list into a min-heap, and we continue extracting the minimum element until our heap becomes empty, resulting in a sorted list. Let's see how Python's built-in heapq module simplifies heap-sort:"
   ]
  },
  {
   "cell_type": "code",
   "execution_count": 14,
   "id": "74c83b4a",
   "metadata": {},
   "outputs": [
    {
     "name": "stdout",
     "output_type": "stream",
     "text": [
      "[1, 2, 3, 4, 7, 8]\n"
     ]
    }
   ],
   "source": [
    "def heap_sort(arr):\n",
    "    import heapq\n",
    "    heapq.heapify(arr)\n",
    "    return [heapq.heappop(arr) for _ in range(len(arr))]\n",
    "\n",
    "print(heap_sort([3, 2, 1, 7, 8, 4]))\n",
    "# Output: [1, 2, 3, 4, 7, 8]"
   ]
  },
  {
   "cell_type": "markdown",
   "id": "a3269fc2",
   "metadata": {},
   "source": [
    "## Problem: Heap-based Median Finder\n",
    "\n",
    "- Consider this scenario: You're working on an algorithm for a real-time analytics engine that calculates the **median** value of a continuously growing dataset. For instance, an ad tech company might need to analyze click-stream data in real time. Our first problem is to create a data structure that supports adding a number while ensuring efficient retrieval of the median at any given point.\n",
    "\n",
    "- Note: A median value is the middle number in a data set when arranged in ascending order. If there is an even number of data points, the median is the average of the two numbers in the middle. It is a measure of central tendency used in statistics."
   ]
  },
  {
   "cell_type": "code",
   "execution_count": 15,
   "id": "87df2ec2",
   "metadata": {},
   "outputs": [],
   "source": [
    "import heapq\n",
    "class MedianFinder:\n",
    "    def __init__(self):\n",
    "        self.heaps = [], [] # interestign way to create a tuple!\n",
    "        \n",
    "    def addNum(self, num):\n",
    "        small, large = self.heaps\n",
    "        heapq.heappush(small, -heapq.heappushpop(large, num))\n",
    "        if len(large) < len(small):\n",
    "            heapq.heappush(large, -heapq.heappop(small))\n",
    "            \n",
    "    def findMedian(self):\n",
    "        small, large = self.heaps\n",
    "        if len(large) > len(small):\n",
    "            return float(large[0])\n",
    "        # We subtract `small[0]` from `large[0]`, because `small` consists of negative values\n",
    "        return float((large[0] - small[0]) / 2.0)"
   ]
  },
  {
   "cell_type": "code",
   "execution_count": 16,
   "id": "504f2990",
   "metadata": {},
   "outputs": [
    {
     "name": "stdout",
     "output_type": "stream",
     "text": [
      "([-3, -1, -2], [4, 5, 6])\n",
      "4\n"
     ]
    }
   ],
   "source": [
    "import heapq\n",
    "\n",
    "class MiddleElementFinder:\n",
    "    def __init__(self):\n",
    "        self.heaps = [], []\n",
    "\n",
    "    def add_num(self, num: int) -> None:\n",
    "        # implement this\n",
    "        max_heap, min_heap = self.heaps\n",
    "        \n",
    "        heapq.heappush(max_heap, -heapq.heappushpop(min_heap, num))\n",
    "        if len(max_heap) > len(min_heap):\n",
    "            heapq.heappush(min_heap, -heapq.heappop(max_heap))\n",
    "\n",
    "    def middle_element(self) -> int:\n",
    "        # implement this\n",
    "        max_heap, min_heap = self.heaps\n",
    "        print(self.heaps)\n",
    "        return min_heap[0]\n",
    "\n",
    "# Let's test the code\n",
    "estimate_finder = MiddleElementFinder()\n",
    "estimate_finder.add_num(1)\n",
    "estimate_finder.add_num(2)\n",
    "estimate_finder.add_num(3)\n",
    "estimate_finder.add_num(4)\n",
    "estimate_finder.add_num(5)\n",
    "estimate_finder.add_num(6)\n",
    "\n",
    "print(estimate_finder.middle_element()) # Expected output: 5"
   ]
  },
  {
   "cell_type": "code",
   "execution_count": null,
   "id": "5c239a40",
   "metadata": {},
   "outputs": [],
   "source": []
  }
 ],
 "metadata": {
  "kernelspec": {
   "display_name": "Python 3 (ipykernel)",
   "language": "python",
   "name": "python3"
  },
  "language_info": {
   "codemirror_mode": {
    "name": "ipython",
    "version": 3
   },
   "file_extension": ".py",
   "mimetype": "text/x-python",
   "name": "python",
   "nbconvert_exporter": "python",
   "pygments_lexer": "ipython3",
   "version": "3.10.13"
  }
 },
 "nbformat": 4,
 "nbformat_minor": 5
}
