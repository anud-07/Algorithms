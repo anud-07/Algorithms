{
 "cells": [
  {
   "cell_type": "markdown",
   "id": "05f8427d",
   "metadata": {},
   "source": [
    "## 1. Real World Problems\n",
    "\n",
    "- You are given two arrays, Array A and Array B, each containing n integers where n can range from \n",
    "1\n",
    "1 to \n",
    "100000\n",
    "100000, inclusive. All elements of both arrays are integers that can range from \n",
    "−\n",
    "1\n",
    "0\n",
    "10\n",
    "−10 \n",
    "10\n",
    "  to \n",
    "1\n",
    "0\n",
    "10\n",
    "10 \n",
    "10\n",
    " , inclusive.\n",
    "\n",
    "- Your task is to create a function optimizedReplace that returns a new array, C. For each index i, C[i] should contain a specific value from Array A - A[j], determined by the condition that B[i] is the closest number to B[j] from Array B.\n",
    "\n",
    "- This means that Array C will have the same length as A and B. Array C[i] will contain the value corresponding to the jth index from Array A, where the value at the jth index in Array B is closest to the value at the ith index of Array B.\n",
    "\n",
    "- Assume that there is no ambiguity. The Array B is given in a way that no two elements in Array B have the same minimal absolute difference with B[i].\n",
    "\n",
    "- Remember, the number of elements, n, and the range of the elements, imply that brute force solutions will not be efficient. You should aim to leverage optimized algorithms and techniques to solve this task efficiently.\n",
    "\n",
    "Example:\n",
    "Suppose we have Array A = [10, 20, 30, 40, 50] and Array B = [7, 5, 1, 2, 4].\n",
    "The function optimizedReplace(A, B) should work as follows:\n",
    "For B[0] = 7, the closest number in Array B is 5 at index 1. Hence, C[0] = A[1] = 20.\n",
    "For B[1] = 5, the closest number in Array B is 4 at index 4. Thus, C[1] = A[4] = 50.\n",
    "For B[2] = 1, the closest number in Array B is 2 at index 3. Hence, C[2] = A[3] = 40.\n",
    "For B[3] = 2, the closest number in Array B is 1 at index 2. So, C[3] = A[2] = 30.\n",
    "Lastly, for B[4] = 4, the closest number in Array B is 5 at index 1. We have C[4] = A[1] = 20.\n",
    "\n",
    "Thus, the function optimizedReplace([10, 20, 30, 40, 50], [7, 5, 1, 2, 4]) should return [20, 50, 40, 30, 20]."
   ]
  },
  {
   "cell_type": "code",
   "execution_count": 1,
   "id": "623d114b",
   "metadata": {},
   "outputs": [],
   "source": [
    "def optimizedReplace(A, B):\n",
    "    n = len(B)\n",
    "    if n == 1:\n",
    "        return A[:]\n",
    "    \n",
    "    # Sort B and keep track of original indices\n",
    "    sortedB = sorted((val, idx) for idx, val in enumerate(B))\n",
    "    result = [0] * n\n",
    "\n",
    "    for sorted_idx in range(n):\n",
    "        val, orig_idx = sortedB[sorted_idx]\n",
    "\n",
    "        if sorted_idx == 0:\n",
    "            closest_idx = sortedB[sorted_idx + 1][1]\n",
    "        elif sorted_idx == n - 1:\n",
    "            closest_idx = sortedB[sorted_idx - 1][1]\n",
    "        else:\n",
    "            left_diff = abs(val - sortedB[sorted_idx - 1][0])\n",
    "            right_diff = abs(val - sortedB[sorted_idx + 1][0])\n",
    "            \n",
    "            if left_diff < right_diff:\n",
    "                closest_idx = sortedB[sorted_idx - 1][1]\n",
    "            else:\n",
    "                closest_idx = sortedB[sorted_idx + 1][1]\n",
    "\n",
    "        result[orig_idx] = A[closest_idx]\n",
    "    \n",
    "    return result"
   ]
  },
  {
   "cell_type": "code",
   "execution_count": 2,
   "id": "777cb5a4",
   "metadata": {},
   "outputs": [
    {
     "name": "stderr",
     "output_type": "stream",
     "text": [
      "........\n",
      "----------------------------------------------------------------------\n",
      "Ran 8 tests in 0.142s\n",
      "\n",
      "OK\n"
     ]
    },
    {
     "data": {
      "text/plain": [
       "<unittest.runner.TextTestResult run=8 errors=0 failures=0>"
      ]
     },
     "execution_count": 2,
     "metadata": {},
     "output_type": "execute_result"
    }
   ],
   "source": [
    "import unittest\n",
    "\n",
    "class SolutionTests(unittest.TestCase):\n",
    "    \n",
    "    def test_example(self):\n",
    "        A = [10, 20, 30, 40, 50]\n",
    "        B = [7, 5, 1, 2, 4]\n",
    "        expected_output = [20, 50, 40, 30, 20]\n",
    "        self.assertEqual(optimizedReplace(A, B), expected_output)\n",
    "\n",
    "    def test1(self):\n",
    "        A = [1]\n",
    "        B = [1]\n",
    "        expected_output = [1]\n",
    "        self.assertEqual(optimizedReplace(A, B), expected_output)\n",
    "\n",
    "    def test2(self):\n",
    "        A = [-3, -2, -1]\n",
    "        B = [-1, -2, -4]\n",
    "        expected_output = [-2, -3, -2]\n",
    "        self.assertEqual(optimizedReplace(A, B), expected_output)\n",
    "\n",
    "    def test3(self):\n",
    "        A = [2, 0, 3]\n",
    "        B = [5, 10, 7]\n",
    "        expected_output = [3, 3, 2]\n",
    "        self.assertEqual(optimizedReplace(A, B), expected_output)\n",
    "\n",
    "    def test4(self):\n",
    "        A = [-1000, 1000, 800, 0, 550]\n",
    "        B = [-800, 801, 0, -550, 1000]\n",
    "        expected_output = [0, 550, 0, -1000, 1000]\n",
    "        self.assertEqual(optimizedReplace(A, B), expected_output)\n",
    "\n",
    "    def test5(self):\n",
    "        A = [5, 8, 0, 12, -17]\n",
    "        B = [9, 2, 4, -100, 8]\n",
    "        expected_output = [-17, 0, 8, 8, 5]\n",
    "        self.assertEqual(optimizedReplace(A, B), expected_output)\n",
    "\n",
    "    def test6(self):\n",
    "        A = [-1, 3, 7, 0, 2]\n",
    "        B = [4, 5, 7, 10, 1]\n",
    "        expected_output = [3, -1, 3, 7, -1]\n",
    "        self.assertEqual(optimizedReplace(A, B), expected_output)\n",
    "\n",
    "    def test7(self):\n",
    "        A = list(range(1, 100001))\n",
    "        B = [i * i for i in range(100000, 0, -1)]\n",
    "        expected_output = list(range(2, 100001)) + [99999]\n",
    "        self.assertEqual(optimizedReplace(A, B), expected_output)\n",
    "\n",
    "# Run only the new test cases\n",
    "suite = unittest.TestLoader().loadTestsFromTestCase(SolutionTests)\n",
    "unittest.TextTestRunner().run(suite)"
   ]
  },
  {
   "cell_type": "markdown",
   "id": "d5d3f273",
   "metadata": {},
   "source": [
    "---\n",
    "## 2. Real World Problems\n"
   ]
  },
  {
   "cell_type": "code",
   "execution_count": null,
   "id": "bfa9e38c",
   "metadata": {},
   "outputs": [],
   "source": [
    "# add some two pointer algortihms!"
   ]
  },
  {
   "cell_type": "code",
   "execution_count": null,
   "id": "1a8c5c59",
   "metadata": {},
   "outputs": [],
   "source": []
  },
  {
   "cell_type": "code",
   "execution_count": null,
   "id": "1c4a040f",
   "metadata": {},
   "outputs": [],
   "source": [
    "n = len(B)\n",
    "\n",
    "answer = [0] * n\n",
    "\n",
    "temp = [ (2*num, index) for index, num in enumerate(B) ]\n",
    "temp.sort(key = lambda item: item[0] )\n",
    "\n",
    "for sorted_index in range(n):\n",
    "    double_value, orig_index = temp[sorted_index]\n",
    "    \n",
    "    # closest element to double_value\n",
    "    if sorted_index == 1:\n",
    "        \n",
    "    elif sorted_index == n-1:\n",
    "    \n",
    "    else:\n",
    "        left_min  = temp[sorted_index-1][0]\n",
    "        right_min = temp[sorted_index+1][0]\n",
    "        if abs(double_value-left_min) < abs(double_value-right_min):\n",
    "            answer[ temp[sorted_index-1][1] ] = A[ temp[sorted_index-1][1] ]"
   ]
  }
 ],
 "metadata": {
  "kernelspec": {
   "display_name": "Python 3 (ipykernel)",
   "language": "python",
   "name": "python3"
  },
  "language_info": {
   "codemirror_mode": {
    "name": "ipython",
    "version": 3
   },
   "file_extension": ".py",
   "mimetype": "text/x-python",
   "name": "python",
   "nbconvert_exporter": "python",
   "pygments_lexer": "ipython3",
   "version": "3.10.13"
  }
 },
 "nbformat": 4,
 "nbformat_minor": 5
}
