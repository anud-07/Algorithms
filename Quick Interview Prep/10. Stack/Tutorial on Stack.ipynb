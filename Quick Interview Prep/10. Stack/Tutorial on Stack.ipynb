{
 "cells": [
  {
   "cell_type": "code",
   "execution_count": null,
   "id": "aacdd02e",
   "metadata": {},
   "outputs": [],
   "source": [
    "class Stack:\n",
    "    \n",
    "    def __init__(self):\n",
    "        self.items = []\n",
    "        \n",
    "    def isempty(self):\n",
    "        return len(self.items) == 0\n",
    "    \n",
    "    def _print(self):\n",
    "        print(self.items)\n",
    "        \n",
    "    def push(self, x):\n",
    "        self.items.append(x)\n",
    "        \n",
    "    def pop(self):\n",
    "        if self.isempty():\n",
    "            print(\"Pop not possible\")\n",
    "        else:\n",
    "            self.items.pop()\n",
    "        \n",
    "    def peek(self):\n",
    "        return self.items[-1]\n",
    "        \n",
    "    def size(self):\n",
    "        return len(self.items)"
   ]
  },
  {
   "cell_type": "code",
   "execution_count": null,
   "id": "274e8b2b",
   "metadata": {},
   "outputs": [],
   "source": [
    "myStack = Stack() \n",
    "myStack.push(15)\n",
    "myStack.push(20)\n",
    "myStack.push(35)\n",
    "myStack._print()\n",
    "myStack.pop()\n",
    "myStack._print()\n",
    "print(myStack.size())\n",
    "myStack.push(5)\n",
    "myStack._print()\n",
    "print(myStack.peek())\n",
    "print(myStack.isempty())"
   ]
  },
  {
   "cell_type": "code",
   "execution_count": null,
   "id": "af776f5e",
   "metadata": {},
   "outputs": [],
   "source": [
    "# the way to use it in Python!\n",
    "\n",
    "from collections import deque\n",
    "\n",
    "stack = deque()\n",
    "stack.append(5)\n",
    "stack.append(6)\n",
    "stack.append(40)\n",
    "print(stack)\n",
    "stack.pop()\n",
    "print(stack)\n",
    "stack.append"
   ]
  },
  {
   "cell_type": "markdown",
   "id": "c7988adf",
   "metadata": {},
   "source": [
    "## Typical Application of Stack:\n",
    "- Function Calls\n",
    "- Checking for Balanced Paranthesis\n",
    "- Reversing Items\n",
    "- Infix to Prefix/Postfix\n",
    "- Evaluation of Prefix/Postfix \n",
    "- Stock Span problem and its variants\n",
    "- Undo/Redo operations or Forward/Backward operations"
   ]
  },
  {
   "cell_type": "markdown",
   "id": "3387c262",
   "metadata": {},
   "source": [
    "# Question-1:\n",
    "- Check for balanced paranthesis\n",
    "\n",
    "    - I/P: str = \"([])\"\n",
    "    - O/P: True \n",
    "\n",
    "    - I/P: str = \"((())\"\n",
    "    -  O/P: false \n",
    "\n",
    "    - I/P: str = \"([)]\"\n",
    "    - O/P: False\n",
    "\n",
    "    - I/P: str = \"{}([()])\"\n",
    "    - O/P: True\n",
    "\n",
    "    - I/P: str = \"(()))\"\n",
    "    - O/P: False"
   ]
  },
  {
   "cell_type": "code",
   "execution_count": null,
   "id": "47fafa2b",
   "metadata": {},
   "outputs": [],
   "source": [
    "from collections import deque \n",
    "\n",
    "def matching(a, b):\n",
    "    if a=='{' and b=='}':\n",
    "        return True\n",
    "    if a=='(' and b==')':\n",
    "        return True\n",
    "    if a=='[' and b==']':\n",
    "        return True\n",
    "    return False\n",
    "\n",
    "def balanced_paran(string):\n",
    "    stack = deque()\n",
    "    opening = {'(', '{', '['}\n",
    "    closing = {')', '}', ']'}\n",
    "    \n",
    "    for index in range(len(string)):\n",
    "        bracket = string[index]\n",
    "        \n",
    "        if len(stack)==0 or (bracket in opening):\n",
    "            stack.append(bracket)\n",
    "        elif bracket in closing:\n",
    "            if len(stack)==0:\n",
    "                return False\n",
    "            elif matching(stack[-1], bracket):\n",
    "                stack.pop()\n",
    "            else:\n",
    "                return False \n",
    "    \n",
    "    return len(stack)==0\n",
    "\n",
    "print(balanced_paran(\"([])\"))  \n",
    "print(balanced_paran(\"((())\"))  \n",
    "print(balanced_paran(\"([)]\"))  \n",
    "print(balanced_paran(\"{}([()])\"))  \n",
    "print(balanced_paran(\"(()))\"))  \n",
    "print(balanced_paran(\")()\"))  "
   ]
  },
  {
   "cell_type": "markdown",
   "id": "68e369df",
   "metadata": {},
   "source": [
    "# Question-2:\n",
    "- Stock Span Problem. Span is the number of consecutive days that have value equal or smaller (including itself)\n",
    "\n",
    "    - I/P: [13, 15, 12, 14, 16,  8, 6, 4, 10, 30]\n",
    "    - O/P: [ 1,  2,  1,  2,  5,  1, 1, 1, 4, 10] \n",
    "    \n",
    "    "
   ]
  },
  {
   "cell_type": "code",
   "execution_count": null,
   "id": "68449530",
   "metadata": {},
   "outputs": [],
   "source": []
  }
 ],
 "metadata": {
  "kernelspec": {
   "display_name": "Python 3 (ipykernel)",
   "language": "python",
   "name": "python3"
  },
  "language_info": {
   "codemirror_mode": {
    "name": "ipython",
    "version": 3
   },
   "file_extension": ".py",
   "mimetype": "text/x-python",
   "name": "python",
   "nbconvert_exporter": "python",
   "pygments_lexer": "ipython3",
   "version": "3.10.13"
  }
 },
 "nbformat": 4,
 "nbformat_minor": 5
}
