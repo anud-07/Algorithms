{
 "cells": [
  {
   "cell_type": "markdown",
   "id": "fba59236",
   "metadata": {},
   "source": [
    "Parnent Problemss:\n",
    "- Nearest Greater to Left\n",
    "- Nearest Greater to Right\n",
    "- Nearest Smaller to Left\n",
    "- Nearest Greater to Right\n",
    "- Stock Span Problem\n",
    "- Maximum Area of a Histogram\n",
    "- Rain Water Trapping\n",
    "- Implementing a Min Stack\n",
    "- Implementing Stack susing Heap\n",
    "- The Celecrity Problem\n",
    "- Longest Valid Paranthesis\n",
    "- Itewrative Tower of Hanoi"
   ]
  },
  {
   "cell_type": "markdown",
   "id": "2473b850",
   "metadata": {},
   "source": [
    "### 1. NGR | Nearest Greater to Right | Next Largest Element"
   ]
  },
  {
   "cell_type": "markdown",
   "id": "cfa6c961",
   "metadata": {},
   "source": [
    "### 2. NGL | Nearest Greater to Left"
   ]
  },
  {
   "cell_type": "markdown",
   "id": "80566cec",
   "metadata": {},
   "source": [
    "### 3. NSL | Nearest Smallest to Left"
   ]
  },
  {
   "cell_type": "markdown",
   "id": "ae1db604",
   "metadata": {},
   "source": [
    "### 4. NSR | Nearest Smallest to Right"
   ]
  },
  {
   "cell_type": "markdown",
   "id": "104c6fc8",
   "metadata": {},
   "source": [
    "### 5. Stock Span Problem"
   ]
  },
  {
   "cell_type": "markdown",
   "id": "18263ade",
   "metadata": {},
   "source": [
    "### 6. Maximum Area Histogram"
   ]
  },
  {
   "cell_type": "markdown",
   "id": "856035ad",
   "metadata": {},
   "source": [
    "### 7. Max Area Rectangle in binary matrix"
   ]
  },
  {
   "cell_type": "markdown",
   "id": "96e2410c",
   "metadata": {},
   "source": [
    "### 8. Minimum of Stack (with Extra Space)"
   ]
  },
  {
   "cell_type": "markdown",
   "id": "a60a4424",
   "metadata": {},
   "source": [
    "### 9. Minimum of Stack (without Extra Space)"
   ]
  }
 ],
 "metadata": {
  "kernelspec": {
   "display_name": "Python 3 (ipykernel)",
   "language": "python",
   "name": "python3"
  },
  "language_info": {
   "codemirror_mode": {
    "name": "ipython",
    "version": 3
   },
   "file_extension": ".py",
   "mimetype": "text/x-python",
   "name": "python",
   "nbconvert_exporter": "python",
   "pygments_lexer": "ipython3",
   "version": "3.10.13"
  }
 },
 "nbformat": 4,
 "nbformat_minor": 5
}
