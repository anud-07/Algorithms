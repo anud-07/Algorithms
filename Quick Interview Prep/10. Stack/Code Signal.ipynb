{
 "cells": [
  {
   "cell_type": "markdown",
   "id": "9be7d30e",
   "metadata": {},
   "source": [
    "\n",
    "## The idea behind the above text editor design is to maintain the following states:\n",
    "- The past    (via `self.history_stack`)\n",
    "- The present (via `self.text`)\n",
    "- The future  (via `redo_stack`)"
   ]
  },
  {
   "cell_type": "code",
   "execution_count": 1,
   "id": "3d8233de",
   "metadata": {},
   "outputs": [
    {
     "name": "stdout",
     "output_type": "stream",
     "text": [
      "Hello, CodeSignal!\n",
      "Hello, \n",
      "\n",
      "Hello, \n",
      "Hello, CodeSignal!\n",
      "Redo operation not possible. No redo history available.\n"
     ]
    }
   ],
   "source": [
    "class Editor:\n",
    "    def __init__(self):\n",
    "        self.text = \"\"\n",
    "        self.history_stack = []\n",
    "        self.redo_stack = []\n",
    "\n",
    "    def append_text(self, text):\n",
    "        self.history_stack.append(self.text)\n",
    "        self.text += text\n",
    "\n",
    "    def undo(self):\n",
    "        if self.history_stack:\n",
    "            self.redo_stack.append(self.text)\n",
    "            self.text = self.history_stack.pop()\n",
    "        else:\n",
    "            print(\"Undo operation not possible. No history available.\")\n",
    "\n",
    "    def redo(self):\n",
    "        if self.redo_stack:\n",
    "            self.history_stack.append(self.text)\n",
    "            self.text = self.redo_stack.pop()\n",
    "        else:\n",
    "            print(\"Redo operation not possible. No redo history available.\")\n",
    "\n",
    "    def display_text(self):\n",
    "        print(self.text)\n",
    "\n",
    "\n",
    "editor = Editor()\n",
    "\n",
    "editor.append_text(\"Hello, \")\n",
    "editor.append_text(\"CodeSignal!\")\n",
    "editor.display_text()\n",
    "editor.undo()\n",
    "editor.display_text()\n",
    "editor.undo()\n",
    "editor.display_text()\n",
    "editor.redo()\n",
    "editor.display_text()\n",
    "editor.redo()\n",
    "editor.display_text()\n",
    "editor.redo()\n",
    "editor.undo()"
   ]
  },
  {
   "cell_type": "markdown",
   "id": "fb0676d6",
   "metadata": {},
   "source": [
    "### 1. Bracket Balancing"
   ]
  },
  {
   "cell_type": "code",
   "execution_count": 2,
   "id": "b6a6ffef",
   "metadata": {},
   "outputs": [],
   "source": [
    "def are_brackets_balanced(input_str):\n",
    "    brackets = set([\"(\", \")\", \"[\", \"]\", \"{\", \"}\"])\n",
    "    bracket_map = {\"(\": \")\", \"[\": \"]\",  \"{\": \"}\"}\n",
    "    open_par = set([\"(\", \"[\", \"{\"])\n",
    "    stack = []\n",
    "\n",
    "    for character in input_str:\n",
    "        if character not in brackets:\n",
    "            # Skipping non-bracket characters\n",
    "            continue\n",
    "        if character in open_par:\n",
    "            stack.append(character)\n",
    "        elif stack and character == bracket_map[stack[-1]]:\n",
    "                stack.pop()\n",
    "        else:\n",
    "            return False\n",
    "    return len(stack) == 0"
   ]
  },
  {
   "cell_type": "markdown",
   "id": "c3269b1d",
   "metadata": {},
   "source": [
    "### 2. Reversing a String"
   ]
  },
  {
   "cell_type": "code",
   "execution_count": 3,
   "id": "27610b36",
   "metadata": {},
   "outputs": [],
   "source": [
    "def reverse_strng(input_str):\n",
    "    stack = list(input_str)\n",
    "    result = ''\n",
    "\n",
    "    while len(stack):\n",
    "        result += stack.pop()\n",
    "    return result"
   ]
  },
  {
   "cell_type": "markdown",
   "id": "513553da",
   "metadata": {},
   "source": [
    "### 3. Evaluating Post-fix expressions"
   ]
  },
  {
   "cell_type": "code",
   "execution_count": 4,
   "id": "a2c0d92f",
   "metadata": {},
   "outputs": [],
   "source": [
    "def evaluate_postfix(expression):\n",
    "    stack = []\n",
    "    for element in expression.split(' '):   \n",
    "        if element.isdigit():             \n",
    "            stack.append(int(element))\n",
    "\n",
    "        else:\n",
    "            operand2 = stack.pop()\n",
    "            operand1 = stack.pop()\n",
    "            \n",
    "            if element == '+': stack.append(operand1 + operand2)\n",
    "            elif element == '-': stack.append(operand1 - operand2)\n",
    "            elif element == '*': stack.append(operand1 * operand2)\n",
    "            elif element == '/': stack.append(operand1 / operand2)\n",
    "    \n",
    "    return stack[0]"
   ]
  },
  {
   "cell_type": "markdown",
   "id": "b389078d",
   "metadata": {},
   "source": [
    "### 4. "
   ]
  },
  {
   "cell_type": "code",
   "execution_count": null,
   "id": "2bcb9a6f",
   "metadata": {},
   "outputs": [],
   "source": []
  }
 ],
 "metadata": {
  "kernelspec": {
   "display_name": "Python 3 (ipykernel)",
   "language": "python",
   "name": "python3"
  },
  "language_info": {
   "codemirror_mode": {
    "name": "ipython",
    "version": 3
   },
   "file_extension": ".py",
   "mimetype": "text/x-python",
   "name": "python",
   "nbconvert_exporter": "python",
   "pygments_lexer": "ipython3",
   "version": "3.10.13"
  }
 },
 "nbformat": 4,
 "nbformat_minor": 5
}
