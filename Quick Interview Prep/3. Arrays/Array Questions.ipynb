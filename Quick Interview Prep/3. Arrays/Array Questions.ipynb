{
 "cells": [
  {
   "cell_type": "markdown",
   "id": "dbb109a6",
   "metadata": {},
   "source": [
    "### Question - 1 (Largest Element);\n",
    "- Given an array, can you find the index of the largest element?"
   ]
  },
  {
   "cell_type": "code",
   "execution_count": 1,
   "id": "678244ca",
   "metadata": {},
   "outputs": [
    {
     "name": "stdout",
     "output_type": "stream",
     "text": [
      "Expected Answer 2, given answer  2\n",
      "Expected Answer 3, given answer  3\n"
     ]
    }
   ],
   "source": [
    "def largets_index(array):\n",
    "    largestIndex = 0\n",
    "    \n",
    "    for index in range(len(array)):    \n",
    "        if array[index] > array[largestIndex]:\n",
    "            largestIndex = index\n",
    "            \n",
    "    return largestIndex    \n",
    "       \n",
    "print(\"Expected Answer 2, given answer \", largets_index([10, 5, 20, 8]))    \n",
    "print(\"Expected Answer 3, given answer \", largets_index([40, 8, 50, 100]))    "
   ]
  },
  {
   "cell_type": "markdown",
   "id": "13b7409e",
   "metadata": {},
   "source": [
    "### Question - 2 (Second Largest Element)\n",
    "- Given an array, find the index of the second largest element in it?"
   ]
  },
  {
   "cell_type": "code",
   "execution_count": 3,
   "id": "30c0e167",
   "metadata": {},
   "outputs": [
    {
     "name": "stdout",
     "output_type": "stream",
     "text": [
      "Expected Answer 0 (index of 10), given answer  0\n",
      "Expected Answer 4 (index of 12), given answer  4\n",
      "Expected Answer -1 (none index), given answer  -1\n"
     ]
    }
   ],
   "source": [
    "# Also think about maintaining an array [largest, secondLargest]\n",
    "\n",
    "def second_largest_index(array):\n",
    "    largestIndex = largets_index(array)\n",
    "    \n",
    "    secondLargestIndex = -1\n",
    "    \n",
    "    for index in range(len(array)):\n",
    "        if array[index]!=array[largestIndex]:\n",
    "            if secondLargestIndex==-1:\n",
    "                secondLargestIndex = index\n",
    "            elif array[index] > array[secondLargestIndex]:\n",
    "                secondLargestIndex = index\n",
    "    \n",
    "    return secondLargestIndex\n",
    "        \n",
    "print(\"Expected Answer 0 (index of 10), given answer \", second_largest_index([10, 5, 20, 8]))  \n",
    "print(\"Expected Answer 4 (index of 12), given answer \", second_largest_index([20, 10, 20, 8, 12]))  \n",
    "print(\"Expected Answer -1 (none index), given answer \", second_largest_index([10, 10, 10])) "
   ]
  },
  {
   "cell_type": "markdown",
   "id": "ff789ec6",
   "metadata": {},
   "source": [
    "### Question - 3 (Sorted Array);\n",
    "- Given an array, check if the array is sorted?"
   ]
  },
  {
   "cell_type": "code",
   "execution_count": 4,
   "id": "c09de8d0",
   "metadata": {},
   "outputs": [
    {
     "name": "stdout",
     "output_type": "stream",
     "text": [
      "Expected Answer True, given answer  True\n",
      "Expected Answer True, given answer  True\n",
      "Expected Answer True, given answer  True\n",
      "Expected Answer False, given answer  False\n"
     ]
    }
   ],
   "source": [
    "def check_sorted(array):\n",
    "    if len(array)<2:\n",
    "        return True\n",
    "    \n",
    "    for index in range(1, len(array)):\n",
    "        if array[index] < array[index-1]:\n",
    "            return False\n",
    "        \n",
    "    return True    \n",
    "    \n",
    "print(\"Expected Answer True, given answer \", check_sorted([8, 12, 15]))      \n",
    "print(\"Expected Answer True, given answer \", check_sorted([8, 10, 10, 12]))      \n",
    "print(\"Expected Answer True, given answer \", check_sorted([100]))    \n",
    "print(\"Expected Answer False, given answer \", check_sorted([100, 20, 200]))    "
   ]
  },
  {
   "cell_type": "markdown",
   "id": "673dd0ff",
   "metadata": {},
   "source": [
    "### Question - 4 (Reverse Array);\n",
    "- Given an array, can you reverse it, i.e., modify the same array?"
   ]
  },
  {
   "cell_type": "code",
   "execution_count": 5,
   "id": "c870fc36",
   "metadata": {},
   "outputs": [
    {
     "name": "stdout",
     "output_type": "stream",
     "text": [
      "[30, 7, 5, 10]\n",
      "[5, 20, 30]\n"
     ]
    }
   ],
   "source": [
    "def reverse_an_array(array):\n",
    "    if len(array)<1:\n",
    "        return \n",
    "    \n",
    "    pointerStart, pointerEnd = 0, len(array)-1\n",
    "    while pointerStart<pointerEnd:\n",
    "        array[pointerStart], array[pointerEnd] = array[pointerEnd], array[pointerStart]\n",
    "        pointerStart += 1\n",
    "        pointerEnd -= 1   \n",
    "    \n",
    "array = [10, 5, 7, 30]\n",
    "reverse_an_array(array)\n",
    "print(array)\n",
    "\n",
    "array = [30, 20, 5]\n",
    "reverse_an_array(array)\n",
    "print(array)"
   ]
  },
  {
   "cell_type": "markdown",
   "id": "20de458b",
   "metadata": {},
   "source": [
    "### Question - 5 (Remove Duplicates in Sorted Array);\n",
    "- Can you remove all the duplicates from a sorted array? We need to keep the distinct elements in the same order as they appeared in the input WITHOUT ALLOCATING A NEW ARRAY!"
   ]
  },
  {
   "cell_type": "code",
   "execution_count": 6,
   "id": "b2931ffb",
   "metadata": {},
   "outputs": [
    {
     "name": "stdout",
     "output_type": "stream",
     "text": [
      "([10, 20, 30], 3)\n",
      "([10], 1)\n",
      "3 [10, 20, 30, 30, 30, 30, 30]\n",
      "1 [10, 10, 10]\n"
     ]
    }
   ],
   "source": [
    "def remove_duplicates(array):\n",
    "    result, size, answer = 1, len(array), [array[0]]\n",
    "    \n",
    "    for index in range(1, len(array)):\n",
    "        if array[index] != array[index-1]:\n",
    "            answer.append(array[index])\n",
    "            result += 1\n",
    "            \n",
    "    return answer, result\n",
    "10, 20, 20, 30, 30, 30, 30\n",
    "array = []\n",
    "print(remove_duplicates(array))\n",
    "array = [10, 10, 10]\n",
    "print(remove_duplicates(array))\n",
    "\n",
    "\n",
    "def remove_duplicates_without_extra_space(array):\n",
    "    result = 0 \n",
    "    for index in range(1, len(array)):\n",
    "        if array[index] == array[result]:\n",
    "            continue\n",
    "        else:\n",
    "            result += 1 # increment\n",
    "            array[result] = array[index] # assign\n",
    "            \n",
    "    print(result+1, array)        \n",
    "\n",
    "array = [10, 20, 20, 30, 30, 30, 30]\n",
    "remove_duplicates_without_extra_space(array)\n",
    "array = [10, 10, 10]\n",
    "remove_duplicates_without_extra_space(array)"
   ]
  },
  {
   "cell_type": "markdown",
   "id": "c2b6b537",
   "metadata": {},
   "source": [
    "### Very Important idea to find optimal solutions (that is the second solution above is really important):\n",
    "- **for efficient solution keep track of the \"result index\" that is the last index that is NOT a duplicate**\n",
    "- This idea is easily generalizble to other similar array problems as well."
   ]
  },
  {
   "cell_type": "markdown",
   "id": "d088ec89",
   "metadata": {},
   "source": [
    "### Question - 6 (Move Zeros to End of Array);\n",
    "- Can you move all the zeros to the end of the array while keeping the rest of the array elements in the same order?"
   ]
  },
  {
   "cell_type": "code",
   "execution_count": null,
   "id": "3df074f7",
   "metadata": {},
   "outputs": [],
   "source": [
    "# use a simple two pointer technique in order to solve the problem if this was ORDER AGNOSTIC!\n",
    "\n",
    "def move_zeros_to_end(array):\n",
    "    \n",
    "    res = -1\n",
    "    for index in range(len(array)):\n",
    "        if array[index]==0:\n",
    "            continue\n",
    "        else:\n",
    "            array[res+1], array[index] = array[index], array[res+1]\n",
    "            res += 1\n",
    "        \n",
    "    print(array)         \n",
    "    \n",
    "array = [8,   5,   0,   10,   0,   20]   # [8, 5, 10, 20, 0, 0] \n",
    "print(move_zeros_to_end(array))\n",
    "\n",
    "array = [0, 0, 0, 10, 0]      # [10, 0, 0, 0, 0] \n",
    "move_zeros_to_end(array)\n",
    "\n",
    "array = [10, 20]   # [10, 20] \n",
    "move_zeros_to_end(array)"
   ]
  },
  {
   "cell_type": "markdown",
   "id": "170dd3fa",
   "metadata": {},
   "source": [
    "### Question - 7 (Left Rotate Array by One);\n",
    "- Can you left rotate an array by one?"
   ]
  },
  {
   "cell_type": "code",
   "execution_count": null,
   "id": "78cc3f35",
   "metadata": {},
   "outputs": [],
   "source": [
    "def left_rotate(array):    \n",
    "    length, answer = len(array), []\n",
    "    for index in range(1, 1+length):\n",
    "        eqIndex = index%length\n",
    "        answer.append(array[eqIndex])\n",
    "        \n",
    "    print(answer)   \n",
    "    \n",
    "array = [1, 2, 3, 4, 5] # [2, 3, 4, 5, 1] \n",
    "left_rotate(array)\n",
    "\n",
    "array = [30, 5, 20]     # [5, 20, 30] \n",
    "left_rotate(array)\n",
    "\n",
    "print(\" \")\n",
    "\n",
    "def without_extra_space(array):\n",
    "    for index in range(1, len(array)):\n",
    "        array[index], array[index-1] = array[index-1], array[index]   \n",
    "        \n",
    "    print(array)    \n",
    "        \n",
    "array = [1, 2, 3, 4, 5] # [2, 3, 4, 5, 1] \n",
    "without_extra_space(array)\n",
    "\n",
    "array = [30, 5, 20]     # [5, 20, 30] \n",
    "without_extra_space(array)"
   ]
  },
  {
   "cell_type": "markdown",
   "id": "fe64a05c",
   "metadata": {},
   "source": [
    "### Question - 8 (Left Rotate Array by D);\n",
    "- Hence motivated, can you left rotate an array by D?"
   ]
  },
  {
   "cell_type": "code",
   "execution_count": null,
   "id": "278d721d",
   "metadata": {},
   "outputs": [],
   "source": [
    "d = 5\n",
    "\n",
    "# just apply the left shift by 1-operation d times! theta(n*d) solution;\n",
    "def naive_left_rotate_by_d(array, d):\n",
    "    \n",
    "    for times in range(d):\n",
    "        without_extra_space(array)\n",
    "    \n",
    "array = [1, 2, 3, 4, 5]   # [3, 4, 5, 1, 2] \n",
    "naive_left_rotate_by_d(array, d)\n",
    "\n",
    "\n",
    "print(\" \")\n",
    "\n",
    "\n",
    "# store the first d elements in a seprate array and iterate through the remaining ones! \n",
    "# theta(n) solution but this time O(d) space;\n",
    "def imporved_left_rotate_by_d(array, d):    \n",
    "    store = []\n",
    "    for index in range(d):\n",
    "        store.append(array[index])\n",
    "        \n",
    "    for index in range(d, len(array)):     \n",
    "        array[index-d] = array[index]\n",
    "            \n",
    "    for pointer in range(index-d+1, len(array)):\n",
    "        array[pointer] = store[pointer - (len(array) - d)]\n",
    "        \n",
    "    print(array)    \n",
    "        \n",
    "array = [1, 2, 3, 4, 5] \n",
    "imporved_left_rotate_by_d(array, d) \n",
    "\n",
    "\n",
    "print(\" \")\n",
    "\n",
    "\n",
    "# can you think of a solution that takes theta(n) time and theta(1) aux space?\n",
    "# Very important concept!!!!!!!!!\n",
    "def best_left_rotate_by_d(array, d):\n",
    "    \n",
    "    def reverse_array(array, start, end):\n",
    "                    \n",
    "        while start<end:\n",
    "            array[start], array[end] = array[end], array[start]\n",
    "            start += 1\n",
    "            end   -= 1\n",
    "        \n",
    "    reverse_array(array, 0, d-1)\n",
    "    reverse_array(array, d, len(array)-1)\n",
    "    reverse_array(array, 0, len(array)-1)\n",
    "    print(array)\n",
    "\n",
    "array = [1, 2, 3, 4, 5] \n",
    "best_left_rotate_by_d(array, d)"
   ]
  },
  {
   "cell_type": "markdown",
   "id": "c8495838",
   "metadata": {},
   "source": [
    "### Question - 9 (Leaders in an Array Problem);\n",
    "- Can you print the Leaders in an array? A leader are those numbers if there is nothing to the right of it that is bigger!\n",
    "\n",
    "    - I/P: [7,  10,  4,  3,  6,  5,  2]\n",
    "    - O/P: [10, 6, 5, 2]\n",
    "\n",
    "    - I/P: [10, 20, 30]\n",
    "    - O/P: [30]\n",
    "\n",
    "    - I/P: [30, 20, 10]\n",
    "    - O/P: [30, 20, 10] "
   ]
  },
  {
   "cell_type": "code",
   "execution_count": null,
   "id": "b00ede65",
   "metadata": {},
   "outputs": [],
   "source": [
    "# This is a order(n**2) solution;\n",
    "def naive_leaders(array):\n",
    "    answer = []\n",
    "    for pivot in range(len(array)):\n",
    "        flagLeader = True\n",
    "        for index in range(pivot+1, len(array)):\n",
    "            if array[pivot] < array[index]:\n",
    "                flagLeader = False\n",
    "                break\n",
    "        \n",
    "        if flagLeader:\n",
    "            answer.append(array[pivot])\n",
    "      \n",
    "    return answer\n",
    "    \n",
    "array = [7,  10,  4,  3,  6,  5,  2]            \n",
    "print(naive_leaders(array))   \n",
    "\n",
    "array = [10, 20, 30]\n",
    "print(naive_leaders(array))  \n",
    "\n",
    "array = [30, 20, 10]\n",
    "print(naive_leaders(array))  \n",
    "\n",
    "\n",
    "print(\" \")\n",
    "\n",
    "\n",
    "# This is a theta(n) solution;\n",
    "def better_leaders(array):\n",
    "    currentLeaderIndex = len(array)-1\n",
    "    answer = [array[currentLeaderIndex]]\n",
    "    for index in range(len(array)-2, -1, -1):\n",
    "        if array[index] >= array[currentLeaderIndex]:\n",
    "            currentLeaderIndex = index\n",
    "            answer.append(array[index])\n",
    "            \n",
    "    return answer[::-1]      \n",
    "    \n",
    "array = [7,  10,  4,  10,  6,  5,  2]            \n",
    "print(better_leaders(array))   \n",
    "\n",
    "array = [10, 20, 30]           \n",
    "print(better_leaders(array))   \n",
    "\n",
    "array = [30, 20, 10]         \n",
    "print(better_leaders(array))   "
   ]
  },
  {
   "cell_type": "markdown",
   "id": "3770a339",
   "metadata": {},
   "source": [
    "### Question - 10 (Maximum Difference Problem with Order);\n",
    "- Maximum value of arr[j] - arr[i] such that j > i.\n",
    "\n",
    "    - I/P: [2, 3, 10, 6, 4, 8, 1]\n",
    "    - O/P:  8\n",
    "\n",
    "    - I/P: [7, 9, 5, 6, 3, 2]\n",
    "    - O/P: 2\n",
    "\n",
    "    - I/P: [10, 20, 30]\n",
    "    - O/P: 20\n",
    "    \n",
    "    - I/P: [30, 10, 8, 2]\n",
    "    - O/P: -2 "
   ]
  },
  {
   "cell_type": "code",
   "execution_count": null,
   "id": "3ec04029",
   "metadata": {},
   "outputs": [],
   "source": [
    "def naive_max_difference(array):\n",
    "    \n",
    "    maximum = float(\"-Inf\")\n",
    "    for i in range(len(array)):\n",
    "        for j in range(i+1, len(array)):\n",
    "            if array[j] - array[i] > maximum:\n",
    "                maximum = array[j] - array[i]\n",
    "            \n",
    "    return maximum    \n",
    "\n",
    "array = [2, 3, 10, 6, 4, 8, 1]\n",
    "print(naive_max_difference(array))   \n",
    "\n",
    "array = [7, 9, 5, 6, 3, 2]\n",
    "print(naive_max_difference(array))   \n",
    "\n",
    "array = [10, 20, 30]\n",
    "print(naive_max_difference(array))   \n",
    "\n",
    "array = [30, 10, 8, 2]\n",
    "print(naive_max_difference(array))   \n",
    "\n",
    "print(\" \")\n",
    "\n",
    "def max_difference(array):\n",
    "    currentMin, result = array[0], float(\"-inf\")\n",
    "    for j in range(1, len(array)):\n",
    "        result = max(result, array[j] - currentMin)\n",
    "        currentMin = min(currentMin, array[j])\n",
    "    return result    \n",
    "\n",
    "array = [2, 3, 10, 6, 4, 8, 1]\n",
    "print(max_difference(array))   \n",
    "\n",
    "array = [7, 9, 5, 6, 3, 2]\n",
    "print(max_difference(array))   \n",
    "\n",
    "array = [10, 20, 30]\n",
    "print(max_difference(array))   \n",
    "\n",
    "array = [30, 10, 8, 2]\n",
    "print(max_difference(array))   "
   ]
  },
  {
   "cell_type": "markdown",
   "id": "a9640e86",
   "metadata": {},
   "source": [
    "### Question - 11 (Frequencies in a Sorted Array);\n",
    "- Print the frequencies of every element in a sorted array:\n",
    "\n",
    "    - I/P: [10, 10, 10, 25, 30, 31]\n",
    "    - O/P:   3          1    2\n",
    "\n",
    "    - I/P: [10, 10, 10, 10] \n",
    "    - O/P:   4 \n",
    "\n",
    "    - I/P: [10, 20, 30]\n",
    "    - O/P:   1   1    1  "
   ]
  },
  {
   "cell_type": "code",
   "execution_count": null,
   "id": "bc11c500",
   "metadata": {},
   "outputs": [],
   "source": [
    "# implement the soltuion with edge cases! Not correct yet!\n",
    "\n",
    "def frequencies(array):\n",
    "    \n",
    "    answer, pivot = [], 0\n",
    "    while pivot < len(array)-1:     \n",
    "        count = 1\n",
    "        for inner in range(pivot+1, len(array)):\n",
    "            # print(pivot, count, inner)\n",
    "            if array[pivot]==array[inner]:\n",
    "                count += 1\n",
    "                continue\n",
    "            else:\n",
    "                answer.append((array[pivot], count))\n",
    "                pivot = inner\n",
    "                break\n",
    "        \n",
    "    if pivot ==len(array)-1:\n",
    "        answer.append((array[pivot], count))\n",
    "        \n",
    "    return answer             \n",
    "    \n",
    "array = [10, 10, 10, 25, 30, 30]\n",
    "#print(frequencies(array))"
   ]
  },
  {
   "cell_type": "markdown",
   "id": "19cd1ced",
   "metadata": {},
   "source": [
    "### Question - 12 (Stock Buy and Sell Problem);\n",
    "- Buy the stock in any day and sell in upcoming days and want to maximize the profit! You can buy and sell multiple times at different days of the array.\n",
    "\n",
    "    - I/P: [1, 5, 3, 8, 12]\n",
    "    - O/P:  13 ((1, 5) +  (3, 12))\n",
    "\n",
    "    - I/P: [30, 20, 10]\n",
    "    - O/P:  0\n",
    "\n",
    "    - I/P: [10, 20, 30]\n",
    "    - O/P:  20\n",
    "    \n",
    "    - I/P: [1, 5, 3, 1, 2, 8]\n",
    "    - O/P: 11"
   ]
  },
  {
   "cell_type": "code",
   "execution_count": 13,
   "id": "08dd42a5",
   "metadata": {},
   "outputs": [
    {
     "name": "stdout",
     "output_type": "stream",
     "text": [
      "13\n",
      "0\n",
      "20\n",
      "11\n",
      " \n",
      "13\n",
      "{(0, 4): 13}\n",
      "0\n",
      "{(0, 2): 0}\n",
      "20\n",
      "{(0, 2): 20}\n",
      "11\n",
      "{(0, 5): 11}\n"
     ]
    }
   ],
   "source": [
    "def naive_stock_span(array, low, high):\n",
    "    if high <= low:\n",
    "        return 0\n",
    "    \n",
    "    globalProfit = 0\n",
    "    for i in range(low, high+1):\n",
    "        for j in range(i+1, high+1):\n",
    "            if array[i]<array[j]:\n",
    "                currProfit = array[j] - array[i] + naive_stock_span(array, j+1, high) + naive_stock_span(array, low, i-1)\n",
    "                globalProfit = max(globalProfit, currProfit)\n",
    "     \n",
    "    return globalProfit\n",
    "\n",
    "array = [1, 5, 3, 8, 12]\n",
    "low, high = 0, len(array)-1\n",
    "print(naive_stock_span(array, low, high))\n",
    "\n",
    "array = [30, 20, 10]\n",
    "low, high = 0, len(array)-1\n",
    "print(naive_stock_span(array, low, high))\n",
    "\n",
    "array = [10, 20, 30]\n",
    "low, high = 0, len(array)-1\n",
    "print(naive_stock_span(array, low, high))\n",
    "\n",
    "array = [1, 5, 3, 1, 2, 8]\n",
    "low, high = 0, len(array)-1\n",
    "print(naive_stock_span(array, low, high))\n",
    "\n",
    "print(\" \")\n",
    "\n",
    "# does this solution makes sense? Not sure!\n",
    "def better_stock_span(array, low, high):\n",
    "    \n",
    "    if (low, high) in cache:\n",
    "        return cache[(low, high)]\n",
    "    \n",
    "    if high-low+1 <= 1:\n",
    "        return 0\n",
    "    \n",
    "    globalProfit = 0\n",
    "    for i in range(low, high+1):\n",
    "        for j in range(i+1, high+1):\n",
    "            if array[i]<array[j]:\n",
    "                currProfit = array[j] - array[i] + naive_stock_span(array, j+1, high) + naive_stock_span(array, low, i-1)\n",
    "                globalProfit = max(globalProfit, currProfit)\n",
    "    \n",
    "    cache[(low, high)] = globalProfit\n",
    "    return globalProfit\n",
    "\n",
    "cache = {}\n",
    "array = [1, 5, 3, 8, 12]\n",
    "low, high = 0, len(array)-1\n",
    "print(better_stock_span(array, low, high))\n",
    "print(cache)\n",
    "\n",
    "cache = {}\n",
    "array = [30, 20, 10]\n",
    "low, high = 0, len(array)-1\n",
    "print(better_stock_span(array, low, high))\n",
    "print(cache)\n",
    "\n",
    "cache = {}\n",
    "array = [10, 20, 30]\n",
    "low, high = 0, len(array)-1\n",
    "print(better_stock_span(array, low, high))\n",
    "print(cache)\n",
    "\n",
    "cache = {}\n",
    "array = [1, 5, 3, 1, 2, 8]\n",
    "low, high = 0, len(array)-1\n",
    "print(better_stock_span(array, low, high))\n",
    "print(cache)"
   ]
  },
  {
   "cell_type": "markdown",
   "id": "5ab77147",
   "metadata": {},
   "source": [
    "### Question - 13 (Trapping Rain Water);"
   ]
  },
  {
   "cell_type": "markdown",
   "id": "1f6777ca",
   "metadata": {},
   "source": [
    "### Question - 14 (Maximum Consecutive Ones in a Binary Array);\n",
    "\n",
    "I/P: [0, 1, 1, 0, 1, 0] \n",
    "O/P: 2\n",
    "\n",
    "I/P: [1, 1, 1, 1] \n",
    "O/P: 4\n",
    "\n",
    "I/P: [1, 0, 1, 1, 1, 1, 0, 1, 1] \n",
    "O/P: 4\n",
    "\n",
    "I/P: [0, 0, 0] \n",
    "O/P: 0"
   ]
  },
  {
   "cell_type": "code",
   "execution_count": null,
   "id": "9dfe28e9",
   "metadata": {},
   "outputs": [],
   "source": [
    "def max_ones(array):\n",
    "    \n",
    "    count, countTrack = array[0], array[0]\n",
    "    for index in range(1, len(array)):\n",
    "        if (array[index]==array[index-1]) and array[index]==1:\n",
    "            count += 1\n",
    "        else:\n",
    "            count = array[index]\n",
    "        countTrack = max(countTrack, count) \n",
    "            \n",
    "    return countTrack\n",
    "\n",
    "array = [0, 1, 1, 0, 1, 0] \n",
    "print(max_ones(array))\n",
    "\n",
    "array = [1, 1, 1, 1] \n",
    "print(max_ones(array))\n",
    "\n",
    "array = [1, 0, 1, 1, 1, 1, 0, 1, 1] \n",
    "print(max_ones(array))\n",
    "\n",
    "array = [0, 0, 0] \n",
    "print(max_ones(array))"
   ]
  },
  {
   "cell_type": "markdown",
   "id": "224046ed",
   "metadata": {},
   "source": [
    "### Question - 15 (Maximum Subarray Sum);\n",
    "- Given an array, return the maximum sum of a subarray in this array:"
   ]
  },
  {
   "cell_type": "code",
   "execution_count": 14,
   "id": "ecf008e4",
   "metadata": {},
   "outputs": [
    {
     "name": "stdout",
     "output_type": "stream",
     "text": [
      "4\n",
      "16\n",
      "11\n",
      "-1\n",
      "6\n",
      "\n",
      "(4, 4)\n",
      "(16, 16)\n",
      "(11, 11)\n",
      "(-8, -1)\n",
      "(6, 6)\n"
     ]
    }
   ],
   "source": [
    "# theta(n^2) time,  O(1) space (Looking forward at the problem)!\n",
    "def naive_subarray(array):\n",
    "    answer = float(\"-inf\")\n",
    "    for outerIndex in range(len(array)):\n",
    "        count = array[outerIndex]\n",
    "        answer = max(answer, count)\n",
    "        for innerIndex in range(outerIndex+1, len(array)):\n",
    "            count += array[innerIndex]\n",
    "            answer = max(answer, count)\n",
    "            \n",
    "    return answer\n",
    "\n",
    "array = [1, -2, 3, -1, 2]\n",
    "print(naive_subarray(array))\n",
    "\n",
    "array = [5, 8, 3]\n",
    "print(naive_subarray(array))\n",
    "\n",
    "array = [2, 3, -8, 7, -1, 2, 3]\n",
    "print(naive_subarray(array))\n",
    "\n",
    "array = [-6, -1, -8]\n",
    "print(naive_subarray(array))\n",
    "\n",
    "array = [1, 2, 3]\n",
    "print(naive_subarray(array))\n",
    "\n",
    "\n",
    "print(\"\")\n",
    "\n",
    "# theta(n) solution, Kadane's algorithm use the previous max-subarray sum;\n",
    "def max_recursive(array, index):\n",
    "    \n",
    "    if index==0:\n",
    "        return (array[index], array[index])\n",
    "    \n",
    "    bundle = max_recursive(array, index-1)\n",
    "    maxEnding = max(array[index], array[index] + bundle[0])\n",
    "    \n",
    "    return (maxEnding, max(maxEnding, bundle[1]))\n",
    "\n",
    "\n",
    "array = [1, -2, 3, -1, 2]\n",
    "print(max_recursive(array, len(array)-1))\n",
    "\n",
    "array = [5, 8, 3]\n",
    "print(max_recursive(array, len(array)-1))\n",
    "\n",
    "array = [2, 3, -8, 7, -1, 2, 3]\n",
    "print(max_recursive(array, len(array)-1))\n",
    "\n",
    "array = [-6, -1, -8]\n",
    "print(max_recursive(array, len(array)-1))\n",
    "\n",
    "array = [1, 2, 3]\n",
    "print(max_recursive(array, len(array)-1))"
   ]
  },
  {
   "cell_type": "markdown",
   "id": "6f23d135",
   "metadata": {},
   "source": [
    "### Question - 16 (Longest Even Odd Subarray);\n",
    "\n",
    "- An interesting array problem to find the length of the longest subarray that has alternating even odd elements.\n",
    "- Simpe to Kadane's algorithm!"
   ]
  },
  {
   "cell_type": "code",
   "execution_count": 15,
   "id": "7abe814d",
   "metadata": {},
   "outputs": [
    {
     "name": "stdout",
     "output_type": "stream",
     "text": [
      "3\n",
      "3\n"
     ]
    }
   ],
   "source": [
    "def max_even_odd(array):\n",
    "    maxEnding, currLength = 1, 1 \n",
    "    for index in range(1, len(array)):\n",
    "        if array[index]%2 != array[index-1]%2:\n",
    "            currLength += 1\n",
    "        else:\n",
    "            currLength = 1\n",
    "        maxEnding = max(maxEnding, currLength)\n",
    "    return maxEnding   \n",
    "\n",
    "array = [10, 12, 14, 7, 8]\n",
    "print(max_even_odd(array))\n",
    "\n",
    "array = [5, 10, 20, 6, 3, 8]\n",
    "print(max_even_odd(array))"
   ]
  },
  {
   "cell_type": "markdown",
   "id": "66e8c670",
   "metadata": {},
   "source": [
    "----\n",
    "\n",
    "### Concept: (Sliding Window Technique - Very Very Important);"
   ]
  },
  {
   "cell_type": "markdown",
   "id": "afa6768b",
   "metadata": {},
   "source": [
    "### Question - 17 (Given an array of integers and a number K, find the maximum sum of K consecutive elements)\n",
    "\n",
    "- Caveat: Please take care of the indices in the for loop that you use!!! It's very easy to make mistakes when considering K elements!!\n",
    "\n",
    "I/P : [1, 8, 30, -5, 20, 7], K = 3\n",
    "O/P : 45\n",
    "\n",
    "I/P : [5, -10, 6, 90, 3], K = 2\n",
    "O/P : 96"
   ]
  },
  {
   "cell_type": "code",
   "execution_count": null,
   "id": "32e6f423",
   "metadata": {},
   "outputs": [],
   "source": [
    "def naive_k_subarray_sum(array, K):\n",
    "    maxSum = 0\n",
    "    for outerIndex in range(len(array) - K + 1):\n",
    "        currSum = 0\n",
    "        for innerIndex in range(outerIndex, outerIndex + K ):\n",
    "            currSum += array[innerIndex]\n",
    "        maxSum = max(currSum, maxSum)    \n",
    "    \n",
    "    return maxSum\n",
    "\n",
    "array, K = [1, 8, 30, -5, 20, 7], 3\n",
    "print(naive_k_subarray_sum(array, K))\n",
    "\n",
    "array, K = [5, -10, 6, 90, 3], 2\n",
    "print(naive_k_subarray_sum(array, K))\n",
    "\n",
    "\n",
    "print(\" \")\n",
    "        \n",
    "\n",
    "def better_maximum_k_subarray_sum(array, K):\n",
    "    currSum = 0\n",
    "    for index in range(K):\n",
    "        currSum += array[index]\n",
    "    maxSum = currSum\n",
    "    \n",
    "    for index in range(K, len(array)):\n",
    "        currSum += array[index] - array[index - K]\n",
    "        maxSum = max(maxSum, currSum)\n",
    "        \n",
    "    return maxSum\n",
    "\n",
    "array, K = [1, 8, 30, -5, 20, 7], 3\n",
    "print(better_maximum_k_subarray_sum(array, K))\n",
    "\n",
    "array, K = [5, -10, 6, 90, 3], 2\n",
    "print(better_maximum_k_subarray_sum(array, K))\n",
    "\n",
    "\n",
    "print(\" \")\n",
    "\n",
    "\n",
    "# Use this template although the time complexity is the same as above, it is more convenient!\n",
    "def best_maximum_k_subarray_sum(array, K):\n",
    "    left, right = 0, 0\n",
    "    currSum, maxSum = 0, 0\n",
    "    \n",
    "    while right<len(array):\n",
    "        \n",
    "        currSum += array[right]\n",
    "        \n",
    "        if right-left+1<K:    # window size not hit\n",
    "            right += 1\n",
    "            \n",
    "        elif right-left+1==K: # window size hit\n",
    "            maxSum = max(maxSum, currSum) # do computation\n",
    "            currSum -= array[left]\n",
    "            left += 1\n",
    "            right += 1\n",
    "            \n",
    "    return maxSum   \n",
    "\n",
    "array, K = [1, 8, 30, -5, 20, 7], 3\n",
    "print(best_maximum_k_subarray_sum(array, K))\n",
    "\n",
    "array, K = [5, -10, 6, 90, 3], 2\n",
    "print(best_maximum_k_subarray_sum(array, K))"
   ]
  },
  {
   "cell_type": "markdown",
   "id": "26309e31",
   "metadata": {},
   "source": [
    "### Question - 18 (Given an array of integers and a number K, find if there exists a subarray of size K with sum GivenSum)"
   ]
  },
  {
   "cell_type": "markdown",
   "id": "8203ebf6",
   "metadata": {},
   "source": [
    "### Question - 19 (Given an array of integers and a value, find if there exists *any* subarray with sum GivenSum)"
   ]
  },
  {
   "cell_type": "markdown",
   "id": "7c3a271c",
   "metadata": {},
   "source": [
    "### Question - 20 (Given an array of *only positive* integers and a value, find if there exists a subarray with sum GivenSum)"
   ]
  },
  {
   "cell_type": "markdown",
   "id": "3642351c",
   "metadata": {},
   "source": [
    "### Question - 21 (Count number of *distinct* elements in *every* window of size *K*)\n",
    "\n",
    "----"
   ]
  },
  {
   "cell_type": "markdown",
   "id": "c1db14dd",
   "metadata": {},
   "source": [
    "### Concept: (Prefix Sum Technique);"
   ]
  },
  {
   "cell_type": "markdown",
   "id": "d17beef6",
   "metadata": {},
   "source": [
    "### Question - 21 (Find the sum of the numbers in an array lying in a given range (l, r))\n",
    "\n",
    "### Question - 22 (Appliction of prefix sum: Given an array, find the position of the equilibrium point)\n",
    "\n",
    "### Question - 23 (Given $n$ ranges, find the maximum appearing elements in these ranges (how many times it occur and which one is it!))\n",
    "\n",
    "### Question - 24 (Check if the array can be divided into three parts with equal sum))\n",
    "\n",
    "### Question - 25 (Check if there is a subarray with 0 sum)\n",
    "\n",
    "### Question - 26 (Find the longest subarray with equal 0's and 1's)"
   ]
  }
 ],
 "metadata": {
  "kernelspec": {
   "display_name": "Python 3 (ipykernel)",
   "language": "python",
   "name": "python3"
  },
  "language_info": {
   "codemirror_mode": {
    "name": "ipython",
    "version": 3
   },
   "file_extension": ".py",
   "mimetype": "text/x-python",
   "name": "python",
   "nbconvert_exporter": "python",
   "pygments_lexer": "ipython3",
   "version": "3.10.13"
  }
 },
 "nbformat": 4,
 "nbformat_minor": 5
}
