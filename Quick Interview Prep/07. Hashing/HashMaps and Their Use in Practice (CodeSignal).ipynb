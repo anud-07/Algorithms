{
 "cells": [
  {
   "cell_type": "markdown",
   "id": "897bac39",
   "metadata": {},
   "source": [
    "## HashMaps in Python: Dictionaries\n",
    "\n",
    "- It's important to remember that while dictionary values can be mutable or immutable types, dictionary keys must be of an immutable type (such as strings, numbers, or tuples).\n",
    "\n",
    "- **Accessing Elements**: You can retrieve a book's title using its key in a straightforward way: `library_catalog['book1']` would return `'A Tale of Two Cities'`. But what happens if you try to access a key that isn't present in the dictionary? This would result in a KeyError.\n",
    "    - To prevent such errors, Python dictionaries provide the `get()` method. It fetches the value for a given key if it exists. If it doesn't, it simply returns None.\n",
    "    - Python dictionaries have a `get(key, default)` method, which is an alternative to checking whether a key already exists in a dictionary. It allows us to fetch the value of a key if it exists, or return a default value specified by you if it doesn't."
   ]
  },
  {
   "cell_type": "code",
   "execution_count": 1,
   "id": "2d956a76",
   "metadata": {},
   "outputs": [
    {
     "name": "stdout",
     "output_type": "stream",
     "text": [
      "A Tale of Two Cities\n",
      "None\n"
     ]
    }
   ],
   "source": [
    "# Creating a catalog for the library using dictionaries\n",
    "library_catalog = {'book1': 'A Tale of Two Cities', \n",
    "                   'book2': 'To Kill a Mockingbird', \n",
    "                   'book3': '1984'}\n",
    "\n",
    "# Using get() to access a book's title\n",
    "book1 = library_catalog.get('book1')\n",
    "print(book1)  # Output: \"A Tale of Two Cities\"\n",
    "\n",
    "# Using get() to access a nonexistent key\n",
    "nonexistent_book = library_catalog.get('book100')\n",
    "print(nonexistent_book)  # Output: None"
   ]
  },
  {
   "cell_type": "markdown",
   "id": "7f36459a",
   "metadata": {},
   "source": [
    "- **Adding or Updating Elements**: Adding or Updating Elements: Whether you're adding a new book to the catalog or updating an existing book's title, you'll use the assignment operator (`=`). This syntax in Python's dictionaries allows for both updating existing key-value pairs and establishing new ones.\n",
    "    \n",
    "    - If the specified key exists in the dictionary, the assigned value replaces the existing one. For updating a title: `library_catalog['book1'] = 'The Tell-Tale Heart'`.\n",
    "\n",
    "    - If the key doesn't exist in the dictionary yet, the operation creates a new key-value pair. For adding a new book: `library_catalog['book4'] = 'Pride and Prejudice'`."
   ]
  },
  {
   "cell_type": "code",
   "execution_count": 2,
   "id": "2d1ca2b3",
   "metadata": {},
   "outputs": [],
   "source": [
    "library_catalog['book4'] = 'Pride and Prejudice'"
   ]
  },
  {
   "cell_type": "markdown",
   "id": "d6b5ff38",
   "metadata": {},
   "source": [
    "- **Removing Elements**: If `'book1'` no longer exists, you can remove it using `del library_catalog['book1']`."
   ]
  },
  {
   "cell_type": "code",
   "execution_count": 3,
   "id": "e33b9033",
   "metadata": {},
   "outputs": [],
   "source": [
    "del library_catalog['book1']"
   ]
  },
  {
   "cell_type": "code",
   "execution_count": 4,
   "id": "f63cdae9",
   "metadata": {},
   "outputs": [
    {
     "data": {
      "text/plain": [
       "{'book2': 'To Kill a Mockingbird',\n",
       " 'book3': '1984',\n",
       " 'book4': 'Pride and Prejudice'}"
      ]
     },
     "execution_count": 4,
     "metadata": {},
     "output_type": "execute_result"
    }
   ],
   "source": [
    "library_catalog"
   ]
  },
  {
   "cell_type": "markdown",
   "id": "18b19ab3",
   "metadata": {},
   "source": [
    "## Dictionary Methods: `items(), keys(), values()`, and others\n",
    "\n",
    "- **Checking for a Key**: Ensure if a given book is present in your catalog using 'book1' in library_catalog.\n",
    "\n",
    "- **Accessing all Key-Value Pairs:** Use the `items()` method to retrieve all key-value pairs in the dictionary as tuples in a list-like object. This will come in handy when you need to examine all the data you have stored.\n",
    "\n",
    "- **Accessing all Keys and Values**: The `keys()` and `values()` methods return list-like objects consisting of all keys and all values in the dictionary, respectively.\n",
    "\n",
    "- Keep in mind that dictionary methods return \"list-like\" objects, but these aren't actual lists. They provide a dynamic view on the dictionary's entries, which means that any changes to the dictionary will be reflected in these objects. If you need a real list, you can simply transform these list-like objects into an actual list by using `list()` like `list(library_catalog.keys())`."
   ]
  },
  {
   "cell_type": "code",
   "execution_count": 5,
   "id": "e8ab65c4",
   "metadata": {},
   "outputs": [],
   "source": [
    "all_books = library_catalog.items()\n",
    "\n",
    "# Getting all keys\n",
    "all_keys = library_catalog.keys()\n",
    "# all_keys now holds: dict_keys(['book1', 'book2', 'book3'])\n",
    "\n",
    "# Getting all values\n",
    "all_values = library_catalog.values()\n",
    "# all_values now holds: dict_values(['A Tale of Two Cities', 'To Kill a Mockingbird', '1984'])"
   ]
  },
  {
   "cell_type": "code",
   "execution_count": 6,
   "id": "b683d957",
   "metadata": {},
   "outputs": [
    {
     "name": "stdout",
     "output_type": "stream",
     "text": [
      "book2 : To Kill a Mockingbird\n",
      "book3 : 1984\n",
      "book4 : Pride and Prejudice\n"
     ]
    }
   ],
   "source": [
    "# Looping over the dictionary\n",
    "for key, value in library_catalog.items():\n",
    "    print(key, \":\", value)"
   ]
  },
  {
   "cell_type": "markdown",
   "id": "cb37e093",
   "metadata": {},
   "source": [
    "## Traversals: Know these traversals very well !!"
   ]
  },
  {
   "cell_type": "code",
   "execution_count": 7,
   "id": "46fa88cc",
   "metadata": {},
   "outputs": [],
   "source": [
    "colors = ['red', 'blue', 'red', 'green', 'blue', 'blue']"
   ]
  },
  {
   "cell_type": "code",
   "execution_count": 8,
   "id": "1528ba7d",
   "metadata": {},
   "outputs": [
    {
     "data": {
      "text/plain": [
       "{'red': 2, 'blue': 3, 'green': 1}"
      ]
     },
     "execution_count": 8,
     "metadata": {},
     "output_type": "execute_result"
    }
   ],
   "source": [
    "color_dict = {}\n",
    "for color in colors:\n",
    "    if color not in color_dict:\n",
    "        color_dict[color] = 0\n",
    "    color_dict[color] += 1 # can save time by directly using color_dict.get(color, 0) + 1 (as pointed out below!)\n",
    "\n",
    "color_dict"
   ]
  },
  {
   "cell_type": "code",
   "execution_count": 9,
   "id": "37806d01",
   "metadata": {},
   "outputs": [
    {
     "data": {
      "text/plain": [
       "{'red': 4, 'blue': 6, 'green': 2}"
      ]
     },
     "execution_count": 9,
     "metadata": {},
     "output_type": "execute_result"
    }
   ],
   "source": [
    "# Start the loop to iterate over each color\n",
    "for color in colors:\n",
    "    # Get the value of the color key if it exists, otherwise use a default value of 0. Then increment the value by 1\n",
    "    color_dict[color] = color_dict.get(color, 0) + 1\n",
    "\n",
    "# At the end of the loop, print our dictionary with counts\n",
    "color_dict\n",
    "# prints {'red': 2, 'blue': 3, 'green': 1}"
   ]
  },
  {
   "cell_type": "markdown",
   "id": "6e5a71c0",
   "metadata": {},
   "source": [
    "## Data Aggregations for Quick Summary Statistics\n",
    "\n",
    "- Data aggregation using HashMaps are invaluable across a vast array of data analysis tasks, such as report generation or decision-making processes.\n",
    "- `max_key = max(my_dict, key=my_dict.get)`\n",
    "- `min_key = min(my_dict, key=my_dict.get)`"
   ]
  },
  {
   "cell_type": "code",
   "execution_count": 10,
   "id": "a24e0c91",
   "metadata": {},
   "outputs": [
    {
     "name": "stdout",
     "output_type": "stream",
     "text": [
      "The total number of fruits in the basket is: 17\n",
      "The number of fruit types in the basket is: 3\n",
      "The fruit with the most quantity is: oranges\n",
      "The fruit with the least quantity is: bananas\n",
      "The average number of each type of fruit in the basket is: 5.666666666666667\n"
     ]
    }
   ],
   "source": [
    "fruit_basket = {\"apples\": 5, \"bananas\": 4, \"oranges\": 8}\n",
    "# A dictionary representing our fruit basket\n",
    "\n",
    "total_fruits = sum(fruit_basket.values())\n",
    "# Sums up the fruit quantities\n",
    "print(\"The total number of fruits in the basket is:\", total_fruits)\n",
    "# It outputs: \"The total number of fruits in the basket is: 17\"\n",
    "\n",
    "count_fruits = len(fruit_basket)  # The count operation\n",
    "print(\"The number of fruit types in the basket is:\", count_fruits)\n",
    "# It outputs: \"The number of fruit types in the basket is: 3\"\n",
    "\n",
    "# Using the `max` function\n",
    "max_fruit = max(fruit_basket, key=fruit_basket.get)   # returns the \"key\" that is maximum \n",
    "# The expression for finding the maximum\n",
    "print(\"The fruit with the most quantity is:\", max_fruit)\n",
    "# It outputs: \"The fruit with the most quantity is: oranges\"\n",
    "\n",
    "# Using the `min` function\n",
    "min_fruit = min(fruit_basket, key=fruit_basket.get)   # returns the \"key\" that is maximum \n",
    "# The expression for finding the minimum\n",
    "print(\"The fruit with the least quantity is:\", min_fruit)\n",
    "# It outputs: \"The fruit with the least quantity is: bananas\"\n",
    "\n",
    "average_fruits = sum(fruit_basket.values()) / len(fruit_basket)\n",
    "# The expression for finding the average\n",
    "print(\"The average number of each type of fruit in the basket is:\", average_fruits)\n",
    "# It outputs: \"The average number of each type of fruit in the basket is: 5.67\""
   ]
  },
  {
   "cell_type": "markdown",
   "id": "240d4e72",
   "metadata": {},
   "source": [
    "---\n",
    "\n",
    "## Real World Problems - 1\n",
    "\n",
    "- You are provided with log data from a library's digital system, stored in string format. The log represents books' borrowing activities, including the book ID and the time a book is borrowed and returned. The structure of a log entry is as follows: \n",
    "    - `<book_id> borrow <time>, <book_id> return <time>`.\n",
    "\n",
    "- The time is given in the `HH:MM` 24-hour format, and the book ID is a positive integer between 1 and 500. The logs are separated by a comma, followed by a space (\", \").\n",
    "\n",
    "- Your task is to create a Python function named `solution()`. This function will take as \n",
    "    - input a string of logs and \n",
    "    - output a list of tuples representing the books with the **longest** borrowed duration. \n",
    "    \n",
    "- Each tuple contains two items: the book ID and the book's borrowed duration. By 'borrowed duration,' we mean the period from when the book was borrowed until it was returned. If a book has been borrowed and returned multiple times, the borrowed duration is the total cumulative sum of those durations. If multiple books share the same longest borrowed duration, the function should return all such books in ascending order of their IDs.\n",
    "\n",
    "- For example, if we have a log string as follows: `\"1 borrow 09:00, 2 borrow 10:00, 1 return 12:00, 3 borrow 13:00, 2 return 15:00, 3 return 16:00\"`,\n",
    "the function will return: `[(2, '05:00')]`.\n",
    "\n",
    "- Note: You can safely assume that all borrowing actions for a given book will have a corresponding return action in the log, and vice versa. Also, the logs are sorted by the time of the action."
   ]
  },
  {
   "cell_type": "code",
   "execution_count": 11,
   "id": "96ffc464",
   "metadata": {},
   "outputs": [],
   "source": [
    "from datetime import datetime, timedelta\n",
    "\n",
    "def solution(logs):\n",
    "\n",
    "    books_meta_data = logs.split(\", \")\n",
    "    \n",
    "    borrows   = {}\n",
    "    durations = {}\n",
    "    format = '%H:%M'  # The expected timestamp format\n",
    "    \n",
    "    for book_info in books_meta_data:\n",
    "        \n",
    "        book_id, status, time = book_info.split()\n",
    "        book_id = int(book_id)\n",
    "        time = datetime.strptime(time, format)  # Casting the timestamp from string to datetime object\n",
    "        \n",
    "        if status == \"borrow\":\n",
    "            borrows[book_id] = time\n",
    "        else:\n",
    "            durations[book_id] = durations.get(book_id, timedelta()) + time - borrows[book_id]\n",
    "            del borrows[book_id]\n",
    "    \n",
    "    maxDuration = max( durations.values() )\n",
    "    answer = []\n",
    "    \n",
    "    for book_id, duration in durations.items():\n",
    "        \n",
    "        if duration == maxDuration:\n",
    "            \n",
    "            totalMinutes = duration.total_seconds() // 60\n",
    "            totalHours   = int( totalMinutes // 60 ) \n",
    "            minutes      = int( totalMinutes % 60 ) \n",
    "            new_duration = f\"{str(totalHours).zfill(2)}:{str(minutes).zfill(2)}\"\n",
    "            \n",
    "            answer.append( (book_id, new_duration) )\n",
    "            \n",
    "    answer.sort(key = lambda item: item[0])\n",
    "    \n",
    "    return answer"
   ]
  },
  {
   "cell_type": "code",
   "execution_count": 12,
   "id": "4e1625f6",
   "metadata": {},
   "outputs": [
    {
     "name": "stderr",
     "output_type": "stream",
     "text": [
      "........\n",
      "----------------------------------------------------------------------\n",
      "Ran 8 tests in 0.009s\n",
      "\n",
      "OK\n"
     ]
    },
    {
     "data": {
      "text/plain": [
       "<unittest.runner.TextTestResult run=8 errors=0 failures=0>"
      ]
     },
     "execution_count": 12,
     "metadata": {},
     "output_type": "execute_result"
    }
   ],
   "source": [
    "import unittest\n",
    "\n",
    "class SolutionTest(unittest.TestCase):\n",
    "    def test_case1(self):\n",
    "        logs = \"1 borrow 09:00, 2 borrow 10:00, 1 return 12:00, 3 borrow 13:00, 2 return 15:00, 3 return 16:00\"\n",
    "        self.assertEqual(solution(logs), [(2, '05:00')])\n",
    "\n",
    "    def test_case2(self):\n",
    "        logs = \"1 borrow 09:00, 2 borrow 10:00, 1 return 16:00, 3 borrow 13:00, 2 return 15:00, 3 return 16:00\"\n",
    "        self.assertEqual(solution(logs), [(1, '07:00')])\n",
    "\n",
    "    def test_case3(self):\n",
    "        logs = \"1 borrow 05:00, 1 return 18:00, 2 borrow 08:00, 2 return 17:00\"\n",
    "        self.assertEqual(solution(logs), [(1, '13:00')])\n",
    "\n",
    "    def test_case4(self):\n",
    "        logs = \"1 borrow 06:00, 2 borrow 07:00, 3 borrow 08:00, 1 return 12:00, 2 return 13:00, 3 return 14:00\"\n",
    "        self.assertEqual(solution(logs), [(1, '06:00'), (2, '06:00'), (3, '06:00')])\n",
    "\n",
    "    def test_case5(self):\n",
    "        logs = \"1 borrow 09:00, 1 return 09:01, 2 borrow 09:02, 2 return 09:03\"\n",
    "        self.assertEqual(solution(logs), [(1, '00:01'), (2, '00:01')])\n",
    "\n",
    "    def test_case6(self):\n",
    "        logs = \"1 borrow 12:00, 1 return 18:00, 2 borrow 06:00, 2 return 12:00, 3 borrow 00:00, 3 return 06:00\"\n",
    "        self.assertEqual(solution(logs), [(1, '06:00'), (2, '06:00'), (3, '06:00')])\n",
    "\n",
    "    def test_case7(self):\n",
    "        logs = \"1 borrow 01:00, 1 return 04:00, 2 borrow 02:00, 2 return 05:00\"\n",
    "        self.assertEqual(solution(logs), [(1, '03:00'), (2, '03:00')])\n",
    "\n",
    "    def test_case8(self):\n",
    "        logs = \"1 borrow 01:00, 1 return 02:00, 2 borrow 03:00, 2 return 05:00, 1 borrow 06:00, 1 return 10:00\"\n",
    "        self.assertEqual(solution(logs), [(1, '05:00')])\n",
    "\n",
    "# Run only the new test cases\n",
    "suite = unittest.TestLoader().loadTestsFromTestCase(SolutionTest)\n",
    "unittest.TextTestRunner().run(suite)"
   ]
  },
  {
   "cell_type": "markdown",
   "id": "b8798af9",
   "metadata": {},
   "source": [
    "---\n",
    "## Real World Problems - 2\n",
    "\n",
    "- You must select a particular integer, `k`, from the array. Once you've selected `k`, the function should remove all occurrences of `'k'` from the array, thereby splitting it into several contiguous blocks, or remaining sub-arrays. A unique feature of `k` is that it is chosen such that the **maximum length among these blocks is minimized.**\n",
    "\n",
    "- For instance, consider the array `[1, 2, 2, 3, 1, 4, 4, 4, 1, 2, 5]`. \n",
    "\n",
    "    - If we eliminate all instances of 2 (our k), the remaining blocks would be `[1], [3, 1, 4, 4, 4, 1], [5]`, with the longest containing 6 elements. \n",
    "    - Now, if we instead remove all instances of 1, the new remaining blocks would be `[2, 2, 3], [4, 4, 4], [2, 5]`, the longest of which contains 3 elements. As such, the function should return 1 in this case, as it leads to a minimal maximum block length."
   ]
  },
  {
   "cell_type": "code",
   "execution_count": 13,
   "id": "5cc1c6f6",
   "metadata": {},
   "outputs": [],
   "source": [
    "# brute force approach\n",
    "def minimal_max_block_bruteforce(arr):\n",
    "    min_max_block_size = float('inf')\n",
    "    min_num = None\n",
    "\n",
    "    for num in set(arr):  # Avoid duplicates.\n",
    "        indices = [i for i, x in enumerate(arr) if x == num]  # Indices where 'num' appears.\n",
    "        indices = [-1] + indices + [len(arr)]  # Add artificial indices at the ends.\n",
    "        max_block_size = max(indices[i] - indices[i-1] - 1 for i in range(1, len(indices)))  # Calculate max block size.\n",
    "        \n",
    "        if max_block_size < min_max_block_size:\n",
    "            min_max_block_size = max_block_size\n",
    "            min_num = num\n",
    "\n",
    "    return min_num\n",
    "\n",
    "# optimal approach\n",
    "def minimal_max_block(arr):\n",
    "    last_occurrence = {}\n",
    "    max_block_sizes = {}\n",
    "\n",
    "    for i, num in enumerate(arr):\n",
    "        if num not in last_occurrence:\n",
    "            max_block_sizes[num] = i\n",
    "        else:\n",
    "            block_size = i - last_occurrence[num] - 1\n",
    "            max_block_sizes[num] = max(max_block_sizes[num], block_size)\n",
    "        last_occurrence[num] = i\n",
    "\n",
    "    for num, pos in last_occurrence.items():\n",
    "        block_size = len(arr) - pos - 1\n",
    "        max_block_sizes[num] = max(max_block_sizes[num], block_size)\n",
    "\n",
    "    min_num = min(max_block_sizes, key=max_block_sizes.get)\n",
    "\n",
    "    return min_num"
   ]
  },
  {
   "cell_type": "markdown",
   "id": "09981143",
   "metadata": {},
   "source": [
    "---\n",
    "## Real World Problems - 3\n",
    "\n",
    "- The goal is to partition the string s into the **largest possible number of contiguous substrings** (or \"chapters\") such that each letter appears in only one of these substrings.\n",
    "\n",
    "- Here's how you can think about it:\n",
    "\n",
    "    - Unique Occurrence: Each letter should only appear in one chapter. This means if a letter appears multiple times, all its occurrences must be within the same chapter.\n",
    "\n",
    "    - Order Matters: The chapters must follow the order of the original string.\n",
    "\n",
    "    - Output: You need to return a list of integers representing the lengths of these chapters.\n",
    "\n",
    "    - For example, if the string is `\"abacdcd\"`, you can split it into `\"aba\"` and `\"cdcd\"`, resulting in chapter lengths `[3, 4]`."
   ]
  },
  {
   "cell_type": "code",
   "execution_count": 14,
   "id": "b074a5cf",
   "metadata": {},
   "outputs": [],
   "source": [
    "def string_partition(s):\n",
    "    \n",
    "    last_occurence = {}\n",
    "    for index, char in enumerate(s):\n",
    "        last_occurence[char] = index\n",
    "        \n",
    "    max_last_index = float(\"-inf\")\n",
    "    answer = []\n",
    "    chapter_start = 0\n",
    "    \n",
    "    for index, char in enumerate(s):\n",
    "        \n",
    "        last_occur_index = last_occurence[char]\n",
    "        max_last_index = max(max_last_index, last_occur_index)\n",
    "        \n",
    "        if max_last_index == index:\n",
    "            answer.append( index - chapter_start + 1)\n",
    "            chapter_start = index + 1\n",
    "    \n",
    "    return answer"
   ]
  },
  {
   "cell_type": "code",
   "execution_count": 15,
   "id": "ab9cf93c",
   "metadata": {},
   "outputs": [
    {
     "name": "stderr",
     "output_type": "stream",
     "text": [
      ".........\n",
      "----------------------------------------------------------------------\n",
      "Ran 9 tests in 0.319s\n",
      "\n",
      "OK\n"
     ]
    },
    {
     "data": {
      "text/plain": [
       "<unittest.runner.TextTestResult run=9 errors=0 failures=0>"
      ]
     },
     "execution_count": 15,
     "metadata": {},
     "output_type": "execute_result"
    }
   ],
   "source": [
    "class SolutionTests(unittest.TestCase):\n",
    "    def test1(self):\n",
    "        self.assertEqual(string_partition(\"abacbc\"), [6])\n",
    "\n",
    "    def test2(self):\n",
    "        self.assertEqual(string_partition(\"a\"), [1])\n",
    "\n",
    "    def test3(self):\n",
    "        self.assertEqual(string_partition(\"abc\"), [1, 1, 1])\n",
    "\n",
    "    def test4(self):\n",
    "        self.assertEqual(string_partition(\"aaabbbccc\"), [3, 3, 3])\n",
    "        \n",
    "    def test5(self):\n",
    "        self.assertEqual(string_partition(\"zabacbcz\"), [8])\n",
    "        \n",
    "    def test6(self):\n",
    "        self.assertEqual(string_partition(\"abcabcabc\"), [9])\n",
    "        \n",
    "    def test7(self):\n",
    "        self.assertEqual(string_partition(\"abacdcd\"), [3, 4])\n",
    "        \n",
    "    def test8(self):\n",
    "        self.assertEqual(string_partition(\"feepplkpadaasdr\"), [1, 2, 5, 6, 1])\n",
    "\n",
    "    def test9(self):\n",
    "        self.assertEqual(string_partition(\"a\" * 1000000), [1000000])\n",
    "        \n",
    "# Run only the new test cases\n",
    "suite = unittest.TestLoader().loadTestsFromTestCase(SolutionTests)\n",
    "unittest.TextTestRunner().run(suite)"
   ]
  },
  {
   "cell_type": "markdown",
   "id": "af2ea2a7",
   "metadata": {},
   "source": [
    "---\n",
    "## Real World Problems - 4\n",
    "\n",
    "- the goal is to find the character whose removal results in the **maximum number of unique words being broken**. If multiple characters result in the same number of broken words, choose the one that appears first in the string."
   ]
  },
  {
   "cell_type": "code",
   "execution_count": 16,
   "id": "76e3adbd",
   "metadata": {},
   "outputs": [],
   "source": [
    "def solution(s):\n",
    "    # Create a dictionary to map each character to the number of unique words it appears in\n",
    "    char_to_word_count = {}\n",
    "    unique_words = set(s.split())\n",
    "\n",
    "    # Populate the dictionary\n",
    "    for word in unique_words:\n",
    "        seen_chars = set()\n",
    "        for char in word:\n",
    "            if char not in seen_chars:\n",
    "                if char not in char_to_word_count:\n",
    "                    char_to_word_count[char] = 0\n",
    "                char_to_word_count[char] += 1\n",
    "                seen_chars.add(char)\n",
    "\n",
    "    # Find the character with the maximum count\n",
    "    max_char = None\n",
    "    max_count = -1\n",
    "\n",
    "    for char in s:\n",
    "        if char in char_to_word_count and char_to_word_count[char] > max_count:\n",
    "            max_char = char\n",
    "            max_count = char_to_word_count[char]\n",
    "\n",
    "    return (max_char, max_count)"
   ]
  },
  {
   "cell_type": "code",
   "execution_count": 17,
   "id": "575060c3",
   "metadata": {},
   "outputs": [
    {
     "name": "stderr",
     "output_type": "stream",
     "text": [
      "..........\n",
      "----------------------------------------------------------------------\n",
      "Ran 10 tests in 0.011s\n",
      "\n",
      "OK\n"
     ]
    },
    {
     "data": {
      "text/plain": [
       "<unittest.runner.TextTestResult run=10 errors=0 failures=0>"
      ]
     },
     "execution_count": 17,
     "metadata": {},
     "output_type": "execute_result"
    }
   ],
   "source": [
    "class TestSolution(unittest.TestCase):\n",
    "\n",
    "    def test_case_1(self):\n",
    "        self.assertEqual(solution(\"Hello, world!\"), ('l', 2))\n",
    "\n",
    "    def test_case_2(self):\n",
    "        self.assertEqual(solution(\"Life is like a box of chocolates\"), ('i', 3))\n",
    "\n",
    "    def test_case_3(self):\n",
    "        self.assertEqual(solution(\"1... 2... 3... Go!\"), ('.', 3))\n",
    "\n",
    "    def test_case_4(self):\n",
    "        self.assertEqual(solution(\"A quick brown fox jumps over the lazy dog.\"), ('o', 4))\n",
    "\n",
    "    def test_case_5(self):\n",
    "        self.assertEqual(solution(\"Python is fun!\"), ('n', 2))\n",
    "\n",
    "    def test_case_6(self):\n",
    "        self.assertEqual(solution(\"To be, or not to be: that is the question.\"), ('o', 5))\n",
    "\n",
    "    def test_case_7(self):\n",
    "        self.assertEqual(solution(\"Winners never quit and quitters never win.\"), ('i', 4))\n",
    "\n",
    "    def test_case_8(self):\n",
    "        self.assertEqual(solution(\"May the force be with you.\"), ('e', 3))\n",
    "\n",
    "    def test_case_9(self):\n",
    "        self.assertEqual(solution(\"In the end, it's not the years in your life that count. It's the life in your years.\"), ('t', 6))\n",
    "\n",
    "    def test_case_10(self):\n",
    "        self.assertEqual(solution(\"Whether you think you can or you think you can’t, you’re right.\"), ('t', 4))\n",
    "        \n",
    "# Run only the new test cases\n",
    "suite = unittest.TestLoader().loadTestsFromTestCase(TestSolution)\n",
    "unittest.TextTestRunner().run(suite)        "
   ]
  },
  {
   "cell_type": "markdown",
   "id": "a455c2fd",
   "metadata": {},
   "source": [
    "---\n",
    "## Real World Problems - 5\n",
    "\n",
    "- Input: A list of `n` words. Each word consists of lowercase and uppercase English alphabets, with lengths ranging from 1 to 50.\n",
    "- Output: A dictionary where:\n",
    "    - Each key is a unique word from the list.\n",
    "    - Each value is the shortest distance between two occurrences of that word in the list.\n",
    "- Distance Calculation: The distance between two occurrences of a word is the difference in their indices.\n",
    "- Constraints: If a word appears only once, it should not be included in the output dictionary."
   ]
  },
  {
   "cell_type": "code",
   "execution_count": 18,
   "id": "eadc5a08",
   "metadata": {},
   "outputs": [],
   "source": [
    "def solution(word_list):\n",
    "    last_occurrence = {}\n",
    "    min_distances = {}\n",
    "\n",
    "    for i, word in enumerate(word_list):\n",
    "        if word in last_occurrence:\n",
    "            distance = i - last_occurrence[word]\n",
    "            if word in min_distances:\n",
    "                min_distances[word] = min(min_distances[word], distance)\n",
    "            else:\n",
    "                min_distances[word] = distance\n",
    "        last_occurrence[word] = i\n",
    "\n",
    "    return min_distances"
   ]
  },
  {
   "cell_type": "markdown",
   "id": "720566f3",
   "metadata": {},
   "source": [
    "---\n",
    "## Real World Problems - 6\n",
    "\n",
    "- "
   ]
  },
  {
   "cell_type": "code",
   "execution_count": 19,
   "id": "241ace3a",
   "metadata": {},
   "outputs": [],
   "source": [
    "def find_influencer(connections):\n",
    "    # Create an adjacency list to store direct friends\n",
    "    friend_network = {}\n",
    "    \n",
    "    for i, j in connections:\n",
    "        if i not in friend_network:\n",
    "            friend_network[i] = set()\n",
    "        friend_network[i].add(j)\n",
    "        \n",
    "        if j not in friend_network:\n",
    "            friend_network[j] = set()\n",
    "        friend_network[j].add(i)\n",
    "        \n",
    "    # Dictionary to count friends within two degrees\n",
    "    counts = {}\n",
    "    for person, direct_friends in friend_network.items():\n",
    "        # Start with direct friends\n",
    "        overall_set = set(direct_friends)\n",
    "        # Add friends of friends\n",
    "        for friend in direct_friends:\n",
    "            overall_set.update(friend_network[friend])\n",
    "        \n",
    "        # Exclude the person themselves\n",
    "        overall_set.discard(person)\n",
    "        counts[person] = len(overall_set)\n",
    "        \n",
    "    # Find the person with the maximum network size\n",
    "    max_value = max(counts.values())\n",
    "    # Return the smallest person ID with the maximum network\n",
    "    return min(person for person, count in counts.items() if count == max_value)"
   ]
  }
 ],
 "metadata": {
  "kernelspec": {
   "display_name": "Python 3 (ipykernel)",
   "language": "python",
   "name": "python3"
  },
  "language_info": {
   "codemirror_mode": {
    "name": "ipython",
    "version": 3
   },
   "file_extension": ".py",
   "mimetype": "text/x-python",
   "name": "python",
   "nbconvert_exporter": "python",
   "pygments_lexer": "ipython3",
   "version": "3.10.13"
  }
 },
 "nbformat": 4,
 "nbformat_minor": 5
}
