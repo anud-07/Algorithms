{
 "cells": [
  {
   "cell_type": "markdown",
   "id": "897bac39",
   "metadata": {},
   "source": [
    "## HashMaps in Python: Dictionaries\n",
    "\n",
    "- It's important to remember that while dictionary values can be mutable or immutable types, dictionary keys must be of an immutable type (such as strings, numbers, or tuples).\n",
    "\n",
    "- **Accessing Elements**: You can retrieve a book's title using its key in a straightforward way: `library_catalog['book1']` would return `'A Tale of Two Cities'`. But what happens if you try to access a key that isn't present in the dictionary? This would result in a KeyError.\n",
    "    - To prevent such errors, Python dictionaries provide the `get()` method. It fetches the value for a given key if it exists. If it doesn't, it simply returns None.\n",
    "    - Python dictionaries have a `get(key, default)` method, which is an alternative to checking whether a key already exists in a dictionary. It allows us to fetch the value of a key if it exists, or return a default value specified by you if it doesn't."
   ]
  },
  {
   "cell_type": "code",
   "execution_count": 1,
   "id": "2d956a76",
   "metadata": {},
   "outputs": [
    {
     "name": "stdout",
     "output_type": "stream",
     "text": [
      "A Tale of Two Cities\n",
      "None\n"
     ]
    }
   ],
   "source": [
    "# Creating a catalog for the library using dictionaries\n",
    "library_catalog = {'book1': 'A Tale of Two Cities', \n",
    "                   'book2': 'To Kill a Mockingbird', \n",
    "                   'book3': '1984'}\n",
    "\n",
    "# Using get() to access a book's title\n",
    "book1 = library_catalog.get('book1')\n",
    "print(book1)  # Output: \"A Tale of Two Cities\"\n",
    "\n",
    "# Using get() to access a nonexistent key\n",
    "nonexistent_book = library_catalog.get('book100')\n",
    "print(nonexistent_book)  # Output: None"
   ]
  },
  {
   "cell_type": "markdown",
   "id": "7f36459a",
   "metadata": {},
   "source": [
    "- **Adding or Updating Elements**: Adding or Updating Elements: Whether you're adding a new book to the catalog or updating an existing book's title, you'll use the assignment operator (`=`). This syntax in Python's dictionaries allows for both updating existing key-value pairs and establishing new ones.\n",
    "    \n",
    "    - If the specified key exists in the dictionary, the assigned value replaces the existing one. For updating a title: `library_catalog['book1'] = 'The Tell-Tale Heart'`.\n",
    "\n",
    "    - If the key doesn't exist in the dictionary yet, the operation creates a new key-value pair. For adding a new book: `library_catalog['book4'] = 'Pride and Prejudice'`."
   ]
  },
  {
   "cell_type": "code",
   "execution_count": 2,
   "id": "2d1ca2b3",
   "metadata": {},
   "outputs": [],
   "source": [
    "library_catalog['book4'] = 'Pride and Prejudice'"
   ]
  },
  {
   "cell_type": "markdown",
   "id": "d6b5ff38",
   "metadata": {},
   "source": [
    "- **Removing Elements**: If `'book1'` no longer exists, you can remove it using `del library_catalog['book1']`."
   ]
  },
  {
   "cell_type": "code",
   "execution_count": 3,
   "id": "e33b9033",
   "metadata": {},
   "outputs": [],
   "source": [
    "del library_catalog['book1']"
   ]
  },
  {
   "cell_type": "code",
   "execution_count": 4,
   "id": "f63cdae9",
   "metadata": {},
   "outputs": [
    {
     "data": {
      "text/plain": [
       "{'book2': 'To Kill a Mockingbird',\n",
       " 'book3': '1984',\n",
       " 'book4': 'Pride and Prejudice'}"
      ]
     },
     "execution_count": 4,
     "metadata": {},
     "output_type": "execute_result"
    }
   ],
   "source": [
    "library_catalog"
   ]
  },
  {
   "cell_type": "markdown",
   "id": "18b19ab3",
   "metadata": {},
   "source": [
    "## Dictionary Methods: `items(), keys(), values()`, and others\n",
    "\n",
    "- **Checking for a Key**: Ensure if a given book is present in your catalog using 'book1' in library_catalog.\n",
    "\n",
    "- **Accessing all Key-Value Pairs:** Use the `items()` method to retrieve all key-value pairs in the dictionary as tuples in a list-like object. This will come in handy when you need to examine all the data you have stored.\n",
    "\n",
    "- **Accessing all Keys and Values**: The `keys()` and `values()` methods return list-like objects consisting of all keys and all values in the dictionary, respectively.\n",
    "\n",
    "- Keep in mind that dictionary methods return \"list-like\" objects, but these aren't actual lists. They provide a dynamic view on the dictionary's entries, which means that any changes to the dictionary will be reflected in these objects. If you need a real list, you can simply transform these list-like objects into an actual list by using `list()` like `list(library_catalog.keys())`."
   ]
  },
  {
   "cell_type": "code",
   "execution_count": 5,
   "id": "e8ab65c4",
   "metadata": {},
   "outputs": [],
   "source": [
    "all_books = library_catalog.items()\n",
    "\n",
    "# Getting all keys\n",
    "all_keys = library_catalog.keys()\n",
    "# all_keys now holds: dict_keys(['book1', 'book2', 'book3'])\n",
    "\n",
    "# Getting all values\n",
    "all_values = library_catalog.values()\n",
    "# all_values now holds: dict_values(['A Tale of Two Cities', 'To Kill a Mockingbird', '1984'])"
   ]
  },
  {
   "cell_type": "code",
   "execution_count": 6,
   "id": "b683d957",
   "metadata": {},
   "outputs": [
    {
     "name": "stdout",
     "output_type": "stream",
     "text": [
      "book2 : To Kill a Mockingbird\n",
      "book3 : 1984\n",
      "book4 : Pride and Prejudice\n"
     ]
    }
   ],
   "source": [
    "# Looping over the dictionary\n",
    "for key, value in library_catalog.items():\n",
    "    print(key, \":\", value)"
   ]
  },
  {
   "cell_type": "markdown",
   "id": "cb37e093",
   "metadata": {},
   "source": [
    "## Traversals: Know these traversals very well !!"
   ]
  },
  {
   "cell_type": "code",
   "execution_count": 7,
   "id": "46fa88cc",
   "metadata": {},
   "outputs": [],
   "source": [
    "colors = ['red', 'blue', 'red', 'green', 'blue', 'blue']"
   ]
  },
  {
   "cell_type": "code",
   "execution_count": 8,
   "id": "1528ba7d",
   "metadata": {},
   "outputs": [
    {
     "data": {
      "text/plain": [
       "{'red': 2, 'blue': 3, 'green': 1}"
      ]
     },
     "execution_count": 8,
     "metadata": {},
     "output_type": "execute_result"
    }
   ],
   "source": [
    "color_dict = {}\n",
    "for color in colors:\n",
    "    if color not in color_dict:\n",
    "        color_dict[color] = 0\n",
    "    color_dict[color] += 1 # can save time by directly using color_dict.get(color, 0) + 1 (as pointed out below!)\n",
    "\n",
    "color_dict"
   ]
  },
  {
   "cell_type": "code",
   "execution_count": 9,
   "id": "37806d01",
   "metadata": {},
   "outputs": [
    {
     "data": {
      "text/plain": [
       "{'red': 4, 'blue': 6, 'green': 2}"
      ]
     },
     "execution_count": 9,
     "metadata": {},
     "output_type": "execute_result"
    }
   ],
   "source": [
    "# Start the loop to iterate over each color\n",
    "for color in colors:\n",
    "    # Get the value of the color key if it exists, otherwise use a default value of 0. Then increment the value by 1\n",
    "    color_dict[color] = color_dict.get(color, 0) + 1\n",
    "\n",
    "# At the end of the loop, print our dictionary with counts\n",
    "color_dict\n",
    "# prints {'red': 2, 'blue': 3, 'green': 1}"
   ]
  },
  {
   "cell_type": "markdown",
   "id": "6e5a71c0",
   "metadata": {},
   "source": [
    "## Data Aggregations for Quick Summary Statistics\n",
    "\n",
    "- Data aggregation using HashMaps are invaluable across a vast array of data analysis tasks, such as report generation or decision-making processes.\n",
    "- `max_key = max(my_dict, key=my_dict.get)`\n",
    "- `min_key = min(my_dict, key=my_dict.get)`"
   ]
  },
  {
   "cell_type": "code",
   "execution_count": 10,
   "id": "a24e0c91",
   "metadata": {},
   "outputs": [
    {
     "name": "stdout",
     "output_type": "stream",
     "text": [
      "The total number of fruits in the basket is: 17\n",
      "The number of fruit types in the basket is: 3\n",
      "The fruit with the most quantity is: oranges\n",
      "The fruit with the least quantity is: bananas\n",
      "The average number of each type of fruit in the basket is: 5.666666666666667\n"
     ]
    }
   ],
   "source": [
    "fruit_basket = {\"apples\": 5, \"bananas\": 4, \"oranges\": 8}\n",
    "# A dictionary representing our fruit basket\n",
    "\n",
    "total_fruits = sum(fruit_basket.values())\n",
    "# Sums up the fruit quantities\n",
    "print(\"The total number of fruits in the basket is:\", total_fruits)\n",
    "# It outputs: \"The total number of fruits in the basket is: 17\"\n",
    "\n",
    "count_fruits = len(fruit_basket)  # The count operation\n",
    "print(\"The number of fruit types in the basket is:\", count_fruits)\n",
    "# It outputs: \"The number of fruit types in the basket is: 3\"\n",
    "\n",
    "# Using the `max` function\n",
    "max_fruit = max(fruit_basket, key=fruit_basket.get)   # returns the \"key\" that is maximum \n",
    "# The expression for finding the maximum\n",
    "print(\"The fruit with the most quantity is:\", max_fruit)\n",
    "# It outputs: \"The fruit with the most quantity is: oranges\"\n",
    "\n",
    "# Using the `min` function\n",
    "min_fruit = min(fruit_basket, key=fruit_basket.get)   # returns the \"key\" that is maximum \n",
    "# The expression for finding the minimum\n",
    "print(\"The fruit with the least quantity is:\", min_fruit)\n",
    "# It outputs: \"The fruit with the least quantity is: bananas\"\n",
    "\n",
    "average_fruits = sum(fruit_basket.values()) / len(fruit_basket)\n",
    "# The expression for finding the average\n",
    "print(\"The average number of each type of fruit in the basket is:\", average_fruits)\n",
    "# It outputs: \"The average number of each type of fruit in the basket is: 5.67\""
   ]
  },
  {
   "cell_type": "code",
   "execution_count": null,
   "id": "fb269b52",
   "metadata": {},
   "outputs": [],
   "source": []
  }
 ],
 "metadata": {
  "kernelspec": {
   "display_name": "Python 3 (ipykernel)",
   "language": "python",
   "name": "python3"
  },
  "language_info": {
   "codemirror_mode": {
    "name": "ipython",
    "version": 3
   },
   "file_extension": ".py",
   "mimetype": "text/x-python",
   "name": "python",
   "nbconvert_exporter": "python",
   "pygments_lexer": "ipython3",
   "version": "3.10.13"
  }
 },
 "nbformat": 4,
 "nbformat_minor": 5
}
