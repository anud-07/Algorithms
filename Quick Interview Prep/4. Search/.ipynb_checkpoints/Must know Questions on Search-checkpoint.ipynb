{
 "cells": [
  {
   "cell_type": "markdown",
   "id": "3bdb5982",
   "metadata": {},
   "source": [
    "### Question-1 (Binary Search Iterative);\n",
    "\n",
    "- Find the index of the element if the index is present in a given sorted array!\n",
    "\n",
    "    - I/P: [10, 20, 30, 40, 50, 60], 20\n",
    "    - O/P : 1\n",
    "\n",
    "    - I/P: [5, 15, 25], 25\n",
    "    - O/P : 2\n",
    "\n",
    "    - I/P: [5, 10, 15, 25, 35], 20\n",
    "    - O/P : -1\n",
    "\n",
    "    - I/P: [10, 15], 20\n",
    "    - O/P : -1\n",
    "\n",
    "    - I/P: [10, 15], 5 \n",
    "    - O/P : -1\n",
    "\n",
    "    - I/P: [10, 10], 10\n",
    "    - O/P : 0 or 1"
   ]
  },
  {
   "cell_type": "code",
   "execution_count": 1,
   "id": "495fdb23",
   "metadata": {},
   "outputs": [
    {
     "name": "stdout",
     "output_type": "stream",
     "text": [
      "1\n",
      "2\n",
      "-1\n",
      "-1\n",
      "-1\n",
      "0\n"
     ]
    }
   ],
   "source": [
    "def binary_search(array, x):\n",
    "    start, end = 0, len(array)-1\n",
    "    while start<=end:\n",
    "        mid = (start + end)//2\n",
    "        if array[mid]==x:\n",
    "            return mid\n",
    "        elif x > array[mid]:\n",
    "            start = mid+1\n",
    "        else:\n",
    "            end = mid-1\n",
    "    \n",
    "    return -1\n",
    "    \n",
    "array, x = [10, 20, 30, 40, 50, 60], 20\n",
    "print(binary_search(array, x))    \n",
    "\n",
    "array, x = [5, 15, 25], 25\n",
    "print(binary_search(array, x))    \n",
    "\n",
    "array, x = [5, 10, 15, 25, 35], 20\n",
    "print(binary_search(array, x))   \n",
    "\n",
    "array, x = [10, 15], 20\n",
    "print(binary_search(array, x))   \n",
    "\n",
    "array, x = [10, 15], 5 \n",
    "print(binary_search(array, x))  \n",
    "\n",
    "array, x = [10, 10], 10\n",
    "print(binary_search(array, x))  "
   ]
  },
  {
   "cell_type": "markdown",
   "id": "d64b082d",
   "metadata": {},
   "source": [
    "### Question-2  (Binary Search Recursive);\n",
    "\n",
    "- Can you find a recursive solution of the above binary search?"
   ]
  },
  {
   "cell_type": "code",
   "execution_count": 2,
   "id": "2a188ffa",
   "metadata": {},
   "outputs": [
    {
     "name": "stdout",
     "output_type": "stream",
     "text": [
      "1\n",
      "2\n",
      "-1\n",
      "-1\n",
      "-1\n",
      "0\n"
     ]
    }
   ],
   "source": [
    "def recursive_binary_search(array, left, right, x):\n",
    "    \n",
    "    # base case\n",
    "    if left>right:\n",
    "        return -1\n",
    "        \n",
    "    mid = (left + right)//2\n",
    "    \n",
    "    if x == array[mid]:\n",
    "        return mid\n",
    "    elif x > array[mid]:\n",
    "        return recursive_binary_search(array, mid+1, right, x)\n",
    "    else:\n",
    "        return recursive_binary_search(array, left, mid-1, x)\n",
    "        \n",
    "array, x = [10, 20, 30, 40, 50, 60], 20\n",
    "print(recursive_binary_search(array, 0, len(array)-1, x))  \n",
    "\n",
    "array, x = [5, 15, 25], 25\n",
    "print(recursive_binary_search(array, 0, len(array)-1, x))  \n",
    "\n",
    "array, x = [5, 10, 15, 25, 35], 20\n",
    "print(recursive_binary_search(array, 0, len(array)-1, x))  \n",
    "\n",
    "array, x = [10, 15], 20\n",
    "print(recursive_binary_search(array, 0, len(array)-1, x))  \n",
    "\n",
    "array, x = [10, 15], 5 \n",
    "print(recursive_binary_search(array, 0, len(array)-1, x))  \n",
    "\n",
    "array, x = [10, 10], 10\n",
    "print(recursive_binary_search(array, 0, len(array)-1, x))  "
   ]
  },
  {
   "cell_type": "markdown",
   "id": "02fad146",
   "metadata": {},
   "source": [
    "### Question-3 (Index of the first Occurrence in Sorted Array);\n",
    "\n",
    "- Can you find the index of first occurrence of a given element in a sorted array?\n",
    "\n",
    "- I/P: [1, 10, 10, 10, 20, 20, 40], 20\n",
    "- O/P : 4\n",
    "\n",
    "- I/P: [10, 20, 30], 15\n",
    "- O/P : -1\n",
    "\n",
    "- I/P: [15, 15, 15], 15\n",
    "- O/P : 0"
   ]
  },
  {
   "cell_type": "code",
   "execution_count": 3,
   "id": "46c482e4",
   "metadata": {},
   "outputs": [
    {
     "name": "stdout",
     "output_type": "stream",
     "text": [
      "4\n",
      "-1\n",
      "0\n"
     ]
    }
   ],
   "source": [
    "def first_occurance(array, x): \n",
    "    start, end, answer = 0, len(array)-1, -1\n",
    "    while start<=end: \n",
    "        mid = (start + end)//2\n",
    "        if x == array[mid]:\n",
    "            answer = mid\n",
    "            end = mid-1\n",
    "        elif x > array[mid]:\n",
    "            start = mid+1\n",
    "        elif x < array[mid]:\n",
    "            end = mid - 1      \n",
    "    return answer\n",
    "    \n",
    "array, x = [1, 10, 10, 10, 20, 20, 40], 20\n",
    "print(first_occurance(array, x))  \n",
    "\n",
    "array, x = [10, 20, 30], 15\n",
    "print(first_occurance(array, x))  \n",
    "\n",
    "array, x = [15, 15, 15], 15\n",
    "print(first_occurance(array, x))  "
   ]
  },
  {
   "cell_type": "markdown",
   "id": "3938dc3f",
   "metadata": {},
   "source": [
    "### Question-4 (Index of the last Occurrence in Sorted Array) ;\n",
    "\n",
    "- Can you find the index of last occurrence of a given element in a sorted array?\n",
    "\n",
    "- I/P : [10, 15, 20, 20, 40, 40], 20\n",
    "- O/P : 3\n",
    "\n",
    "- I/P : [5, 8, 8, 10, 10], 10\n",
    "- O/P : 4\n",
    "\n",
    "- I/P : [8, 10, 10, 12], 7\n",
    "- O/P : -1"
   ]
  },
  {
   "cell_type": "code",
   "execution_count": 4,
   "id": "fbe33539",
   "metadata": {},
   "outputs": [
    {
     "name": "stdout",
     "output_type": "stream",
     "text": [
      "3\n",
      "4\n",
      "-1\n"
     ]
    }
   ],
   "source": [
    "def last_occurrence(array, x):\n",
    "    \n",
    "    start, end, answer = 0, len(array) - 1, -1\n",
    "    \n",
    "    while start<=end:\n",
    "        mid = (start + end)//2\n",
    "        \n",
    "        if x == array[mid]:\n",
    "            answer = mid\n",
    "            start = mid+1\n",
    "        elif x > array[mid]:\n",
    "            start = mid+1\n",
    "        else:\n",
    "            end = mid-1\n",
    "            \n",
    "    return answer\n",
    "            \n",
    "array, x = [10, 15, 20, 20, 40, 40], 20\n",
    "print(last_occurrence(array, x))            \n",
    "\n",
    "array, x = [5, 8, 8, 10, 10], 10\n",
    "print(last_occurrence(array, x))            \n",
    "\n",
    "array, x = [8, 10, 10, 12], 7\n",
    "print(last_occurrence(array, x))            "
   ]
  },
  {
   "cell_type": "markdown",
   "id": "ba5cea13",
   "metadata": {},
   "source": [
    "### Question-5 (Count No. of Occurances in Sorted Array);\n",
    "\n",
    "- Given a sorted array, can you find the number of occurances of a given number x?\n",
    "\n",
    "- I/P : [10, 20, 20, 20, 30, 30], 20\n",
    "- O/P : 3\n",
    "\n",
    "- I/P : [10, 10, 10, 10, 10], 10\n",
    "- O/P : 5\n",
    "\n",
    "- I/P : [5, 8, 10], 7\n",
    "- O/P : -1"
   ]
  },
  {
   "cell_type": "code",
   "execution_count": 5,
   "id": "57e20236",
   "metadata": {},
   "outputs": [
    {
     "name": "stdout",
     "output_type": "stream",
     "text": [
      "3\n",
      "5\n",
      "-1\n"
     ]
    }
   ],
   "source": [
    "def number_of_occurrences(array, x):\n",
    "    \n",
    "    startIndex = first_occurance(array, x)\n",
    "    lastIndex = last_occurrence(array, x)\n",
    "    \n",
    "    if startIndex==-1 or lastIndex==-1:\n",
    "        return -1\n",
    "    \n",
    "    return lastIndex - startIndex + 1\n",
    "\n",
    "array, x = [10, 20, 20, 20, 30, 30], 20\n",
    "print(number_of_occurrences(array, x))            \n",
    "\n",
    "array, x = [10, 10, 10, 10, 10], 10\n",
    "print(number_of_occurrences(array, x))            \n",
    "\n",
    "array, x = [5, 8, 10], 7\n",
    "print(number_of_occurrences(array, x))  "
   ]
  },
  {
   "cell_type": "markdown",
   "id": "c95b6aae",
   "metadata": {},
   "source": [
    "### Question-6 (Count 1's in a Sorted Binary Array)\n",
    "- Can you count the number of 1's in a sorted binary array?\n",
    "\n",
    "- I/P : [0, 0, 0, 1, 1, 1, 1]\n",
    "- O/P : 4\n",
    "\n",
    "- I/P : [1, 1, 1, 1, 1]\n",
    "- O/P : 5\n",
    "\n",
    "- I/P : [0, 0, 0, 0]\n",
    "- O/P : -1"
   ]
  },
  {
   "cell_type": "code",
   "execution_count": 6,
   "id": "5dc4d468",
   "metadata": {},
   "outputs": [
    {
     "name": "stdout",
     "output_type": "stream",
     "text": [
      "4\n",
      "5\n",
      "-1\n"
     ]
    }
   ],
   "source": [
    "def number_of_one_occurrences(array, x):\n",
    "    \n",
    "    startIndex = first_occurance(array, x)\n",
    "    if startIndex==-1:\n",
    "        return -1 \n",
    "    \n",
    "    return len(array) - startIndex\n",
    "    \n",
    "array, x = [0, 0, 0, 1, 1, 1, 1], 1\n",
    "print(number_of_one_occurrences(array, x))  \n",
    "\n",
    "array, x = [1, 1, 1, 1, 1], 1\n",
    "print(number_of_one_occurrences(array, x))  \n",
    "\n",
    "array, x = [0, 0, 0, 0], 1\n",
    "print(number_of_one_occurrences(array, x))  "
   ]
  },
  {
   "cell_type": "markdown",
   "id": "b5da9428",
   "metadata": {},
   "source": [
    "### Question-7 (Square Root of an Integer);\n",
    "- Given an integer, we need to find the square root of this number. If perfect square, return the exact root else return the floor!\n",
    "\n",
    "- I/P :  4,  16,  14\n",
    "- O/P :  2,   4,   3"
   ]
  },
  {
   "cell_type": "code",
   "execution_count": 7,
   "id": "721c0418",
   "metadata": {},
   "outputs": [
    {
     "name": "stdout",
     "output_type": "stream",
     "text": [
      "2\n",
      "4\n",
      "3\n",
      " \n",
      "2\n",
      "4\n",
      "3\n"
     ]
    }
   ],
   "source": [
    "# Naive solution is to run a loop starting from 1, \n",
    "# take it's square and stop as soon as you exceed the input integer!\n",
    "\n",
    "def naive_square_root(integer):\n",
    "    answer = 0\n",
    "    while answer**2<=integer:\n",
    "        answer += 1\n",
    "    \n",
    "    return answer - 1\n",
    "\n",
    "number = 4\n",
    "print(naive_square_root(number)) \n",
    "\n",
    "number = 16\n",
    "print(naive_square_root(number)) \n",
    "\n",
    "number = 14\n",
    "print(naive_square_root(number)) \n",
    "\n",
    "\n",
    "print(\" \")\n",
    "\n",
    "      \n",
    "def square_root(number):\n",
    "    start, end, result = 1, number, -1\n",
    "    while start<=end:\n",
    "        mid = (start + end)//2\n",
    "        if number==mid**2:\n",
    "            return mid\n",
    "        elif number > mid**2:\n",
    "            result = mid\n",
    "            start = mid + 1\n",
    "        else:\n",
    "            end = mid-1\n",
    "            \n",
    "    return result \n",
    "\n",
    "number = 4\n",
    "print(square_root(number)) \n",
    "\n",
    "number = 16\n",
    "print(square_root(number)) \n",
    "\n",
    "number = 14\n",
    "print(square_root(number)) "
   ]
  },
  {
   "cell_type": "markdown",
   "id": "30f37b30",
   "metadata": {},
   "source": [
    "### Question-8 (Search in an Infinite Sorted Array, aka, unbounded Binary search)\n",
    "- Given an infinite sized array, we need to write an efficient solution to search an element;\n",
    "\n",
    "- I/P : [1, 10, 15, 20, 40, 80, 90, 100, 120, 500, ....], 100\n",
    "- O/P :  7\n",
    "\n",
    "- I/P : [20, 40, 100, 300, ....], 50\n",
    "- O/P :  -1"
   ]
  },
  {
   "cell_type": "code",
   "execution_count": 8,
   "id": "22a3b3f2",
   "metadata": {},
   "outputs": [
    {
     "name": "stdout",
     "output_type": "stream",
     "text": [
      "508\n",
      "3\n"
     ]
    }
   ],
   "source": [
    "def binary_search(array, left, right, value):\n",
    "    low, high, answer= left, right, -1 \n",
    "    while low<=high:\n",
    "        mid = low + (high-low)//2\n",
    "        if array[mid]==value:\n",
    "            return mid\n",
    "        elif value>array[mid]:\n",
    "            low = mid + 1\n",
    "        else:\n",
    "            high = mid - 1\n",
    "    return answer    \n",
    "    \n",
    "def search_in_infinite_array(array, value):\n",
    "    \n",
    "    if array[0]==value: return 0\n",
    "    index = 1\n",
    "\n",
    "    while array[index]<value:\n",
    "        index *= 2\n",
    "\n",
    "    if array[index]==value: \n",
    "        return index\n",
    "    else:\n",
    "        return binary_search(array, index//2, index, value)\n",
    "\n",
    "array = [1, 10, 15, 20, 40, 80, 90, 100, 120, 500] + [index for index in range(501, 2000)]\n",
    "print(search_in_infinite_array(array, 999))\n",
    "\n",
    "array = [20, 40, 100, 300] + [index for index in range(301, 1000)]\n",
    "print(search_in_infinite_array(array, 300))"
   ]
  },
  {
   "cell_type": "markdown",
   "id": "c696467f",
   "metadata": {},
   "source": [
    "### Question-9 (Number of times a Sorted array is Rotated Right (clockwise))\n",
    "- Given a sorted rotated array, find the number of times it was rotated right?\n",
    "- Rotated right is just (length - left) so not an issue if asked the other question!\n",
    "\n",
    "- I/P: [9, 10, 20, 30, 40, 50, 8]\n",
    "- O/P: 1\n",
    "\n",
    "- I/P: [10, 20, 30, 40, 50, 8, 9]\n",
    "- O/P: 2\n",
    "\n",
    "- I/P: [100, 200, 300, 10, 20]\n",
    "- O/P: 2\n",
    "    \n",
    "- I/P: [11, 12, 15, 18, 2, 5, 6, 8]\n",
    "- O/P: 4"
   ]
  },
  {
   "cell_type": "code",
   "execution_count": 5,
   "id": "cd79ab66",
   "metadata": {},
   "outputs": [
    {
     "name": "stdout",
     "output_type": "stream",
     "text": [
      "6\n",
      "5\n",
      "3\n",
      "4\n",
      "pedicted answer: 5: Correct answer: 5\n",
      "pedicted answer: 6: Correct answer: 6\n",
      "pedicted answer: 7: Correct answer: 7\n",
      "pedicted answer: 0: Correct answer: 0\n",
      "pedicted answer: 1: Correct answer: 1\n",
      "pedicted answer: 2: Correct answer: 2\n",
      "pedicted answer: 3: Correct answer: 3\n",
      "pedicted answer: 4: Correct answer: 4\n",
      "4\n",
      "0\n"
     ]
    }
   ],
   "source": [
    "# the main idea is to understand that the index of the smallest element is related to the number of\n",
    "# times the array is sorted!\n",
    "\n",
    "# the problem now is to find the index of the smallest element in the array after which we can uniquely identify \n",
    "# the no. of time it was rotated!\n",
    "\n",
    "# abstract the conditions of the binary search, ask sensible questions like:\n",
    "# is mid the smallest element?\n",
    "# if not, then where to move in order to find the smallest element (moves towards the unsorted side)?\n",
    "\n",
    "def number_of_times(array):\n",
    "    \n",
    "    start, end, N = 0 , len(array)-1, len(array)\n",
    "    \n",
    "    while start<=end:  \n",
    "        \n",
    "        if array[start]<=array[end]:\n",
    "            return start\n",
    "            \n",
    "        mid = (start + end)//2\n",
    "        nextt = (mid+1)   % N\n",
    "        prevv = (mid+N-1) % N\n",
    "            \n",
    "        if array[mid]<array[nextt] and array[mid]<array[prevv]:\n",
    "            return mid ## index of smallest element\n",
    "        \n",
    "        elif array[start] <= array[mid]:\n",
    "            start = mid + 1\n",
    "        else:\n",
    "            end = mid - 1\n",
    "            \n",
    "array = [9, 10, 20, 30, 40, 50, 8]\n",
    "print(number_of_times(array))  \n",
    "\n",
    "array = [10, 20, 30, 40, 50, 8, 9]\n",
    "print(number_of_times(array))  \n",
    "\n",
    "array = [100, 200, 300, 10, 20]\n",
    "print(number_of_times(array))  \n",
    "\n",
    "array = [11, 12, 15, 18, 2, 5, 6, 8]\n",
    "print(number_of_times(array)) \n",
    "\n",
    "from collections import deque\n",
    "my_deque = deque(array)\n",
    "for _ in range(len(array)):\n",
    "    my_deque.rotate(1)\n",
    "    print(f\"pedicted answer: {number_of_times(my_deque)}: Correct answer: {my_deque.index(min(my_deque))}\") \n",
    "\n",
    "array = [4, 5, 6, 7, 0, 1, 2]\n",
    "print(number_of_times(array))\n",
    "\n",
    "array = [1, 2, 3, 4, 5]\n",
    "print(number_of_times(array))"
   ]
  },
  {
   "cell_type": "markdown",
   "id": "f9acc550",
   "metadata": {},
   "source": [
    "### Question-10 (Search in a Rotated Sorted Array)\n",
    "-- Given a sorted rotated array, find the index of the element if present else -1\n",
    "\n",
    "- I/P: [10, 20, 30, 40, 50, 8, 9], 30\n",
    "- O/P: 2\n",
    "\n",
    "- I/P: [100, 200, 300, 10, 20], 40\n",
    "- O/P: -1"
   ]
  },
  {
   "cell_type": "code",
   "execution_count": 12,
   "id": "b4afe55e",
   "metadata": {},
   "outputs": [
    {
     "name": "stdout",
     "output_type": "stream",
     "text": [
      "6\n",
      "6\n",
      "\n",
      "-1\n",
      "-1\n",
      "\n",
      "2\n",
      "2\n",
      "\n",
      "-1\n",
      "-1\n",
      "pedicted answer: 4: Correct answer: 4\n",
      "pedicted answer: 5: Correct answer: 5\n",
      "pedicted answer: 6: Correct answer: 6\n",
      "pedicted answer: 7: Correct answer: 7\n",
      "pedicted answer: 0: Correct answer: 0\n",
      "pedicted answer: 1: Correct answer: 1\n",
      "pedicted answer: 2: Correct answer: 2\n",
      "pedicted answer: 3: Correct answer: 3\n"
     ]
    }
   ],
   "source": [
    "def binary_search(array, x, start, end):\n",
    "    while start<=end:\n",
    "        mid = (start + end)//2\n",
    "        if x==array[mid]:\n",
    "            return mid\n",
    "        elif x < array[mid]:\n",
    "            end = mid - 1\n",
    "        else:\n",
    "            start = mid + 1\n",
    "    return -1\n",
    "\n",
    "\n",
    "def index_of_smallest(array):\n",
    "    start, end, N = 0, len(array) - 1, len(array)\n",
    "    while start<=end:\n",
    "        if array[start]<array[end]:\n",
    "            return start\n",
    "        mid = (start + end)//2\n",
    "        if array[mid]<array[(mid+1)%N] and array[mid]<array[(mid-1)%N]:\n",
    "            return mid \n",
    "        elif array[mid]<array[end]:\n",
    "            end = mid-1\n",
    "        else:    \n",
    "            start = mid+1\n",
    "\n",
    "            \n",
    "def search_in_rotated_sorted(array, x):\n",
    "    smallestIndex = index_of_smallest(array)\n",
    "    check1 = binary_search(array, x, smallestIndex, len(array)-1)\n",
    "    check2 = binary_search(array, x, 0, smallestIndex-1)\n",
    "    \n",
    "    if check1!=-1:\n",
    "        return check1\n",
    "    elif check2!=-1:\n",
    "        return check2\n",
    "    else:\n",
    "        return -1\n",
    "    \n",
    "    \n",
    "# alternative solution\n",
    "def search_in_rotated_sorted_2(array, start, end, target):\n",
    "    \n",
    "        while start<=end:\n",
    "            mid = (start + end)//2\n",
    "            if array[mid] == target:\n",
    "                return mid\n",
    "            elif array[start] <= array[mid]:\n",
    "                # left half is sorted\n",
    "                if array[start] <= target <= array[mid]:\n",
    "                    end = mid - 1\n",
    "                else: \n",
    "                    start = mid + 1\n",
    "            else:\n",
    "                if array[mid] <= target <= array[end]:\n",
    "                    start = mid + 1 \n",
    "                else: \n",
    "                    end = mid - 1\n",
    "        return -1\n",
    "    \n",
    "array, x = [9, 10, 20, 30, 40, 50, 8], 8\n",
    "print(search_in_rotated_sorted(array, x))\n",
    "print(search_in_rotated_sorted_2(array, 0, len(array)-1, x))\n",
    "print()\n",
    "array, x = [100, 200, 300, 10, 20], 40\n",
    "print(search_in_rotated_sorted(array, x))\n",
    "print(search_in_rotated_sorted_2(array, 0, len(array)-1, x))\n",
    "print()\n",
    "array, x = [10, 20, 30, 40, 50, 8, 9], 30\n",
    "print(search_in_rotated_sorted(array, x))\n",
    "print(search_in_rotated_sorted_2(array, 0, len(array)-1, x))\n",
    "print()\n",
    "array, x = [100, 200, 300, 10, 20], 40\n",
    "print(search_in_rotated_sorted(array, x))\n",
    "print(search_in_rotated_sorted_2(array, 0, len(array)-1, x))\n",
    "\n",
    "array, x = [11, 12, 15, 18, 2, 5, 6, 8], 18\n",
    "\n",
    "from collections import deque\n",
    "my_deque = deque(array)\n",
    "for _ in range(len(array)):\n",
    "    my_deque.rotate(1)\n",
    "    print(f\"pedicted answer: {search_in_rotated_sorted_2(my_deque, 0, len(my_deque)-1, x)}: Correct answer: {my_deque.index(x) if x in my_deque else -1}\") \n"
   ]
  },
  {
   "cell_type": "markdown",
   "id": "eb384afa",
   "metadata": {},
   "source": [
    "### Question-11 (Search in a Nearly Sorted Array)\n",
    "- Given a sorted array arr[] of size n, some elements of array are moved to either of the adjacent positions, i.e., arr[i] may be present at arr[i+1] or arr[i-1] i.e. arr[i] can only be swapped with either arr[i+1] or arr[i-1]. The task is to search for an element in this array.\n",
    "\n",
    "- Input: arr[] =  {10, 3, 40, 20, 50, 80, 70}, x = 40\n",
    "    - Output: 2 \n",
    "    - Explanation: Output is index of 40 in given array i.e. 2\n",
    "\n",
    "- Input: arr[] =  {10, 3, 40, 20, 50, 80, 70}, x = 90\n",
    "    - Output: -1\n",
    "    - Explanation: -1 is returned to indicate the element is not present"
   ]
  },
  {
   "cell_type": "markdown",
   "id": "9ab5fb8e",
   "metadata": {},
   "source": [
    "### Question-12 (Find floor of an Element in a Sorted Array)\n",
    "\n",
    "- If \"value\" present then return that else return the greatest element smaller than the \"value\" variable!\n",
    "\n",
    "- I/P:  [1, 2, 3, 4, 8, 10, 10, 12, 19], value = 5\n",
    "- O/P:  4 "
   ]
  },
  {
   "cell_type": "code",
   "execution_count": 11,
   "id": "0688b55d",
   "metadata": {},
   "outputs": [
    {
     "name": "stdout",
     "output_type": "stream",
     "text": [
      "(3, 4)\n",
      "-1\n",
      "(1, 40)\n",
      "(4, 30)\n",
      "(2, 100)\n"
     ]
    }
   ],
   "source": [
    "def find_floor(array, left, right, value):\n",
    "    answer = -1\n",
    "    while left<=right:\n",
    "        \n",
    "        mid = left + (right-left)//2\n",
    "        \n",
    "        if value == array[mid]:\n",
    "            return (mid, array[mid])\n",
    "        elif array[mid] < value:\n",
    "            answer = (mid, array[mid])\n",
    "            left = mid + 1\n",
    "        else:\n",
    "            right = mid - 1\n",
    "            \n",
    "    return answer\n",
    "\n",
    "array, value = [1, 2, 3, 4, 8, 10, 10, 12, 19], 5\n",
    "print(find_floor(array, 0, len(array)-1, value))\n",
    "\n",
    "array, value = [8, 9, 10, 20, 30, 40, 50], 0\n",
    "print(find_floor(array, 0, len(array)-1, value))\n",
    "\n",
    "array, value = [10, 40, 100, 200, 300], 99\n",
    "print(find_floor(array, 0, len(array)-1, value))\n",
    "\n",
    "array, value = [8, 9, 10, 20, 30, 40, 50], 32\n",
    "print(find_floor(array, 0, len(array)-1, value))\n",
    "\n",
    "array, value = [10, 20, 100, 200, 300], 101\n",
    "print(find_floor(array, 0, len(array)-1, value))"
   ]
  },
  {
   "cell_type": "markdown",
   "id": "52a287d8",
   "metadata": {},
   "source": [
    "### Question-13 (Find ceil of an Element in a Sorted Array)\n",
    "\n",
    "- If \"value\" present then return it else return the smllest element greater than the \"value\" variable!\n",
    "\n",
    "- I/P: [1, 2, 3, 4, 8, 10, 10, 12, 19], value = 5\n",
    "- O/P:  8"
   ]
  },
  {
   "cell_type": "code",
   "execution_count": 12,
   "id": "943234bf",
   "metadata": {},
   "outputs": [
    {
     "name": "stdout",
     "output_type": "stream",
     "text": [
      "(4, 8)\n",
      "(0, 8)\n",
      "(2, 100)\n",
      "(5, 40)\n",
      "(3, 200)\n"
     ]
    }
   ],
   "source": [
    "def find_ceil(array, left, right, value):\n",
    "    answer = -1\n",
    "    while left<=right:\n",
    "        mid = (left + right)//2\n",
    "        if value == array[mid]:\n",
    "            return (mid, array[mid])\n",
    "        elif array[mid] > value:\n",
    "            answer = (mid, array[mid])\n",
    "            right = mid - 1\n",
    "        else:\n",
    "            left = mid + 1\n",
    "    return answer\n",
    "\n",
    "array, value = [1, 2, 3, 4, 8, 10, 10, 12, 19], 5\n",
    "print(find_ceil(array, 0, len(array)-1, value))\n",
    "\n",
    "array, value = [8, 9, 10, 20, 30, 40, 50], 0\n",
    "print(find_ceil(array, 0, len(array)-1, value))\n",
    "\n",
    "array, value = [10, 40, 100, 200, 300], 99\n",
    "print(find_ceil(array, 0, len(array)-1, value))\n",
    "\n",
    "array, value = [8, 9, 10, 20, 30, 40, 50], 32\n",
    "print(find_ceil(array, 0, len(array)-1, value))\n",
    "\n",
    "array, value = [10, 20, 100, 200, 300], 101\n",
    "print(find_ceil(array, 0, len(array)-1, value))"
   ]
  },
  {
   "cell_type": "markdown",
   "id": "473c9dea",
   "metadata": {},
   "source": [
    "### Question: Given an array of letters sorted in ascending order, find the smallest letter in the array which is greater than a given key letter. \n",
    "\n",
    "- I/P: array = [a, c, f, h], key = f\n",
    "    - O/P: h"
   ]
  },
  {
   "cell_type": "code",
   "execution_count": 17,
   "id": "06478632",
   "metadata": {},
   "outputs": [
    {
     "name": "stdout",
     "output_type": "stream",
     "text": [
      "h\n"
     ]
    }
   ],
   "source": [
    "def ceil_letter(array, start, end, key):\n",
    "    \n",
    "    answer = -1\n",
    "    while start<=end:\n",
    "    \n",
    "        mid = (start + end)//2\n",
    "        \n",
    "        if ord( array[mid] ) <= ord( key ):\n",
    "            start = mid + 1\n",
    "        else:\n",
    "            answer = mid\n",
    "            end = mid - 1\n",
    "                \n",
    "    return answer if answer == - 1 else array[answer]\n",
    "\n",
    "array, key = [\"a\", \"c\", \"f\", \"h\"], \"f\"\n",
    "print( ceil_letter(array, 0, len(array)-1, key) ) "
   ]
  },
  {
   "cell_type": "markdown",
   "id": "d0f9de36",
   "metadata": {},
   "source": [
    "### Question: Given a sorted array arr[] of infinite numbers. The task is to search for an element k in the array.\n",
    "\n",
    "- Input: arr[] = [3, 5, 7, 9, 10, 90, 100, 130, 140, 160, 170], k = 10\n",
    "    - Output: 4\n",
    "    - Explanation: 10 is at index 4 in array.\n",
    "\n",
    "- Input: arr[] = [2, 5, 7, 9], k = 3\n",
    "    - Output: -1\n",
    "    - Explanation: 3 is not present in array."
   ]
  },
  {
   "cell_type": "code",
   "execution_count": 26,
   "id": "ccec16b9",
   "metadata": {},
   "outputs": [
    {
     "name": "stdout",
     "output_type": "stream",
     "text": [
      "7\n",
      "-1\n"
     ]
    }
   ],
   "source": [
    "def infinite_search(array, target):\n",
    "    \n",
    "    end, i = 0, 0\n",
    "    while array[end] <= target:\n",
    "        end = 1 << i\n",
    "        i += 1\n",
    "        \n",
    "    start = end >> 1\n",
    "    \n",
    "    def BS(array, start, end, target):\n",
    "        answer = -1  \n",
    "        while start <= end:\n",
    "            mid = (start + end)//2\n",
    "            if array[mid] == target:\n",
    "                return mid\n",
    "            elif target > array[mid]:\n",
    "                start = mid + 1\n",
    "            else:\n",
    "                end = mid - 1\n",
    "                \n",
    "        return answer\n",
    "    \n",
    "    return BS(array, start, end, target)\n",
    "\n",
    "array, k = [3, 5, 7, 9, 10, 90, 100, 130, 140, 160, 170], 130\n",
    "print( infinite_search(array, k) ) \n",
    "\n",
    "array, k = [2, 5, 7, 9], 3\n",
    "print( infinite_search(array, k) ) "
   ]
  },
  {
   "cell_type": "markdown",
   "id": "1080042d",
   "metadata": {},
   "source": [
    "### Question-14 (Index of first 1 in a Binary Infinite Array);\n",
    "\n",
    "- Can you find the index of the first 1 in an infinite binary array:"
   ]
  },
  {
   "cell_type": "code",
   "execution_count": 13,
   "id": "7afa8613",
   "metadata": {},
   "outputs": [
    {
     "name": "stdout",
     "output_type": "stream",
     "text": [
      "1\n"
     ]
    }
   ],
   "source": [
    "def one_first_occurance(array, left, right):\n",
    "    answer = -1\n",
    "    while left<=right:\n",
    "        mid = (left + right)//2\n",
    "        if array[mid]==1:\n",
    "            answer = mid\n",
    "            right = mid - 1\n",
    "        elif array[mid] < 1:\n",
    "            left = mid + 1      \n",
    "    return answer        \n",
    "    \n",
    "def index_of_first_one(array):\n",
    "    left, right = 0, 1\n",
    "    if array[right]==1: return right\n",
    "    \n",
    "    while array[right]==0:\n",
    "        left = right\n",
    "        right *= 2\n",
    "        \n",
    "    return one_first_occurance(array, left, right)\n",
    "\n",
    "array = [0]*1 + [1]*1\n",
    "print(index_of_first_one(array))"
   ]
  },
  {
   "cell_type": "markdown",
   "id": "053b4bc9",
   "metadata": {},
   "source": [
    "### Question-15 (Minimum Difference element in a Sorted Array);\n",
    "\n",
    "- Given a sorted array, find the element in the array which has minimum difference with a given number;"
   ]
  },
  {
   "cell_type": "code",
   "execution_count": 14,
   "id": "1a98a4cd",
   "metadata": {},
   "outputs": [
    {
     "name": "stdout",
     "output_type": "stream",
     "text": [
      "2\n"
     ]
    }
   ],
   "source": [
    "# or just use binary search and use the resulting indices (low, high) in order to find abslute minimum\n",
    "\n",
    "def minimum_difference(array, value):\n",
    "    \n",
    "    floor = find_floor(array, 0, len(array)-1, value)\n",
    "    ceil = find_ceil(array, 0, len(array)-1, value)\n",
    "    if abs(value - floor[1]) < abs(value - ceil[1]):\n",
    "        return floor[0]\n",
    "    else:\n",
    "        return ceil[0]\n",
    "\n",
    "array = [1, 3, 8, 10, 15]\n",
    "print(minimum_difference(array, 6))"
   ]
  },
  {
   "cell_type": "markdown",
   "id": "7367c3d9",
   "metadata": {},
   "source": [
    "----\n",
    "- # Important concept of ''*binary search on answer*'';\n",
    "\n",
    "- ### There are two main differences with the canonical binary search: \n",
    "    - #### The main idea here is to develop your OWN search criterion (analogous to the simple key checking in binary search). \n",
    "    - #### The array *might NOT BE sorted* but we can still apply binary search on it!!\n",
    "    \n",
    "- #### While BS has a obvious strategy, here we need to come up with our own!"
   ]
  },
  {
   "cell_type": "markdown",
   "id": "1c9c1491",
   "metadata": {},
   "source": [
    "### Question-16 (Find a Peak Element)\n",
    "\n",
    "-- Given an **unsorted** array, we need to find **a** peak element of the array. \n",
    "-- A peak element is an element that is greater than it's neighbors. \n",
    "-- For corner elements, we just have to check one neighbor and not the extreme ones (i.e, not via % operator).\n",
    "\n",
    "- I/P: [5, 10, 20, 15, 7]\n",
    "- O/P: 20\n",
    "\n",
    "- I/P: [10, 20, 15, 5, 23, 90, 67]\n",
    "- O/P: 20 or 90\n",
    "\n",
    "- I/P: [80, 70, 60]\n",
    "- O/P: 80"
   ]
  },
  {
   "cell_type": "code",
   "execution_count": 15,
   "id": "20662367",
   "metadata": {},
   "outputs": [
    {
     "name": "stdout",
     "output_type": "stream",
     "text": [
      "20\n",
      "90\n",
      "80\n"
     ]
    }
   ],
   "source": [
    "def peak_element(array):\n",
    "    start, end = 0, len(array)-1\n",
    "    while start<=end:\n",
    "        #print(start, end)\n",
    "        mid = (start + end)//2\n",
    "        if ((mid==0) or array[mid]>array[mid-1]) and ((mid==len(array)-1) or array[mid]>array[mid+1]):\n",
    "            return array[mid] \n",
    "        elif mid+1<=len(array)-1 and array[mid] < array[mid+1]:\n",
    "            start = mid + 1\n",
    "        elif mid>0 and array[mid] < array[mid-1]:\n",
    "            end = mid - 1\n",
    "            \n",
    "array = [5, 10, 20, 15, 7]\n",
    "print(peak_element(array))\n",
    "\n",
    "array = [10, 20, 15, 5, 23, 90, 67]\n",
    "print(peak_element(array))\n",
    "\n",
    "array = [80, 70, 60]\n",
    "print(peak_element(array))"
   ]
  },
  {
   "cell_type": "markdown",
   "id": "3121e74e",
   "metadata": {},
   "source": [
    "### Question-17 (Find a maximum element in a Bitonic Array);\n",
    "\n",
    "- A bitonic array is the one that is mono-increasing and then it is mono-decreasing!"
   ]
  },
  {
   "cell_type": "code",
   "execution_count": 16,
   "id": "a92d21f8",
   "metadata": {},
   "outputs": [],
   "source": [
    "# the above reduces to finding the peak element done in Q-16;"
   ]
  },
  {
   "cell_type": "markdown",
   "id": "f6a595af",
   "metadata": {},
   "source": [
    "### Question-18 (Search an element in a Bitonic Array);\n",
    "\n",
    "- Find the index of the peak element and then apply binary search on two different subarrays on either side for maximum. \n",
    "----"
   ]
  },
  {
   "cell_type": "markdown",
   "id": "678af6b3",
   "metadata": {},
   "source": [
    "### Question: Search in Row wise And Column wise Sorted Array\n",
    "\n",
    "- Given an n x n matrix and a number x, find the position of x in the matrix if it is present in it. Otherwise, print “Not Found”. In the given matrix, every row and column is sorted in increasing order. The designed algorithm should have linear time complexity.\n",
    "\n",
    "- Example :\n",
    "    - Input : mat[4][4] = { {10, 20, 30, 40},\n",
    "                            {15, 25, 35, 45},\n",
    "                            {27, 29, 37, 48},\n",
    "                            {32, 33, 39, 50} }, x = 29\n",
    "    - Output : Found at (2, 1)\n",
    "    \n",
    "----"
   ]
  },
  {
   "cell_type": "markdown",
   "id": "4c506bae",
   "metadata": {},
   "source": [
    "### Question: Given an array arr[] and an integer k, where arr[i] denotes the number of pages of a book and k denotes total number of students. All the books need to be allocated to k students in contiguous manner, with each student getting at least one book.\n",
    "\n",
    "The task is to minimize the maximum number of pages allocated to a student. If it is not possible to allocate books to all students, return -1.\n"
   ]
  },
  {
   "cell_type": "markdown",
   "id": "e8978fcd",
   "metadata": {},
   "source": [
    "- # Important concept of ''*Two Pointer Approaches*'';"
   ]
  },
  {
   "cell_type": "markdown",
   "id": "0b6ed27b",
   "metadata": {},
   "source": [
    "### Question-19 (Find a pair satisfying a Given sum);\n",
    "\n",
    "- Given an unsorted array and a number x, we need to find if there is a pair in the array with sum equal to x. \n",
    "\n",
    "    - I/P: [3, 5, 9, 2, 8, 10, 11], 17\n",
    "    - O/P: True\n",
    "\n",
    "    - I/P: [8, 4, 6], 11\n",
    "    - O/P: False"
   ]
  },
  {
   "cell_type": "code",
   "execution_count": 17,
   "id": "e91dd4f9",
   "metadata": {},
   "outputs": [
    {
     "name": "stdout",
     "output_type": "stream",
     "text": [
      "True\n",
      "False\n"
     ]
    }
   ],
   "source": [
    "### Naive solution is to run 2 loops and check all pairs of solution making it a O(n**2) solution;\n",
    "def naive_find_pair(array, givenSum):\n",
    "    for outerIndex in range(len(array)-1):\n",
    "        for innerIndex in range(len(array)):\n",
    "            if array[outerIndex] + array[innerIndex]==givenSum:\n",
    "                return True\n",
    "    return False\n",
    "            \n",
    "array, givenSum = [3, 5, 9, 2, 8, 10, 11], 17\n",
    "print(naive_find_pair(array, givenSum))\n",
    "\n",
    "array, givenSum = [8, 4, 6], 11\n",
    "print(naive_find_pair(array, givenSum))"
   ]
  },
  {
   "cell_type": "markdown",
   "id": "9c343702",
   "metadata": {},
   "source": [
    "- ### Best solution in terms of time will give O(n) solution but with extra space with hashing!\n",
    "- ### What if there is structure in array (i.e., the array is already sorted!)\n",
    "- ### Can we now develop a solution in O(n) or O(n*log(n)) time and with no auxiliary space?"
   ]
  },
  {
   "cell_type": "code",
   "execution_count": 18,
   "id": "4d321374",
   "metadata": {},
   "outputs": [
    {
     "name": "stdout",
     "output_type": "stream",
     "text": [
      "True\n",
      "False\n"
     ]
    }
   ],
   "source": [
    "# efficient solution in case if the input array is assumed to be sorted!\n",
    "def pair_exists(array, givenSum, start, end):    \n",
    "    while start<end:\n",
    "        if array[start] + array[end]==givenSum:\n",
    "            return True\n",
    "        elif array[start] + array[end]<givenSum:\n",
    "            start += 1\n",
    "        else:\n",
    "            end -= 1\n",
    "    return False \n",
    "\n",
    "array, givenSum = [3, 5, 9, 2, 8, 10, 11], 17\n",
    "print(pair_exists(sorted(array), givenSum, 0, len(array)-1))\n",
    "\n",
    "array, givenSum = [8, 4, 6], 11\n",
    "print(pair_exists(sorted(array), givenSum, 0, len(array)-1))"
   ]
  },
  {
   "cell_type": "markdown",
   "id": "e99e32c5",
   "metadata": {},
   "source": [
    "### Question-20 (Find a Triplet satisfying a Given sum);\n",
    "\n",
    "- Given an unsorted array, find a triplet that matches givenSum; "
   ]
  },
  {
   "cell_type": "code",
   "execution_count": 19,
   "id": "147abd9b",
   "metadata": {},
   "outputs": [
    {
     "name": "stdout",
     "output_type": "stream",
     "text": [
      "True\n"
     ]
    }
   ],
   "source": [
    "# naively, we have a O(n**3) solution!\n",
    "def naive_triplet(array, givenSum):\n",
    "    for i in range(len(array)-2):\n",
    "        for j in range(len(array)-1):\n",
    "            for k in range(len(array)):\n",
    "                if array[i] + array[j] + array[k] == givenSum:\n",
    "                    return True\n",
    "    return False            \n",
    "\n",
    "array, givenSum = [8, 9, 20, 40, 2, 3, 4], 32\n",
    "print(naive_triplet(sorted(array), givenSum))"
   ]
  },
  {
   "cell_type": "markdown",
   "id": "855355da",
   "metadata": {},
   "source": [
    "- but we can do BETTER, i.e., we can reduce to O(n**2);\n",
    "- Sort the array, giving, O(n logn) and then apply two pointer on each outerIndex!"
   ]
  },
  {
   "cell_type": "code",
   "execution_count": 20,
   "id": "1dfa35c8",
   "metadata": {},
   "outputs": [
    {
     "name": "stdout",
     "output_type": "stream",
     "text": [
      "False\n"
     ]
    }
   ],
   "source": [
    "# Now we have a O(n**2 + nlogn) solution which is O(n**2);\n",
    "def triplet_exists(array, givenSum): \n",
    "    for outerIndex in range(len(array)-1):\n",
    "        currSum = array[outerIndex]\n",
    "        if pair_exists(array, givenSum-currSum, outerIndex+1, len(array)-1):\n",
    "            return True\n",
    "    return False       \n",
    "            \n",
    "array, givenSum = [2, 3, 4, 8, 9, 20, 40], 34\n",
    "array = sorted(array)\n",
    "print(triplet_exists(array, givenSum))"
   ]
  },
  {
   "cell_type": "markdown",
   "id": "12f8041d",
   "metadata": {},
   "source": [
    "There are more variations on these Questions:\n",
    "    - Count Pairs with givenSum\n",
    "    - Count Triplets with givenSum\n",
    "    - Count Triplets (a, b, c) such that a^2 + b^2 = c^2;"
   ]
  },
  {
   "cell_type": "code",
   "execution_count": 21,
   "id": "610f5142",
   "metadata": {},
   "outputs": [],
   "source": [
    "# Count triplets (a, b, c) such that a^2 + b^2 = c^2, s.t.,  0<= a, b, c <=n;\n",
    "def triplet(n):\n",
    "\n",
    "    def count_pair(nums, left, right, givenSum):\n",
    "        currCount = 0\n",
    "        while left<right:\n",
    "            if nums[left]**2 + nums[right]**2==givenSum:\n",
    "                currCount += 2\n",
    "                left  += 1\n",
    "                right -= 1\n",
    "            elif nums[left]**2 + nums[right]**2>givenSum:\n",
    "                right -= 1\n",
    "            else:\n",
    "                left += 1\n",
    "        return currCount    \n",
    "\n",
    "    count = 0\n",
    "    if n<3: return count\n",
    "\n",
    "    nums = [index for index in range(1, n+1)] \n",
    "    count = 0\n",
    "    for index in range(len(nums)-1, 1, -1):\n",
    "        count += count_pair(nums, 0, index-1, nums[index]**2)\n",
    "\n",
    "    return count"
   ]
  }
 ],
 "metadata": {
  "kernelspec": {
   "display_name": "Python 3 (ipykernel)",
   "language": "python",
   "name": "python3"
  },
  "language_info": {
   "codemirror_mode": {
    "name": "ipython",
    "version": 3
   },
   "file_extension": ".py",
   "mimetype": "text/x-python",
   "name": "python",
   "nbconvert_exporter": "python",
   "pygments_lexer": "ipython3",
   "version": "3.10.13"
  }
 },
 "nbformat": 4,
 "nbformat_minor": 5
}
