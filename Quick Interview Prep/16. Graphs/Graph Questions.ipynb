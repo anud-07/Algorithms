{
 "cells": [
  {
   "cell_type": "code",
   "execution_count": 1,
   "id": "36780301",
   "metadata": {},
   "outputs": [
    {
     "name": "stdout",
     "output_type": "stream",
     "text": [
      "a\n",
      "c\n",
      "e\n",
      "b\n",
      "d\n",
      "f\n",
      " \n",
      "a\n",
      "b\n",
      "d\n",
      "f\n",
      "c\n",
      "e\n",
      " \n",
      "a\n",
      "b\n",
      "c\n",
      "d\n",
      "e\n",
      "f\n"
     ]
    }
   ],
   "source": [
    "from collections import deque\n",
    "\n",
    "def depth_first_search(graph, start):\n",
    "    stack = deque([start])\n",
    "    while len(stack)>0:\n",
    "        current = stack.pop()\n",
    "        print(current)\n",
    "        for neighbor in graph[current]:\n",
    "            stack.append(neighbor)\n",
    "        \n",
    "def depth_first_search_recursive(graph, current):        \n",
    "    print(current)\n",
    "    for neigbor in graph[current]:\n",
    "        depth_first_search_recursive(graph, neigbor)\n",
    "                \n",
    "            \n",
    "def breadth_first_search(graph, start):\n",
    "    queue = deque([start])\n",
    "    while len(queue)>0:\n",
    "        current = queue.popleft()\n",
    "        print(current)\n",
    "        for neighbor in graph[current]:\n",
    "            queue.append(neighbor)\n",
    "         \n",
    "graph = { \n",
    "\"a\" : [\"b\", \"c\"],  \n",
    "\"b\" : [\"d\"], \n",
    "\"c\" : [\"e\"],     \n",
    "\"d\" : [\"f\"],     \n",
    "\"e\" : [],     \n",
    "\"f\" : [], \n",
    "}\n",
    "\n",
    "depth_first_search(graph, \"a\")\n",
    "print(\" \")\n",
    "depth_first_search_recursive(graph, \"a\")\n",
    "print(\" \")\n",
    "breadth_first_search(graph, \"a\")"
   ]
  },
  {
   "cell_type": "markdown",
   "id": "1ee3b9ac",
   "metadata": {},
   "source": [
    "### Question-1: (Write a function, has_path, that takes in a dictionary representing the adjacency list of a directed acyclic graph and two nodes (src, dst). The function should return a boolean indicating whether or not there exists a directed path between the source and destination nodes):"
   ]
  },
  {
   "cell_type": "code",
   "execution_count": 2,
   "id": "280b6f8a",
   "metadata": {},
   "outputs": [],
   "source": [
    "def has_path(graph, src, dst):\n",
    "    if src == dst:\n",
    "        return True\n",
    "    \n",
    "    for neighbor in graph[src]:\n",
    "        if has_path(graph, neighbor, dst):\n",
    "            return True\n",
    "    \n",
    "    return False\n",
    "\n",
    "def has_path_bfs(graph, src, dst):\n",
    "    queue = deque([src])\n",
    "    while len(queue)!=0:\n",
    "        current = queue.popleft()\n",
    "        if current==dst:\n",
    "            return True\n",
    "        for neighbor in graph[current]:\n",
    "            queue.append(neighbor)\n",
    "            \n",
    "    return False        "
   ]
  },
  {
   "cell_type": "code",
   "execution_count": 3,
   "id": "03665076",
   "metadata": {},
   "outputs": [
    {
     "name": "stdout",
     "output_type": "stream",
     "text": [
      "True\n",
      "True\n"
     ]
    }
   ],
   "source": [
    "graph = {\n",
    "  'f': ['g', 'i'],\n",
    "  'g': ['h'],\n",
    "  'h': [],\n",
    "  'i': ['g', 'k'],\n",
    "  'j': ['i'],\n",
    "  'k': []\n",
    "}\n",
    "print(has_path(graph, 'f', 'k')) # True\n",
    "print(has_path_bfs(graph, 'f', 'k')) # True"
   ]
  },
  {
   "cell_type": "code",
   "execution_count": 4,
   "id": "1cc66e59",
   "metadata": {},
   "outputs": [
    {
     "name": "stdout",
     "output_type": "stream",
     "text": [
      "False\n",
      "False\n"
     ]
    }
   ],
   "source": [
    "graph = {\n",
    "  'f': ['g', 'i'],\n",
    "  'g': ['h'],\n",
    "  'h': [],\n",
    "  'i': ['g', 'k'],\n",
    "  'j': ['i'],\n",
    "  'k': []\n",
    "}\n",
    "print(has_path(graph, 'f', 'j')) # False\n",
    "print(has_path_bfs(graph, 'f', 'j')) # False"
   ]
  },
  {
   "cell_type": "code",
   "execution_count": 5,
   "id": "de19600b",
   "metadata": {},
   "outputs": [
    {
     "name": "stdout",
     "output_type": "stream",
     "text": [
      "True\n",
      "True\n"
     ]
    }
   ],
   "source": [
    "graph = {\n",
    "  'f': ['g', 'i'],\n",
    "  'g': ['h'],\n",
    "  'h': [],\n",
    "  'i': ['g', 'k'],\n",
    "  'j': ['i'],\n",
    "  'k': []\n",
    "}\n",
    "print(has_path(graph, 'i', 'h')) # True\n",
    "print(has_path_bfs(graph, 'i', 'h')) # True"
   ]
  },
  {
   "cell_type": "code",
   "execution_count": 6,
   "id": "776ef7fe",
   "metadata": {},
   "outputs": [
    {
     "name": "stdout",
     "output_type": "stream",
     "text": [
      "True\n",
      "True\n"
     ]
    }
   ],
   "source": [
    "graph = {\n",
    "  'v': ['x', 'w'],\n",
    "  'w': [],\n",
    "  'x': [],\n",
    "  'y': ['z'],\n",
    "  'z': [],  \n",
    "}\n",
    "print(has_path(graph, 'v', 'w')) # True\n",
    "print(has_path_bfs(graph, 'v', 'w')) # True"
   ]
  },
  {
   "cell_type": "code",
   "execution_count": 7,
   "id": "a688ad82",
   "metadata": {},
   "outputs": [
    {
     "name": "stdout",
     "output_type": "stream",
     "text": [
      "False\n",
      "False\n"
     ]
    }
   ],
   "source": [
    "graph = {\n",
    "  'v': ['x', 'w'],\n",
    "  'w': [],\n",
    "  'x': [],\n",
    "  'y': ['z'],\n",
    "  'z': [],  \n",
    "}\n",
    "print(has_path(graph, 'v', 'z')) # False\n",
    "print(has_path_bfs(graph, 'v', 'z')) # False"
   ]
  },
  {
   "cell_type": "markdown",
   "id": "44bb1ec0",
   "metadata": {},
   "source": [
    "### Question-2: Write a function, undirected_path, that takes in a list of edges for an undirected graph and two nodes (node_A, node_B). The function should return a boolean indicating whether or not there exists a path between node_A and node_B."
   ]
  },
  {
   "cell_type": "code",
   "execution_count": 8,
   "id": "da6c3100",
   "metadata": {},
   "outputs": [],
   "source": [
    "def undirected_path(edges, node_A, node_B):\n",
    "    graph = build_graph(edges)\n",
    "    visited = set()\n",
    "    \n",
    "    queue = deque([node_A])\n",
    "    visited.add(node_A)\n",
    "    while len(queue)>0:\n",
    "        current = queue.popleft()\n",
    "        if current==node_B:\n",
    "            return True\n",
    "        for neigbor in graph[current]:\n",
    "            if neigbor not in visited:\n",
    "                queue.append(neigbor)\n",
    "                visited.add(neigbor)\n",
    "    \n",
    "    return False\n",
    "\n",
    "def build_graph(edges):\n",
    "    graph = {}\n",
    "    for tupleOfNodes in edges:\n",
    "        if tupleOfNodes[0] in graph:\n",
    "            graph[tupleOfNodes[0]].append(tupleOfNodes[1])\n",
    "        else:    \n",
    "            graph[tupleOfNodes[0]] = [tupleOfNodes[1]]\n",
    "            \n",
    "        if tupleOfNodes[1] in graph:   \n",
    "            graph[tupleOfNodes[1]].append(tupleOfNodes[0])\n",
    "        else:\n",
    "            graph[tupleOfNodes[1]] = [tupleOfNodes[0]]\n",
    "    return graph"
   ]
  },
  {
   "cell_type": "code",
   "execution_count": 9,
   "id": "cce2e5c7",
   "metadata": {},
   "outputs": [
    {
     "data": {
      "text/plain": [
       "True"
      ]
     },
     "execution_count": 9,
     "metadata": {},
     "output_type": "execute_result"
    }
   ],
   "source": [
    "edges = [\n",
    "  ('i', 'j'),\n",
    "  ('k', 'i'),\n",
    "  ('m', 'k'),\n",
    "  ('k', 'l'),\n",
    "  ('o', 'n')\n",
    "]\n",
    "\n",
    "undirected_path(edges, 'j', 'm') # -> True"
   ]
  },
  {
   "cell_type": "code",
   "execution_count": 10,
   "id": "3ed80450",
   "metadata": {},
   "outputs": [
    {
     "data": {
      "text/plain": [
       "True"
      ]
     },
     "execution_count": 10,
     "metadata": {},
     "output_type": "execute_result"
    }
   ],
   "source": [
    "edges = [\n",
    "  ('i', 'j'),\n",
    "  ('k', 'i'),\n",
    "  ('m', 'k'),\n",
    "  ('k', 'l'),\n",
    "  ('o', 'n')\n",
    "]\n",
    "\n",
    "undirected_path(edges, 'm', 'j') # -> True"
   ]
  },
  {
   "cell_type": "code",
   "execution_count": 11,
   "id": "fc660178",
   "metadata": {},
   "outputs": [
    {
     "data": {
      "text/plain": [
       "True"
      ]
     },
     "execution_count": 11,
     "metadata": {},
     "output_type": "execute_result"
    }
   ],
   "source": [
    "edges = [\n",
    "  ('i', 'j'),\n",
    "  ('k', 'i'),\n",
    "  ('m', 'k'),\n",
    "  ('k', 'l'),\n",
    "  ('o', 'n')\n",
    "]\n",
    "\n",
    "undirected_path(edges, 'l', 'j') # -> True"
   ]
  },
  {
   "cell_type": "code",
   "execution_count": 12,
   "id": "fb6891a9",
   "metadata": {},
   "outputs": [
    {
     "data": {
      "text/plain": [
       "False"
      ]
     },
     "execution_count": 12,
     "metadata": {},
     "output_type": "execute_result"
    }
   ],
   "source": [
    "edges = [\n",
    "  ('i', 'j'),\n",
    "  ('k', 'i'),\n",
    "  ('m', 'k'),\n",
    "  ('k', 'l'),\n",
    "  ('o', 'n')\n",
    "]\n",
    "\n",
    "undirected_path(edges, 'k', 'o') # -> False"
   ]
  },
  {
   "cell_type": "code",
   "execution_count": 13,
   "id": "c913d1c8",
   "metadata": {},
   "outputs": [
    {
     "data": {
      "text/plain": [
       "False"
      ]
     },
     "execution_count": 13,
     "metadata": {},
     "output_type": "execute_result"
    }
   ],
   "source": [
    "edges = [\n",
    "  ('i', 'j'),\n",
    "  ('k', 'i'),\n",
    "  ('m', 'k'),\n",
    "  ('k', 'l'),\n",
    "  ('o', 'n')\n",
    "]\n",
    "\n",
    "undirected_path(edges, 'i', 'o') # -> False"
   ]
  },
  {
   "cell_type": "code",
   "execution_count": 14,
   "id": "63fca24f",
   "metadata": {},
   "outputs": [
    {
     "data": {
      "text/plain": [
       "True"
      ]
     },
     "execution_count": 14,
     "metadata": {},
     "output_type": "execute_result"
    }
   ],
   "source": [
    "edges = [\n",
    "  ('b', 'a'),\n",
    "  ('c', 'a'),\n",
    "  ('b', 'c'),\n",
    "  ('q', 'r'),\n",
    "  ('q', 's'),\n",
    "  ('q', 'u'),\n",
    "  ('q', 't'),\n",
    "]\n",
    "\n",
    "\n",
    "undirected_path(edges, 'a', 'b') # -> True"
   ]
  },
  {
   "cell_type": "code",
   "execution_count": 15,
   "id": "23b6c343",
   "metadata": {},
   "outputs": [
    {
     "data": {
      "text/plain": [
       "True"
      ]
     },
     "execution_count": 15,
     "metadata": {},
     "output_type": "execute_result"
    }
   ],
   "source": [
    "edges = [\n",
    "  ('b', 'a'),\n",
    "  ('c', 'a'),\n",
    "  ('b', 'c'),\n",
    "  ('q', 'r'),\n",
    "  ('q', 's'),\n",
    "  ('q', 'u'),\n",
    "  ('q', 't'),\n",
    "]\n",
    "\n",
    "undirected_path(edges, 'a', 'c') # -> True"
   ]
  },
  {
   "cell_type": "code",
   "execution_count": 16,
   "id": "8ee94e74",
   "metadata": {},
   "outputs": [
    {
     "data": {
      "text/plain": [
       "True"
      ]
     },
     "execution_count": 16,
     "metadata": {},
     "output_type": "execute_result"
    }
   ],
   "source": [
    "edges = [\n",
    "  ('b', 'a'),\n",
    "  ('c', 'a'),\n",
    "  ('b', 'c'),\n",
    "  ('q', 'r'),\n",
    "  ('q', 's'),\n",
    "  ('q', 'u'),\n",
    "  ('q', 't'),\n",
    "]\n",
    "\n",
    "undirected_path(edges, 'r', 't') # -> True"
   ]
  },
  {
   "cell_type": "code",
   "execution_count": 17,
   "id": "5b09bbca",
   "metadata": {},
   "outputs": [
    {
     "data": {
      "text/plain": [
       "False"
      ]
     },
     "execution_count": 17,
     "metadata": {},
     "output_type": "execute_result"
    }
   ],
   "source": [
    "edges = [\n",
    "  ('b', 'a'),\n",
    "  ('c', 'a'),\n",
    "  ('b', 'c'),\n",
    "  ('q', 'r'),\n",
    "  ('q', 's'),\n",
    "  ('q', 'u'),\n",
    "  ('q', 't'),\n",
    "]\n",
    "\n",
    "undirected_path(edges, 'r', 'b') # -> False\n"
   ]
  },
  {
   "cell_type": "code",
   "execution_count": 18,
   "id": "87f54430",
   "metadata": {},
   "outputs": [
    {
     "data": {
      "text/plain": [
       "True"
      ]
     },
     "execution_count": 18,
     "metadata": {},
     "output_type": "execute_result"
    }
   ],
   "source": [
    "edges = [\n",
    "  ('s', 'r'),\n",
    "  ('t', 'q'),\n",
    "  ('q', 'r'),\n",
    "];\n",
    "\n",
    "undirected_path(edges, 'r', 't') # -> True"
   ]
  },
  {
   "cell_type": "markdown",
   "id": "e09b495c",
   "metadata": {},
   "source": [
    "### Question-3: Write a function, connected_components_count, that takes in the adjacency list of an undirected graph. The function should return the number of connected components within the graph."
   ]
  },
  {
   "cell_type": "code",
   "execution_count": 19,
   "id": "d9250dd7",
   "metadata": {},
   "outputs": [],
   "source": [
    "from collections import deque\n",
    "def connected_components_count(graph):\n",
    "    visited = set()\n",
    "    cc = 0\n",
    "    for node in graph:\n",
    "        if bfs(graph, node, visited):\n",
    "            cc += 1\n",
    "    return cc        \n",
    "        \n",
    "def explore_recursive(graph, current, visited):\n",
    "    if current in visited:\n",
    "        return False\n",
    "    \n",
    "    visited.add(current)\n",
    "    for neighbor in graph[current]:\n",
    "        explore(graph, current, visited)\n",
    "    return True    \n",
    "\n",
    "def bfs(graph, current, visited):\n",
    "    if current in visited: \n",
    "        return False \n",
    "    \n",
    "    queue = deque([current])\n",
    "    visited.add(current)\n",
    "    while len(queue)>0:\n",
    "        current = queue.popleft()\n",
    "        for neigbor in graph[current]:\n",
    "            if neigbor not in visited:\n",
    "                queue.append(neigbor)\n",
    "                visited.add(neigbor)\n",
    "                \n",
    "    return True            "
   ]
  },
  {
   "cell_type": "code",
   "execution_count": 20,
   "id": "85149a7c",
   "metadata": {},
   "outputs": [
    {
     "data": {
      "text/plain": [
       "2"
      ]
     },
     "execution_count": 20,
     "metadata": {},
     "output_type": "execute_result"
    }
   ],
   "source": [
    "connected_components_count({\n",
    "  0: [8, 1, 5],\n",
    "  1: [0],\n",
    "  5: [0, 8],\n",
    "  8: [0, 5],\n",
    "  2: [3, 4],\n",
    "  3: [2, 4],\n",
    "  4: [3, 2]\n",
    "}) # -> 2"
   ]
  },
  {
   "cell_type": "code",
   "execution_count": 21,
   "id": "fd9e813e",
   "metadata": {},
   "outputs": [
    {
     "data": {
      "text/plain": [
       "1"
      ]
     },
     "execution_count": 21,
     "metadata": {},
     "output_type": "execute_result"
    }
   ],
   "source": [
    "connected_components_count({\n",
    "  1: [2],\n",
    "  2: [1,8],\n",
    "  6: [7],\n",
    "  9: [8],\n",
    "  7: [6, 8],\n",
    "  8: [9, 7, 2]\n",
    "}) # -> 1"
   ]
  },
  {
   "cell_type": "code",
   "execution_count": 22,
   "id": "7282f972",
   "metadata": {},
   "outputs": [
    {
     "data": {
      "text/plain": [
       "3"
      ]
     },
     "execution_count": 22,
     "metadata": {},
     "output_type": "execute_result"
    }
   ],
   "source": [
    "connected_components_count({\n",
    "  3: [],\n",
    "  4: [6],\n",
    "  6: [4, 5, 7, 8],\n",
    "  8: [6],\n",
    "  7: [6],\n",
    "  5: [6],\n",
    "  1: [2],\n",
    "  2: [1]\n",
    "}) # -> 3"
   ]
  },
  {
   "cell_type": "code",
   "execution_count": 23,
   "id": "cf2311bc",
   "metadata": {},
   "outputs": [
    {
     "data": {
      "text/plain": [
       "0"
      ]
     },
     "execution_count": 23,
     "metadata": {},
     "output_type": "execute_result"
    }
   ],
   "source": [
    "connected_components_count({}) # -> 0"
   ]
  },
  {
   "cell_type": "code",
   "execution_count": 24,
   "id": "5e2e911b",
   "metadata": {},
   "outputs": [
    {
     "data": {
      "text/plain": [
       "5"
      ]
     },
     "execution_count": 24,
     "metadata": {},
     "output_type": "execute_result"
    }
   ],
   "source": [
    "connected_components_count({\n",
    "  0: [4,7],\n",
    "  1: [],\n",
    "  2: [],\n",
    "  3: [6],\n",
    "  4: [0],\n",
    "  6: [3],\n",
    "  7: [0],\n",
    "  8: []\n",
    "}) # -> 5"
   ]
  },
  {
   "cell_type": "markdown",
   "id": "82f3ff14",
   "metadata": {},
   "source": [
    "### Question-4: Write a function, largest_component, that takes in the adjacency list of an undirected graph. The function should return the size of the largest connected component in the graph."
   ]
  },
  {
   "cell_type": "code",
   "execution_count": 25,
   "id": "09f25164",
   "metadata": {},
   "outputs": [],
   "source": [
    "from collections import deque\n",
    "\n",
    "def largest_component(graph):\n",
    "    if len(graph)==0: return 0  \n",
    "    visited, largestSize = set(), 0\n",
    "    for node in graph:\n",
    "        componentSize = bfs(graph, node, visited)\n",
    "        largestSize = max(componentSize, largestSize)\n",
    "    return largestSize      \n",
    "            \n",
    "def bfs(graph, node, visited):\n",
    "    if node in visited:\n",
    "        return 0\n",
    "    \n",
    "    componentSize = 0\n",
    "    queue = deque([node])\n",
    "    visited.add(node)\n",
    "    while len(queue)!=0:\n",
    "        current = queue.popleft()\n",
    "        componentSize += 1\n",
    "        for neighbor in graph[current]:\n",
    "            if neighbor not in visited:\n",
    "                queue.append(neighbor)\n",
    "                visited.add(neighbor)\n",
    "                \n",
    "    return componentSize"
   ]
  },
  {
   "cell_type": "code",
   "execution_count": 26,
   "id": "8769b9ac",
   "metadata": {},
   "outputs": [
    {
     "data": {
      "text/plain": [
       "4"
      ]
     },
     "execution_count": 26,
     "metadata": {},
     "output_type": "execute_result"
    }
   ],
   "source": [
    "largest_component({\n",
    "  0: [8, 1, 5],\n",
    "  1: [0],\n",
    "  5: [0, 8],\n",
    "  8: [0, 5],\n",
    "  2: [3, 4],\n",
    "  3: [2, 4],\n",
    "  4: [3, 2]\n",
    "}) # -> 4"
   ]
  },
  {
   "cell_type": "code",
   "execution_count": 27,
   "id": "1091ae8e",
   "metadata": {},
   "outputs": [
    {
     "data": {
      "text/plain": [
       "6"
      ]
     },
     "execution_count": 27,
     "metadata": {},
     "output_type": "execute_result"
    }
   ],
   "source": [
    "largest_component({\n",
    "  1: [2],\n",
    "  2: [1,8],\n",
    "  6: [7],\n",
    "  9: [8],\n",
    "  7: [6, 8],\n",
    "  8: [9, 7, 2]\n",
    "}) # -> 6"
   ]
  },
  {
   "cell_type": "code",
   "execution_count": 28,
   "id": "ccbb0c87",
   "metadata": {},
   "outputs": [
    {
     "data": {
      "text/plain": [
       "5"
      ]
     },
     "execution_count": 28,
     "metadata": {},
     "output_type": "execute_result"
    }
   ],
   "source": [
    "largest_component({\n",
    "  3: [],\n",
    "  4: [6],\n",
    "  6: [4, 5, 7, 8],\n",
    "  8: [6],\n",
    "  7: [6],\n",
    "  5: [6],\n",
    "  1: [2],\n",
    "  2: [1]\n",
    "}) # -> 5"
   ]
  },
  {
   "cell_type": "code",
   "execution_count": 29,
   "id": "8d5173af",
   "metadata": {},
   "outputs": [
    {
     "data": {
      "text/plain": [
       "0"
      ]
     },
     "execution_count": 29,
     "metadata": {},
     "output_type": "execute_result"
    }
   ],
   "source": [
    "largest_component({}) # -> 0"
   ]
  },
  {
   "cell_type": "code",
   "execution_count": 30,
   "id": "3a6875c9",
   "metadata": {},
   "outputs": [
    {
     "data": {
      "text/plain": [
       "3"
      ]
     },
     "execution_count": 30,
     "metadata": {},
     "output_type": "execute_result"
    }
   ],
   "source": [
    "largest_component({\n",
    "  0: [4,7],\n",
    "  1: [],\n",
    "  2: [],\n",
    "  3: [6],\n",
    "  4: [0],\n",
    "  6: [3],\n",
    "  7: [0],\n",
    "  8: []\n",
    "}) # -> 3"
   ]
  },
  {
   "cell_type": "markdown",
   "id": "a68566f9",
   "metadata": {},
   "source": [
    "### Question-5: Write a function, shortest_path, that takes in a list of edges for an undirected graph and two nodes (node_A, node_B). The function should return the length of the shortest path between A and B. Consider the length as the number of edges in the path, not the number of nodes. If there is no path between A and B, then return -1."
   ]
  },
  {
   "cell_type": "code",
   "execution_count": 31,
   "id": "010e8000",
   "metadata": {},
   "outputs": [],
   "source": [
    "from collections import deque\n",
    "\n",
    "def shortest_path(edges, node_A, node_B):\n",
    "    graph = build_graph(edges)\n",
    "    visited = set()\n",
    "    queue = deque([(node_A, 0)])\n",
    "    visited.add(node_A)\n",
    "    while len(queue)>0:\n",
    "        currNode, currDist = queue.popleft()\n",
    "        if currNode==node_B:\n",
    "            return currDist\n",
    "        for neigbor in graph[currNode]:\n",
    "            if neigbor not in visited:\n",
    "                queue.append((neigbor, currDist+1))\n",
    "                visited.add(neigbor)\n",
    "    return -1            \n",
    "\n",
    "def build_graph(edges):\n",
    "    graph = {}\n",
    "    for edge in edges:\n",
    "        a, b = edge\n",
    "        if a not in graph:\n",
    "            graph[a] = []\n",
    "        if b not in graph:\n",
    "            graph[b] = []\n",
    "            \n",
    "        graph[a].append(b)\n",
    "        graph[b].append(a)\n",
    "    return graph    "
   ]
  },
  {
   "cell_type": "code",
   "execution_count": 32,
   "id": "27f1929d",
   "metadata": {},
   "outputs": [
    {
     "data": {
      "text/plain": [
       "2"
      ]
     },
     "execution_count": 32,
     "metadata": {},
     "output_type": "execute_result"
    }
   ],
   "source": [
    "edges = [\n",
    "  ['w', 'x'],\n",
    "  ['x', 'y'],\n",
    "  ['z', 'y'],\n",
    "  ['z', 'v'],\n",
    "  ['w', 'v']\n",
    "]\n",
    "\n",
    "shortest_path(edges, 'w', 'z') # -> 2"
   ]
  },
  {
   "cell_type": "code",
   "execution_count": 33,
   "id": "ba117dec",
   "metadata": {},
   "outputs": [
    {
     "data": {
      "text/plain": [
       "1"
      ]
     },
     "execution_count": 33,
     "metadata": {},
     "output_type": "execute_result"
    }
   ],
   "source": [
    "edges = [\n",
    "  ['w', 'x'],\n",
    "  ['x', 'y'],\n",
    "  ['z', 'y'],\n",
    "  ['z', 'v'],\n",
    "  ['w', 'v']\n",
    "]\n",
    "\n",
    "shortest_path(edges, 'y', 'x') # -> 1"
   ]
  },
  {
   "cell_type": "code",
   "execution_count": 34,
   "id": "945a947c",
   "metadata": {},
   "outputs": [
    {
     "data": {
      "text/plain": [
       "3"
      ]
     },
     "execution_count": 34,
     "metadata": {},
     "output_type": "execute_result"
    }
   ],
   "source": [
    "edges = [\n",
    "  ['a', 'c'],\n",
    "  ['a', 'b'],\n",
    "  ['c', 'b'],\n",
    "  ['c', 'd'],\n",
    "  ['b', 'd'],\n",
    "  ['e', 'd'],\n",
    "  ['g', 'f']\n",
    "]\n",
    "\n",
    "shortest_path(edges, 'a', 'e') # -> 3"
   ]
  },
  {
   "cell_type": "code",
   "execution_count": 35,
   "id": "153d9a93",
   "metadata": {},
   "outputs": [
    {
     "data": {
      "text/plain": [
       "2"
      ]
     },
     "execution_count": 35,
     "metadata": {},
     "output_type": "execute_result"
    }
   ],
   "source": [
    "edges = [\n",
    "  ['a', 'c'],\n",
    "  ['a', 'b'],\n",
    "  ['c', 'b'],\n",
    "  ['c', 'd'],\n",
    "  ['b', 'd'],\n",
    "  ['e', 'd'],\n",
    "  ['g', 'f']\n",
    "]\n",
    "\n",
    "shortest_path(edges, 'e', 'c') # -> 2"
   ]
  },
  {
   "cell_type": "code",
   "execution_count": 36,
   "id": "15720f74",
   "metadata": {},
   "outputs": [
    {
     "data": {
      "text/plain": [
       "-1"
      ]
     },
     "execution_count": 36,
     "metadata": {},
     "output_type": "execute_result"
    }
   ],
   "source": [
    "edges = [\n",
    "  ['a', 'c'],\n",
    "  ['a', 'b'],\n",
    "  ['c', 'b'],\n",
    "  ['c', 'd'],\n",
    "  ['b', 'd'],\n",
    "  ['e', 'd'],\n",
    "  ['g', 'f']\n",
    "]\n",
    "\n",
    "shortest_path(edges, 'b', 'g') # -> -1"
   ]
  },
  {
   "cell_type": "code",
   "execution_count": 37,
   "id": "e09e04ea",
   "metadata": {},
   "outputs": [
    {
     "data": {
      "text/plain": [
       "1"
      ]
     },
     "execution_count": 37,
     "metadata": {},
     "output_type": "execute_result"
    }
   ],
   "source": [
    "edges = [\n",
    "  ['c', 'n'],\n",
    "  ['c', 'e'],\n",
    "  ['c', 's'],\n",
    "  ['c', 'w'],\n",
    "  ['w', 'e'],\n",
    "]\n",
    "\n",
    "shortest_path(edges, 'w', 'e') # -> 1"
   ]
  },
  {
   "cell_type": "code",
   "execution_count": 38,
   "id": "8b9436be",
   "metadata": {},
   "outputs": [
    {
     "data": {
      "text/plain": [
       "2"
      ]
     },
     "execution_count": 38,
     "metadata": {},
     "output_type": "execute_result"
    }
   ],
   "source": [
    "edges = [\n",
    "  ['c', 'n'],\n",
    "  ['c', 'e'],\n",
    "  ['c', 's'],\n",
    "  ['c', 'w'],\n",
    "  ['w', 'e'],\n",
    "]\n",
    "\n",
    "shortest_path(edges, 'n', 'e') # -> 2"
   ]
  },
  {
   "cell_type": "code",
   "execution_count": 39,
   "id": "c18e3f74",
   "metadata": {},
   "outputs": [
    {
     "data": {
      "text/plain": [
       "6"
      ]
     },
     "execution_count": 39,
     "metadata": {},
     "output_type": "execute_result"
    }
   ],
   "source": [
    "edges = [\n",
    "  ['m', 'n'],\n",
    "  ['n', 'o'],\n",
    "  ['o', 'p'],\n",
    "  ['p', 'q'],\n",
    "  ['t', 'o'],\n",
    "  ['r', 'q'],\n",
    "  ['r', 's']\n",
    "]\n",
    "\n",
    "shortest_path(edges, 'm', 's') # -> 6"
   ]
  },
  {
   "cell_type": "markdown",
   "id": "9893068b",
   "metadata": {},
   "source": [
    "### Question-6: Write a function, island_count, that takes in a grid containing Ws and Ls. W represents water and L represents land. The function should return the number of islands on the grid. An island is a vertically or horizontally connected region of land."
   ]
  },
  {
   "cell_type": "code",
   "execution_count": 40,
   "id": "c02eb2b6",
   "metadata": {},
   "outputs": [],
   "source": [
    "def dfs(grid, r, c, visited):\n",
    "    rowsInBounds = 0 <= r < len(grid)\n",
    "    colsInBounds = 0 <= c < len(grid[0])\n",
    "        \n",
    "    if not rowsInBounds or not colsInBounds:\n",
    "        return False \n",
    "    \n",
    "    if grid[r][c]=='W':\n",
    "        return False\n",
    "    \n",
    "    if (r, c) in visited:\n",
    "        return False \n",
    "        \n",
    "    visited.add((r, c))  \n",
    "    \n",
    "    dfs(grid, r-1, c, visited)\n",
    "    dfs(grid, r+1, c, visited)\n",
    "    dfs(grid, r, c+1, visited)\n",
    "    dfs(grid, r, c-1, visited)\n",
    "    \n",
    "    return True\n",
    "\n",
    "def island_count(grid):\n",
    "    rows, columns = len(grid), len(grid[0])\n",
    "    visited, count = set(), 0\n",
    "    for row in range(rows):\n",
    "        for col in range(columns):\n",
    "            if dfs(grid, row, col, visited):\n",
    "                count += 1\n",
    "    return count "
   ]
  },
  {
   "cell_type": "code",
   "execution_count": 41,
   "id": "d23a43d1",
   "metadata": {},
   "outputs": [
    {
     "data": {
      "text/plain": [
       "3"
      ]
     },
     "execution_count": 41,
     "metadata": {},
     "output_type": "execute_result"
    }
   ],
   "source": [
    "grid = [\n",
    "  ['W', 'L', 'W', 'W', 'W'],\n",
    "  ['W', 'L', 'W', 'W', 'W'],\n",
    "  ['W', 'W', 'W', 'L', 'W'],\n",
    "  ['W', 'W', 'L', 'L', 'W'],\n",
    "  ['L', 'W', 'W', 'L', 'L'],\n",
    "  ['L', 'L', 'W', 'W', 'W'],\n",
    "]\n",
    "\n",
    "island_count(grid) # -> 3"
   ]
  },
  {
   "cell_type": "code",
   "execution_count": 42,
   "id": "93d00e9f",
   "metadata": {},
   "outputs": [
    {
     "data": {
      "text/plain": [
       "4"
      ]
     },
     "execution_count": 42,
     "metadata": {},
     "output_type": "execute_result"
    }
   ],
   "source": [
    "grid = [\n",
    "  ['L', 'W', 'W', 'L', 'W'],\n",
    "  ['L', 'W', 'W', 'L', 'L'],\n",
    "  ['W', 'L', 'W', 'L', 'W'],\n",
    "  ['W', 'W', 'W', 'W', 'W'],\n",
    "  ['W', 'W', 'L', 'L', 'L'],\n",
    "]\n",
    "\n",
    "island_count(grid) # -> 4"
   ]
  },
  {
   "cell_type": "code",
   "execution_count": 43,
   "id": "2ab271ff",
   "metadata": {},
   "outputs": [
    {
     "data": {
      "text/plain": [
       "1"
      ]
     },
     "execution_count": 43,
     "metadata": {},
     "output_type": "execute_result"
    }
   ],
   "source": [
    "grid = [\n",
    "  ['L', 'L', 'L'],\n",
    "  ['L', 'L', 'L'],\n",
    "  ['L', 'L', 'L'],\n",
    "]\n",
    "\n",
    "island_count(grid) # -> 1"
   ]
  },
  {
   "cell_type": "code",
   "execution_count": 44,
   "id": "f3115a7e",
   "metadata": {},
   "outputs": [
    {
     "data": {
      "text/plain": [
       "0"
      ]
     },
     "execution_count": 44,
     "metadata": {},
     "output_type": "execute_result"
    }
   ],
   "source": [
    "grid = [\n",
    "  ['W', 'W'],\n",
    "  ['W', 'W'],\n",
    "  ['W', 'W'],\n",
    "]\n",
    "\n",
    "island_count(grid) # -> 0"
   ]
  },
  {
   "cell_type": "markdown",
   "id": "92df4a45",
   "metadata": {},
   "source": [
    "### Question-7: Write a function, minimum_island, that takes in a grid containing Ws and Ls. W represents water and L represents land. The function should return the size of the smallest island. An island is a vertically or horizontally connected region of land. You may assume that the grid contains at least one island."
   ]
  },
  {
   "cell_type": "code",
   "execution_count": 45,
   "id": "fe8a0338",
   "metadata": {},
   "outputs": [],
   "source": [
    "def minimum_island(grid):\n",
    "    rows = len(grid)\n",
    "    cols = len(grid[0])\n",
    "    visited, minCount = set(), float(\"inf\")\n",
    "    \n",
    "    for r in range(rows):\n",
    "        for c in range(cols):\n",
    "            count = explore(grid, r, c, visited)\n",
    "            if count!=0:\n",
    "                minCount = min(count, minCount)\n",
    "            \n",
    "    return minCount        \n",
    "\n",
    "def explore(grid, r, c, visited):\n",
    "    rowInBounds =  0 <= r < len(grid)\n",
    "    colInBounds =  0 <= c < len(grid[0])\n",
    "    if not rowInBounds or not colInBounds:\n",
    "        return 0\n",
    "    \n",
    "    if grid[r][c]=='W':\n",
    "        return 0\n",
    "    \n",
    "    if (r, c) in visited:\n",
    "        return 0\n",
    "    \n",
    "    visited.add((r, c))\n",
    "    \n",
    "    count = 0\n",
    "    count += explore(grid, r-1, c, visited)\n",
    "    count += explore(grid, r+1, c, visited)\n",
    "    count += explore(grid, r, c-1, visited)\n",
    "    count += explore(grid, r, c+1, visited)\n",
    "    return 1 + count"
   ]
  },
  {
   "cell_type": "code",
   "execution_count": 46,
   "id": "46696ea7",
   "metadata": {},
   "outputs": [
    {
     "data": {
      "text/plain": [
       "2"
      ]
     },
     "execution_count": 46,
     "metadata": {},
     "output_type": "execute_result"
    }
   ],
   "source": [
    "grid = [\n",
    "  ['W', 'L', 'W', 'W', 'W'],\n",
    "  ['W', 'L', 'W', 'W', 'W'],\n",
    "  ['W', 'W', 'W', 'L', 'W'],\n",
    "  ['W', 'W', 'L', 'L', 'W'],\n",
    "  ['L', 'W', 'W', 'L', 'L'],\n",
    "  ['L', 'L', 'W', 'W', 'W'],\n",
    "]\n",
    "\n",
    "minimum_island(grid) # -> 2"
   ]
  },
  {
   "cell_type": "code",
   "execution_count": 47,
   "id": "c6b52f29",
   "metadata": {},
   "outputs": [
    {
     "data": {
      "text/plain": [
       "1"
      ]
     },
     "execution_count": 47,
     "metadata": {},
     "output_type": "execute_result"
    }
   ],
   "source": [
    "grid = [\n",
    "  ['L', 'W', 'W', 'L', 'W'],\n",
    "  ['L', 'W', 'W', 'L', 'L'],\n",
    "  ['W', 'L', 'W', 'L', 'W'],\n",
    "  ['W', 'W', 'W', 'W', 'W'],\n",
    "  ['W', 'W', 'L', 'L', 'L'],\n",
    "]\n",
    "\n",
    "minimum_island(grid) # -> 1"
   ]
  },
  {
   "cell_type": "code",
   "execution_count": 48,
   "id": "7f3d549f",
   "metadata": {},
   "outputs": [
    {
     "data": {
      "text/plain": [
       "9"
      ]
     },
     "execution_count": 48,
     "metadata": {},
     "output_type": "execute_result"
    }
   ],
   "source": [
    "grid = [\n",
    "  ['L', 'L', 'L'],\n",
    "  ['L', 'L', 'L'],\n",
    "  ['L', 'L', 'L'],\n",
    "]\n",
    "\n",
    "minimum_island(grid) # -> 9"
   ]
  },
  {
   "cell_type": "code",
   "execution_count": 49,
   "id": "3b602f6c",
   "metadata": {},
   "outputs": [
    {
     "data": {
      "text/plain": [
       "1"
      ]
     },
     "execution_count": 49,
     "metadata": {},
     "output_type": "execute_result"
    }
   ],
   "source": [
    "grid = [\n",
    "  ['W', 'W'],\n",
    "  ['L', 'L'],\n",
    "  ['W', 'W'],\n",
    "  ['W', 'L']\n",
    "]\n",
    "\n",
    "minimum_island(grid) # -> 1"
   ]
  },
  {
   "cell_type": "code",
   "execution_count": null,
   "id": "1d9b1458",
   "metadata": {},
   "outputs": [],
   "source": []
  }
 ],
 "metadata": {
  "kernelspec": {
   "display_name": "Python 3",
   "language": "python",
   "name": "python3"
  },
  "language_info": {
   "codemirror_mode": {
    "name": "ipython",
    "version": 3
   },
   "file_extension": ".py",
   "mimetype": "text/x-python",
   "name": "python",
   "nbconvert_exporter": "python",
   "pygments_lexer": "ipython3",
   "version": "3.9.6"
  }
 },
 "nbformat": 4,
 "nbformat_minor": 5
}
