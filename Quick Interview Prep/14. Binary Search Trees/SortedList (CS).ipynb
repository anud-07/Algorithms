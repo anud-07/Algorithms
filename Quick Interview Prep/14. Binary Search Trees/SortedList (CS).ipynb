{
 "cells": [
  {
   "cell_type": "markdown",
   "id": "796108fc",
   "metadata": {},
   "source": [
    "- `SortedList` from the `sortedcontainers` module is useful because it maintains a sorted order dynamically as elements are added or removed, unlike `sorted()` which sorts an entire list at once.\n",
    "---\n",
    "- Inserting into a `SortedList` is `O(log N)`, whereas inserting into a regular list and sorting afterward is `O(N log N)`.\n",
    "---\n",
    "- If you repeatedly need to insert new elements and keep them sorted, `SortedList` is much better than calling `sorted()` every time.\n",
    "---\n",
    "- `SortedList` allows `O(log N)` searches for elements, whereas searching in a normal list is `O(N)`.\n",
    "---\n",
    "- `SortedList` uses a Balanced Binary Search Tree (BBST) (specifically, a B-tree variant).\n",
    "- Instead of storing elements in a plain list, it divides them into small sorted blocks (like a tree structure) to enable fast insertions and deletions while maintaining order.\n",
    "- This structure ensures that operations like `insertion`, `deletion`, and `searching` remain `O(log N).`"
   ]
  },
  {
   "cell_type": "markdown",
   "id": "86670ea1",
   "metadata": {},
   "source": [
    "# **SortedList vs. Heaps: How Do They Compare?**\n",
    "\n",
    "Both `SortedList` and heaps (`heapq`) help with **efficient element retrieval** but serve different purposes.\n",
    "\n",
    "## **Comparison Table**\n",
    "\n",
    "| Feature                 | **SortedList** (`sortedcontainers`) | **Heap** (`heapq`) |\n",
    "|-------------------------|------------------------------------|--------------------|\n",
    "| **Insert/Delete**       | O(log N)                          | O(log N)          |\n",
    "| **Find Min/Max**        | O(1) (first/last element)         | O(1) (heap[0])    |\n",
    "| **Find Kth Smallest**   | O(log N) (indexed access)         | O(K log N) (pop K times) |\n",
    "| **Search for an Element** | O(log N)                         | O(N) (unsorted heap) |\n",
    "| **Sorted Order Access** | O(1) (iterating is fast)         | O(N log N) (sorting heap) |\n",
    "\n",
    "---\n",
    "\n",
    "## **When to Use `SortedList` vs. Heaps?**\n",
    "\n",
    "### ✅ **Use `SortedList` When:**\n",
    "- You **need to access arbitrary elements** (e.g., \"find the `3rd` smallest\") frequently.\n",
    "- You need an **ordered structure** where you can quickly find the `k`-th smallest element.\n",
    "- You want to efficiently **remove elements at specific positions** (heaps can only remove the root efficiently).\n",
    "\n",
    "### ✅ **Use a Heap When:**\n",
    "- You **only care about min/max** (e.g., \"find the smallest element\").\n",
    "- You only need **fast insertions and deletions** without needing full sorting.\n",
    "- You want a **fixed-size priority queue** (e.g., \"keep track of the top `K` largest elements\").\n",
    "\n",
    "---\n",
    "\n",
    "## **Example Comparison:**\n",
    "### **Find K Closest Elements to a Target**\n",
    "### **1️⃣ Heap Approach (`heapq`):**\n",
    "- Push all elements with their distance into a **max-heap of size K**.\n",
    "- Complexity: **O(N log K)** (since heap size is limited to K).\n",
    "\n",
    "### **2️⃣ SortedList Approach:**\n",
    "- Insert elements while maintaining sorted order by distance.\n",
    "- Retrieve the first K elements.\n",
    "- Complexity: **O(N log N) + O(K)** (slower than heap in this case).\n",
    "\n",
    "---\n",
    "\n",
    "## **Key Takeaways**\n",
    "- `SortedList` is useful for **indexed access** and **sorted retrieval**.\n",
    "- `heapq` is better for **priority queue** tasks where you only need the smallest or largest element efficiently.\n",
    "- If the problem asks for **\"Kth smallest\"**, `SortedList` is often better than a heap.\n",
    "- If you only care about **\"Top K largest/smallest\"**, heaps are better.\n",
    "\n"
   ]
  },
  {
   "cell_type": "markdown",
   "id": "4372f2d6",
   "metadata": {},
   "source": []
  },
  {
   "cell_type": "code",
   "execution_count": 1,
   "id": "881a3afb",
   "metadata": {},
   "outputs": [
    {
     "name": "stdout",
     "output_type": "stream",
     "text": [
      "3\n"
     ]
    }
   ],
   "source": [
    "from sortedcontainers import SortedList\n",
    "\n",
    "nums = SortedList([3, 1, 4, 2, 5])  # Automatically sorted\n",
    "k = 3\n",
    "print(nums[k-1])  # 3rd smallest element → Output: 3"
   ]
  },
  {
   "cell_type": "code",
   "execution_count": 2,
   "id": "d2827252",
   "metadata": {},
   "outputs": [
    {
     "name": "stdout",
     "output_type": "stream",
     "text": [
      "SortedList([1, 4, 5, 7])\n"
     ]
    }
   ],
   "source": [
    "nums = SortedList([1, 3, 5, 7])\n",
    "nums.add(4)  # O(log N) insertion\n",
    "nums.remove(3)  # O(log N) deletion\n",
    "print(nums)  # Output: [1, 4, 5, 7]"
   ]
  },
  {
   "cell_type": "code",
   "execution_count": null,
   "id": "87ad3701",
   "metadata": {},
   "outputs": [],
   "source": []
  }
 ],
 "metadata": {
  "kernelspec": {
   "display_name": "Python 3 (ipykernel)",
   "language": "python",
   "name": "python3"
  },
  "language_info": {
   "codemirror_mode": {
    "name": "ipython",
    "version": 3
   },
   "file_extension": ".py",
   "mimetype": "text/x-python",
   "name": "python",
   "nbconvert_exporter": "python",
   "pygments_lexer": "ipython3",
   "version": "3.10.13"
  }
 },
 "nbformat": 4,
 "nbformat_minor": 5
}
