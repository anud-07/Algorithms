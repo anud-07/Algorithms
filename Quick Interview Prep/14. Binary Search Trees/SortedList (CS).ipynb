{
 "cells": [
  {
   "cell_type": "markdown",
   "id": "796108fc",
   "metadata": {},
   "source": [
    "- `SortedList` from the `sortedcontainers` module is useful because it maintains a sorted order dynamically as elements are added or removed, unlike `sorted()` which sorts an entire list at once.\n",
    "---\n",
    "- Inserting into a `SortedList` is `O(log N)`, whereas inserting into a regular list and sorting afterward is `O(N log N)`.\n",
    "---\n",
    "- If you repeatedly need to insert new elements and keep them sorted, `SortedList` is much better than calling `sorted()` every time.\n",
    "---\n",
    "- `SortedList` allows `O(log N)` searches for elements, whereas searching in a normal list is `O(N)`.\n",
    "---\n",
    "- `SortedList` uses a Balanced Binary Search Tree (BBST) (specifically, a B-tree variant).\n",
    "- Instead of storing elements in a plain list, it divides them into small sorted blocks (like a tree structure) to enable fast insertions and deletions while maintaining order.\n",
    "- This structure ensures that operations like `insertion`, `deletion`, and `searching` remain `O(log N).`"
   ]
  },
  {
   "cell_type": "markdown",
   "id": "86670ea1",
   "metadata": {},
   "source": [
    "# **SortedList vs. Heaps: How Do They Compare?**\n",
    "\n",
    "Both `SortedList` and heaps (`heapq`) help with **efficient element retrieval** but serve different purposes.\n",
    "\n",
    "## **Comparison Table**\n",
    "\n",
    "| Feature                 | **SortedList** (`sortedcontainers`) | **Heap** (`heapq`) |\n",
    "|-------------------------|------------------------------------|--------------------|\n",
    "| **Insert/Delete**       | O(log N)                          | O(log N)          |\n",
    "| **Find Min/Max**        | O(1) (first/last element)         | O(1) (heap[0])    |\n",
    "| **Find Kth Smallest**   | O(log N) (indexed access)         | O(K log N) (pop K times) |\n",
    "| **Search for an Element** | O(log N)                         | O(N) (unsorted heap) |\n",
    "| **Sorted Order Access** | O(1) (iterating is fast)         | O(N log N) (sorting heap) |\n",
    "\n",
    "---\n",
    "\n",
    "## **When to Use `SortedList` vs. Heaps?**\n",
    "\n",
    "### ✅ **Use `SortedList` When:**\n",
    "- You **need to access arbitrary elements** (e.g., \"find the `3rd` smallest\") frequently.\n",
    "- You need an **ordered structure** where you can quickly find the `k`-th smallest element.\n",
    "- You want to efficiently **remove elements at specific positions** (heaps can only remove the root efficiently).\n",
    "\n",
    "### ✅ **Use a Heap When:**\n",
    "- You **only care about min/max** (e.g., \"find the smallest element\").\n",
    "- You only need **fast insertions and deletions** without needing full sorting.\n",
    "- You want a **fixed-size priority queue** (e.g., \"keep track of the top `K` largest elements\").\n",
    "\n",
    "---\n",
    "\n",
    "## **Example Comparison:**\n",
    "### **Find K Closest Elements to a Target**\n",
    "### **1️⃣ Heap Approach (`heapq`):**\n",
    "- Push all elements with their distance into a **max-heap of size K**.\n",
    "- Complexity: **O(N log K)** (since heap size is limited to K).\n",
    "\n",
    "### **2️⃣ SortedList Approach:**\n",
    "- Insert elements while maintaining sorted order by distance.\n",
    "- Retrieve the first K elements.\n",
    "- Complexity: **O(N log N) + O(K)** (slower than heap in this case).\n",
    "\n",
    "---\n",
    "\n",
    "## **Key Takeaways**\n",
    "- `SortedList` is useful for **indexed access** and **sorted retrieval**.\n",
    "- `heapq` is better for **priority queue** tasks where you only need the smallest or largest element efficiently.\n",
    "- If the problem asks for **\"Kth smallest\"**, `SortedList` is often better than a heap.\n",
    "- If you only care about **\"Top K largest/smallest\"**, heaps are better.\n",
    "\n"
   ]
  },
  {
   "cell_type": "markdown",
   "id": "4372f2d6",
   "metadata": {},
   "source": []
  },
  {
   "cell_type": "markdown",
   "id": "3b0623bd",
   "metadata": {},
   "source": [
    "- `SortedList` keeps data sorted in ascending order after every deletion or insertion\n",
    "    - `SortedList[0]` : minimum extraction O(1) time\n",
    "    - `SortedList[-1]`: maximum extraction O(1) time\n",
    "- `Insertion` or `deletion` is quicker (`O(log(n))`) with `SortedList` compared to re-sorting a normal list (`O(n)`)"
   ]
  },
  {
   "cell_type": "markdown",
   "id": "9589bcd0",
   "metadata": {},
   "source": [
    "# SortedList Methods and Time Complexities\n",
    "\n",
    "## 🛠️ Basic Operations\n",
    "| Method                     | Description                                      | Time Complexity |\n",
    "|----------------------------|--------------------------------------------------|----------------|\n",
    "| `SortedList(iterable)`     | Create a sorted list from an iterable           | O(n log n)     |\n",
    "| `sl.add(value)`            | Insert `value` while maintaining sorted order   | O(log n)       |\n",
    "| `sl.remove(value)`         | Remove `value` if it exists                     | O(log n)       |\n",
    "| `sl.discard(value)`        | Remove `value` if it exists, do nothing otherwise | O(log n)  |\n",
    "| `sl.clear()`               | Remove all elements                             | O(n)           |\n",
    "| `sl.copy()`                | Return a shallow copy                           | O(n)           |\n",
    "\n",
    "## 🔍 Accessing Elements\n",
    "| Method                     | Description                                      | Time Complexity |\n",
    "|----------------------------|--------------------------------------------------|----------------|\n",
    "| `sl[i]`                    | Get element at index `i`                        | O(1)           |\n",
    "| `sl[-1]`                   | Get the maximum element                         | O(1)           |\n",
    "| `sl[0]`                    | Get the minimum element                         | O(1)           |\n",
    "| `len(sl)`                  | Get the number of elements                      | O(1)           |\n",
    "\n",
    "## 🔎 Searching\n",
    "| Method                     | Description                                      | Time Complexity |\n",
    "|----------------------------|--------------------------------------------------|----------------|\n",
    "| `sl.count(value)`          | Count occurrences of `value`                    | O(log n)       |\n",
    "| `sl.index(value)`          | Find index of `value`                           | O(log n)       |\n",
    "| `sl.bisect_left(value)`    | Find leftmost index where `value` could be inserted | O(log n)  |\n",
    "| `sl.bisect_right(value)`   | Find rightmost index where `value` could be inserted | O(log n)  |\n",
    "| `sl.bisect(value)`         | Same as `bisect_right(value)`                    | O(log n)       |\n",
    "\n",
    "## 🔢 Slicing and Iteration\n",
    "| Method                     | Description                                      | Time Complexity |\n",
    "|----------------------------|--------------------------------------------------|----------------|\n",
    "| `sl[i:j]`                  | Get sublist from `i` to `j`                      | O(j - i)       |\n",
    "| `iter(sl)`                 | Iterate over elements in sorted order           | O(n)           |\n",
    "| `reversed(sl)`             | Iterate in reverse sorted order                 | O(n)           |\n",
    "\n",
    "## 🚀 Bulk Operations\n",
    "| Method                     | Description                                      | Time Complexity |\n",
    "|----------------------------|--------------------------------------------------|----------------|\n",
    "| `sl.update(iterable)`      | Bulk add elements (like extend)                 | O(k log n) (for k elements) |\n",
    "| `sl.__contains__(value)`   | Check if `value` exists (using `in`)            | O(log n)       |\n",
    "| `sl.pop(index)`            | Remove and return the element at `index`        | O(log n)       |\n",
    "\n",
    "## ⚡ Set-Like Operations\n",
    "| Method                     | Description                                      | Time Complexity |\n",
    "|----------------------------|--------------------------------------------------|----------------|\n",
    "| `sl.union(iterable)`       | Return a new SortedList with elements from both | O(n + m)       |\n",
    "| `sl.intersection(iterable)`| Return elements common in both lists            | O(n + m)       |\n",
    "| `sl.difference(iterable)`  | Return elements in `sl` but not in `iterable`   | O(n + m)       |\n",
    "\n",
    "## 📏 Min/Max\n",
    "| Method                     | Description                                      | Time Complexity |\n",
    "|----------------------------|--------------------------------------------------|----------------|\n",
    "| `min(sl)`                  | Get the smallest element (`sl[0]`)              | O(1)           |\n",
    "| `max(sl)`                  | Get the largest element (`sl[-1]`)              | O(1)           |\n",
    "\n",
    "---\n",
    "🔹 **Notes**:\n",
    "- `SortedList` maintains a sorted order **automatically**, unlike `list.sort()` which sorts manually.\n",
    "- Internally, it uses a **balanced binary search tree (B-tree with small nodes)** for fast access.\n",
    "- Methods that involve inserting/removing elements have **O(log n)** complexity.\n",
    "- Methods that iterate over the structure have **O(n)** complexity.\n"
   ]
  },
  {
   "cell_type": "markdown",
   "id": "55e2ffba",
   "metadata": {},
   "source": [
    "### 1.Construction & Initialization"
   ]
  },
  {
   "cell_type": "code",
   "execution_count": 1,
   "id": "881a3afb",
   "metadata": {},
   "outputs": [
    {
     "name": "stdout",
     "output_type": "stream",
     "text": [
      "SortedList([1, 2, 5, 8, 9])\n",
      "SortedList(['e', 'h', 'l', 'l', 'o'])\n"
     ]
    }
   ],
   "source": [
    "from sortedcontainers import SortedList\n",
    "\n",
    "sl1 = SortedList()  # Empty SortedList\n",
    "sl2 = SortedList([5, 2, 8, 1, 9])  # Initialize from a list\n",
    "sl3 = SortedList(\"hello\") # Initialize from a string (characters will be sorted)\n",
    "\n",
    "print(sl2) # Output: SortedList([1, 2, 5, 8, 9])\n",
    "print(sl3) # Output: SortedList(['e', 'h', 'l', 'l', 'o'])"
   ]
  },
  {
   "cell_type": "markdown",
   "id": "66b208eb",
   "metadata": {},
   "source": [
    "### 2. Adding Elements\n",
    "\n",
    "- `SortedList.add`: Purpose: Adds a single value to the SortedList, maintaining sorted order.\n",
    "----\n",
    "- `SortedList.update`: Adds multiple elements from an iterable to the SortedList.  More efficient than adding elements one by one if you have many to add."
   ]
  },
  {
   "cell_type": "code",
   "execution_count": 2,
   "id": "d2827252",
   "metadata": {},
   "outputs": [
    {
     "name": "stdout",
     "output_type": "stream",
     "text": [
      "SortedList([0, 1, 2, 2.5, 3])\n"
     ]
    }
   ],
   "source": [
    "sl = SortedList([1, 2, 3])\n",
    "sl.add(2.5)\n",
    "sl.add(0)\n",
    "print(sl) # Output: SortedList([0, 1, 2, 2.5, 3])"
   ]
  },
  {
   "cell_type": "code",
   "execution_count": 3,
   "id": "87ad3701",
   "metadata": {},
   "outputs": [
    {
     "name": "stdout",
     "output_type": "stream",
     "text": [
      "SortedList([1, 2, 4, 5, 6, 8, 9])\n"
     ]
    }
   ],
   "source": [
    "sl = SortedList([1, 5, 9])\n",
    "sl.update([2, 4, 6, 8])\n",
    "print(sl) # Output: SortedList([1, 2, 4, 5, 6, 8, 9])"
   ]
  },
  {
   "cell_type": "markdown",
   "id": "d4660eed",
   "metadata": {},
   "source": [
    "### 3. Removing Elements\n",
    "\n",
    "- `SortedList.remove(value)`: Removes the first occurrence of value from the SortedList.  If value is not found, raises a ValueError.\n",
    "----\n",
    "-  `SortedList.discard(value)`: Removes value if it is present in the SortedList.  Does not raise an error if value is not found (safer than remove if you're not sure if the element exists).\n",
    "----\n",
    "- `SortedList.pop(index=-1)`: Removes and returns the element at the given index. Default index=-1 removes and returns the last element (largest in a SortedList)."
   ]
  },
  {
   "cell_type": "code",
   "execution_count": 4,
   "id": "14d8435a",
   "metadata": {},
   "outputs": [
    {
     "name": "stdout",
     "output_type": "stream",
     "text": [
      "SortedList([1, 2, 3, 4])\n"
     ]
    }
   ],
   "source": [
    "sl = SortedList([1, 2, 2, 3, 4])\n",
    "sl.remove(2) # Removes the first '2'\n",
    "print(sl) # Output: SortedList([1, 2, 3, 4])\n",
    "# sl.remove(5) # Would raise ValueError as 5 is not present"
   ]
  },
  {
   "cell_type": "code",
   "execution_count": 5,
   "id": "33ce4cca",
   "metadata": {},
   "outputs": [
    {
     "name": "stdout",
     "output_type": "stream",
     "text": [
      "SortedList([1, 2, 3, 4])\n",
      "SortedList([1, 2, 3, 4])\n"
     ]
    }
   ],
   "source": [
    "sl = SortedList([1, 2, 2, 3, 4])\n",
    "sl.discard(2) # Removes the first '2'\n",
    "print(sl) # Output: SortedList([1, 2, 3, 4])\n",
    "sl.discard(5) # Does nothing, no error\n",
    "print(sl) # Output: SortedList([1, 2, 3, 4])"
   ]
  },
  {
   "cell_type": "code",
   "execution_count": 6,
   "id": "0c03a074",
   "metadata": {},
   "outputs": [
    {
     "name": "stdout",
     "output_type": "stream",
     "text": [
      "5\n",
      "SortedList([1, 2, 3, 4])\n",
      "1\n",
      "SortedList([2, 3, 4])\n"
     ]
    }
   ],
   "source": [
    "sl = SortedList([1, 2, 3, 4, 5])\n",
    "last_element = sl.pop() # Removes and returns 5\n",
    "print(last_element) # Output: 5\n",
    "print(sl) # Output: SortedList([1, 2, 3, 4])\n",
    "first_element = sl.pop(0) # Removes and returns 1\n",
    "print(first_element) # Output: 1\n",
    "print(sl) # Output: SortedList([2, 3, 4])"
   ]
  }
 ],
 "metadata": {
  "kernelspec": {
   "display_name": "Python 3 (ipykernel)",
   "language": "python",
   "name": "python3"
  },
  "language_info": {
   "codemirror_mode": {
    "name": "ipython",
    "version": 3
   },
   "file_extension": ".py",
   "mimetype": "text/x-python",
   "name": "python",
   "nbconvert_exporter": "python",
   "pygments_lexer": "ipython3",
   "version": "3.10.13"
  }
 },
 "nbformat": 4,
 "nbformat_minor": 5
}
