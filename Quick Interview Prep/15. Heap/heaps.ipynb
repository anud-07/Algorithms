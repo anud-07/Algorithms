{
 "cells": [
  {
   "cell_type": "code",
   "execution_count": 1,
   "id": "4a5035d4",
   "metadata": {},
   "outputs": [
    {
     "data": {
      "text/html": [
       "<style>.container { width:100% !important; }</style>"
      ],
      "text/plain": [
       "<IPython.core.display.HTML object>"
      ]
     },
     "metadata": {},
     "output_type": "display_data"
    }
   ],
   "source": [
    "from IPython.display import display, HTML\n",
    "display(HTML(\"<style>.container { width:100% !important; }</style>\"))"
   ]
  },
  {
   "cell_type": "markdown",
   "id": "832d6ff1",
   "metadata": {},
   "source": [
    "### 1. Introduction\n",
    "\n",
    "- Used in Heap sort\n",
    "\n",
    "- Used to implement priority queue\n",
    "\n",
    "- Applications: \n",
    "    - Dijkstra’s shortest path algorithm\n",
    "    - Prim’s minimum snapping tree algorithm\n",
    "    - Huffman coding\n",
    "    - Heap Sort\n",
    "    - Any situation where items in a queue have priorities\n",
    "    \n",
    "- Two ways to assign \"priority” to items\n",
    "    - **Min heap** (highest priority item assigned **lowest** value)\n",
    "    - **Max heap** (highest priority item assigned **highest** value)\n",
    "    \n",
    "- Internally, binary heap is a **complete** binary tree\n",
    "    - All levels are completely filled except the last level\n",
    "    - and the last level has to be filled from left to right (without any gaps) \n",
    "    - The reason being that we want to store the binary heap data structure as an array (without wasting any space since there are no gaps -- the **complete** condition)\n",
    "    \n",
    "---\n",
    "- Insert item into heap of size $K$:\n",
    "    - `heapq.heappush(heap, item)` : `O( log(K) )`\n",
    "---\n",
    "- Remove and return smallest element from Heap of size $K$:\n",
    "    - `heapq.heappop(heap)` : `O( log(K) )` \n",
    "--- \n",
    "- Convert iterable into a heap in-place:  building a heap in one operation\n",
    "    - `heapq.heapify(iterable)` : `O( K )`\n",
    "    - more efficient than doing a heappush `K` times!!"
   ]
  },
  {
   "cell_type": "markdown",
   "id": "c830afcf",
   "metadata": {},
   "source": [
    "## 1. Heap Sort"
   ]
  },
  {
   "cell_type": "markdown",
   "id": "667b071f",
   "metadata": {},
   "source": [
    "## 2. Sort a K-sorted Array"
   ]
  },
  {
   "cell_type": "markdown",
   "id": "08991681",
   "metadata": {},
   "source": [
    "## 3. Buy Maximum Items with Given Sum"
   ]
  },
  {
   "cell_type": "markdown",
   "id": "2f154c34",
   "metadata": {},
   "source": [
    "## 4. K Largest Elements"
   ]
  },
  {
   "cell_type": "markdown",
   "id": "408e7a50",
   "metadata": {},
   "source": [
    "## 5. K Closest Elements"
   ]
  },
  {
   "cell_type": "markdown",
   "id": "62e84161",
   "metadata": {},
   "source": [
    "## 6. Merge K sorted Arrays"
   ]
  },
  {
   "cell_type": "markdown",
   "id": "b8b3f170",
   "metadata": {},
   "source": [
    "## 7. Median of a Stream"
   ]
  }
 ],
 "metadata": {
  "kernelspec": {
   "display_name": "Python 3 (ipykernel)",
   "language": "python",
   "name": "python3"
  },
  "language_info": {
   "codemirror_mode": {
    "name": "ipython",
    "version": 3
   },
   "file_extension": ".py",
   "mimetype": "text/x-python",
   "name": "python",
   "nbconvert_exporter": "python",
   "pygments_lexer": "ipython3",
   "version": "3.10.13"
  }
 },
 "nbformat": 4,
 "nbformat_minor": 5
}
