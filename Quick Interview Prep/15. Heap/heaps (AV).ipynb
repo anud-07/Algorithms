{
 "cells": [
  {
   "cell_type": "code",
   "execution_count": 1,
   "id": "efc8afe6",
   "metadata": {},
   "outputs": [
    {
     "data": {
      "text/html": [
       "<style>.container { width:100% !important; }</style>"
      ],
      "text/plain": [
       "<IPython.core.display.HTML object>"
      ]
     },
     "metadata": {},
     "output_type": "display_data"
    }
   ],
   "source": [
    "from IPython.display import display, HTML\n",
    "display(HTML(\"<style>.container { width:100% !important; }</style>\"))"
   ]
  },
  {
   "cell_type": "markdown",
   "id": "f1bf5be8",
   "metadata": {},
   "source": [
    "- In Python, heaps are implemented using the `heapq` module, which provides a `min-heap` **by default**.\n",
    "    - So when finding the $K^{th}$ smallest, we need to use `max-heap`. Because there is no built in `max-heap`, we end up pushing the negative value in the `min-heap`.\n",
    "- `heapq.heappush` and `heapq.heappop` take $\\mathcal{O}(log(K))$ complexity"
   ]
  },
  {
   "cell_type": "markdown",
   "id": "e43dba8a",
   "metadata": {},
   "source": [
    "### 1. $K^{th}$ Smallest Element"
   ]
  },
  {
   "cell_type": "code",
   "execution_count": 2,
   "id": "b9a07d1b",
   "metadata": {},
   "outputs": [
    {
     "name": "stdout",
     "output_type": "stream",
     "text": [
      "7\n"
     ]
    }
   ],
   "source": [
    "import heapq\n",
    "\n",
    "def kth_smallest_element(arr, k):\n",
    "    # Max heap (simulated using negative values)\n",
    "    max_heap = []\n",
    "\n",
    "    for num in arr:\n",
    "        # Push negative value to simulate max heap\n",
    "        heapq.heappush(max_heap, -num)\n",
    "\n",
    "        # If heap size exceeds k, remove the largest (smallest negative)\n",
    "        if len(max_heap) > k:\n",
    "            heapq.heappop(max_heap)\n",
    "\n",
    "    # The Kth smallest element is the root of the max heap (negate back)\n",
    "    return -max_heap[0]\n",
    "\n",
    "# Example Usage\n",
    "arr = [7, 10, 4, 3, 20, 15]\n",
    "k = 3\n",
    "print(kth_smallest_element(arr, k))  # Output: 7 (3rd smallest element)"
   ]
  },
  {
   "cell_type": "markdown",
   "id": "2cc48e2f",
   "metadata": {},
   "source": [
    "### 2. Return $K$ Largest Elements in the Array\n",
    "    - Return in any order"
   ]
  },
  {
   "cell_type": "code",
   "execution_count": 3,
   "id": "f8d67d1d",
   "metadata": {},
   "outputs": [
    {
     "name": "stdout",
     "output_type": "stream",
     "text": [
      "[10, 15, 20]\n"
     ]
    }
   ],
   "source": [
    "import heapq\n",
    "\n",
    "def k_largest_elements(arr, k):\n",
    "    min_heap = [] # since asking for largest\n",
    "\n",
    "    for num in arr:\n",
    "        heapq.heappush(min_heap, num)\n",
    "\n",
    "        # If heap size exceeds k, remove the smallest\n",
    "        if len(min_heap) > k:\n",
    "            heapq.heappop(min_heap)\n",
    "\n",
    "    return min_heap\n",
    "\n",
    "# Example Usage\n",
    "arr = [7, 10, 4, 3, 20, 15]\n",
    "k = 3\n",
    "print(k_largest_elements(arr, k))"
   ]
  },
  {
   "cell_type": "markdown",
   "id": "72b829a3",
   "metadata": {},
   "source": [
    "### 3. Sort a Nearly Sorted Array \n",
    "- Also sometimes asked as sort a $K$ Sorted Array"
   ]
  },
  {
   "cell_type": "code",
   "execution_count": 4,
   "id": "5ed2091b",
   "metadata": {},
   "outputs": [
    {
     "name": "stdout",
     "output_type": "stream",
     "text": [
      "[3, 4, 7, 10, 15, 20]\n",
      "[3, 4, 7, 10, 15, 20]\n"
     ]
    }
   ],
   "source": [
    "import heapq\n",
    "\n",
    "def sort_nearly_sorted(arr, k):\n",
    "    answer = []\n",
    "    min_heap = []\n",
    "    \n",
    "    for num in arr:\n",
    "        heapq.heappush(min_heap, num)\n",
    "        \n",
    "        if len(min_heap) > k:\n",
    "            value = heapq.heappop(min_heap)\n",
    "            answer.append(value)\n",
    "            \n",
    "    while min_heap:\n",
    "        value = heapq.heappop(min_heap)\n",
    "        answer.append(value)\n",
    "        \n",
    "    return answer\n",
    "\n",
    "\n",
    "# in place determination!\n",
    "def sort_nearly_sorted_better(arr, k):\n",
    "    min_heap = []\n",
    "    n = len(arr)\n",
    "    \n",
    "    # Build the initial heap with the first k+1 elements\n",
    "    for i in range(min(k + 1, n)):\n",
    "        heapq.heappush(min_heap, arr[i])\n",
    "    \n",
    "    # Index to place the sorted elements in the array\n",
    "    index = 0\n",
    "    \n",
    "    # Process the remaining elements\n",
    "    for i in range(k + 1, n):\n",
    "        arr[index] = heapq.heappop(min_heap)  # Place the smallest element in its correct position\n",
    "        heapq.heappush(min_heap, arr[i])      # Push the next element onto the heap\n",
    "        index += 1\n",
    "    \n",
    "    # Empty the heap, placing the remaining elements in their correct positions\n",
    "    while min_heap:\n",
    "        arr[index] = heapq.heappop(min_heap)\n",
    "        index += 1\n",
    "    \n",
    "    return arr\n",
    "\n",
    "# Example Usage\n",
    "arr = [7, 10, 4, 3, 20, 15]\n",
    "k = 3\n",
    "print(sort_nearly_sorted(arr, k))\n",
    "\n",
    "\n",
    "# Example Usage\n",
    "arr = [7, 10, 4, 3, 20, 15]\n",
    "k = 3\n",
    "print(sort_nearly_sorted_better(arr, k))"
   ]
  },
  {
   "cell_type": "markdown",
   "id": "1a75b8e3",
   "metadata": {},
   "source": [
    "### 4. $K$ Closest Numbers\n",
    "\n",
    "- Given an array `arr`, find the `k` closest values in the array `arr` to `x`.\n",
    "- Two variations to this problem:\n",
    "    - numerically sabse chota value hi **pop** hoga since min_heap functionality by deafult. The behaviour depends on what numbers you put in!\n",
    "    - if the difference is equal, the prioritize the **smaller** number: (-dff, -num) in the heap\n",
    "    - if the difference is equal, the prioritize the **larger** number:  (-dff,  num) in the heap\n",
    "- When you push tuples into a heap in Python, the heap is sorted lexicographically by default. This means that ordering is determined by the first element of the tuple first, and if those are equal, then the second element is used.\n",
    "- The **key** take-away from this problem is that: we can input a **key** in my heap (which are not necessarily numbers in the array)\n",
    "    - could be numbers\n",
    "    - could be frequencies\n",
    "    - could be differences (like the one above)\n",
    "    - it would depend on the problem to designa suitable key!"
   ]
  },
  {
   "cell_type": "code",
   "execution_count": 5,
   "id": "50934f77",
   "metadata": {},
   "outputs": [
    {
     "name": "stdout",
     "output_type": "stream",
     "text": [
      "[3, 6, 4]\n"
     ]
    }
   ],
   "source": [
    "import heapq\n",
    "\n",
    "def k_closest_elements(arr, x, k):\n",
    "    max_heap = []  # Simulating a max-heap using negative values\n",
    "\n",
    "    for num in arr:\n",
    "        diff = abs(num - x)\n",
    "        heapq.heappush(max_heap, (-diff, -num))  # Store negative values to simulate max heap\n",
    "        \n",
    "        if len(max_heap) > k:\n",
    "            heapq.heappop(max_heap)  # Remove farthest element\n",
    "    \n",
    "    return [-num for _, num in max_heap]  # Extract and sort for better readability\n",
    "\n",
    "# Example Usage\n",
    "arr = [10, 2, 14, 4, 7, 6, 3]\n",
    "x = 5\n",
    "k = 3\n",
    "print(k_closest_elements(arr, x, k))  "
   ]
  },
  {
   "cell_type": "markdown",
   "id": "fc53c42d",
   "metadata": {},
   "source": [
    "Alternative:\n",
    "sorted([(v, abs(v-5)) for i, v in enumerate(arr)], key = lambda item : (item[1], item[0]) )"
   ]
  },
  {
   "cell_type": "markdown",
   "id": "1ec5eba4",
   "metadata": {},
   "source": [
    "### 5. $K$ Frequent Numbers:\n",
    "\n",
    "- Given an array of `n` numbers. Your task is to read numbers from the array and keep at-most `K` numbers at the top (According to their decreasing frequency) every time a new number is read. We basically need to print top `k` numbers sorted by frequency when input stream has included `k` distinct elements, else need to print all distinct elements sorted by frequency."
   ]
  },
  {
   "cell_type": "code",
   "execution_count": 6,
   "id": "007819dd",
   "metadata": {},
   "outputs": [
    {
     "name": "stdout",
     "output_type": "stream",
     "text": [
      "[4, 2, 1]\n"
     ]
    }
   ],
   "source": [
    "import heapq\n",
    "\n",
    "def k_frequent_elements(arr, k):\n",
    "    \n",
    "    hash_map = {}\n",
    "    for num in arr:\n",
    "        hash_map[num] = hash_map.get(num, 0) + 1\n",
    "        \n",
    "    min_heap = []\n",
    "    for number, freq in hash_map.items():\n",
    "        heapq.heappush(min_heap, (freq, number) )\n",
    "        \n",
    "        if len(min_heap) > k:\n",
    "            heapq.heappop(min_heap)\n",
    "            \n",
    "    answer = []\n",
    "    while min_heap:\n",
    "        answer.append( heapq.heappop(min_heap)[1] )\n",
    "        \n",
    "    return answer\n",
    "        \n",
    "arr = [1, 1, 1, 1, 3, 2, 2, 2, 4, 4]\n",
    "print( k_frequent_elements(arr, 3) )"
   ]
  },
  {
   "cell_type": "markdown",
   "id": "45a4130d",
   "metadata": {},
   "source": [
    "### 6. Frequency Sort:\n",
    "\n",
    "- Print the elements of an array in the `decreasing` frequency. if 2 numbers have same frequency then print the one which `came first`."
   ]
  },
  {
   "cell_type": "code",
   "execution_count": 7,
   "id": "c4f2b2aa",
   "metadata": {},
   "outputs": [
    {
     "name": "stdout",
     "output_type": "stream",
     "text": [
      "[4, 4, 5, 5, 6, 3]\n"
     ]
    }
   ],
   "source": [
    "import heapq\n",
    "from collections import Counter\n",
    "\n",
    "def frequency_sort(arr):\n",
    "    freq = Counter(arr)\n",
    "    \n",
    "    first_occurrence = {}\n",
    "    for i, num in enumerate(arr):\n",
    "        if num not in first_occurrence:\n",
    "            first_occurrence[num] = i\n",
    "            \n",
    "    max_heap = []\n",
    "    for num in set(arr):  # Unique elements only\n",
    "        heapq.heappush(max_heap, (-freq[num], first_occurrence[num], num))  # Max heap (negate frequency)\n",
    "\n",
    "    result = []\n",
    "    while max_heap:\n",
    "        _, _, num = heapq.heappop(max_heap)\n",
    "        result.extend([num] * freq[num])\n",
    "\n",
    "    print(result)\n",
    "\n",
    "# Example Usage\n",
    "arr = [4, 5, 6, 5, 4, 3]\n",
    "frequency_sort(arr)  # Output: [4, 4, 5, 5, 6, 3]"
   ]
  },
  {
   "cell_type": "markdown",
   "id": "c42b5be2",
   "metadata": {},
   "source": [
    "### 7. $K$ Closest Point to Origin\n",
    "\n",
    "- find"
   ]
  },
  {
   "cell_type": "code",
   "execution_count": 8,
   "id": "77b3a7d6",
   "metadata": {},
   "outputs": [
    {
     "name": "stdout",
     "output_type": "stream",
     "text": [
      "[(-2, 2), (2, 2), (0, 2)]\n"
     ]
    }
   ],
   "source": [
    "import heapq\n",
    "\n",
    "def k_closest_points(points, K):\n",
    "    max_heap = []\n",
    "    \n",
    "    for (x, y) in points:\n",
    "        dist = -(x**2 + y**2)  # Negative to simulate max heap\n",
    "        heapq.heappush(max_heap, (dist, x, y))\n",
    "        \n",
    "        if len(max_heap) > K:\n",
    "            heapq.heappop(max_heap)  # Remove farthest point\n",
    "\n",
    "    return [(x, y) for (_, x, y) in max_heap]\n",
    "\n",
    "# Example Usage\n",
    "points = [(1, 3), (3, 1), (-2, 2), (2, 2), (0, 2)]\n",
    "K = 3\n",
    "print(k_closest_points(points, K))"
   ]
  },
  {
   "cell_type": "markdown",
   "id": "b8a100a9",
   "metadata": {},
   "source": [
    "### 8. Connect Ropes to Minimise the Cost\n",
    "\n",
    "- There are given `n` ropes of different lengths, we need to connect these ropes into one rope. The cost to connect two ropes is equal to sum of their lengths. We need to connect the ropes with minimum cost.\n",
    "\n",
    "- For example if we are given `4` ropes of lengths `4`, `3`, `2` and `6`. We can connect the ropes in following order:\n",
    "1) First connect ropes of lengths `2` and `3`. Now we have three ropes of lengths `4`, `6` and `5`.\n",
    "2) Now connect ropes of lengths `4` and `5`. Now we have two ropes of lengths `6` and `9`.\n",
    "3) Finally connect the two ropes and all ropes have connected.\n",
    "\n",
    "Total cost for connecting all ropes is `5 + 9 + 15 = 29`. This is the optimized cost for connecting ropes. Other ways of connecting ropes would always have same or more cost. For example, if we connect `4` and `6` first (we get three strings of `3`, `2` and `10`), then connect `10` and `3` (we get two strings of `13` and `2`). Finally we connect `13` and `2`. Total cost in this way is `10 + 13 + 15 = 38`."
   ]
  },
  {
   "cell_type": "code",
   "execution_count": null,
   "id": "55b1c3db",
   "metadata": {},
   "outputs": [],
   "source": [
    " "
   ]
  },
  {
   "cell_type": "markdown",
   "id": "e8f1b802",
   "metadata": {},
   "source": [
    "### 9. Sum of Elements between $k1$ smallest/largest and $k2$ smallest/largest numbers\n",
    "\n"
   ]
  },
  {
   "cell_type": "code",
   "execution_count": null,
   "id": "7a9df296",
   "metadata": {},
   "outputs": [],
   "source": []
  }
 ],
 "metadata": {
  "kernelspec": {
   "display_name": "Python 3 (ipykernel)",
   "language": "python",
   "name": "python3"
  },
  "language_info": {
   "codemirror_mode": {
    "name": "ipython",
    "version": 3
   },
   "file_extension": ".py",
   "mimetype": "text/x-python",
   "name": "python",
   "nbconvert_exporter": "python",
   "pygments_lexer": "ipython3",
   "version": "3.10.13"
  }
 },
 "nbformat": 4,
 "nbformat_minor": 5
}
