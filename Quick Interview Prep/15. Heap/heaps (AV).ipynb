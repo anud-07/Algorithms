{
 "cells": [
  {
   "cell_type": "markdown",
   "id": "e43dba8a",
   "metadata": {},
   "source": [
    "### 1. $K^{th}$ Smallest Element"
   ]
  },
  {
   "cell_type": "code",
   "execution_count": 1,
   "id": "b9a07d1b",
   "metadata": {},
   "outputs": [
    {
     "name": "stdout",
     "output_type": "stream",
     "text": [
      "7\n"
     ]
    }
   ],
   "source": [
    "import heapq\n",
    "\n",
    "def kth_smallest_element(arr, k):\n",
    "    # Max heap (simulated using negative values)\n",
    "    max_heap = []\n",
    "\n",
    "    for num in arr:\n",
    "        # Push negative value to simulate max heap\n",
    "        heapq.heappush(max_heap, -num)\n",
    "\n",
    "        # If heap size exceeds k, remove the largest (smallest negative)\n",
    "        if len(max_heap) > k:\n",
    "            heapq.heappop(max_heap)\n",
    "\n",
    "    # The Kth smallest element is the root of the max heap (negate back)\n",
    "    return -max_heap[0]\n",
    "\n",
    "# Example Usage\n",
    "arr = [7, 10, 4, 3, 20, 15]\n",
    "k = 3\n",
    "print(kth_smallest_element(arr, k))  # Output: 7 (3rd smallest element)"
   ]
  },
  {
   "cell_type": "markdown",
   "id": "2cc48e2f",
   "metadata": {},
   "source": [
    "### 2. Return $K$ Largest Elements in the Array\n",
    "    - Return in any order"
   ]
  },
  {
   "cell_type": "code",
   "execution_count": 2,
   "id": "f8d67d1d",
   "metadata": {},
   "outputs": [
    {
     "name": "stdout",
     "output_type": "stream",
     "text": [
      "[10, 15, 20]\n"
     ]
    }
   ],
   "source": [
    "import heapq\n",
    "\n",
    "def k_largest_elements(arr, k):\n",
    "    min_heap = [] # since asking for largest\n",
    "\n",
    "    for num in arr:\n",
    "        heapq.heappush(min_heap, num)\n",
    "\n",
    "        # If heap size exceeds k, remove the smallest\n",
    "        if len(min_heap) > k:\n",
    "            heapq.heappop(min_heap)\n",
    "\n",
    "    return min_heap\n",
    "\n",
    "# Example Usage\n",
    "arr = [7, 10, 4, 3, 20, 15]\n",
    "k = 3\n",
    "print(k_largest_elements(arr, k)) "
   ]
  },
  {
   "cell_type": "markdown",
   "id": "72b829a3",
   "metadata": {},
   "source": [
    "### 3. Sort a $K$ Sorted Array (Sort a Nearly Sorted Array)"
   ]
  },
  {
   "cell_type": "code",
   "execution_count": 3,
   "id": "5ed2091b",
   "metadata": {},
   "outputs": [
    {
     "name": "stdout",
     "output_type": "stream",
     "text": [
      "[3, 4, 7, 10, 15, 20]\n"
     ]
    }
   ],
   "source": [
    "import heapq\n",
    "\n",
    "def sort_nearly_sorted(arr, k):\n",
    "    \n",
    "    answer = []\n",
    "    min_heap = []\n",
    "    \n",
    "    for num in arr:\n",
    "        heapq.heappush(min_heap, num)\n",
    "        \n",
    "        if len(min_heap) > k:\n",
    "            value = heapq.heappop(min_heap)\n",
    "            answer.append(value)\n",
    "            \n",
    "    while min_heap:\n",
    "        value = heapq.heappop(min_heap)\n",
    "        answer.append(value)\n",
    "        \n",
    "    return answer\n",
    "\n",
    "# Example Usage\n",
    "arr = [7, 10, 4, 3, 20, 15]\n",
    "k = 3\n",
    "print(sort_nearly_sorted(arr, k))"
   ]
  },
  {
   "cell_type": "markdown",
   "id": "1a75b8e3",
   "metadata": {},
   "source": [
    "### 4. $K$ Closest Numbers\n",
    "\n",
    "- When you push tuples into a heap in Python, the heap is sorted lexicographically by default. This means that ordering is determined by the first element of the tuple first, and if those are equal, then the second element is used."
   ]
  },
  {
   "cell_type": "code",
   "execution_count": 5,
   "id": "50934f77",
   "metadata": {},
   "outputs": [
    {
     "name": "stdout",
     "output_type": "stream",
     "text": [
      "[7, 6, 4]\n"
     ]
    }
   ],
   "source": [
    "import heapq\n",
    "\n",
    "def k_closest_elements(arr, x, k):\n",
    "    max_heap = []  # Simulating a max-heap using negative values\n",
    "\n",
    "    for num in arr:\n",
    "        diff = abs(num - x)\n",
    "        heapq.heappush(max_heap, (-diff, -num))  # Store negative values to simulate max heap\n",
    "        \n",
    "        if len(max_heap) > k:\n",
    "            heapq.heappop(max_heap)  # Remove farthest element\n",
    "    \n",
    "    return [-num for _, num in max_heap]  # Extract and sort for better readability\n",
    "\n",
    "# Example Usage\n",
    "arr = [10, 2, 14, 4, 7, 6]\n",
    "x = 5\n",
    "k = 3\n",
    "print(k_closest_elements(arr, x, k))  "
   ]
  },
  {
   "cell_type": "code",
   "execution_count": null,
   "id": "35543d3b",
   "metadata": {},
   "outputs": [],
   "source": []
  }
 ],
 "metadata": {
  "kernelspec": {
   "display_name": "Python 3 (ipykernel)",
   "language": "python",
   "name": "python3"
  },
  "language_info": {
   "codemirror_mode": {
    "name": "ipython",
    "version": 3
   },
   "file_extension": ".py",
   "mimetype": "text/x-python",
   "name": "python",
   "nbconvert_exporter": "python",
   "pygments_lexer": "ipython3",
   "version": "3.10.12"
  }
 },
 "nbformat": 4,
 "nbformat_minor": 5
}
