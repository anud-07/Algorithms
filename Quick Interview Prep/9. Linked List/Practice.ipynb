{
 "cells": [
  {
   "cell_type": "code",
   "execution_count": 1,
   "id": "bfdebd42",
   "metadata": {},
   "outputs": [],
   "source": [
    "class Node:\n",
    "    def __init__(self, val):\n",
    "        self.val = val\n",
    "        self.next = None"
   ]
  },
  {
   "cell_type": "code",
   "execution_count": 2,
   "id": "0d732ed3",
   "metadata": {},
   "outputs": [
    {
     "name": "stdout",
     "output_type": "stream",
     "text": [
      "A\n",
      "B\n",
      "C\n",
      "D\n"
     ]
    }
   ],
   "source": [
    "a = Node(\"A\")\n",
    "b = Node(\"B\")\n",
    "c = Node(\"C\")\n",
    "d = Node(\"D\")\n",
    "\n",
    "a.next = b\n",
    "b.next = c\n",
    "c.next = d\n",
    "\n",
    "def print_list(head):\n",
    "    current = head\n",
    "    while current!=None:\n",
    "        print(current.val)\n",
    "        current = current.next\n",
    "        \n",
    "print_list(a)        "
   ]
  },
  {
   "cell_type": "code",
   "execution_count": 3,
   "id": "ce83deae",
   "metadata": {},
   "outputs": [
    {
     "name": "stdout",
     "output_type": "stream",
     "text": [
      "A\n",
      "B\n",
      "C\n",
      "D\n"
     ]
    }
   ],
   "source": [
    "def print_list_recursive(head):\n",
    "    if head is None:\n",
    "        return \n",
    "    \n",
    "    print(head.val)\n",
    "    print_list_recursive(head.next)\n",
    "    \n",
    "print_list_recursive(a)"
   ]
  },
  {
   "cell_type": "markdown",
   "id": "c7a792c6",
   "metadata": {},
   "source": [
    "### Question-1: Write a function, linked_list_values, that takes in the head of a linked list as an argument. The function should return a list containing all values of the nodes in the linked list."
   ]
  },
  {
   "cell_type": "code",
   "execution_count": 4,
   "id": "55eabafe",
   "metadata": {},
   "outputs": [],
   "source": [
    "def linked_list_values(head):\n",
    "    current = head \n",
    "    answer = []\n",
    "    while current:\n",
    "        answer.append(current.val)\n",
    "        current = current.next\n",
    "    return answer    "
   ]
  },
  {
   "cell_type": "code",
   "execution_count": 5,
   "id": "1b6960b3",
   "metadata": {},
   "outputs": [
    {
     "data": {
      "text/plain": [
       "['a', 'b', 'c', 'd']"
      ]
     },
     "execution_count": 5,
     "metadata": {},
     "output_type": "execute_result"
    }
   ],
   "source": [
    "a = Node(\"a\")\n",
    "b = Node(\"b\")\n",
    "c = Node(\"c\")\n",
    "d = Node(\"d\")\n",
    "\n",
    "a.next = b\n",
    "b.next = c\n",
    "c.next = d\n",
    "\n",
    "# a -> b -> c -> d\n",
    "\n",
    "linked_list_values(a) # -> [ 'a', 'b', 'c', 'd' ]"
   ]
  },
  {
   "cell_type": "markdown",
   "id": "a27af4dd",
   "metadata": {},
   "source": [
    "### Question-2: Write a function, sum_list, that takes in the head of a linked list containing numbers as an argument. The function should return the total sum of all values in the linked list."
   ]
  },
  {
   "cell_type": "code",
   "execution_count": 6,
   "id": "a0cdd428",
   "metadata": {},
   "outputs": [],
   "source": [
    "def sum_list(head):\n",
    "    current = head \n",
    "    totalSum = 0 \n",
    "    while current:\n",
    "        totalSum += current.val\n",
    "        current = current.next\n",
    "    return totalSum"
   ]
  },
  {
   "cell_type": "code",
   "execution_count": 7,
   "id": "6560aef6",
   "metadata": {},
   "outputs": [
    {
     "data": {
      "text/plain": [
       "19"
      ]
     },
     "execution_count": 7,
     "metadata": {},
     "output_type": "execute_result"
    }
   ],
   "source": [
    "a = Node(2)\n",
    "b = Node(8)\n",
    "c = Node(3)\n",
    "d = Node(-1)\n",
    "e = Node(7)\n",
    "\n",
    "a.next = b\n",
    "b.next = c\n",
    "c.next = d\n",
    "d.next = e\n",
    "\n",
    "# 2 -> 8 -> 3 -> -1 -> 7\n",
    "\n",
    "sum_list(a) # 19"
   ]
  },
  {
   "cell_type": "markdown",
   "id": "a6fbc1e3",
   "metadata": {},
   "source": [
    "### Question-3: Write a function, linked_list_find, that takes in the head of a linked list and a target value. The function should return a boolean indicating whether or not the linked list contains the target."
   ]
  },
  {
   "cell_type": "code",
   "execution_count": 8,
   "id": "7724a916",
   "metadata": {},
   "outputs": [],
   "source": [
    "def linkedin_list_find(head, target):\n",
    "    current = head \n",
    "    while current:\n",
    "        if current.val==target:\n",
    "            return True\n",
    "        current = current.next\n",
    "    return False     "
   ]
  },
  {
   "cell_type": "markdown",
   "id": "72663aff",
   "metadata": {},
   "source": [
    "### Question-4: Write a function, get_node_value, that takes in the head of a linked list and an index. The function should return the value of the linked list at the specified index. If there is no node at the given index, then return None."
   ]
  },
  {
   "cell_type": "code",
   "execution_count": 9,
   "id": "deea3638",
   "metadata": {},
   "outputs": [],
   "source": [
    "def get_node_value(head, targetIndex):\n",
    "    current = head \n",
    "    currIndex = 0\n",
    "    while current:\n",
    "        if currIndex==targetIndex:\n",
    "            return current.val\n",
    "        current = current.next\n",
    "        currIndex += 1\n",
    "    return None    "
   ]
  },
  {
   "cell_type": "markdown",
   "id": "e6f2a984",
   "metadata": {},
   "source": [
    "### Question-5: Write a function, reverse_list, that takes in the head of a linked list as an argument. The function should reverse the order of the nodes in the linked list in-place and return the new head of the reversed linked list."
   ]
  },
  {
   "cell_type": "code",
   "execution_count": 10,
   "id": "f6249f32",
   "metadata": {},
   "outputs": [],
   "source": [
    "def reverse_list(head):\n",
    "    \n",
    "    previous = None\n",
    "    current = head \n",
    "    \n",
    "    while current:\n",
    "        next = current.next \n",
    "        current.next = previous \n",
    "        previous = current\n",
    "        current = next\n",
    "    return previous     "
   ]
  },
  {
   "cell_type": "markdown",
   "id": "bc11c2a6",
   "metadata": {},
   "source": [
    "### Question-6: Write a function, zipper_lists, that takes in the head of two linked lists as arguments. The function should zipper the two lists together into single linked list by alternating nodes. If one of the linked lists is longer than the other, the resulting list should terminate with the remaining nodes. The function should return the head of the zippered linked list. Do this in-place, by mutating the original Nodes."
   ]
  },
  {
   "cell_type": "code",
   "execution_count": null,
   "id": "756a6a26",
   "metadata": {},
   "outputs": [],
   "source": [
    "def zipper_lists(head1, head2):\n",
    "    tail = None\n",
    "    current1 = head1\n",
    "    current2 = head2 \n",
    "    count = 0\n",
    "    while current1 and current2:\n",
    "        if count%2==0:\n",
    "            tail = current1\n",
    "            next = current1.next\n",
    "            current1.next = current2\n",
    "            current1 = next\n",
    "        else:\n",
    "            tail = current2\n",
    "            next = current2.next \n",
    "            current2.next = current1\n",
    "            current2 = next\n",
    "        count += 1   \n",
    "        \n",
    "    if current2:\n",
    "        current2.next = "
   ]
  },
  {
   "cell_type": "code",
   "execution_count": null,
   "id": "5b903a4f",
   "metadata": {},
   "outputs": [],
   "source": []
  }
 ],
 "metadata": {
  "kernelspec": {
   "display_name": "Python 3",
   "language": "python",
   "name": "python3"
  },
  "language_info": {
   "codemirror_mode": {
    "name": "ipython",
    "version": 3
   },
   "file_extension": ".py",
   "mimetype": "text/x-python",
   "name": "python",
   "nbconvert_exporter": "python",
   "pygments_lexer": "ipython3",
   "version": "3.9.6"
  }
 },
 "nbformat": 4,
 "nbformat_minor": 5
}
