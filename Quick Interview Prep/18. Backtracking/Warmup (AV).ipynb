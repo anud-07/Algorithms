{
 "cells": [
  {
   "cell_type": "markdown",
   "id": "376eae8d",
   "metadata": {},
   "source": [
    "- Backtracking Overview\n",
    "---\n",
    "- Basics of Backtracking\n",
    "---\n",
    "\n",
    "- Identification of Backtracking Problems\n",
    "\n",
    "    - Some possible indications (but not necessary)\n",
    "        - Choices and Decisions (since recursion is the parent)\n",
    "        - All combinations\n",
    "        - Controlled Recursion\n",
    "        - Size of Constraints\n",
    "        - Number of Choices (usually very large or/and variable)\n",
    "        - Don't be greedy\n",
    "        - When trying with Recursion, you will feel this is not right!\n",
    "---        \n",
    "- Generalization of Backtracking\n",
    "\n",
    "    - Follow the below pseudo-code to solve the problem\n",
    "\n",
    "    ```\n",
    "    def solve(state):\n",
    "        if is_solved(state) == True:\n",
    "            return\n",
    "\n",
    "        for choice in get_all_choices(state):\n",
    "\n",
    "            if is_valid(state, choice) == True:\n",
    "\n",
    "                next_state = apply_choice(state, choice)\n",
    "                solve(next_state)\n",
    "                revert_choice(state, choice)\n",
    "\n",
    "    def is_solved(state):\n",
    "        # Function to check if the given state is a solution to the problem\n",
    "        # (Implementation depends on the problem)\n",
    "        pass # Replace with actual logic to check if state is solved\n",
    "\n",
    "    def get_all_choices(state):\n",
    "        # Function to generate all possible choices from the current state\n",
    "        # (Implementation depends on the problem)\n",
    "        pass # Replace with logic to generate possible choices\n",
    "\n",
    "    def is_valid(state, choice):\n",
    "        # Function to check if a given choice is valid in the current state\n",
    "        # (Implementation depends on the problem)\n",
    "        pass # Replace with logic to check if choice is valid\n",
    "    ```\n",
    "---    \n",
    "- Backtracking of problems:\n",
    "    - Permutations of a String\n",
    "    - Largest Number in Kth Swap\n",
    "    - N digit\n",
    "    - Rat in a Maze\n",
    "    - Word break\n",
    "    - Palindrom Partitioning\n",
    "    - Combinatorial Sum\n",
    "    - Sudoku\n",
    "    - N queens\n",
    "    - Phone letter digits"
   ]
  },
  {
   "cell_type": "markdown",
   "id": "9759c531",
   "metadata": {},
   "source": [
    "## 1. Permutations of a String"
   ]
  },
  {
   "cell_type": "code",
   "execution_count": null,
   "id": "d572ac9d",
   "metadata": {},
   "outputs": [],
   "source": []
  }
 ],
 "metadata": {
  "kernelspec": {
   "display_name": "Python 3 (ipykernel)",
   "language": "python",
   "name": "python3"
  },
  "language_info": {
   "codemirror_mode": {
    "name": "ipython",
    "version": 3
   },
   "file_extension": ".py",
   "mimetype": "text/x-python",
   "name": "python",
   "nbconvert_exporter": "python",
   "pygments_lexer": "ipython3",
   "version": "3.10.13"
  }
 },
 "nbformat": 4,
 "nbformat_minor": 5
}
