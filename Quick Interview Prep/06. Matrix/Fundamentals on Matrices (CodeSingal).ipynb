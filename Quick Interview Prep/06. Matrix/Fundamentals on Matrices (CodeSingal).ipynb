{
 "cells": [
  {
   "cell_type": "markdown",
   "id": "53093904",
   "metadata": {},
   "source": [
    "## 1. Zig-Zag Traversal of any matrix of size (n x m)\n",
    "\n",
    "- Starting at the bottom right cell. \n",
    "- From there, you'll travel up to the top of the same column, then move left to the next column, and then continue downwards from the top of this new column. After reaching the bottom of the column, you again move left and start moving upwards. \n",
    "- This unique traverse pattern will be performed until all the cells have been visited."
   ]
  },
  {
   "cell_type": "code",
   "execution_count": null,
   "id": "9b24a911",
   "metadata": {},
   "outputs": [],
   "source": [
    "def column_traverse(matrix):\n",
    "    \n",
    "    rows, cols = len(matrix), len(matrix[0])\n",
    "    direction = 'up'\n",
    "    row, col = rows - 1, cols - 1\n",
    "    output = []\n",
    "    \n",
    "    while len(output) < rows * cols:\n",
    "        \n",
    "        output.append(matrix[row][col]) # process current input\n",
    "        \n",
    "        # where to go now?\n",
    "        if direction == 'up':\n",
    "            if row - 1 < 0:\n",
    "                direction = 'down'\n",
    "                col -= 1\n",
    "            else:\n",
    "                row -= 1\n",
    "        else:\n",
    "            if row + 1 == rows:\n",
    "                direction = 'up'\n",
    "                col -= 1\n",
    "            else:\n",
    "                row += 1\n",
    "\n",
    "    return output"
   ]
  },
  {
   "cell_type": "code",
   "execution_count": null,
   "id": "3807f266",
   "metadata": {},
   "outputs": [],
   "source": [
    "def reverse_traverse(matrix):\n",
    "    rows, cols = len(matrix), len(matrix[0])\n",
    "    output = []\n",
    "\n",
    "    for row in range(rows - 1, -1, -1):\n",
    "        for col in range(cols - 1, -1, -1):\n",
    "            output.append(matrix[row][col])\n",
    "            \n",
    "    return output"
   ]
  },
  {
   "cell_type": "code",
   "execution_count": null,
   "id": "e55be45a",
   "metadata": {},
   "outputs": [],
   "source": [
    "matrix = [\n",
    "    [1, 2, 3, 4],\n",
    "    [5, 6, 7, 8],\n",
    "    [9, 10, 11, 12]\n",
    "]"
   ]
  },
  {
   "cell_type": "code",
   "execution_count": null,
   "id": "412f5f6e",
   "metadata": {},
   "outputs": [],
   "source": [
    "column_traverse(matrix)"
   ]
  },
  {
   "cell_type": "code",
   "execution_count": null,
   "id": "74562844",
   "metadata": {},
   "outputs": [],
   "source": [
    "reverse_traverse(matrix)"
   ]
  },
  {
   "cell_type": "markdown",
   "id": "beaea906",
   "metadata": {},
   "source": [
    "----\n",
    "## 2. Transpose any matrix of size (n x m)"
   ]
  },
  {
   "cell_type": "code",
   "execution_count": null,
   "id": "3a5c261f",
   "metadata": {},
   "outputs": [],
   "source": [
    "nrows = len(matrix)\n",
    "ncols = len(matrix[0])"
   ]
  },
  {
   "cell_type": "code",
   "execution_count": null,
   "id": "02b45992",
   "metadata": {},
   "outputs": [],
   "source": [
    "matrix_transpose1 = [[matrix[i][j] for i in range(nrows)] for j in range(ncols)]\n",
    "matrix_transpose1"
   ]
  },
  {
   "cell_type": "code",
   "execution_count": null,
   "id": "d58115cd",
   "metadata": {},
   "outputs": [],
   "source": [
    "matrix_transpose2 = [[0 for i in range(nrows)] for j in range(ncols)]\n",
    "for j in range(ncols):\n",
    "    for i in range(nrows):\n",
    "        matrix_transpose2[j][i] = matrix[i][j]\n",
    "matrix_transpose2"
   ]
  },
  {
   "cell_type": "markdown",
   "id": "147d1283",
   "metadata": {},
   "source": [
    "### Transpose any matrix of size (n x m) in reverse order"
   ]
  },
  {
   "cell_type": "markdown",
   "id": "6b985e59",
   "metadata": {},
   "source": [
    "### Transpose any matrix of size (n x m) over its secondary diagonal?"
   ]
  },
  {
   "cell_type": "markdown",
   "id": "91a89ee3",
   "metadata": {},
   "source": [
    "----\n",
    "## 3. Identify Feasible Locations\n",
    "\n",
    "- Identifies all the spots where a new piece could be placed so that it can move to another empty cell in one move. The catch is that a piece can move only to an immediately neighboring cell directly above, below, to the left, or right, but not diagonally."
   ]
  },
  {
   "cell_type": "code",
   "execution_count": null,
   "id": "96c2a563",
   "metadata": {},
   "outputs": [],
   "source": [
    "def find_positions(board):\n",
    "    positions = []\n",
    "    rows, cols = len(board), len(board[0])\n",
    "\n",
    "    for i in range(rows):\n",
    "        for j in range(cols):\n",
    "            if board[i][j] == 'E':\n",
    "                if (\n",
    "                    (i > 0 and board[i-1][j] == 'E') or \n",
    "                    (i < rows - 1 and board[i+1][j] == 'E') or \n",
    "                    (j > 0 and board[i][j-1] == 'E') or \n",
    "                    (j < cols - 1 and board[i][j+1] == 'E')\n",
    "                ):\n",
    "                    \n",
    "                    positions.append((i, j))\n",
    "                    \n",
    "    return positions\n",
    "\n",
    "board = [\n",
    "    ['P', 'E', 'E', 'P'],\n",
    "    ['E', 'P', 'E', 'P'],\n",
    "    ['P', 'E', 'P', 'P'],\n",
    "    ['P', 'E', 'P', 'E']\n",
    "]\n",
    "\n",
    "print(find_positions(board))\n",
    "\n",
    "# Prints [(0, 1), (0, 2), (1, 2), (2, 1), (3, 1)]"
   ]
  },
  {
   "cell_type": "markdown",
   "id": "3e0bb374",
   "metadata": {},
   "source": [
    "### Count Feasible Submatrices\n",
    "\n",
    "- count how many 3x3 submatrices in a given matrix have 'E's in all four corners. Remember, each 3x3 submatrix is like a smaller square within the larger matrix."
   ]
  },
  {
   "cell_type": "markdown",
   "id": "2ab9e736",
   "metadata": {},
   "source": [
    "----\n",
    "## 4. Path Traversal\n",
    "\n",
    "- The function will accept a grid, along with the starting cell coordinates, as parameters. Starting from the provided cell, the function should make moves in any one of the four possible directions toward an adjacent cell. \n",
    "- However, a conditions govern this selection: the new cell value should be strictly greater than the current cell's value."
   ]
  },
  {
   "cell_type": "code",
   "execution_count": null,
   "id": "559667d3",
   "metadata": {},
   "outputs": [],
   "source": []
  }
 ],
 "metadata": {
  "kernelspec": {
   "display_name": "Python 3 (ipykernel)",
   "language": "python",
   "name": "python3"
  },
  "language_info": {
   "codemirror_mode": {
    "name": "ipython",
    "version": 3
   },
   "file_extension": ".py",
   "mimetype": "text/x-python",
   "name": "python",
   "nbconvert_exporter": "python",
   "pygments_lexer": "ipython3",
   "version": "3.10.12"
  }
 },
 "nbformat": 4,
 "nbformat_minor": 5
}
