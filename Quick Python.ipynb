{
 "cells": [
  {
   "cell_type": "markdown",
   "id": "149b5e34",
   "metadata": {},
   "source": [
    "- While Python doesn't have a single \"framework\" like Java Collections or C++ STL, its **built-in** types and the **collections** module are highly versatile and provide all the tools you need for efficient data manipulation\n",
    "- Python has the **collections module** and **several built-in** data structures that serve a similar purpose to the C++ STL and Java Collections Framework."
   ]
  },
  {
   "cell_type": "markdown",
   "id": "64093848",
   "metadata": {},
   "source": [
    "## **List DS: (equivalent of the ArrayList in Java)**"
   ]
  },
  {
   "cell_type": "markdown",
   "id": "552366cf",
   "metadata": {},
   "source": [
    "### Initilization"
   ]
  },
  {
   "cell_type": "code",
   "execution_count": null,
   "id": "c94f9653",
   "metadata": {},
   "outputs": [],
   "source": [
    "my_list = []           # Empty list\n",
    "my_list = [1, 2, 3, 4] # List with initial values \n",
    "\n",
    "my_list"
   ]
  },
  {
   "cell_type": "markdown",
   "id": "0c7971a0",
   "metadata": {},
   "source": [
    "### Iterating over a list"
   ]
  },
  {
   "cell_type": "code",
   "execution_count": null,
   "id": "651f35a6",
   "metadata": {},
   "outputs": [],
   "source": [
    "my_list = [4, 3, 2, 1] # List with initial values \n",
    "n = len(my_list)\n",
    "\n",
    "# iterate on the indices of a list\n",
    "for index in range( n ):\n",
    "    print( my_list[index], end = \" \")\n",
    "\n",
    "print()\n",
    "\n",
    "# iterating directly over the list\n",
    "for value in my_list:\n",
    "    print( value , end = \" \")\n",
    "    \n",
    "print()\n",
    "\n",
    "# iterate on the indices and value together\n",
    "for index, value in enumerate(my_list):\n",
    "    print( (index, value) , end = \" \")"
   ]
  },
  {
   "cell_type": "markdown",
   "id": "06ff9185",
   "metadata": {},
   "source": [
    "### Iterating over a reversed list"
   ]
  },
  {
   "cell_type": "code",
   "execution_count": null,
   "id": "9e455e2f",
   "metadata": {},
   "outputs": [],
   "source": [
    "# 1. Using reversed()\n",
    "\n",
    "for value in reversed(my_list):\n",
    "    print(value)\n",
    "    \n",
    "# Time:  O(n) each element is yielded atleast once\n",
    "# Space: O(1) returns an iterator, no new list is created\n",
    "# does not modify the original list\n",
    "# memory-efficient reverse iteration when you don't need a reversed copy\n",
    "\n",
    "# 2. Using List Slicing my_list[::-1]\n",
    "for value in my_list[::-1]:\n",
    "    print(value)\n",
    "    \n",
    "# Time:  O(n) slicing creates a new list by copying all n elements\n",
    "# Space: O(n) extra space since a NEW reverse list is created\n",
    "# does not modify the original list\n",
    "\n",
    "# 3. using list.reverse() method\n",
    "\n",
    "my_list.reverse()\n",
    "for value in my_list:\n",
    "    print(value)\n",
    "    \n",
    "# Time: O(n) for in-place reversal, plus O(n) to iterate\n",
    "# Space: O(1) extra space\n",
    "# modifes the orignal array\n",
    "\n",
    "# 4. Using a Reverse Index Loop\n",
    "for i in range(len(my_list)-1, -1, -1):\n",
    "    print( my_list[i] )\n",
    "    \n",
    "# Time: O(n)\n",
    "# Space: O(1)\n",
    "# Does NOT modify the original list\n",
    "# more verbose than reversed() but equally efficeint"
   ]
  },
  {
   "cell_type": "markdown",
   "id": "a2aaeabd",
   "metadata": {},
   "source": [
    "### Various list methods"
   ]
  },
  {
   "cell_type": "code",
   "execution_count": null,
   "id": "5c4f0478",
   "metadata": {},
   "outputs": [],
   "source": [
    "def custom_print():\n",
    "    print(f\"current list: {my_list} Returned Element: {my_return}\")\n",
    "\n",
    "my_list = []\n",
    "\n",
    "my_return = my_list.append(5)          # Add an element to the end\n",
    "custom_print()\n",
    "\n",
    "my_return = my_list.extend([1210, 77]) # Add multiple elements=\n",
    "custom_print()\n",
    "\n",
    "my_return = my_list.insert(0, 10000)   # Insert at a specific position\n",
    "custom_print()\n",
    "\n",
    "my_return = my_list.pop()              # Remove and return the last element\n",
    "custom_print()\n",
    "\n",
    "my_return = my_list.sort()             # in-place sorting the list\n",
    "custom_print()\n",
    "\n",
    "my_return = my_list.reverse()          # in-place reversing the list\n",
    "custom_print()"
   ]
  },
  {
   "cell_type": "markdown",
   "id": "ed1186f5",
   "metadata": {},
   "source": [
    "## **String DS:**"
   ]
  },
  {
   "cell_type": "code",
   "execution_count": 2,
   "id": "9b2df233",
   "metadata": {},
   "outputs": [],
   "source": [
    "my_string = \"garrry and john\"\n",
    "n = len(my_string)"
   ]
  },
  {
   "cell_type": "markdown",
   "id": "a85f2a31",
   "metadata": {},
   "source": [
    "### Iterating over a string"
   ]
  },
  {
   "cell_type": "code",
   "execution_count": null,
   "id": "8e8383f5",
   "metadata": {},
   "outputs": [],
   "source": [
    "for char in my_string:\n",
    "    print(char)\n",
    "\n",
    "print()\n",
    "\n",
    "for index in range(n):\n",
    "    print(index, my_string[index])\n",
    "    \n",
    "print()\n",
    "\n",
    "for index, char in enumerate(my_string):\n",
    "    print(index, char)"
   ]
  },
  {
   "cell_type": "markdown",
   "id": "6f8ea392",
   "metadata": {},
   "source": [
    "### Iterating over a reversed string"
   ]
  },
  {
   "cell_type": "code",
   "execution_count": 6,
   "id": "e427f0b8",
   "metadata": {
    "collapsed": true
   },
   "outputs": [
    {
     "name": "stdout",
     "output_type": "stream",
     "text": [
      "n\n",
      "h\n",
      "o\n",
      "j\n",
      " \n",
      "d\n",
      "n\n",
      "a\n",
      " \n",
      "y\n",
      "r\n",
      "r\n",
      "r\n",
      "a\n",
      "g\n",
      "\n",
      "n\n",
      "h\n",
      "o\n",
      "j\n",
      " \n",
      "d\n",
      "n\n",
      "a\n",
      " \n",
      "y\n",
      "r\n",
      "r\n",
      "r\n",
      "a\n",
      "g\n",
      "\n",
      "n\n",
      "h\n",
      "o\n",
      "j\n",
      " \n",
      "d\n",
      "n\n",
      "a\n",
      " \n",
      "y\n",
      "r\n",
      "r\n",
      "r\n",
      "a\n",
      "g\n"
     ]
    }
   ],
   "source": [
    "for char in reversed(my_string):\n",
    "    print(char)\n",
    "print()\n",
    "\n",
    "for char in my_string[::-1]:\n",
    "    print(char)\n",
    "print()\n",
    "\n",
    "for index in range(n-1, -1, -1):\n",
    "    print(my_string[index])"
   ]
  },
  {
   "cell_type": "markdown",
   "id": "c417c945",
   "metadata": {},
   "source": [
    "### Various string methods"
   ]
  },
  {
   "cell_type": "code",
   "execution_count": 24,
   "id": "00f4cf8a",
   "metadata": {},
   "outputs": [
    {
     "name": "stdout",
     "output_type": "stream",
     "text": [
      "arrr\n",
      "hello world\n",
      "hello_hello_hello_hello_hello_\n",
      "garrry and john\n",
      "GARRRY AND JOHN\n",
      "Garrry And John\n",
      "['Hello', 'world', 'this', 'is', 'Python']\n",
      "['apple', 'banana', 'grape', 'orange']\n",
      "['Python', 'is', 'awesome and powerful']\n",
      "Hello world this is Python\n",
      "apple,banana,grape,orange\n",
      "A-B-C-D\n",
      "1 | 2 | 3 | 4 | 5 <class 'str'>\n"
     ]
    }
   ],
   "source": [
    "# Basic Methods\n",
    "\n",
    "# Slices the string from start (inclusive) to end (exclusive). \n",
    "# Omitting start or end implies the beginning or end of the string, respectively.\n",
    "start, end = 1, 5\n",
    "print( my_string[start : end] ) \n",
    "\n",
    "# Concatenates strings\n",
    "print( \"hello\" + \" \" + \"world\" )\n",
    "\n",
    "# repeat strings\n",
    "print( \"hello_\" * 5)\n",
    "\n",
    "\n",
    "# Case Manipulation\n",
    "print( my_string.lower() )\n",
    "print( my_string.upper() ) \n",
    "print( my_string.title() ) \n",
    "\n",
    "\n",
    "# finding and replacing\n",
    "\n",
    "# return the index of the first occurrence of substring\n",
    "# return the index of the last occurrence of substring\n",
    "# replace all occrrences of old with new (make sure you can do this since very important)\n",
    "\n",
    "\n",
    "# Splitting and Joining\n",
    "\n",
    "# This method splits a string into a list based on the given separator. \n",
    "# The maxsplit parameter limits the number of splits.\n",
    "# string.split(separator, maxsplit)\n",
    "\n",
    "string = \"Hello world this is Python\"\n",
    "chunks = string.split() # Since no separator is given, it splits on whitespace.\n",
    "print(chunks)\n",
    "\n",
    "string = \"apple,banana,grape,orange\"\n",
    "fruits = string.split(\",\")\n",
    "print(fruits) # Splits the string wherever \",\" appears\n",
    "\n",
    "string = \"Python is awesome and powerful\"\n",
    "split_twice = string.split(\" \", 2)\n",
    "print(split_twice) # Only 2 splits are performed\n",
    "\n",
    "\n",
    "# This method joins elements of an iterable (like a list) into a string, using separator between them.\n",
    "\n",
    "words = ['Hello', 'world', 'this', 'is', 'Python']\n",
    "string = \" \".join(words)\n",
    "print(string)\n",
    "\n",
    "fruits = ['apple', 'banana', 'grape', 'orange']\n",
    "csv_string = \",\".join(fruits)\n",
    "print(csv_string)\n",
    "\n",
    "letters = ['A', 'B', 'C', 'D']\n",
    "joined_string = \"-\".join(letters)\n",
    "print(joined_string)\n",
    "\n",
    "numbers = [1, 2, 3, 4, 5]\n",
    "number_string = \" | \".join(map(str, numbers))  # Convert numbers to strings\n",
    "print(number_string, type(number_string))\n"
   ]
  },
  {
   "cell_type": "markdown",
   "id": "9cd96a6e",
   "metadata": {},
   "source": [
    "## MAP function in python"
   ]
  },
  {
   "cell_type": "markdown",
   "id": "50cc69a6",
   "metadata": {},
   "source": [
    "- map(function, iterable)\n",
    "\n",
    "- function → A function that will be applied to each element in iterable.\n",
    "- iterable → The collection of elements that the function will be applied to.\n",
    "\n",
    "Pros:\n",
    "- Faster for large data\n",
    "- Uses an iterator (lazy evaluation)\n",
    "- Supports multiple iterables"
   ]
  },
  {
   "cell_type": "code",
   "execution_count": 34,
   "id": "75c53f01",
   "metadata": {},
   "outputs": [
    {
     "name": "stdout",
     "output_type": "stream",
     "text": [
      "[1, 4, 9, 16, 25]\n"
     ]
    }
   ],
   "source": [
    "numbers = [1, 2, 3, 4, 5]\n",
    "squared = map(lambda x: x ** 2, numbers)\n",
    "print( list(squared) )"
   ]
  },
  {
   "cell_type": "code",
   "execution_count": 35,
   "id": "c4dcd6ca",
   "metadata": {},
   "outputs": [
    {
     "name": "stdout",
     "output_type": "stream",
     "text": [
      "['HELLO', 'WORLD', 'PYTHON']\n"
     ]
    }
   ],
   "source": [
    "words = [\"hello\", \"world\", \"python\"]\n",
    "uppercased = map(str.upper, words)\n",
    "print(list(uppercased))"
   ]
  },
  {
   "cell_type": "code",
   "execution_count": 36,
   "id": "c662a8e8",
   "metadata": {},
   "outputs": [
    {
     "name": "stdout",
     "output_type": "stream",
     "text": [
      "['1', '2', '3', '4', '5']\n"
     ]
    }
   ],
   "source": [
    "numbers = [1, 2, 3, 4, 5]\n",
    "string_numbers = map(str, numbers)\n",
    "print(list(string_numbers))"
   ]
  },
  {
   "cell_type": "code",
   "execution_count": 37,
   "id": "6b0ef736",
   "metadata": {},
   "outputs": [
    {
     "name": "stdout",
     "output_type": "stream",
     "text": [
      "[5, 7, 9]\n"
     ]
    }
   ],
   "source": [
    "list1 = [1, 2, 3]\n",
    "list2 = [4, 5, 6]\n",
    "sum_list = map(lambda x, y: x + y, list1, list2)\n",
    "print(list(sum_list))"
   ]
  },
  {
   "cell_type": "code",
   "execution_count": 38,
   "id": "7c4aca67",
   "metadata": {},
   "outputs": [
    {
     "name": "stdout",
     "output_type": "stream",
     "text": [
      "['Hello, Alice!', 'Hello, Bob!', 'Hello, Charlie!']\n"
     ]
    }
   ],
   "source": [
    "names = [\"Alice\", \"Bob\", \"Charlie\"]\n",
    "formatted = map(lambda name: f\"Hello, {name}!\", names)\n",
    "print(list(formatted))"
   ]
  },
  {
   "cell_type": "code",
   "execution_count": 39,
   "id": "7200854a",
   "metadata": {},
   "outputs": [
    {
     "name": "stdout",
     "output_type": "stream",
     "text": [
      "10 - 20 - 30\n"
     ]
    }
   ],
   "source": [
    "numbers = [10, 20, 30]\n",
    "number_string = \" - \".join(map(str, numbers))\n",
    "print(number_string)"
   ]
  },
  {
   "cell_type": "markdown",
   "id": "ee1519d1",
   "metadata": {},
   "source": [
    "## **Matrix DS as a List of Lists**"
   ]
  },
  {
   "cell_type": "code",
   "execution_count": null,
   "id": "2c7afb59",
   "metadata": {},
   "outputs": [],
   "source": [
    "nRows = 3\n",
    "nCols = 4\n",
    "\n",
    "matrix = [[0 for _ in range(numCols)] for _ in range(numRows)]"
   ]
  },
  {
   "cell_type": "code",
   "execution_count": null,
   "id": "ab5e909c",
   "metadata": {},
   "outputs": [],
   "source": []
  },
  {
   "cell_type": "markdown",
   "id": "9d50641d",
   "metadata": {},
   "source": [
    "**Dict DS: (equivalent of the HashMap in Java)**"
   ]
  },
  {
   "cell_type": "code",
   "execution_count": null,
   "id": "d1c84943",
   "metadata": {},
   "outputs": [],
   "source": [
    "my_dict = {} # empty dict\n",
    "my_dict = {\"a\":1, \"b\":2, \"c\":3, \"d\":4}"
   ]
  },
  {
   "cell_type": "markdown",
   "id": "61f9b23e",
   "metadata": {},
   "source": [
    "**Set DS: (equivalent of the HashSet in Java)**"
   ]
  },
  {
   "cell_type": "markdown",
   "id": "ba9fba98",
   "metadata": {},
   "source": [
    "- Sets are **unordered**: Elements in a set don't have a specific order.\n",
    "- Sets contain **unique** elements: **Duplicate** values are automatically **removed**.\n",
    "- Sets are **mutable**: You can add or remove elements after a set is created.\n",
    "- Set operations are **very efficient**: Python's set implementations are highly optimized, making them a good choice for tasks involving membership testing, unions, intersections, etc."
   ]
  },
  {
   "cell_type": "code",
   "execution_count": null,
   "id": "ff5b94ff",
   "metadata": {},
   "outputs": [],
   "source": [
    "my_set = set() # Empty set\n",
    "\n",
    "my_set = {1, 2, 3, 4} # Set with initial values\n",
    "\n",
    "# adding and removing elements\n",
    "my_set.add(6)    # Adds 6 to the set \n",
    "my_set.remove(3) # Removes 3 from the set (raises KeyError if not present)\n",
    "my_set.discard(7)  # Removes 7 if present, but does nothing if not (no error)\n",
    "my_set.clear() # Removes all elements from the set\n",
    "\n",
    "# set operations\n",
    "set1 = {1, 2, 3, 4}\n",
    "set2 = {3, 4, 5, 6}\n",
    "\n",
    "# Union (elements in either set)\n",
    "union_set = set1 | set2  # {1, 2, 3, 4, 5, 6}\n",
    "union_set = set1.union(set2) # Another way to find the union\n",
    "\n",
    "# Intersection (elements in both sets)\n",
    "intersection_set = set1 & set2  # {3, 4}\n",
    "intersection_set = set1.intersection(set2) # Another way to find the intersection\n",
    "\n",
    "# Difference (elements in set1 but not in set2)\n",
    "difference_set = set1 - set2  # {1, 2}\n",
    "difference_set = set1.difference(set2) # Another way to find the difference\n",
    "\n",
    "# Symmetric Difference (elements in either set, but not both)\n",
    "symmetric_difference_set = set1 ^ set2  # {1, 2, 5, 6}\n",
    "symmetric_difference_set = set1.symmetric_difference(set2) # Another way to find the symmetric difference\n",
    "\n",
    "# Subset (set1 is a subset of set2)\n",
    "is_subset = set1 <= set2  # False\n",
    "is_subset = set1.issubset(set2) # Another way to check if set1 is a subset of set2.\n",
    "\n",
    "# Superset (set1 is a superset of set2)\n",
    "is_superset = set1 >= set2  # False\n",
    "is_superset = set1.issuperset(set2) # Another way to check if set1 is a superset of set2.\n",
    "\n",
    "# Disjoint (sets have no elements in common)\n",
    "is_disjoint = set1.isdisjoint(set2)  # False"
   ]
  },
  {
   "cell_type": "code",
   "execution_count": null,
   "id": "eab08b69",
   "metadata": {},
   "outputs": [],
   "source": [
    "my_set"
   ]
  },
  {
   "cell_type": "markdown",
   "id": "83837e21",
   "metadata": {},
   "source": [
    "**Tuple DS:**"
   ]
  },
  {
   "cell_type": "code",
   "execution_count": null,
   "id": "647b6dde",
   "metadata": {},
   "outputs": [],
   "source": [
    "my_tuple = ()\n",
    "\n",
    "my_tuple = (1, 2, 3, 4)"
   ]
  },
  {
   "cell_type": "markdown",
   "id": "03f607f4",
   "metadata": {},
   "source": [
    "**Deque DS:**"
   ]
  },
  {
   "cell_type": "code",
   "execution_count": null,
   "id": "aeafd036",
   "metadata": {},
   "outputs": [],
   "source": [
    "from collections import deque\n",
    "\n",
    "# Empty deque\n",
    "my_deque = deque()\n",
    "\n",
    "# Deque with initial values\n",
    "my_deque = deque([1, 2, 3])"
   ]
  },
  {
   "cell_type": "code",
   "execution_count": null,
   "id": "f28439e6",
   "metadata": {},
   "outputs": [],
   "source": []
  }
 ],
 "metadata": {
  "kernelspec": {
   "display_name": "Python 3 (ipykernel)",
   "language": "python",
   "name": "python3"
  },
  "language_info": {
   "codemirror_mode": {
    "name": "ipython",
    "version": 3
   },
   "file_extension": ".py",
   "mimetype": "text/x-python",
   "name": "python",
   "nbconvert_exporter": "python",
   "pygments_lexer": "ipython3",
   "version": "3.10.13"
  }
 },
 "nbformat": 4,
 "nbformat_minor": 5
}
